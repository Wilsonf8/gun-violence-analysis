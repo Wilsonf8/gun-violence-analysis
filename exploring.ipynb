{
 "cells": [
  {
   "cell_type": "code",
   "execution_count": 146,
   "id": "19b27ef7",
   "metadata": {},
   "outputs": [],
   "source": [
    "import pandas as pd\n",
    "import numpy as np\n",
    "import plotly.graph_objects as go"
   ]
  },
  {
   "cell_type": "code",
   "execution_count": 147,
   "id": "ef8819ea",
   "metadata": {},
   "outputs": [
    {
     "data": {
      "text/html": [
       "<div>\n",
       "<style scoped>\n",
       "    .dataframe tbody tr th:only-of-type {\n",
       "        vertical-align: middle;\n",
       "    }\n",
       "\n",
       "    .dataframe tbody tr th {\n",
       "        vertical-align: top;\n",
       "    }\n",
       "\n",
       "    .dataframe thead th {\n",
       "        text-align: right;\n",
       "    }\n",
       "</style>\n",
       "<table border=\"1\" class=\"dataframe\">\n",
       "  <thead>\n",
       "    <tr style=\"text-align: right;\">\n",
       "      <th></th>\n",
       "      <th>rank</th>\n",
       "      <th>state</th>\n",
       "      <th>state_code</th>\n",
       "      <th>2020_census</th>\n",
       "      <th>percent_of_total</th>\n",
       "    </tr>\n",
       "  </thead>\n",
       "  <tbody>\n",
       "    <tr>\n",
       "      <th>0</th>\n",
       "      <td>1.0</td>\n",
       "      <td>California</td>\n",
       "      <td>CA</td>\n",
       "      <td>39538223</td>\n",
       "      <td>0.1191</td>\n",
       "    </tr>\n",
       "    <tr>\n",
       "      <th>1</th>\n",
       "      <td>2.0</td>\n",
       "      <td>Texas</td>\n",
       "      <td>TX</td>\n",
       "      <td>29145505</td>\n",
       "      <td>0.0874</td>\n",
       "    </tr>\n",
       "    <tr>\n",
       "      <th>2</th>\n",
       "      <td>3.0</td>\n",
       "      <td>Florida</td>\n",
       "      <td>FL</td>\n",
       "      <td>21538187</td>\n",
       "      <td>0.0647</td>\n",
       "    </tr>\n",
       "    <tr>\n",
       "      <th>3</th>\n",
       "      <td>4.0</td>\n",
       "      <td>New York</td>\n",
       "      <td>NY</td>\n",
       "      <td>20201249</td>\n",
       "      <td>0.0586</td>\n",
       "    </tr>\n",
       "    <tr>\n",
       "      <th>4</th>\n",
       "      <td>5.0</td>\n",
       "      <td>Pennsylvania</td>\n",
       "      <td>PA</td>\n",
       "      <td>13002700</td>\n",
       "      <td>0.0386</td>\n",
       "    </tr>\n",
       "  </tbody>\n",
       "</table>\n",
       "</div>"
      ],
      "text/plain": [
       "   rank         state state_code  2020_census  percent_of_total\n",
       "0   1.0    California         CA     39538223            0.1191\n",
       "1   2.0         Texas         TX     29145505            0.0874\n",
       "2   3.0       Florida         FL     21538187            0.0647\n",
       "3   4.0      New York         NY     20201249            0.0586\n",
       "4   5.0  Pennsylvania         PA     13002700            0.0386"
      ]
     },
     "execution_count": 147,
     "metadata": {},
     "output_type": "execute_result"
    }
   ],
   "source": [
    "# load \"us_pop_by_state.csv\" into a pandas DataFrame\n",
    "df_states = pd.read_csv(\"us_pop_by_state.csv\")\n",
    "df_states = df_states[df_states[\"state\"] != \"Total U.S.\"]\n",
    "df_states.loc[df_states[\"state_code\"] == \"DC\", \"state\"] = \"District of Columbia\"\n",
    "df_states.head()"
   ]
  },
  {
   "cell_type": "code",
   "execution_count": 148,
   "id": "f7faa8ab",
   "metadata": {},
   "outputs": [],
   "source": [
    "state_to_population_dict = dict(zip(df_states[\"state\"], df_states[\"2020_census\"]))"
   ]
  },
  {
   "cell_type": "code",
   "execution_count": 149,
   "id": "34934957",
   "metadata": {},
   "outputs": [
    {
     "name": "stdout",
     "output_type": "stream",
     "text": [
      "Dataset shape: (239677, 43)\n",
      "\n",
      "First few rows:\n"
     ]
    },
    {
     "data": {
      "text/html": [
       "<div>\n",
       "<style scoped>\n",
       "    .dataframe tbody tr th:only-of-type {\n",
       "        vertical-align: middle;\n",
       "    }\n",
       "\n",
       "    .dataframe tbody tr th {\n",
       "        vertical-align: top;\n",
       "    }\n",
       "\n",
       "    .dataframe thead th {\n",
       "        text-align: right;\n",
       "    }\n",
       "</style>\n",
       "<table border=\"1\" class=\"dataframe\">\n",
       "  <thead>\n",
       "    <tr style=\"text-align: right;\">\n",
       "      <th></th>\n",
       "      <th>incident_id</th>\n",
       "      <th>date</th>\n",
       "      <th>state</th>\n",
       "      <th>city_or_county</th>\n",
       "      <th>address</th>\n",
       "      <th>n_killed</th>\n",
       "      <th>n_injured</th>\n",
       "      <th>incident_url</th>\n",
       "      <th>source_url</th>\n",
       "      <th>incident_url_fields_missing</th>\n",
       "      <th>congressional_district</th>\n",
       "      <th>gun_stolen</th>\n",
       "      <th>gun_type</th>\n",
       "      <th>incident_characteristics</th>\n",
       "      <th>latitude</th>\n",
       "      <th>location_description</th>\n",
       "      <th>longitude</th>\n",
       "      <th>n_guns_involved</th>\n",
       "      <th>notes</th>\n",
       "      <th>participant_age</th>\n",
       "      <th>participant_age_group</th>\n",
       "      <th>participant_gender</th>\n",
       "      <th>participant_name</th>\n",
       "      <th>participant_relationship</th>\n",
       "      <th>participant_status</th>\n",
       "      <th>participant_type</th>\n",
       "      <th>sources</th>\n",
       "      <th>state_house_district</th>\n",
       "      <th>state_senate_district</th>\n",
       "      <th>num_victims</th>\n",
       "      <th>num_suspects</th>\n",
       "      <th>num_females</th>\n",
       "      <th>num_males</th>\n",
       "      <th>num_adults</th>\n",
       "      <th>num_teens</th>\n",
       "      <th>num_adult_suspects</th>\n",
       "      <th>num_adult_victims</th>\n",
       "      <th>num_teen_suspects</th>\n",
       "      <th>num_teen_victims</th>\n",
       "      <th>num_male_suspects</th>\n",
       "      <th>num_male_victims</th>\n",
       "      <th>num_female_suspects</th>\n",
       "      <th>num_female_victims</th>\n",
       "    </tr>\n",
       "  </thead>\n",
       "  <tbody>\n",
       "    <tr>\n",
       "      <th>0</th>\n",
       "      <td>461105</td>\n",
       "      <td>2013-01-01</td>\n",
       "      <td>Pennsylvania</td>\n",
       "      <td>Mckeesport</td>\n",
       "      <td>1506 Versailles Avenue and Coursin Street</td>\n",
       "      <td>0</td>\n",
       "      <td>4</td>\n",
       "      <td>http://www.gunviolencearchive.org/incident/461105</td>\n",
       "      <td>http://www.post-gazette.com/local/south/2013/0...</td>\n",
       "      <td>False</td>\n",
       "      <td>14.0</td>\n",
       "      <td>NaN</td>\n",
       "      <td>NaN</td>\n",
       "      <td>Shot - Wounded/Injured||Mass Shooting (4+ vict...</td>\n",
       "      <td>40.3467</td>\n",
       "      <td>NaN</td>\n",
       "      <td>-79.8559</td>\n",
       "      <td>NaN</td>\n",
       "      <td>Julian Sims under investigation: Four Shot and...</td>\n",
       "      <td>0::20</td>\n",
       "      <td>0::Adult 18+||1::Adult 18+||2::Adult 18+||3::A...</td>\n",
       "      <td>0::Male||1::Male||3::Male||4::Female</td>\n",
       "      <td>0::Julian Sims</td>\n",
       "      <td>NaN</td>\n",
       "      <td>0::Arrested||1::Injured||2::Injured||3::Injure...</td>\n",
       "      <td>0::Victim||1::Victim||2::Victim||3::Victim||4:...</td>\n",
       "      <td>http://pittsburgh.cbslocal.com/2013/01/01/4-pe...</td>\n",
       "      <td>NaN</td>\n",
       "      <td>NaN</td>\n",
       "      <td>4</td>\n",
       "      <td>1</td>\n",
       "      <td>1</td>\n",
       "      <td>1</td>\n",
       "      <td>5</td>\n",
       "      <td>0</td>\n",
       "      <td>1</td>\n",
       "      <td>4</td>\n",
       "      <td>0</td>\n",
       "      <td>0</td>\n",
       "      <td>0</td>\n",
       "      <td>3</td>\n",
       "      <td>1</td>\n",
       "      <td>0</td>\n",
       "    </tr>\n",
       "    <tr>\n",
       "      <th>1</th>\n",
       "      <td>460726</td>\n",
       "      <td>2013-01-01</td>\n",
       "      <td>California</td>\n",
       "      <td>Hawthorne</td>\n",
       "      <td>13500 block of Cerise Avenue</td>\n",
       "      <td>1</td>\n",
       "      <td>3</td>\n",
       "      <td>http://www.gunviolencearchive.org/incident/460726</td>\n",
       "      <td>http://www.dailybulletin.com/article/zz/201301...</td>\n",
       "      <td>False</td>\n",
       "      <td>43.0</td>\n",
       "      <td>NaN</td>\n",
       "      <td>NaN</td>\n",
       "      <td>Shot - Wounded/Injured||Shot - Dead (murder, a...</td>\n",
       "      <td>33.9090</td>\n",
       "      <td>NaN</td>\n",
       "      <td>-118.3330</td>\n",
       "      <td>NaN</td>\n",
       "      <td>Four Shot; One Killed; Unidentified shooter in...</td>\n",
       "      <td>0::20</td>\n",
       "      <td>0::Adult 18+||1::Adult 18+||2::Adult 18+||3::A...</td>\n",
       "      <td>0::Male</td>\n",
       "      <td>0::Bernard Gillis</td>\n",
       "      <td>NaN</td>\n",
       "      <td>0::Killed||1::Injured||2::Injured||3::Injured</td>\n",
       "      <td>0::Victim||1::Victim||2::Victim||3::Victim||4:...</td>\n",
       "      <td>http://losangeles.cbslocal.com/2013/01/01/man-...</td>\n",
       "      <td>62.0</td>\n",
       "      <td>35.0</td>\n",
       "      <td>4</td>\n",
       "      <td>1</td>\n",
       "      <td>0</td>\n",
       "      <td>0</td>\n",
       "      <td>4</td>\n",
       "      <td>0</td>\n",
       "      <td>0</td>\n",
       "      <td>4</td>\n",
       "      <td>0</td>\n",
       "      <td>0</td>\n",
       "      <td>0</td>\n",
       "      <td>1</td>\n",
       "      <td>0</td>\n",
       "      <td>0</td>\n",
       "    </tr>\n",
       "    <tr>\n",
       "      <th>2</th>\n",
       "      <td>478855</td>\n",
       "      <td>2013-01-01</td>\n",
       "      <td>Ohio</td>\n",
       "      <td>Lorain</td>\n",
       "      <td>1776 East 28th Street</td>\n",
       "      <td>1</td>\n",
       "      <td>3</td>\n",
       "      <td>http://www.gunviolencearchive.org/incident/478855</td>\n",
       "      <td>http://chronicle.northcoastnow.com/2013/02/14/...</td>\n",
       "      <td>False</td>\n",
       "      <td>9.0</td>\n",
       "      <td>0::Unknown||1::Unknown</td>\n",
       "      <td>0::Unknown||1::Unknown</td>\n",
       "      <td>Shot - Wounded/Injured||Shot - Dead (murder, a...</td>\n",
       "      <td>41.4455</td>\n",
       "      <td>Cotton Club</td>\n",
       "      <td>-82.1377</td>\n",
       "      <td>2.0</td>\n",
       "      <td>NaN</td>\n",
       "      <td>0::25||1::31||2::33||3::34||4::33</td>\n",
       "      <td>0::Adult 18+||1::Adult 18+||2::Adult 18+||3::A...</td>\n",
       "      <td>0::Male||1::Male||2::Male||3::Male||4::Male</td>\n",
       "      <td>0::Damien Bell||1::Desmen Noble||2::Herman Sea...</td>\n",
       "      <td>NaN</td>\n",
       "      <td>0::Injured, Unharmed, Arrested||1::Unharmed, A...</td>\n",
       "      <td>0::Subject-Suspect||1::Subject-Suspect||2::Vic...</td>\n",
       "      <td>http://www.morningjournal.com/general-news/201...</td>\n",
       "      <td>56.0</td>\n",
       "      <td>13.0</td>\n",
       "      <td>3</td>\n",
       "      <td>2</td>\n",
       "      <td>0</td>\n",
       "      <td>0</td>\n",
       "      <td>5</td>\n",
       "      <td>0</td>\n",
       "      <td>2</td>\n",
       "      <td>3</td>\n",
       "      <td>0</td>\n",
       "      <td>0</td>\n",
       "      <td>2</td>\n",
       "      <td>3</td>\n",
       "      <td>0</td>\n",
       "      <td>0</td>\n",
       "    </tr>\n",
       "    <tr>\n",
       "      <th>3</th>\n",
       "      <td>478925</td>\n",
       "      <td>2013-01-05</td>\n",
       "      <td>Colorado</td>\n",
       "      <td>Aurora</td>\n",
       "      <td>16000 block of East Ithaca Place</td>\n",
       "      <td>4</td>\n",
       "      <td>0</td>\n",
       "      <td>http://www.gunviolencearchive.org/incident/478925</td>\n",
       "      <td>http://www.dailydemocrat.com/20130106/aurora-s...</td>\n",
       "      <td>False</td>\n",
       "      <td>6.0</td>\n",
       "      <td>NaN</td>\n",
       "      <td>NaN</td>\n",
       "      <td>Shot - Dead (murder, accidental, suicide)||Off...</td>\n",
       "      <td>39.6518</td>\n",
       "      <td>NaN</td>\n",
       "      <td>-104.8020</td>\n",
       "      <td>NaN</td>\n",
       "      <td>NaN</td>\n",
       "      <td>0::29||1::33||2::56||3::33</td>\n",
       "      <td>0::Adult 18+||1::Adult 18+||2::Adult 18+||3::A...</td>\n",
       "      <td>0::Female||1::Male||2::Male||3::Male</td>\n",
       "      <td>0::Stacie Philbrook||1::Christopher Ratliffe||...</td>\n",
       "      <td>NaN</td>\n",
       "      <td>0::Killed||1::Killed||2::Killed||3::Killed</td>\n",
       "      <td>0::Victim||1::Victim||2::Victim||3::Subject-Su...</td>\n",
       "      <td>http://denver.cbslocal.com/2013/01/06/officer-...</td>\n",
       "      <td>40.0</td>\n",
       "      <td>28.0</td>\n",
       "      <td>3</td>\n",
       "      <td>1</td>\n",
       "      <td>1</td>\n",
       "      <td>1</td>\n",
       "      <td>4</td>\n",
       "      <td>0</td>\n",
       "      <td>1</td>\n",
       "      <td>3</td>\n",
       "      <td>0</td>\n",
       "      <td>0</td>\n",
       "      <td>1</td>\n",
       "      <td>2</td>\n",
       "      <td>0</td>\n",
       "      <td>1</td>\n",
       "    </tr>\n",
       "    <tr>\n",
       "      <th>4</th>\n",
       "      <td>478959</td>\n",
       "      <td>2013-01-07</td>\n",
       "      <td>North Carolina</td>\n",
       "      <td>Greensboro</td>\n",
       "      <td>307 Mourning Dove Terrace</td>\n",
       "      <td>2</td>\n",
       "      <td>2</td>\n",
       "      <td>http://www.gunviolencearchive.org/incident/478959</td>\n",
       "      <td>http://www.journalnow.com/news/local/article_d...</td>\n",
       "      <td>False</td>\n",
       "      <td>6.0</td>\n",
       "      <td>0::Unknown||1::Unknown</td>\n",
       "      <td>0::Handgun||1::Handgun</td>\n",
       "      <td>Shot - Wounded/Injured||Shot - Dead (murder, a...</td>\n",
       "      <td>36.1140</td>\n",
       "      <td>NaN</td>\n",
       "      <td>-79.9569</td>\n",
       "      <td>2.0</td>\n",
       "      <td>Two firearms recovered. (Attempted) murder sui...</td>\n",
       "      <td>0::18||1::46||2::14||3::47</td>\n",
       "      <td>0::Adult 18+||1::Adult 18+||2::Teen 12-17||3::...</td>\n",
       "      <td>0::Female||1::Male||2::Male||3::Female</td>\n",
       "      <td>0::Danielle Imani Jameison||1::Maurice Eugene ...</td>\n",
       "      <td>3::Family</td>\n",
       "      <td>0::Injured||1::Injured||2::Killed||3::Killed</td>\n",
       "      <td>0::Victim||1::Victim||2::Victim||3::Subject-Su...</td>\n",
       "      <td>http://myfox8.com/2013/01/08/update-mother-sho...</td>\n",
       "      <td>62.0</td>\n",
       "      <td>27.0</td>\n",
       "      <td>3</td>\n",
       "      <td>1</td>\n",
       "      <td>2</td>\n",
       "      <td>2</td>\n",
       "      <td>3</td>\n",
       "      <td>1</td>\n",
       "      <td>1</td>\n",
       "      <td>2</td>\n",
       "      <td>0</td>\n",
       "      <td>1</td>\n",
       "      <td>0</td>\n",
       "      <td>2</td>\n",
       "      <td>1</td>\n",
       "      <td>1</td>\n",
       "    </tr>\n",
       "    <tr>\n",
       "      <th>5</th>\n",
       "      <td>478948</td>\n",
       "      <td>2013-01-07</td>\n",
       "      <td>Oklahoma</td>\n",
       "      <td>Tulsa</td>\n",
       "      <td>6000 block of South Owasso</td>\n",
       "      <td>4</td>\n",
       "      <td>0</td>\n",
       "      <td>http://www.gunviolencearchive.org/incident/478948</td>\n",
       "      <td>http://usnews.nbcnews.com/_news/2013/01/07/163...</td>\n",
       "      <td>False</td>\n",
       "      <td>1.0</td>\n",
       "      <td>NaN</td>\n",
       "      <td>NaN</td>\n",
       "      <td>Shot - Dead (murder, accidental, suicide)||Hom...</td>\n",
       "      <td>36.2405</td>\n",
       "      <td>Fairmont Terrace</td>\n",
       "      <td>-95.9768</td>\n",
       "      <td>NaN</td>\n",
       "      <td>NaN</td>\n",
       "      <td>0::23||1::23||2::33||3::55</td>\n",
       "      <td>0::Adult 18+||1::Adult 18+||2::Adult 18+||3::A...</td>\n",
       "      <td>0::Female||1::Female||2::Female||3::Female||4:...</td>\n",
       "      <td>0::Rebeika Powell||1::Kayetie Melchor||2::Mist...</td>\n",
       "      <td>NaN</td>\n",
       "      <td>0::Killed||1::Killed||2::Killed||3::Killed||4:...</td>\n",
       "      <td>0::Victim||1::Victim||2::Victim||3::Victim||4:...</td>\n",
       "      <td>http://www.kjrh.com/news/local-news/4-found-sh...</td>\n",
       "      <td>72.0</td>\n",
       "      <td>11.0</td>\n",
       "      <td>4</td>\n",
       "      <td>2</td>\n",
       "      <td>4</td>\n",
       "      <td>4</td>\n",
       "      <td>6</td>\n",
       "      <td>0</td>\n",
       "      <td>2</td>\n",
       "      <td>4</td>\n",
       "      <td>0</td>\n",
       "      <td>0</td>\n",
       "      <td>2</td>\n",
       "      <td>0</td>\n",
       "      <td>0</td>\n",
       "      <td>4</td>\n",
       "    </tr>\n",
       "    <tr>\n",
       "      <th>6</th>\n",
       "      <td>479363</td>\n",
       "      <td>2013-01-19</td>\n",
       "      <td>New Mexico</td>\n",
       "      <td>Albuquerque</td>\n",
       "      <td>2806 Long Lane</td>\n",
       "      <td>5</td>\n",
       "      <td>0</td>\n",
       "      <td>http://www.gunviolencearchive.org/incident/479363</td>\n",
       "      <td>http://hinterlandgazette.com/2013/01/pastor-gr...</td>\n",
       "      <td>False</td>\n",
       "      <td>1.0</td>\n",
       "      <td>0::Unknown||1::Unknown</td>\n",
       "      <td>0::22 LR||1::223 Rem [AR-15]</td>\n",
       "      <td>Shot - Dead (murder, accidental, suicide)||Mas...</td>\n",
       "      <td>34.9791</td>\n",
       "      <td>NaN</td>\n",
       "      <td>-106.7160</td>\n",
       "      <td>2.0</td>\n",
       "      <td>NaN</td>\n",
       "      <td>0::51||1::40||2::9||3::5||4::2||5::15</td>\n",
       "      <td>0::Adult 18+||1::Adult 18+||2::Child 0-11||3::...</td>\n",
       "      <td>0::Male||1::Female||2::Male||3::Female||4::Fem...</td>\n",
       "      <td>0::Greg Griego||1::Sara Griego||2::Zephania Gr...</td>\n",
       "      <td>5::Family</td>\n",
       "      <td>0::Killed||1::Killed||2::Killed||3::Killed||4:...</td>\n",
       "      <td>0::Victim||1::Victim||2::Victim||3::Victim||4:...</td>\n",
       "      <td>http://www.cbsnews.com/news/nehemiah-gringo-ca...</td>\n",
       "      <td>10.0</td>\n",
       "      <td>14.0</td>\n",
       "      <td>5</td>\n",
       "      <td>1</td>\n",
       "      <td>3</td>\n",
       "      <td>3</td>\n",
       "      <td>2</td>\n",
       "      <td>1</td>\n",
       "      <td>0</td>\n",
       "      <td>2</td>\n",
       "      <td>1</td>\n",
       "      <td>0</td>\n",
       "      <td>1</td>\n",
       "      <td>2</td>\n",
       "      <td>0</td>\n",
       "      <td>3</td>\n",
       "    </tr>\n",
       "    <tr>\n",
       "      <th>7</th>\n",
       "      <td>479374</td>\n",
       "      <td>2013-01-21</td>\n",
       "      <td>Louisiana</td>\n",
       "      <td>New Orleans</td>\n",
       "      <td>LaSalle Street and Martin Luther King Jr. Boul...</td>\n",
       "      <td>0</td>\n",
       "      <td>5</td>\n",
       "      <td>http://www.gunviolencearchive.org/incident/479374</td>\n",
       "      <td>http://www.nola.com/crime/index.ssf/2013/01/no...</td>\n",
       "      <td>False</td>\n",
       "      <td>2.0</td>\n",
       "      <td>NaN</td>\n",
       "      <td>NaN</td>\n",
       "      <td>Shot - Wounded/Injured||Drive-by (car to stree...</td>\n",
       "      <td>29.9435</td>\n",
       "      <td>NaN</td>\n",
       "      <td>-90.0836</td>\n",
       "      <td>NaN</td>\n",
       "      <td>Unprovoked drive-by results in multiple teens ...</td>\n",
       "      <td>NaN</td>\n",
       "      <td>NaN</td>\n",
       "      <td>0::Male||1::Male||2::Male||3::Male||4::Male</td>\n",
       "      <td>NaN</td>\n",
       "      <td>NaN</td>\n",
       "      <td>0::Injured||1::Injured||2::Injured||3::Injured...</td>\n",
       "      <td>0::Victim||1::Victim||2::Victim||3::Victim||4:...</td>\n",
       "      <td>http://www.huffingtonpost.com/2013/01/21/new-o...</td>\n",
       "      <td>93.0</td>\n",
       "      <td>5.0</td>\n",
       "      <td>5</td>\n",
       "      <td>1</td>\n",
       "      <td>0</td>\n",
       "      <td>0</td>\n",
       "      <td>0</td>\n",
       "      <td>0</td>\n",
       "      <td>0</td>\n",
       "      <td>0</td>\n",
       "      <td>0</td>\n",
       "      <td>0</td>\n",
       "      <td>0</td>\n",
       "      <td>5</td>\n",
       "      <td>0</td>\n",
       "      <td>0</td>\n",
       "    </tr>\n",
       "    <tr>\n",
       "      <th>8</th>\n",
       "      <td>479389</td>\n",
       "      <td>2013-01-21</td>\n",
       "      <td>California</td>\n",
       "      <td>Brentwood</td>\n",
       "      <td>1100 block of Breton Drive</td>\n",
       "      <td>0</td>\n",
       "      <td>4</td>\n",
       "      <td>http://www.gunviolencearchive.org/incident/479389</td>\n",
       "      <td>http://sanfrancisco.cbslocal.com/2013/01/22/4-...</td>\n",
       "      <td>False</td>\n",
       "      <td>9.0</td>\n",
       "      <td>NaN</td>\n",
       "      <td>NaN</td>\n",
       "      <td>Shot - Wounded/Injured||Drive-by (car to stree...</td>\n",
       "      <td>37.9656</td>\n",
       "      <td>NaN</td>\n",
       "      <td>-121.7180</td>\n",
       "      <td>NaN</td>\n",
       "      <td>Perps were likely motivated by gang affliations</td>\n",
       "      <td>NaN</td>\n",
       "      <td>0::Teen 12-17||1::Teen 12-17||2::Teen 12-17||4...</td>\n",
       "      <td>0::Male||1::Male||2::Male||3::Male||4::Male</td>\n",
       "      <td>NaN</td>\n",
       "      <td>NaN</td>\n",
       "      <td>0::Injured||1::Injured||2::Injured||3::Injured...</td>\n",
       "      <td>0::Victim||1::Victim||2::Victim||3::Victim||4:...</td>\n",
       "      <td>http://www.contracostatimes.com/ci_22426767/br...</td>\n",
       "      <td>11.0</td>\n",
       "      <td>7.0</td>\n",
       "      <td>4</td>\n",
       "      <td>1</td>\n",
       "      <td>0</td>\n",
       "      <td>0</td>\n",
       "      <td>1</td>\n",
       "      <td>3</td>\n",
       "      <td>1</td>\n",
       "      <td>0</td>\n",
       "      <td>0</td>\n",
       "      <td>3</td>\n",
       "      <td>1</td>\n",
       "      <td>4</td>\n",
       "      <td>0</td>\n",
       "      <td>0</td>\n",
       "    </tr>\n",
       "    <tr>\n",
       "      <th>9</th>\n",
       "      <td>492151</td>\n",
       "      <td>2013-01-23</td>\n",
       "      <td>Maryland</td>\n",
       "      <td>Baltimore</td>\n",
       "      <td>1500 block of W. Fayette St.</td>\n",
       "      <td>1</td>\n",
       "      <td>6</td>\n",
       "      <td>http://www.gunviolencearchive.org/incident/492151</td>\n",
       "      <td>http://www.abc2news.com/news/crime-checker/bal...</td>\n",
       "      <td>False</td>\n",
       "      <td>7.0</td>\n",
       "      <td>NaN</td>\n",
       "      <td>NaN</td>\n",
       "      <td>Shot - Wounded/Injured||Shot - Dead (murder, a...</td>\n",
       "      <td>39.2899</td>\n",
       "      <td>NaN</td>\n",
       "      <td>-76.6412</td>\n",
       "      <td>NaN</td>\n",
       "      <td>Shooting occurred over illegal dice game; vict...</td>\n",
       "      <td>0::15</td>\n",
       "      <td>0::Teen 12-17||1::Adult 18+||2::Adult 18+||3::...</td>\n",
       "      <td>0::Male</td>\n",
       "      <td>0::Deshaun Jones</td>\n",
       "      <td>NaN</td>\n",
       "      <td>0::Killed||1::Injured||2::Injured||3::Injured|...</td>\n",
       "      <td>0::Victim||1::Victim||2::Victim||3::Victim||4:...</td>\n",
       "      <td>http://articles.baltimoresun.com/2013-08-25/ne...</td>\n",
       "      <td>NaN</td>\n",
       "      <td>44.0</td>\n",
       "      <td>7</td>\n",
       "      <td>0</td>\n",
       "      <td>0</td>\n",
       "      <td>0</td>\n",
       "      <td>6</td>\n",
       "      <td>1</td>\n",
       "      <td>0</td>\n",
       "      <td>6</td>\n",
       "      <td>0</td>\n",
       "      <td>1</td>\n",
       "      <td>0</td>\n",
       "      <td>1</td>\n",
       "      <td>0</td>\n",
       "      <td>0</td>\n",
       "    </tr>\n",
       "    <tr>\n",
       "      <th>10</th>\n",
       "      <td>491674</td>\n",
       "      <td>2013-01-23</td>\n",
       "      <td>Tennessee</td>\n",
       "      <td>Chattanooga</td>\n",
       "      <td>1501 Dodds Ave</td>\n",
       "      <td>1</td>\n",
       "      <td>3</td>\n",
       "      <td>http://www.gunviolencearchive.org/incident/491674</td>\n",
       "      <td>http://www.wrcbtv.com/story/22664154/one-dead-...</td>\n",
       "      <td>False</td>\n",
       "      <td>3.0</td>\n",
       "      <td>0::Unknown</td>\n",
       "      <td>0::Unknown</td>\n",
       "      <td>Shot - Wounded/Injured||Shot - Dead (murder, a...</td>\n",
       "      <td>35.0221</td>\n",
       "      <td>NaN</td>\n",
       "      <td>-85.2697</td>\n",
       "      <td>1.0</td>\n",
       "      <td>19 yr. old male dies; 3 inured; shooting on Do...</td>\n",
       "      <td>0::19</td>\n",
       "      <td>0::Adult 18+</td>\n",
       "      <td>0::Male||1::Male||2::Male||3::Male</td>\n",
       "      <td>0::Demetrius Davis</td>\n",
       "      <td>NaN</td>\n",
       "      <td>0::Killed||1::Injured||2::Injured||3::Injured</td>\n",
       "      <td>0::Victim||1::Victim||2::Victim||3::Victim||4:...</td>\n",
       "      <td>http://www.wrcbtv.com/story/22664154/one-dead-...</td>\n",
       "      <td>28.0</td>\n",
       "      <td>10.0</td>\n",
       "      <td>4</td>\n",
       "      <td>1</td>\n",
       "      <td>0</td>\n",
       "      <td>0</td>\n",
       "      <td>1</td>\n",
       "      <td>0</td>\n",
       "      <td>0</td>\n",
       "      <td>1</td>\n",
       "      <td>0</td>\n",
       "      <td>0</td>\n",
       "      <td>0</td>\n",
       "      <td>4</td>\n",
       "      <td>0</td>\n",
       "      <td>0</td>\n",
       "    </tr>\n",
       "    <tr>\n",
       "      <th>11</th>\n",
       "      <td>479413</td>\n",
       "      <td>2013-01-25</td>\n",
       "      <td>Missouri</td>\n",
       "      <td>Saint Louis</td>\n",
       "      <td>W Florissant Ave and Riverview Blvd</td>\n",
       "      <td>1</td>\n",
       "      <td>3</td>\n",
       "      <td>http://www.gunviolencearchive.org/incident/479413</td>\n",
       "      <td>http://stlouis.cbslocal.com/2013/01/25/one-dea...</td>\n",
       "      <td>False</td>\n",
       "      <td>1.0</td>\n",
       "      <td>0::Unknown</td>\n",
       "      <td>0::Unknown</td>\n",
       "      <td>Shot - Wounded/Injured||Shot - Dead (murder, a...</td>\n",
       "      <td>38.7067</td>\n",
       "      <td>NaN</td>\n",
       "      <td>-90.2494</td>\n",
       "      <td>1.0</td>\n",
       "      <td>38.706732, -90.249375</td>\n",
       "      <td>0::28</td>\n",
       "      <td>0::Adult 18+</td>\n",
       "      <td>0::Male</td>\n",
       "      <td>0::Terry Robinson Jr.</td>\n",
       "      <td>NaN</td>\n",
       "      <td>0::Killed||1::Injured||2::Injured||3::Injured</td>\n",
       "      <td>0::Victim||1::Victim||2::Victim||3::Victim||4:...</td>\n",
       "      <td>http://fox2now.com/2013/01/25/two-shot-in-nort...</td>\n",
       "      <td>76.0</td>\n",
       "      <td>4.0</td>\n",
       "      <td>4</td>\n",
       "      <td>1</td>\n",
       "      <td>0</td>\n",
       "      <td>0</td>\n",
       "      <td>1</td>\n",
       "      <td>0</td>\n",
       "      <td>0</td>\n",
       "      <td>1</td>\n",
       "      <td>0</td>\n",
       "      <td>0</td>\n",
       "      <td>0</td>\n",
       "      <td>1</td>\n",
       "      <td>0</td>\n",
       "      <td>0</td>\n",
       "    </tr>\n",
       "    <tr>\n",
       "      <th>12</th>\n",
       "      <td>479561</td>\n",
       "      <td>2013-01-26</td>\n",
       "      <td>Louisiana</td>\n",
       "      <td>Charenton</td>\n",
       "      <td>1000 block of Flat Town Road</td>\n",
       "      <td>2</td>\n",
       "      <td>3</td>\n",
       "      <td>http://www.gunviolencearchive.org/incident/479561</td>\n",
       "      <td>http://www.huffingtonpost.com/2013/01/27/wilbe...</td>\n",
       "      <td>False</td>\n",
       "      <td>3.0</td>\n",
       "      <td>0::Unknown</td>\n",
       "      <td>0::Shotgun</td>\n",
       "      <td>Shot - Wounded/Injured||Shot - Dead (murder, a...</td>\n",
       "      <td>29.8816</td>\n",
       "      <td>NaN</td>\n",
       "      <td>-91.5251</td>\n",
       "      <td>1.0</td>\n",
       "      <td>Ofc. hailed from Chitimacha Tribe of Louisiana...</td>\n",
       "      <td>3::78||4::48</td>\n",
       "      <td>0::Adult 18+||1::Adult 18+||2::Adult 18+||3::A...</td>\n",
       "      <td>0::Male||1::Male||2::Male||3::Male||4::Male</td>\n",
       "      <td>0::Ofc.||1::Dep.||2::Dep.||3::Eddie Lyons||4::...</td>\n",
       "      <td>NaN</td>\n",
       "      <td>0::Killed||1::Injured||2::Injured||3::Killed||...</td>\n",
       "      <td>0::Victim||1::Victim||2::Victim||3::Victim||4:...</td>\n",
       "      <td>http://theadvocate.com/home/5018249-125/3-law-...</td>\n",
       "      <td>50.0</td>\n",
       "      <td>21.0</td>\n",
       "      <td>4</td>\n",
       "      <td>1</td>\n",
       "      <td>0</td>\n",
       "      <td>0</td>\n",
       "      <td>5</td>\n",
       "      <td>0</td>\n",
       "      <td>1</td>\n",
       "      <td>4</td>\n",
       "      <td>0</td>\n",
       "      <td>0</td>\n",
       "      <td>1</td>\n",
       "      <td>4</td>\n",
       "      <td>0</td>\n",
       "      <td>0</td>\n",
       "    </tr>\n",
       "    <tr>\n",
       "      <th>13</th>\n",
       "      <td>479554</td>\n",
       "      <td>2013-01-26</td>\n",
       "      <td>District of Columbia</td>\n",
       "      <td>Washington</td>\n",
       "      <td>2403 Benning Road Northeast</td>\n",
       "      <td>0</td>\n",
       "      <td>5</td>\n",
       "      <td>http://www.gunviolencearchive.org/incident/479554</td>\n",
       "      <td>http://www.washingtontimes.com/news/2013/jan/2...</td>\n",
       "      <td>False</td>\n",
       "      <td>1.0</td>\n",
       "      <td>0::Unknown</td>\n",
       "      <td>0::Handgun</td>\n",
       "      <td>Shot - Wounded/Injured||Mass Shooting (4+ vict...</td>\n",
       "      <td>38.8978</td>\n",
       "      <td>NaN</td>\n",
       "      <td>-76.9717</td>\n",
       "      <td>1.0</td>\n",
       "      <td>Media accounts conflict as to gender of victim...</td>\n",
       "      <td>NaN</td>\n",
       "      <td>0::Adult 18+||1::Adult 18+||2::Adult 18+||3::A...</td>\n",
       "      <td>0::Female||1::Female||2::Male||3::Male||4::Mal...</td>\n",
       "      <td>NaN</td>\n",
       "      <td>NaN</td>\n",
       "      <td>0::Injured||1::Injured||2::Injured||3::Injured...</td>\n",
       "      <td>0::Victim||1::Victim||2::Victim||3::Victim||4:...</td>\n",
       "      <td>http://www.washingtonexaminer.com/d.c.-nightcl...</td>\n",
       "      <td>NaN</td>\n",
       "      <td>NaN</td>\n",
       "      <td>5</td>\n",
       "      <td>1</td>\n",
       "      <td>2</td>\n",
       "      <td>2</td>\n",
       "      <td>6</td>\n",
       "      <td>0</td>\n",
       "      <td>1</td>\n",
       "      <td>5</td>\n",
       "      <td>0</td>\n",
       "      <td>0</td>\n",
       "      <td>1</td>\n",
       "      <td>3</td>\n",
       "      <td>0</td>\n",
       "      <td>2</td>\n",
       "    </tr>\n",
       "    <tr>\n",
       "      <th>14</th>\n",
       "      <td>479460</td>\n",
       "      <td>2013-01-26</td>\n",
       "      <td>Ohio</td>\n",
       "      <td>Springfield</td>\n",
       "      <td>601 West Main Street</td>\n",
       "      <td>1</td>\n",
       "      <td>3</td>\n",
       "      <td>http://www.gunviolencearchive.org/incident/479460</td>\n",
       "      <td>http://www.whio.com//news/news/crime-law/arres...</td>\n",
       "      <td>False</td>\n",
       "      <td>8.0</td>\n",
       "      <td>NaN</td>\n",
       "      <td>NaN</td>\n",
       "      <td>Shot - Wounded/Injured||Shot - Dead (murder, a...</td>\n",
       "      <td>39.9252</td>\n",
       "      <td>Nite Owl Tavern</td>\n",
       "      <td>-83.8218</td>\n",
       "      <td>NaN</td>\n",
       "      <td>NaN</td>\n",
       "      <td>0::34||1::28||2::23||3::29||4::29</td>\n",
       "      <td>0::Adult 18+||1::Adult 18+||2::Adult 18+||3::A...</td>\n",
       "      <td>0::Male||1::Male||2::Male||3::Male||4::Male</td>\n",
       "      <td>0::Ernest Edwards||1::Anthony Clark||2::Joshua...</td>\n",
       "      <td>NaN</td>\n",
       "      <td>0::Killed||1::Injured||2::Injured||3::Injured|...</td>\n",
       "      <td>0::Victim||1::Victim||2::Victim||3::Victim||4:...</td>\n",
       "      <td>http://www.daytondailynews.com/news/news/1-dea...</td>\n",
       "      <td>79.0</td>\n",
       "      <td>10.0</td>\n",
       "      <td>4</td>\n",
       "      <td>1</td>\n",
       "      <td>0</td>\n",
       "      <td>0</td>\n",
       "      <td>5</td>\n",
       "      <td>0</td>\n",
       "      <td>1</td>\n",
       "      <td>4</td>\n",
       "      <td>0</td>\n",
       "      <td>0</td>\n",
       "      <td>1</td>\n",
       "      <td>4</td>\n",
       "      <td>0</td>\n",
       "      <td>0</td>\n",
       "    </tr>\n",
       "    <tr>\n",
       "      <th>15</th>\n",
       "      <td>479573</td>\n",
       "      <td>2013-02-02</td>\n",
       "      <td>Tennessee</td>\n",
       "      <td>Memphis</td>\n",
       "      <td>2514 Mount Moriah</td>\n",
       "      <td>0</td>\n",
       "      <td>5</td>\n",
       "      <td>http://www.gunviolencearchive.org/incident/479573</td>\n",
       "      <td>https://www.highbeam.com/doc/1P2-34349822.html</td>\n",
       "      <td>False</td>\n",
       "      <td>9.0</td>\n",
       "      <td>0::Unknown</td>\n",
       "      <td>0::Handgun</td>\n",
       "      <td>Shot - Wounded/Injured||Mass Shooting (4+ vict...</td>\n",
       "      <td>35.0803</td>\n",
       "      <td>Club Venue</td>\n",
       "      <td>-89.8871</td>\n",
       "      <td>1.0</td>\n",
       "      <td>NaN</td>\n",
       "      <td>5::24</td>\n",
       "      <td>0::Adult 18+||1::Adult 18+||2::Adult 18+||4::A...</td>\n",
       "      <td>0::Female||1::Female||2::Female||3::Female||4:...</td>\n",
       "      <td>4::Mary||5::Sundra Payne</td>\n",
       "      <td>NaN</td>\n",
       "      <td>0::Injured||1::Injured||2::Injured||3::Injured...</td>\n",
       "      <td>0::Victim||1::Victim||2::Victim||3::Victim||4:...</td>\n",
       "      <td>http://wreg.com/2013/02/02/five-hurt-in-memphi...</td>\n",
       "      <td>84.0</td>\n",
       "      <td>33.0</td>\n",
       "      <td>5</td>\n",
       "      <td>1</td>\n",
       "      <td>6</td>\n",
       "      <td>6</td>\n",
       "      <td>5</td>\n",
       "      <td>0</td>\n",
       "      <td>1</td>\n",
       "      <td>4</td>\n",
       "      <td>0</td>\n",
       "      <td>0</td>\n",
       "      <td>0</td>\n",
       "      <td>0</td>\n",
       "      <td>1</td>\n",
       "      <td>5</td>\n",
       "    </tr>\n",
       "    <tr>\n",
       "      <th>16</th>\n",
       "      <td>479580</td>\n",
       "      <td>2013-02-03</td>\n",
       "      <td>California</td>\n",
       "      <td>Yuba (county)</td>\n",
       "      <td>5800 block of Poplar Avenue</td>\n",
       "      <td>1</td>\n",
       "      <td>3</td>\n",
       "      <td>http://www.gunviolencearchive.org/incident/479580</td>\n",
       "      <td>http://sacramento.cbslocal.com/2013/02/04/1-de...</td>\n",
       "      <td>False</td>\n",
       "      <td>3.0</td>\n",
       "      <td>0::Unknown</td>\n",
       "      <td>0::9mm</td>\n",
       "      <td>Shot - Wounded/Injured||Shot - Dead (murder, a...</td>\n",
       "      <td>39.1236</td>\n",
       "      <td>NaN</td>\n",
       "      <td>-121.5830</td>\n",
       "      <td>1.0</td>\n",
       "      <td>perps have gang affiliation, but unclear as to...</td>\n",
       "      <td>0::20||4::25||5::18||6::19</td>\n",
       "      <td>0::Adult 18+||1::Adult 18+||2::Adult 18+||3::A...</td>\n",
       "      <td>0::Male||1::Male||2::Female||4::Male||5::Male|...</td>\n",
       "      <td>0::Teng Yang||1::Tou Yang||2::Xong Yang||3::Ya...</td>\n",
       "      <td>4::Drive by - Random victims||5::Drive by - Ra...</td>\n",
       "      <td>0::Killed||1::Injured||2::Injured||3::Injured|...</td>\n",
       "      <td>0::Victim||1::Victim||2::Victim||3::Victim||4:...</td>\n",
       "      <td>http://news.asiantown.net/r/28306/no-death-pen...</td>\n",
       "      <td>3.0</td>\n",
       "      <td>4.0</td>\n",
       "      <td>4</td>\n",
       "      <td>3</td>\n",
       "      <td>1</td>\n",
       "      <td>1</td>\n",
       "      <td>7</td>\n",
       "      <td>0</td>\n",
       "      <td>3</td>\n",
       "      <td>4</td>\n",
       "      <td>0</td>\n",
       "      <td>0</td>\n",
       "      <td>3</td>\n",
       "      <td>2</td>\n",
       "      <td>0</td>\n",
       "      <td>1</td>\n",
       "    </tr>\n",
       "    <tr>\n",
       "      <th>17</th>\n",
       "      <td>479592</td>\n",
       "      <td>2013-02-07</td>\n",
       "      <td>Illinois</td>\n",
       "      <td>Chicago</td>\n",
       "      <td>2500 block of East 75th Street</td>\n",
       "      <td>0</td>\n",
       "      <td>4</td>\n",
       "      <td>http://www.gunviolencearchive.org/incident/479592</td>\n",
       "      <td>http://chicago.cbslocal.com/2013/02/07/four-wo...</td>\n",
       "      <td>False</td>\n",
       "      <td>2.0</td>\n",
       "      <td>NaN</td>\n",
       "      <td>NaN</td>\n",
       "      <td>Shot - Wounded/Injured||Drive-by (car to stree...</td>\n",
       "      <td>41.7592</td>\n",
       "      <td>NaN</td>\n",
       "      <td>-87.5628</td>\n",
       "      <td>NaN</td>\n",
       "      <td>NaN</td>\n",
       "      <td>0::18||1::41||2::28||3::28</td>\n",
       "      <td>0::Adult 18+||1::Adult 18+||2::Adult 18+||3::A...</td>\n",
       "      <td>0::Male||1::Male||2::Male||3::Male</td>\n",
       "      <td>NaN</td>\n",
       "      <td>NaN</td>\n",
       "      <td>0::Injured||1::Injured||2::Injured||3::Injured...</td>\n",
       "      <td>0::Victim||1::Victim||2::Victim||3::Victim||4:...</td>\n",
       "      <td>http://crimeinchicago.blogspot.com/2013/02/4-m...</td>\n",
       "      <td>25.0</td>\n",
       "      <td>13.0</td>\n",
       "      <td>4</td>\n",
       "      <td>2</td>\n",
       "      <td>0</td>\n",
       "      <td>0</td>\n",
       "      <td>6</td>\n",
       "      <td>0</td>\n",
       "      <td>2</td>\n",
       "      <td>4</td>\n",
       "      <td>0</td>\n",
       "      <td>0</td>\n",
       "      <td>0</td>\n",
       "      <td>4</td>\n",
       "      <td>0</td>\n",
       "      <td>0</td>\n",
       "    </tr>\n",
       "    <tr>\n",
       "      <th>18</th>\n",
       "      <td>479603</td>\n",
       "      <td>2013-02-09</td>\n",
       "      <td>Louisiana</td>\n",
       "      <td>New Orleans</td>\n",
       "      <td>400 block of Bourbon Street</td>\n",
       "      <td>0</td>\n",
       "      <td>4</td>\n",
       "      <td>http://www.gunviolencearchive.org/incident/479603</td>\n",
       "      <td>http://www.nola.com/crime/index.ssf/2013/04/su...</td>\n",
       "      <td>False</td>\n",
       "      <td>2.0</td>\n",
       "      <td>0::Unknown</td>\n",
       "      <td>0::Handgun</td>\n",
       "      <td>Shot - Wounded/Injured||Mass Shooting (4+ vict...</td>\n",
       "      <td>29.9563</td>\n",
       "      <td>NaN</td>\n",
       "      <td>-90.0676</td>\n",
       "      <td>1.0</td>\n",
       "      <td>NaN</td>\n",
       "      <td>0::18||1::22||2::21||3::29||4::19||5::22||6::23</td>\n",
       "      <td>0::Adult 18+||1::Adult 18+||2::Adult 18+||3::A...</td>\n",
       "      <td>0::Male||1::Female||2::Female||3::Male||4::Mal...</td>\n",
       "      <td>4::Malcolm \"London\" Hall||5::Brandon Brown||6:...</td>\n",
       "      <td>NaN</td>\n",
       "      <td>0::Injured||1::Injured||2::Injured||3::Injured...</td>\n",
       "      <td>0::Victim||1::Victim||2::Victim||3::Victim||4:...</td>\n",
       "      <td>http://www.cbsnews.com/news/mardi-gras-shootin...</td>\n",
       "      <td>93.0</td>\n",
       "      <td>4.0</td>\n",
       "      <td>4</td>\n",
       "      <td>3</td>\n",
       "      <td>2</td>\n",
       "      <td>2</td>\n",
       "      <td>7</td>\n",
       "      <td>0</td>\n",
       "      <td>3</td>\n",
       "      <td>4</td>\n",
       "      <td>0</td>\n",
       "      <td>0</td>\n",
       "      <td>3</td>\n",
       "      <td>2</td>\n",
       "      <td>0</td>\n",
       "      <td>2</td>\n",
       "    </tr>\n",
       "    <tr>\n",
       "      <th>19</th>\n",
       "      <td>480311</td>\n",
       "      <td>2013-02-11</td>\n",
       "      <td>California</td>\n",
       "      <td>Vallejo</td>\n",
       "      <td>800 block of Humboldt Street</td>\n",
       "      <td>1</td>\n",
       "      <td>4</td>\n",
       "      <td>http://www.gunviolencearchive.org/incident/480311</td>\n",
       "      <td>http://archive.news10.net/news/article/229997/...</td>\n",
       "      <td>False</td>\n",
       "      <td>5.0</td>\n",
       "      <td>NaN</td>\n",
       "      <td>NaN</td>\n",
       "      <td>Shot - Wounded/Injured||Shot - Dead (murder, a...</td>\n",
       "      <td>38.1072</td>\n",
       "      <td>NaN</td>\n",
       "      <td>-122.2280</td>\n",
       "      <td>NaN</td>\n",
       "      <td>NaN</td>\n",
       "      <td>0::22</td>\n",
       "      <td>0::Adult 18+||1::Adult 18+||2::Adult 18+||3::A...</td>\n",
       "      <td>0::Male||1::Male||2::Male||3::Female||4::Female</td>\n",
       "      <td>0::Oscar Garcia</td>\n",
       "      <td>NaN</td>\n",
       "      <td>0::Killed||1::Injured||2::Injured||3::Injured|...</td>\n",
       "      <td>0::Victim||1::Victim||2::Victim||3::Victim||4:...</td>\n",
       "      <td>http://www.timesheraldonline.com/article/ZZ/20...</td>\n",
       "      <td>14.0</td>\n",
       "      <td>3.0</td>\n",
       "      <td>5</td>\n",
       "      <td>0</td>\n",
       "      <td>2</td>\n",
       "      <td>2</td>\n",
       "      <td>5</td>\n",
       "      <td>0</td>\n",
       "      <td>0</td>\n",
       "      <td>5</td>\n",
       "      <td>0</td>\n",
       "      <td>0</td>\n",
       "      <td>0</td>\n",
       "      <td>3</td>\n",
       "      <td>0</td>\n",
       "      <td>2</td>\n",
       "    </tr>\n",
       "  </tbody>\n",
       "</table>\n",
       "</div>"
      ],
      "text/plain": [
       "    incident_id        date                 state city_or_county  \\\n",
       "0        461105  2013-01-01          Pennsylvania     Mckeesport   \n",
       "1        460726  2013-01-01            California      Hawthorne   \n",
       "2        478855  2013-01-01                  Ohio         Lorain   \n",
       "3        478925  2013-01-05              Colorado         Aurora   \n",
       "4        478959  2013-01-07        North Carolina     Greensboro   \n",
       "5        478948  2013-01-07              Oklahoma          Tulsa   \n",
       "6        479363  2013-01-19            New Mexico    Albuquerque   \n",
       "7        479374  2013-01-21             Louisiana    New Orleans   \n",
       "8        479389  2013-01-21            California      Brentwood   \n",
       "9        492151  2013-01-23              Maryland      Baltimore   \n",
       "10       491674  2013-01-23             Tennessee    Chattanooga   \n",
       "11       479413  2013-01-25              Missouri    Saint Louis   \n",
       "12       479561  2013-01-26             Louisiana      Charenton   \n",
       "13       479554  2013-01-26  District of Columbia     Washington   \n",
       "14       479460  2013-01-26                  Ohio    Springfield   \n",
       "15       479573  2013-02-02             Tennessee        Memphis   \n",
       "16       479580  2013-02-03            California  Yuba (county)   \n",
       "17       479592  2013-02-07              Illinois        Chicago   \n",
       "18       479603  2013-02-09             Louisiana    New Orleans   \n",
       "19       480311  2013-02-11            California        Vallejo   \n",
       "\n",
       "                                              address  n_killed  n_injured  \\\n",
       "0           1506 Versailles Avenue and Coursin Street         0          4   \n",
       "1                        13500 block of Cerise Avenue         1          3   \n",
       "2                               1776 East 28th Street         1          3   \n",
       "3                    16000 block of East Ithaca Place         4          0   \n",
       "4                           307 Mourning Dove Terrace         2          2   \n",
       "5                          6000 block of South Owasso         4          0   \n",
       "6                                      2806 Long Lane         5          0   \n",
       "7   LaSalle Street and Martin Luther King Jr. Boul...         0          5   \n",
       "8                          1100 block of Breton Drive         0          4   \n",
       "9                        1500 block of W. Fayette St.         1          6   \n",
       "10                                     1501 Dodds Ave         1          3   \n",
       "11                W Florissant Ave and Riverview Blvd         1          3   \n",
       "12                       1000 block of Flat Town Road         2          3   \n",
       "13                        2403 Benning Road Northeast         0          5   \n",
       "14                               601 West Main Street         1          3   \n",
       "15                                  2514 Mount Moriah         0          5   \n",
       "16                        5800 block of Poplar Avenue         1          3   \n",
       "17                     2500 block of East 75th Street         0          4   \n",
       "18                        400 block of Bourbon Street         0          4   \n",
       "19                       800 block of Humboldt Street         1          4   \n",
       "\n",
       "                                         incident_url  \\\n",
       "0   http://www.gunviolencearchive.org/incident/461105   \n",
       "1   http://www.gunviolencearchive.org/incident/460726   \n",
       "2   http://www.gunviolencearchive.org/incident/478855   \n",
       "3   http://www.gunviolencearchive.org/incident/478925   \n",
       "4   http://www.gunviolencearchive.org/incident/478959   \n",
       "5   http://www.gunviolencearchive.org/incident/478948   \n",
       "6   http://www.gunviolencearchive.org/incident/479363   \n",
       "7   http://www.gunviolencearchive.org/incident/479374   \n",
       "8   http://www.gunviolencearchive.org/incident/479389   \n",
       "9   http://www.gunviolencearchive.org/incident/492151   \n",
       "10  http://www.gunviolencearchive.org/incident/491674   \n",
       "11  http://www.gunviolencearchive.org/incident/479413   \n",
       "12  http://www.gunviolencearchive.org/incident/479561   \n",
       "13  http://www.gunviolencearchive.org/incident/479554   \n",
       "14  http://www.gunviolencearchive.org/incident/479460   \n",
       "15  http://www.gunviolencearchive.org/incident/479573   \n",
       "16  http://www.gunviolencearchive.org/incident/479580   \n",
       "17  http://www.gunviolencearchive.org/incident/479592   \n",
       "18  http://www.gunviolencearchive.org/incident/479603   \n",
       "19  http://www.gunviolencearchive.org/incident/480311   \n",
       "\n",
       "                                           source_url  \\\n",
       "0   http://www.post-gazette.com/local/south/2013/0...   \n",
       "1   http://www.dailybulletin.com/article/zz/201301...   \n",
       "2   http://chronicle.northcoastnow.com/2013/02/14/...   \n",
       "3   http://www.dailydemocrat.com/20130106/aurora-s...   \n",
       "4   http://www.journalnow.com/news/local/article_d...   \n",
       "5   http://usnews.nbcnews.com/_news/2013/01/07/163...   \n",
       "6   http://hinterlandgazette.com/2013/01/pastor-gr...   \n",
       "7   http://www.nola.com/crime/index.ssf/2013/01/no...   \n",
       "8   http://sanfrancisco.cbslocal.com/2013/01/22/4-...   \n",
       "9   http://www.abc2news.com/news/crime-checker/bal...   \n",
       "10  http://www.wrcbtv.com/story/22664154/one-dead-...   \n",
       "11  http://stlouis.cbslocal.com/2013/01/25/one-dea...   \n",
       "12  http://www.huffingtonpost.com/2013/01/27/wilbe...   \n",
       "13  http://www.washingtontimes.com/news/2013/jan/2...   \n",
       "14  http://www.whio.com//news/news/crime-law/arres...   \n",
       "15     https://www.highbeam.com/doc/1P2-34349822.html   \n",
       "16  http://sacramento.cbslocal.com/2013/02/04/1-de...   \n",
       "17  http://chicago.cbslocal.com/2013/02/07/four-wo...   \n",
       "18  http://www.nola.com/crime/index.ssf/2013/04/su...   \n",
       "19  http://archive.news10.net/news/article/229997/...   \n",
       "\n",
       "    incident_url_fields_missing  congressional_district  \\\n",
       "0                         False                    14.0   \n",
       "1                         False                    43.0   \n",
       "2                         False                     9.0   \n",
       "3                         False                     6.0   \n",
       "4                         False                     6.0   \n",
       "5                         False                     1.0   \n",
       "6                         False                     1.0   \n",
       "7                         False                     2.0   \n",
       "8                         False                     9.0   \n",
       "9                         False                     7.0   \n",
       "10                        False                     3.0   \n",
       "11                        False                     1.0   \n",
       "12                        False                     3.0   \n",
       "13                        False                     1.0   \n",
       "14                        False                     8.0   \n",
       "15                        False                     9.0   \n",
       "16                        False                     3.0   \n",
       "17                        False                     2.0   \n",
       "18                        False                     2.0   \n",
       "19                        False                     5.0   \n",
       "\n",
       "                gun_stolen                      gun_type  \\\n",
       "0                      NaN                           NaN   \n",
       "1                      NaN                           NaN   \n",
       "2   0::Unknown||1::Unknown        0::Unknown||1::Unknown   \n",
       "3                      NaN                           NaN   \n",
       "4   0::Unknown||1::Unknown        0::Handgun||1::Handgun   \n",
       "5                      NaN                           NaN   \n",
       "6   0::Unknown||1::Unknown  0::22 LR||1::223 Rem [AR-15]   \n",
       "7                      NaN                           NaN   \n",
       "8                      NaN                           NaN   \n",
       "9                      NaN                           NaN   \n",
       "10              0::Unknown                    0::Unknown   \n",
       "11              0::Unknown                    0::Unknown   \n",
       "12              0::Unknown                    0::Shotgun   \n",
       "13              0::Unknown                    0::Handgun   \n",
       "14                     NaN                           NaN   \n",
       "15              0::Unknown                    0::Handgun   \n",
       "16              0::Unknown                        0::9mm   \n",
       "17                     NaN                           NaN   \n",
       "18              0::Unknown                    0::Handgun   \n",
       "19                     NaN                           NaN   \n",
       "\n",
       "                             incident_characteristics  latitude  \\\n",
       "0   Shot - Wounded/Injured||Mass Shooting (4+ vict...   40.3467   \n",
       "1   Shot - Wounded/Injured||Shot - Dead (murder, a...   33.9090   \n",
       "2   Shot - Wounded/Injured||Shot - Dead (murder, a...   41.4455   \n",
       "3   Shot - Dead (murder, accidental, suicide)||Off...   39.6518   \n",
       "4   Shot - Wounded/Injured||Shot - Dead (murder, a...   36.1140   \n",
       "5   Shot - Dead (murder, accidental, suicide)||Hom...   36.2405   \n",
       "6   Shot - Dead (murder, accidental, suicide)||Mas...   34.9791   \n",
       "7   Shot - Wounded/Injured||Drive-by (car to stree...   29.9435   \n",
       "8   Shot - Wounded/Injured||Drive-by (car to stree...   37.9656   \n",
       "9   Shot - Wounded/Injured||Shot - Dead (murder, a...   39.2899   \n",
       "10  Shot - Wounded/Injured||Shot - Dead (murder, a...   35.0221   \n",
       "11  Shot - Wounded/Injured||Shot - Dead (murder, a...   38.7067   \n",
       "12  Shot - Wounded/Injured||Shot - Dead (murder, a...   29.8816   \n",
       "13  Shot - Wounded/Injured||Mass Shooting (4+ vict...   38.8978   \n",
       "14  Shot - Wounded/Injured||Shot - Dead (murder, a...   39.9252   \n",
       "15  Shot - Wounded/Injured||Mass Shooting (4+ vict...   35.0803   \n",
       "16  Shot - Wounded/Injured||Shot - Dead (murder, a...   39.1236   \n",
       "17  Shot - Wounded/Injured||Drive-by (car to stree...   41.7592   \n",
       "18  Shot - Wounded/Injured||Mass Shooting (4+ vict...   29.9563   \n",
       "19  Shot - Wounded/Injured||Shot - Dead (murder, a...   38.1072   \n",
       "\n",
       "   location_description  longitude  n_guns_involved  \\\n",
       "0                   NaN   -79.8559              NaN   \n",
       "1                   NaN  -118.3330              NaN   \n",
       "2           Cotton Club   -82.1377              2.0   \n",
       "3                   NaN  -104.8020              NaN   \n",
       "4                   NaN   -79.9569              2.0   \n",
       "5      Fairmont Terrace   -95.9768              NaN   \n",
       "6                   NaN  -106.7160              2.0   \n",
       "7                   NaN   -90.0836              NaN   \n",
       "8                   NaN  -121.7180              NaN   \n",
       "9                   NaN   -76.6412              NaN   \n",
       "10                  NaN   -85.2697              1.0   \n",
       "11                  NaN   -90.2494              1.0   \n",
       "12                  NaN   -91.5251              1.0   \n",
       "13                  NaN   -76.9717              1.0   \n",
       "14      Nite Owl Tavern   -83.8218              NaN   \n",
       "15           Club Venue   -89.8871              1.0   \n",
       "16                  NaN  -121.5830              1.0   \n",
       "17                  NaN   -87.5628              NaN   \n",
       "18                  NaN   -90.0676              1.0   \n",
       "19                  NaN  -122.2280              NaN   \n",
       "\n",
       "                                                notes  \\\n",
       "0   Julian Sims under investigation: Four Shot and...   \n",
       "1   Four Shot; One Killed; Unidentified shooter in...   \n",
       "2                                                 NaN   \n",
       "3                                                 NaN   \n",
       "4   Two firearms recovered. (Attempted) murder sui...   \n",
       "5                                                 NaN   \n",
       "6                                                 NaN   \n",
       "7   Unprovoked drive-by results in multiple teens ...   \n",
       "8     Perps were likely motivated by gang affliations   \n",
       "9   Shooting occurred over illegal dice game; vict...   \n",
       "10  19 yr. old male dies; 3 inured; shooting on Do...   \n",
       "11                              38.706732, -90.249375   \n",
       "12  Ofc. hailed from Chitimacha Tribe of Louisiana...   \n",
       "13  Media accounts conflict as to gender of victim...   \n",
       "14                                                NaN   \n",
       "15                                                NaN   \n",
       "16  perps have gang affiliation, but unclear as to...   \n",
       "17                                                NaN   \n",
       "18                                                NaN   \n",
       "19                                                NaN   \n",
       "\n",
       "                                    participant_age  \\\n",
       "0                                             0::20   \n",
       "1                                             0::20   \n",
       "2                 0::25||1::31||2::33||3::34||4::33   \n",
       "3                        0::29||1::33||2::56||3::33   \n",
       "4                        0::18||1::46||2::14||3::47   \n",
       "5                        0::23||1::23||2::33||3::55   \n",
       "6             0::51||1::40||2::9||3::5||4::2||5::15   \n",
       "7                                               NaN   \n",
       "8                                               NaN   \n",
       "9                                             0::15   \n",
       "10                                            0::19   \n",
       "11                                            0::28   \n",
       "12                                     3::78||4::48   \n",
       "13                                              NaN   \n",
       "14                0::34||1::28||2::23||3::29||4::29   \n",
       "15                                            5::24   \n",
       "16                       0::20||4::25||5::18||6::19   \n",
       "17                       0::18||1::41||2::28||3::28   \n",
       "18  0::18||1::22||2::21||3::29||4::19||5::22||6::23   \n",
       "19                                            0::22   \n",
       "\n",
       "                                participant_age_group  \\\n",
       "0   0::Adult 18+||1::Adult 18+||2::Adult 18+||3::A...   \n",
       "1   0::Adult 18+||1::Adult 18+||2::Adult 18+||3::A...   \n",
       "2   0::Adult 18+||1::Adult 18+||2::Adult 18+||3::A...   \n",
       "3   0::Adult 18+||1::Adult 18+||2::Adult 18+||3::A...   \n",
       "4   0::Adult 18+||1::Adult 18+||2::Teen 12-17||3::...   \n",
       "5   0::Adult 18+||1::Adult 18+||2::Adult 18+||3::A...   \n",
       "6   0::Adult 18+||1::Adult 18+||2::Child 0-11||3::...   \n",
       "7                                                 NaN   \n",
       "8   0::Teen 12-17||1::Teen 12-17||2::Teen 12-17||4...   \n",
       "9   0::Teen 12-17||1::Adult 18+||2::Adult 18+||3::...   \n",
       "10                                       0::Adult 18+   \n",
       "11                                       0::Adult 18+   \n",
       "12  0::Adult 18+||1::Adult 18+||2::Adult 18+||3::A...   \n",
       "13  0::Adult 18+||1::Adult 18+||2::Adult 18+||3::A...   \n",
       "14  0::Adult 18+||1::Adult 18+||2::Adult 18+||3::A...   \n",
       "15  0::Adult 18+||1::Adult 18+||2::Adult 18+||4::A...   \n",
       "16  0::Adult 18+||1::Adult 18+||2::Adult 18+||3::A...   \n",
       "17  0::Adult 18+||1::Adult 18+||2::Adult 18+||3::A...   \n",
       "18  0::Adult 18+||1::Adult 18+||2::Adult 18+||3::A...   \n",
       "19  0::Adult 18+||1::Adult 18+||2::Adult 18+||3::A...   \n",
       "\n",
       "                                   participant_gender  \\\n",
       "0                0::Male||1::Male||3::Male||4::Female   \n",
       "1                                             0::Male   \n",
       "2         0::Male||1::Male||2::Male||3::Male||4::Male   \n",
       "3                0::Female||1::Male||2::Male||3::Male   \n",
       "4              0::Female||1::Male||2::Male||3::Female   \n",
       "5   0::Female||1::Female||2::Female||3::Female||4:...   \n",
       "6   0::Male||1::Female||2::Male||3::Female||4::Fem...   \n",
       "7         0::Male||1::Male||2::Male||3::Male||4::Male   \n",
       "8         0::Male||1::Male||2::Male||3::Male||4::Male   \n",
       "9                                             0::Male   \n",
       "10                 0::Male||1::Male||2::Male||3::Male   \n",
       "11                                            0::Male   \n",
       "12        0::Male||1::Male||2::Male||3::Male||4::Male   \n",
       "13  0::Female||1::Female||2::Male||3::Male||4::Mal...   \n",
       "14        0::Male||1::Male||2::Male||3::Male||4::Male   \n",
       "15  0::Female||1::Female||2::Female||3::Female||4:...   \n",
       "16  0::Male||1::Male||2::Female||4::Male||5::Male|...   \n",
       "17                 0::Male||1::Male||2::Male||3::Male   \n",
       "18  0::Male||1::Female||2::Female||3::Male||4::Mal...   \n",
       "19    0::Male||1::Male||2::Male||3::Female||4::Female   \n",
       "\n",
       "                                     participant_name  \\\n",
       "0                                      0::Julian Sims   \n",
       "1                                   0::Bernard Gillis   \n",
       "2   0::Damien Bell||1::Desmen Noble||2::Herman Sea...   \n",
       "3   0::Stacie Philbrook||1::Christopher Ratliffe||...   \n",
       "4   0::Danielle Imani Jameison||1::Maurice Eugene ...   \n",
       "5   0::Rebeika Powell||1::Kayetie Melchor||2::Mist...   \n",
       "6   0::Greg Griego||1::Sara Griego||2::Zephania Gr...   \n",
       "7                                                 NaN   \n",
       "8                                                 NaN   \n",
       "9                                    0::Deshaun Jones   \n",
       "10                                 0::Demetrius Davis   \n",
       "11                              0::Terry Robinson Jr.   \n",
       "12  0::Ofc.||1::Dep.||2::Dep.||3::Eddie Lyons||4::...   \n",
       "13                                                NaN   \n",
       "14  0::Ernest Edwards||1::Anthony Clark||2::Joshua...   \n",
       "15                           4::Mary||5::Sundra Payne   \n",
       "16  0::Teng Yang||1::Tou Yang||2::Xong Yang||3::Ya...   \n",
       "17                                                NaN   \n",
       "18  4::Malcolm \"London\" Hall||5::Brandon Brown||6:...   \n",
       "19                                    0::Oscar Garcia   \n",
       "\n",
       "                             participant_relationship  \\\n",
       "0                                                 NaN   \n",
       "1                                                 NaN   \n",
       "2                                                 NaN   \n",
       "3                                                 NaN   \n",
       "4                                           3::Family   \n",
       "5                                                 NaN   \n",
       "6                                           5::Family   \n",
       "7                                                 NaN   \n",
       "8                                                 NaN   \n",
       "9                                                 NaN   \n",
       "10                                                NaN   \n",
       "11                                                NaN   \n",
       "12                                                NaN   \n",
       "13                                                NaN   \n",
       "14                                                NaN   \n",
       "15                                                NaN   \n",
       "16  4::Drive by - Random victims||5::Drive by - Ra...   \n",
       "17                                                NaN   \n",
       "18                                                NaN   \n",
       "19                                                NaN   \n",
       "\n",
       "                                   participant_status  \\\n",
       "0   0::Arrested||1::Injured||2::Injured||3::Injure...   \n",
       "1       0::Killed||1::Injured||2::Injured||3::Injured   \n",
       "2   0::Injured, Unharmed, Arrested||1::Unharmed, A...   \n",
       "3          0::Killed||1::Killed||2::Killed||3::Killed   \n",
       "4        0::Injured||1::Injured||2::Killed||3::Killed   \n",
       "5   0::Killed||1::Killed||2::Killed||3::Killed||4:...   \n",
       "6   0::Killed||1::Killed||2::Killed||3::Killed||4:...   \n",
       "7   0::Injured||1::Injured||2::Injured||3::Injured...   \n",
       "8   0::Injured||1::Injured||2::Injured||3::Injured...   \n",
       "9   0::Killed||1::Injured||2::Injured||3::Injured|...   \n",
       "10      0::Killed||1::Injured||2::Injured||3::Injured   \n",
       "11      0::Killed||1::Injured||2::Injured||3::Injured   \n",
       "12  0::Killed||1::Injured||2::Injured||3::Killed||...   \n",
       "13  0::Injured||1::Injured||2::Injured||3::Injured...   \n",
       "14  0::Killed||1::Injured||2::Injured||3::Injured|...   \n",
       "15  0::Injured||1::Injured||2::Injured||3::Injured...   \n",
       "16  0::Killed||1::Injured||2::Injured||3::Injured|...   \n",
       "17  0::Injured||1::Injured||2::Injured||3::Injured...   \n",
       "18  0::Injured||1::Injured||2::Injured||3::Injured...   \n",
       "19  0::Killed||1::Injured||2::Injured||3::Injured|...   \n",
       "\n",
       "                                     participant_type  \\\n",
       "0   0::Victim||1::Victim||2::Victim||3::Victim||4:...   \n",
       "1   0::Victim||1::Victim||2::Victim||3::Victim||4:...   \n",
       "2   0::Subject-Suspect||1::Subject-Suspect||2::Vic...   \n",
       "3   0::Victim||1::Victim||2::Victim||3::Subject-Su...   \n",
       "4   0::Victim||1::Victim||2::Victim||3::Subject-Su...   \n",
       "5   0::Victim||1::Victim||2::Victim||3::Victim||4:...   \n",
       "6   0::Victim||1::Victim||2::Victim||3::Victim||4:...   \n",
       "7   0::Victim||1::Victim||2::Victim||3::Victim||4:...   \n",
       "8   0::Victim||1::Victim||2::Victim||3::Victim||4:...   \n",
       "9   0::Victim||1::Victim||2::Victim||3::Victim||4:...   \n",
       "10  0::Victim||1::Victim||2::Victim||3::Victim||4:...   \n",
       "11  0::Victim||1::Victim||2::Victim||3::Victim||4:...   \n",
       "12  0::Victim||1::Victim||2::Victim||3::Victim||4:...   \n",
       "13  0::Victim||1::Victim||2::Victim||3::Victim||4:...   \n",
       "14  0::Victim||1::Victim||2::Victim||3::Victim||4:...   \n",
       "15  0::Victim||1::Victim||2::Victim||3::Victim||4:...   \n",
       "16  0::Victim||1::Victim||2::Victim||3::Victim||4:...   \n",
       "17  0::Victim||1::Victim||2::Victim||3::Victim||4:...   \n",
       "18  0::Victim||1::Victim||2::Victim||3::Victim||4:...   \n",
       "19  0::Victim||1::Victim||2::Victim||3::Victim||4:...   \n",
       "\n",
       "                                              sources  state_house_district  \\\n",
       "0   http://pittsburgh.cbslocal.com/2013/01/01/4-pe...                   NaN   \n",
       "1   http://losangeles.cbslocal.com/2013/01/01/man-...                  62.0   \n",
       "2   http://www.morningjournal.com/general-news/201...                  56.0   \n",
       "3   http://denver.cbslocal.com/2013/01/06/officer-...                  40.0   \n",
       "4   http://myfox8.com/2013/01/08/update-mother-sho...                  62.0   \n",
       "5   http://www.kjrh.com/news/local-news/4-found-sh...                  72.0   \n",
       "6   http://www.cbsnews.com/news/nehemiah-gringo-ca...                  10.0   \n",
       "7   http://www.huffingtonpost.com/2013/01/21/new-o...                  93.0   \n",
       "8   http://www.contracostatimes.com/ci_22426767/br...                  11.0   \n",
       "9   http://articles.baltimoresun.com/2013-08-25/ne...                   NaN   \n",
       "10  http://www.wrcbtv.com/story/22664154/one-dead-...                  28.0   \n",
       "11  http://fox2now.com/2013/01/25/two-shot-in-nort...                  76.0   \n",
       "12  http://theadvocate.com/home/5018249-125/3-law-...                  50.0   \n",
       "13  http://www.washingtonexaminer.com/d.c.-nightcl...                   NaN   \n",
       "14  http://www.daytondailynews.com/news/news/1-dea...                  79.0   \n",
       "15  http://wreg.com/2013/02/02/five-hurt-in-memphi...                  84.0   \n",
       "16  http://news.asiantown.net/r/28306/no-death-pen...                   3.0   \n",
       "17  http://crimeinchicago.blogspot.com/2013/02/4-m...                  25.0   \n",
       "18  http://www.cbsnews.com/news/mardi-gras-shootin...                  93.0   \n",
       "19  http://www.timesheraldonline.com/article/ZZ/20...                  14.0   \n",
       "\n",
       "    state_senate_district  num_victims  num_suspects  num_females  num_males  \\\n",
       "0                     NaN            4             1            1          1   \n",
       "1                    35.0            4             1            0          0   \n",
       "2                    13.0            3             2            0          0   \n",
       "3                    28.0            3             1            1          1   \n",
       "4                    27.0            3             1            2          2   \n",
       "5                    11.0            4             2            4          4   \n",
       "6                    14.0            5             1            3          3   \n",
       "7                     5.0            5             1            0          0   \n",
       "8                     7.0            4             1            0          0   \n",
       "9                    44.0            7             0            0          0   \n",
       "10                   10.0            4             1            0          0   \n",
       "11                    4.0            4             1            0          0   \n",
       "12                   21.0            4             1            0          0   \n",
       "13                    NaN            5             1            2          2   \n",
       "14                   10.0            4             1            0          0   \n",
       "15                   33.0            5             1            6          6   \n",
       "16                    4.0            4             3            1          1   \n",
       "17                   13.0            4             2            0          0   \n",
       "18                    4.0            4             3            2          2   \n",
       "19                    3.0            5             0            2          2   \n",
       "\n",
       "    num_adults  num_teens  num_adult_suspects  num_adult_victims  \\\n",
       "0            5          0                   1                  4   \n",
       "1            4          0                   0                  4   \n",
       "2            5          0                   2                  3   \n",
       "3            4          0                   1                  3   \n",
       "4            3          1                   1                  2   \n",
       "5            6          0                   2                  4   \n",
       "6            2          1                   0                  2   \n",
       "7            0          0                   0                  0   \n",
       "8            1          3                   1                  0   \n",
       "9            6          1                   0                  6   \n",
       "10           1          0                   0                  1   \n",
       "11           1          0                   0                  1   \n",
       "12           5          0                   1                  4   \n",
       "13           6          0                   1                  5   \n",
       "14           5          0                   1                  4   \n",
       "15           5          0                   1                  4   \n",
       "16           7          0                   3                  4   \n",
       "17           6          0                   2                  4   \n",
       "18           7          0                   3                  4   \n",
       "19           5          0                   0                  5   \n",
       "\n",
       "    num_teen_suspects  num_teen_victims  num_male_suspects  num_male_victims  \\\n",
       "0                   0                 0                  0                 3   \n",
       "1                   0                 0                  0                 1   \n",
       "2                   0                 0                  2                 3   \n",
       "3                   0                 0                  1                 2   \n",
       "4                   0                 1                  0                 2   \n",
       "5                   0                 0                  2                 0   \n",
       "6                   1                 0                  1                 2   \n",
       "7                   0                 0                  0                 5   \n",
       "8                   0                 3                  1                 4   \n",
       "9                   0                 1                  0                 1   \n",
       "10                  0                 0                  0                 4   \n",
       "11                  0                 0                  0                 1   \n",
       "12                  0                 0                  1                 4   \n",
       "13                  0                 0                  1                 3   \n",
       "14                  0                 0                  1                 4   \n",
       "15                  0                 0                  0                 0   \n",
       "16                  0                 0                  3                 2   \n",
       "17                  0                 0                  0                 4   \n",
       "18                  0                 0                  3                 2   \n",
       "19                  0                 0                  0                 3   \n",
       "\n",
       "    num_female_suspects  num_female_victims  \n",
       "0                     1                   0  \n",
       "1                     0                   0  \n",
       "2                     0                   0  \n",
       "3                     0                   1  \n",
       "4                     1                   1  \n",
       "5                     0                   4  \n",
       "6                     0                   3  \n",
       "7                     0                   0  \n",
       "8                     0                   0  \n",
       "9                     0                   0  \n",
       "10                    0                   0  \n",
       "11                    0                   0  \n",
       "12                    0                   0  \n",
       "13                    0                   2  \n",
       "14                    0                   0  \n",
       "15                    1                   5  \n",
       "16                    0                   1  \n",
       "17                    0                   0  \n",
       "18                    0                   2  \n",
       "19                    0                   2  "
      ]
     },
     "execution_count": 149,
     "metadata": {},
     "output_type": "execute_result"
    }
   ],
   "source": [
    "# Load the gun violence dataset\n",
    "df = pd.read_csv('gun_violence_cleaned.csv')\n",
    "\n",
    "# Display basic information\n",
    "print(f\"Dataset shape: {df.shape}\")\n",
    "print(f\"\\nFirst few rows:\")\n",
    "pd.set_option('display.max_columns', None)\n",
    "df.head(20)"
   ]
  },
  {
   "cell_type": "code",
   "execution_count": 150,
   "id": "18662936",
   "metadata": {},
   "outputs": [
    {
     "data": {
      "text/html": [
       "<div>\n",
       "<style scoped>\n",
       "    .dataframe tbody tr th:only-of-type {\n",
       "        vertical-align: middle;\n",
       "    }\n",
       "\n",
       "    .dataframe tbody tr th {\n",
       "        vertical-align: top;\n",
       "    }\n",
       "\n",
       "    .dataframe thead th {\n",
       "        text-align: right;\n",
       "    }\n",
       "</style>\n",
       "<table border=\"1\" class=\"dataframe\">\n",
       "  <thead>\n",
       "    <tr style=\"text-align: right;\">\n",
       "      <th></th>\n",
       "      <th>state</th>\n",
       "      <th>state_population</th>\n",
       "    </tr>\n",
       "  </thead>\n",
       "  <tbody>\n",
       "    <tr>\n",
       "      <th>0</th>\n",
       "      <td>Pennsylvania</td>\n",
       "      <td>13002700</td>\n",
       "    </tr>\n",
       "    <tr>\n",
       "      <th>1</th>\n",
       "      <td>California</td>\n",
       "      <td>39538223</td>\n",
       "    </tr>\n",
       "    <tr>\n",
       "      <th>2</th>\n",
       "      <td>Ohio</td>\n",
       "      <td>11799448</td>\n",
       "    </tr>\n",
       "    <tr>\n",
       "      <th>3</th>\n",
       "      <td>Colorado</td>\n",
       "      <td>5773714</td>\n",
       "    </tr>\n",
       "    <tr>\n",
       "      <th>4</th>\n",
       "      <td>North Carolina</td>\n",
       "      <td>10439388</td>\n",
       "    </tr>\n",
       "  </tbody>\n",
       "</table>\n",
       "</div>"
      ],
      "text/plain": [
       "            state  state_population\n",
       "0    Pennsylvania          13002700\n",
       "1      California          39538223\n",
       "2            Ohio          11799448\n",
       "3        Colorado           5773714\n",
       "4  North Carolina          10439388"
      ]
     },
     "execution_count": 150,
     "metadata": {},
     "output_type": "execute_result"
    }
   ],
   "source": [
    "# Add a new column 'state_population' to df using state_to_population_dict\n",
    "df['state_population'] = df['state'].map(state_to_population_dict)\n",
    "\n",
    "# Display the first few rows to verify\n",
    "df[['state', 'state_population']].head()"
   ]
  },
  {
   "cell_type": "code",
   "execution_count": 151,
   "id": "70ae286f",
   "metadata": {},
   "outputs": [
    {
     "data": {
      "text/plain": [
       "array(['Pennsylvania', 'California', 'Ohio', 'Colorado', 'North Carolina',\n",
       "       'Oklahoma', 'New Mexico', 'Louisiana', 'Maryland', 'Tennessee',\n",
       "       'Missouri', 'District of Columbia', 'Illinois', 'Delaware', 'Utah',\n",
       "       'Michigan', 'Georgia', 'Indiana', 'Mississippi', 'New York',\n",
       "       'Florida', 'Washington', 'South Carolina', 'Arizona', 'Kentucky',\n",
       "       'New Jersey', 'Virginia', 'Wisconsin', 'Rhode Island', 'Texas',\n",
       "       'Alabama', 'Kansas', 'Connecticut', 'West Virginia', 'Minnesota',\n",
       "       'Nevada', 'Nebraska', 'Massachusetts', 'Hawaii', 'New Hampshire',\n",
       "       'Iowa', 'Alaska', 'Arkansas', 'Idaho', 'Oregon', 'Wyoming',\n",
       "       'Maine', 'North Dakota', 'Montana', 'Vermont', 'South Dakota'],\n",
       "      dtype=object)"
      ]
     },
     "execution_count": 151,
     "metadata": {},
     "output_type": "execute_result"
    }
   ],
   "source": [
    "df[\"state\"].unique()"
   ]
  },
  {
   "cell_type": "code",
   "execution_count": 152,
   "id": "6adb79ba",
   "metadata": {},
   "outputs": [
    {
     "name": "stdout",
     "output_type": "stream",
     "text": [
      "{'California': 39538223, 'Texas': 29145505, 'Florida': 21538187, 'New York': 20201249, 'Pennsylvania': 13002700, 'Illinois': 12801989, 'Ohio': 11799448, 'Georgia': 10711908, 'North Carolina': 10439388, 'Michigan': 10077331, 'New Jersey': 9288994, 'Virginia': 8631393, 'Washington': 7705281, 'Arizona': 7151502, 'Massachusetts': 7029917, 'Tennessee': 6910840, 'Indiana': 6785528, 'Maryland': 6177224, 'Missouri': 6154913, 'Wisconsin': 5893718, 'Colorado': 5773714, 'Minnesota': 5706494, 'South Carolina': 5118425, 'Alabama': 5024279, 'Louisiana': 4657757, 'Kentucky': 4505836, 'Oregon': 4237256, 'Oklahoma': 3959353, 'Connecticut': 3605944, 'Utah': 3205958, 'Iowa': 3271616, 'Nevada': 3104614, 'Arkansas': 3011524, 'Mississippi': 2961279, 'Kansas': 2937880, 'New Mexico': 2117522, 'Nebraska': 1961504, 'Idaho': 1839106, 'West Virginia': 1793716, 'Hawaii': 1455271, 'New Hampshire': 1377529, 'Maine': 1362359, 'Rhode Island': 1097379, 'Montana': 1084225, 'Delaware': 989948, 'South Dakota': 886667, 'North Dakota': 779094, 'Alaska': 733391, 'District of Columbia': 689545, 'Vermont': 643077, 'Wyoming': 576851}\n"
     ]
    }
   ],
   "source": [
    "print(state_to_population_dict)"
   ]
  },
  {
   "cell_type": "code",
   "execution_count": 153,
   "id": "ac1edf42",
   "metadata": {},
   "outputs": [],
   "source": [
    "# Create a function to count stolen guns\n",
    "def count_stolen_guns(gun_stolen_str):\n",
    "    if pd.isna(gun_stolen_str):\n",
    "        return 0\n",
    "    # Split by || to get individual guns\n",
    "    guns = str(gun_stolen_str).split('||')\n",
    "    # Count how many contain \"Stolen\" (not \"Not-stolen\")\n",
    "    stolen_count = 0\n",
    "    for gun in guns:\n",
    "        if '::' in gun:\n",
    "            status = gun.split('::')[1].strip()\n",
    "            if status.lower() == 'stolen':\n",
    "                stolen_count += 1\n",
    "    return stolen_count"
   ]
  },
  {
   "cell_type": "code",
   "execution_count": 154,
   "id": "06119942",
   "metadata": {},
   "outputs": [
    {
     "data": {
      "text/html": [
       "<div>\n",
       "<style scoped>\n",
       "    .dataframe tbody tr th:only-of-type {\n",
       "        vertical-align: middle;\n",
       "    }\n",
       "\n",
       "    .dataframe tbody tr th {\n",
       "        vertical-align: top;\n",
       "    }\n",
       "\n",
       "    .dataframe thead th {\n",
       "        text-align: right;\n",
       "    }\n",
       "</style>\n",
       "<table border=\"1\" class=\"dataframe\">\n",
       "  <thead>\n",
       "    <tr style=\"text-align: right;\">\n",
       "      <th></th>\n",
       "      <th>participant_gender</th>\n",
       "      <th>num_males</th>\n",
       "      <th>num_females</th>\n",
       "    </tr>\n",
       "  </thead>\n",
       "  <tbody>\n",
       "    <tr>\n",
       "      <th>0</th>\n",
       "      <td>0::Male||1::Male||3::Male||4::Female</td>\n",
       "      <td>1</td>\n",
       "      <td>1</td>\n",
       "    </tr>\n",
       "    <tr>\n",
       "      <th>1</th>\n",
       "      <td>0::Male</td>\n",
       "      <td>0</td>\n",
       "      <td>0</td>\n",
       "    </tr>\n",
       "    <tr>\n",
       "      <th>2</th>\n",
       "      <td>0::Male||1::Male||2::Male||3::Male||4::Male</td>\n",
       "      <td>0</td>\n",
       "      <td>0</td>\n",
       "    </tr>\n",
       "    <tr>\n",
       "      <th>3</th>\n",
       "      <td>0::Female||1::Male||2::Male||3::Male</td>\n",
       "      <td>1</td>\n",
       "      <td>1</td>\n",
       "    </tr>\n",
       "    <tr>\n",
       "      <th>4</th>\n",
       "      <td>0::Female||1::Male||2::Male||3::Female</td>\n",
       "      <td>2</td>\n",
       "      <td>2</td>\n",
       "    </tr>\n",
       "    <tr>\n",
       "      <th>5</th>\n",
       "      <td>0::Female||1::Female||2::Female||3::Female||4:...</td>\n",
       "      <td>4</td>\n",
       "      <td>4</td>\n",
       "    </tr>\n",
       "    <tr>\n",
       "      <th>6</th>\n",
       "      <td>0::Male||1::Female||2::Male||3::Female||4::Fem...</td>\n",
       "      <td>3</td>\n",
       "      <td>3</td>\n",
       "    </tr>\n",
       "    <tr>\n",
       "      <th>7</th>\n",
       "      <td>0::Male||1::Male||2::Male||3::Male||4::Male</td>\n",
       "      <td>0</td>\n",
       "      <td>0</td>\n",
       "    </tr>\n",
       "    <tr>\n",
       "      <th>8</th>\n",
       "      <td>0::Male||1::Male||2::Male||3::Male||4::Male</td>\n",
       "      <td>0</td>\n",
       "      <td>0</td>\n",
       "    </tr>\n",
       "    <tr>\n",
       "      <th>9</th>\n",
       "      <td>0::Male</td>\n",
       "      <td>0</td>\n",
       "      <td>0</td>\n",
       "    </tr>\n",
       "    <tr>\n",
       "      <th>10</th>\n",
       "      <td>0::Male||1::Male||2::Male||3::Male</td>\n",
       "      <td>0</td>\n",
       "      <td>0</td>\n",
       "    </tr>\n",
       "    <tr>\n",
       "      <th>11</th>\n",
       "      <td>0::Male</td>\n",
       "      <td>0</td>\n",
       "      <td>0</td>\n",
       "    </tr>\n",
       "    <tr>\n",
       "      <th>12</th>\n",
       "      <td>0::Male||1::Male||2::Male||3::Male||4::Male</td>\n",
       "      <td>0</td>\n",
       "      <td>0</td>\n",
       "    </tr>\n",
       "    <tr>\n",
       "      <th>13</th>\n",
       "      <td>0::Female||1::Female||2::Male||3::Male||4::Mal...</td>\n",
       "      <td>2</td>\n",
       "      <td>2</td>\n",
       "    </tr>\n",
       "    <tr>\n",
       "      <th>14</th>\n",
       "      <td>0::Male||1::Male||2::Male||3::Male||4::Male</td>\n",
       "      <td>0</td>\n",
       "      <td>0</td>\n",
       "    </tr>\n",
       "    <tr>\n",
       "      <th>15</th>\n",
       "      <td>0::Female||1::Female||2::Female||3::Female||4:...</td>\n",
       "      <td>6</td>\n",
       "      <td>6</td>\n",
       "    </tr>\n",
       "    <tr>\n",
       "      <th>16</th>\n",
       "      <td>0::Male||1::Male||2::Female||4::Male||5::Male|...</td>\n",
       "      <td>1</td>\n",
       "      <td>1</td>\n",
       "    </tr>\n",
       "    <tr>\n",
       "      <th>17</th>\n",
       "      <td>0::Male||1::Male||2::Male||3::Male</td>\n",
       "      <td>0</td>\n",
       "      <td>0</td>\n",
       "    </tr>\n",
       "    <tr>\n",
       "      <th>18</th>\n",
       "      <td>0::Male||1::Female||2::Female||3::Male||4::Mal...</td>\n",
       "      <td>2</td>\n",
       "      <td>2</td>\n",
       "    </tr>\n",
       "    <tr>\n",
       "      <th>19</th>\n",
       "      <td>0::Male||1::Male||2::Male||3::Female||4::Female</td>\n",
       "      <td>2</td>\n",
       "      <td>2</td>\n",
       "    </tr>\n",
       "    <tr>\n",
       "      <th>20</th>\n",
       "      <td>0::Female||1::Female||2::Male||3::Male||4::Male</td>\n",
       "      <td>2</td>\n",
       "      <td>2</td>\n",
       "    </tr>\n",
       "    <tr>\n",
       "      <th>21</th>\n",
       "      <td>0::Male||1::Male||2::Male||3::Female||4::Male|...</td>\n",
       "      <td>1</td>\n",
       "      <td>1</td>\n",
       "    </tr>\n",
       "    <tr>\n",
       "      <th>22</th>\n",
       "      <td>0::Female||4::Male||5::Male||6::Male</td>\n",
       "      <td>1</td>\n",
       "      <td>1</td>\n",
       "    </tr>\n",
       "    <tr>\n",
       "      <th>23</th>\n",
       "      <td>0::Male||1::Male||2::Male||3::Female||4::Male</td>\n",
       "      <td>1</td>\n",
       "      <td>1</td>\n",
       "    </tr>\n",
       "    <tr>\n",
       "      <th>24</th>\n",
       "      <td>0::Male||1::Male||2::Male||3::Male||4::Female</td>\n",
       "      <td>1</td>\n",
       "      <td>1</td>\n",
       "    </tr>\n",
       "    <tr>\n",
       "      <th>25</th>\n",
       "      <td>0::Male||1::Male||2::Male||3::Male</td>\n",
       "      <td>0</td>\n",
       "      <td>0</td>\n",
       "    </tr>\n",
       "    <tr>\n",
       "      <th>26</th>\n",
       "      <td>0::Male||1::Male||2::Male||3::Male||4::Male||5...</td>\n",
       "      <td>2</td>\n",
       "      <td>2</td>\n",
       "    </tr>\n",
       "    <tr>\n",
       "      <th>27</th>\n",
       "      <td>0::Male||1::Male||2::Male||3::Male||4::Male||5...</td>\n",
       "      <td>0</td>\n",
       "      <td>0</td>\n",
       "    </tr>\n",
       "    <tr>\n",
       "      <th>28</th>\n",
       "      <td>0::Male||1::Male||2::Female||3::Male||4::Male|...</td>\n",
       "      <td>1</td>\n",
       "      <td>1</td>\n",
       "    </tr>\n",
       "    <tr>\n",
       "      <th>29</th>\n",
       "      <td>0::Male||1::Male||2::Female||3::Female</td>\n",
       "      <td>2</td>\n",
       "      <td>2</td>\n",
       "    </tr>\n",
       "    <tr>\n",
       "      <th>30</th>\n",
       "      <td>3::Male||4::Male||5::Male</td>\n",
       "      <td>0</td>\n",
       "      <td>0</td>\n",
       "    </tr>\n",
       "    <tr>\n",
       "      <th>31</th>\n",
       "      <td>0::Male||1::Male||2::Male||3::Male</td>\n",
       "      <td>0</td>\n",
       "      <td>0</td>\n",
       "    </tr>\n",
       "    <tr>\n",
       "      <th>32</th>\n",
       "      <td>0::Male||1::Female||2::Male||3::Male||4::Male</td>\n",
       "      <td>1</td>\n",
       "      <td>1</td>\n",
       "    </tr>\n",
       "    <tr>\n",
       "      <th>33</th>\n",
       "      <td>0::Female||1::Male||2::Male</td>\n",
       "      <td>1</td>\n",
       "      <td>1</td>\n",
       "    </tr>\n",
       "    <tr>\n",
       "      <th>34</th>\n",
       "      <td>0::Male||1::Male||2::Male||3::Male||4::Male||5...</td>\n",
       "      <td>6</td>\n",
       "      <td>6</td>\n",
       "    </tr>\n",
       "    <tr>\n",
       "      <th>35</th>\n",
       "      <td>0::Male||1::Male||4::Male||5::Male||6::Male||7...</td>\n",
       "      <td>0</td>\n",
       "      <td>0</td>\n",
       "    </tr>\n",
       "    <tr>\n",
       "      <th>36</th>\n",
       "      <td>0::Male||1::Male||2::Male||4::Male||5::Male||6...</td>\n",
       "      <td>0</td>\n",
       "      <td>0</td>\n",
       "    </tr>\n",
       "    <tr>\n",
       "      <th>37</th>\n",
       "      <td>0::Male||1::Male||2::Male||3::Female</td>\n",
       "      <td>1</td>\n",
       "      <td>1</td>\n",
       "    </tr>\n",
       "    <tr>\n",
       "      <th>38</th>\n",
       "      <td>NaN</td>\n",
       "      <td>0</td>\n",
       "      <td>0</td>\n",
       "    </tr>\n",
       "    <tr>\n",
       "      <th>39</th>\n",
       "      <td>0::Male||1::Female||2::Female</td>\n",
       "      <td>2</td>\n",
       "      <td>2</td>\n",
       "    </tr>\n",
       "  </tbody>\n",
       "</table>\n",
       "</div>"
      ],
      "text/plain": [
       "                                   participant_gender  num_males  num_females\n",
       "0                0::Male||1::Male||3::Male||4::Female          1            1\n",
       "1                                             0::Male          0            0\n",
       "2         0::Male||1::Male||2::Male||3::Male||4::Male          0            0\n",
       "3                0::Female||1::Male||2::Male||3::Male          1            1\n",
       "4              0::Female||1::Male||2::Male||3::Female          2            2\n",
       "5   0::Female||1::Female||2::Female||3::Female||4:...          4            4\n",
       "6   0::Male||1::Female||2::Male||3::Female||4::Fem...          3            3\n",
       "7         0::Male||1::Male||2::Male||3::Male||4::Male          0            0\n",
       "8         0::Male||1::Male||2::Male||3::Male||4::Male          0            0\n",
       "9                                             0::Male          0            0\n",
       "10                 0::Male||1::Male||2::Male||3::Male          0            0\n",
       "11                                            0::Male          0            0\n",
       "12        0::Male||1::Male||2::Male||3::Male||4::Male          0            0\n",
       "13  0::Female||1::Female||2::Male||3::Male||4::Mal...          2            2\n",
       "14        0::Male||1::Male||2::Male||3::Male||4::Male          0            0\n",
       "15  0::Female||1::Female||2::Female||3::Female||4:...          6            6\n",
       "16  0::Male||1::Male||2::Female||4::Male||5::Male|...          1            1\n",
       "17                 0::Male||1::Male||2::Male||3::Male          0            0\n",
       "18  0::Male||1::Female||2::Female||3::Male||4::Mal...          2            2\n",
       "19    0::Male||1::Male||2::Male||3::Female||4::Female          2            2\n",
       "20    0::Female||1::Female||2::Male||3::Male||4::Male          2            2\n",
       "21  0::Male||1::Male||2::Male||3::Female||4::Male|...          1            1\n",
       "22               0::Female||4::Male||5::Male||6::Male          1            1\n",
       "23      0::Male||1::Male||2::Male||3::Female||4::Male          1            1\n",
       "24      0::Male||1::Male||2::Male||3::Male||4::Female          1            1\n",
       "25                 0::Male||1::Male||2::Male||3::Male          0            0\n",
       "26  0::Male||1::Male||2::Male||3::Male||4::Male||5...          2            2\n",
       "27  0::Male||1::Male||2::Male||3::Male||4::Male||5...          0            0\n",
       "28  0::Male||1::Male||2::Female||3::Male||4::Male|...          1            1\n",
       "29             0::Male||1::Male||2::Female||3::Female          2            2\n",
       "30                          3::Male||4::Male||5::Male          0            0\n",
       "31                 0::Male||1::Male||2::Male||3::Male          0            0\n",
       "32      0::Male||1::Female||2::Male||3::Male||4::Male          1            1\n",
       "33                        0::Female||1::Male||2::Male          1            1\n",
       "34  0::Male||1::Male||2::Male||3::Male||4::Male||5...          6            6\n",
       "35  0::Male||1::Male||4::Male||5::Male||6::Male||7...          0            0\n",
       "36  0::Male||1::Male||2::Male||4::Male||5::Male||6...          0            0\n",
       "37               0::Male||1::Male||2::Male||3::Female          1            1\n",
       "38                                                NaN          0            0\n",
       "39                      0::Male||1::Female||2::Female          2            2"
      ]
     },
     "execution_count": 154,
     "metadata": {},
     "output_type": "execute_result"
    }
   ],
   "source": [
    "df[[\"participant_gender\", \"num_males\", \"num_females\"]].head(40)"
   ]
  },
  {
   "cell_type": "code",
   "execution_count": 155,
   "id": "d0e91ecc",
   "metadata": {},
   "outputs": [
    {
     "name": "stdout",
     "output_type": "stream",
     "text": [
      "======================================================================\n",
      "GENDER COUNT CORRECTION\n",
      "======================================================================\n",
      "\n",
      "Before correction:\n",
      "Total males (old): 43,172\n",
      "Total females (old): 43,172\n",
      "\n",
      "After correction:\n",
      "Total males (new): 304,102\n",
      "Total females (new): 42,376\n"
     ]
    }
   ],
   "source": [
    "# Fix num_males and num_females using participant_gender\n",
    "\n",
    "# Store old values for comparison\n",
    "old_num_males = df['num_males'].copy()\n",
    "old_num_females = df['num_females'].copy()\n",
    "\n",
    "def count_gender(participant_gender_str, target_gender):\n",
    "    \"\"\"\n",
    "    Count occurrences of a specific gender in participant_gender string.\n",
    "    \n",
    "    Parameters:\n",
    "    - participant_gender_str: The participant_gender field from the dataset\n",
    "    - target_gender: \"Male\" or \"Female\"\n",
    "    \n",
    "    Returns:\n",
    "    - Count of the specified gender\n",
    "    \"\"\"\n",
    "    if pd.isna(participant_gender_str):\n",
    "        return 0\n",
    "    # Split by || to get individual participants\n",
    "    participants = str(participant_gender_str).split('||')\n",
    "    # Count how many match the target gender\n",
    "    count = 0\n",
    "    for participant in participants:\n",
    "        if '::' in participant:\n",
    "            gender = participant.split('::')[1].strip()\n",
    "            if gender == target_gender:\n",
    "                count += 1\n",
    "    return count\n",
    "\n",
    "# Replace num_males and num_females with corrected counts\n",
    "df['num_males'] = df['participant_gender'].apply(lambda x: count_gender(x, 'Male'))\n",
    "df['num_females'] = df['participant_gender'].apply(lambda x: count_gender(x, 'Female'))\n",
    "\n",
    "# Display comparison\n",
    "print(\"=\"*70)\n",
    "print(\"GENDER COUNT CORRECTION\")\n",
    "print(\"=\"*70)\n",
    "\n",
    "print(\"\\nBefore correction:\")\n",
    "print(f\"Total males (old): {old_num_males.sum():,}\")\n",
    "print(f\"Total females (old): {old_num_females.sum():,}\")\n",
    "\n",
    "print(\"\\nAfter correction:\")\n",
    "print(f\"Total males (new): {df['num_males'].sum():,}\")\n",
    "print(f\"Total females (new): {df['num_females'].sum():,}\")"
   ]
  },
  {
   "cell_type": "code",
   "execution_count": 156,
   "id": "ede7f833",
   "metadata": {},
   "outputs": [
    {
     "data": {
      "text/html": [
       "<div>\n",
       "<style scoped>\n",
       "    .dataframe tbody tr th:only-of-type {\n",
       "        vertical-align: middle;\n",
       "    }\n",
       "\n",
       "    .dataframe tbody tr th {\n",
       "        vertical-align: top;\n",
       "    }\n",
       "\n",
       "    .dataframe thead th {\n",
       "        text-align: right;\n",
       "    }\n",
       "</style>\n",
       "<table border=\"1\" class=\"dataframe\">\n",
       "  <thead>\n",
       "    <tr style=\"text-align: right;\">\n",
       "      <th></th>\n",
       "      <th>participant_gender</th>\n",
       "      <th>num_males</th>\n",
       "      <th>num_females</th>\n",
       "    </tr>\n",
       "  </thead>\n",
       "  <tbody>\n",
       "    <tr>\n",
       "      <th>0</th>\n",
       "      <td>0::Male||1::Male||3::Male||4::Female</td>\n",
       "      <td>3</td>\n",
       "      <td>1</td>\n",
       "    </tr>\n",
       "    <tr>\n",
       "      <th>1</th>\n",
       "      <td>0::Male</td>\n",
       "      <td>1</td>\n",
       "      <td>0</td>\n",
       "    </tr>\n",
       "    <tr>\n",
       "      <th>2</th>\n",
       "      <td>0::Male||1::Male||2::Male||3::Male||4::Male</td>\n",
       "      <td>5</td>\n",
       "      <td>0</td>\n",
       "    </tr>\n",
       "    <tr>\n",
       "      <th>3</th>\n",
       "      <td>0::Female||1::Male||2::Male||3::Male</td>\n",
       "      <td>3</td>\n",
       "      <td>1</td>\n",
       "    </tr>\n",
       "    <tr>\n",
       "      <th>4</th>\n",
       "      <td>0::Female||1::Male||2::Male||3::Female</td>\n",
       "      <td>2</td>\n",
       "      <td>2</td>\n",
       "    </tr>\n",
       "    <tr>\n",
       "      <th>5</th>\n",
       "      <td>0::Female||1::Female||2::Female||3::Female||4:...</td>\n",
       "      <td>2</td>\n",
       "      <td>4</td>\n",
       "    </tr>\n",
       "    <tr>\n",
       "      <th>6</th>\n",
       "      <td>0::Male||1::Female||2::Male||3::Female||4::Fem...</td>\n",
       "      <td>3</td>\n",
       "      <td>3</td>\n",
       "    </tr>\n",
       "    <tr>\n",
       "      <th>7</th>\n",
       "      <td>0::Male||1::Male||2::Male||3::Male||4::Male</td>\n",
       "      <td>5</td>\n",
       "      <td>0</td>\n",
       "    </tr>\n",
       "    <tr>\n",
       "      <th>8</th>\n",
       "      <td>0::Male||1::Male||2::Male||3::Male||4::Male</td>\n",
       "      <td>5</td>\n",
       "      <td>0</td>\n",
       "    </tr>\n",
       "    <tr>\n",
       "      <th>9</th>\n",
       "      <td>0::Male</td>\n",
       "      <td>1</td>\n",
       "      <td>0</td>\n",
       "    </tr>\n",
       "    <tr>\n",
       "      <th>10</th>\n",
       "      <td>0::Male||1::Male||2::Male||3::Male</td>\n",
       "      <td>4</td>\n",
       "      <td>0</td>\n",
       "    </tr>\n",
       "    <tr>\n",
       "      <th>11</th>\n",
       "      <td>0::Male</td>\n",
       "      <td>1</td>\n",
       "      <td>0</td>\n",
       "    </tr>\n",
       "    <tr>\n",
       "      <th>12</th>\n",
       "      <td>0::Male||1::Male||2::Male||3::Male||4::Male</td>\n",
       "      <td>5</td>\n",
       "      <td>0</td>\n",
       "    </tr>\n",
       "    <tr>\n",
       "      <th>13</th>\n",
       "      <td>0::Female||1::Female||2::Male||3::Male||4::Mal...</td>\n",
       "      <td>4</td>\n",
       "      <td>2</td>\n",
       "    </tr>\n",
       "    <tr>\n",
       "      <th>14</th>\n",
       "      <td>0::Male||1::Male||2::Male||3::Male||4::Male</td>\n",
       "      <td>5</td>\n",
       "      <td>0</td>\n",
       "    </tr>\n",
       "    <tr>\n",
       "      <th>15</th>\n",
       "      <td>0::Female||1::Female||2::Female||3::Female||4:...</td>\n",
       "      <td>0</td>\n",
       "      <td>6</td>\n",
       "    </tr>\n",
       "    <tr>\n",
       "      <th>16</th>\n",
       "      <td>0::Male||1::Male||2::Female||4::Male||5::Male|...</td>\n",
       "      <td>5</td>\n",
       "      <td>1</td>\n",
       "    </tr>\n",
       "    <tr>\n",
       "      <th>17</th>\n",
       "      <td>0::Male||1::Male||2::Male||3::Male</td>\n",
       "      <td>4</td>\n",
       "      <td>0</td>\n",
       "    </tr>\n",
       "    <tr>\n",
       "      <th>18</th>\n",
       "      <td>0::Male||1::Female||2::Female||3::Male||4::Mal...</td>\n",
       "      <td>5</td>\n",
       "      <td>2</td>\n",
       "    </tr>\n",
       "    <tr>\n",
       "      <th>19</th>\n",
       "      <td>0::Male||1::Male||2::Male||3::Female||4::Female</td>\n",
       "      <td>3</td>\n",
       "      <td>2</td>\n",
       "    </tr>\n",
       "    <tr>\n",
       "      <th>20</th>\n",
       "      <td>0::Female||1::Female||2::Male||3::Male||4::Male</td>\n",
       "      <td>3</td>\n",
       "      <td>2</td>\n",
       "    </tr>\n",
       "    <tr>\n",
       "      <th>21</th>\n",
       "      <td>0::Male||1::Male||2::Male||3::Female||4::Male|...</td>\n",
       "      <td>5</td>\n",
       "      <td>1</td>\n",
       "    </tr>\n",
       "    <tr>\n",
       "      <th>22</th>\n",
       "      <td>0::Female||4::Male||5::Male||6::Male</td>\n",
       "      <td>3</td>\n",
       "      <td>1</td>\n",
       "    </tr>\n",
       "    <tr>\n",
       "      <th>23</th>\n",
       "      <td>0::Male||1::Male||2::Male||3::Female||4::Male</td>\n",
       "      <td>4</td>\n",
       "      <td>1</td>\n",
       "    </tr>\n",
       "    <tr>\n",
       "      <th>24</th>\n",
       "      <td>0::Male||1::Male||2::Male||3::Male||4::Female</td>\n",
       "      <td>4</td>\n",
       "      <td>1</td>\n",
       "    </tr>\n",
       "    <tr>\n",
       "      <th>25</th>\n",
       "      <td>0::Male||1::Male||2::Male||3::Male</td>\n",
       "      <td>4</td>\n",
       "      <td>0</td>\n",
       "    </tr>\n",
       "    <tr>\n",
       "      <th>26</th>\n",
       "      <td>0::Male||1::Male||2::Male||3::Male||4::Male||5...</td>\n",
       "      <td>7</td>\n",
       "      <td>2</td>\n",
       "    </tr>\n",
       "    <tr>\n",
       "      <th>27</th>\n",
       "      <td>0::Male||1::Male||2::Male||3::Male||4::Male||5...</td>\n",
       "      <td>6</td>\n",
       "      <td>0</td>\n",
       "    </tr>\n",
       "    <tr>\n",
       "      <th>28</th>\n",
       "      <td>0::Male||1::Male||2::Female||3::Male||4::Male|...</td>\n",
       "      <td>5</td>\n",
       "      <td>1</td>\n",
       "    </tr>\n",
       "    <tr>\n",
       "      <th>29</th>\n",
       "      <td>0::Male||1::Male||2::Female||3::Female</td>\n",
       "      <td>2</td>\n",
       "      <td>2</td>\n",
       "    </tr>\n",
       "    <tr>\n",
       "      <th>30</th>\n",
       "      <td>3::Male||4::Male||5::Male</td>\n",
       "      <td>3</td>\n",
       "      <td>0</td>\n",
       "    </tr>\n",
       "    <tr>\n",
       "      <th>31</th>\n",
       "      <td>0::Male||1::Male||2::Male||3::Male</td>\n",
       "      <td>4</td>\n",
       "      <td>0</td>\n",
       "    </tr>\n",
       "    <tr>\n",
       "      <th>32</th>\n",
       "      <td>0::Male||1::Female||2::Male||3::Male||4::Male</td>\n",
       "      <td>4</td>\n",
       "      <td>1</td>\n",
       "    </tr>\n",
       "    <tr>\n",
       "      <th>33</th>\n",
       "      <td>0::Female||1::Male||2::Male</td>\n",
       "      <td>2</td>\n",
       "      <td>1</td>\n",
       "    </tr>\n",
       "    <tr>\n",
       "      <th>34</th>\n",
       "      <td>0::Male||1::Male||2::Male||3::Male||4::Male||5...</td>\n",
       "      <td>11</td>\n",
       "      <td>6</td>\n",
       "    </tr>\n",
       "    <tr>\n",
       "      <th>35</th>\n",
       "      <td>0::Male||1::Male||4::Male||5::Male||6::Male||7...</td>\n",
       "      <td>6</td>\n",
       "      <td>0</td>\n",
       "    </tr>\n",
       "    <tr>\n",
       "      <th>36</th>\n",
       "      <td>0::Male||1::Male||2::Male||4::Male||5::Male||6...</td>\n",
       "      <td>7</td>\n",
       "      <td>0</td>\n",
       "    </tr>\n",
       "    <tr>\n",
       "      <th>37</th>\n",
       "      <td>0::Male||1::Male||2::Male||3::Female</td>\n",
       "      <td>3</td>\n",
       "      <td>1</td>\n",
       "    </tr>\n",
       "    <tr>\n",
       "      <th>38</th>\n",
       "      <td>NaN</td>\n",
       "      <td>0</td>\n",
       "      <td>0</td>\n",
       "    </tr>\n",
       "    <tr>\n",
       "      <th>39</th>\n",
       "      <td>0::Male||1::Female||2::Female</td>\n",
       "      <td>1</td>\n",
       "      <td>2</td>\n",
       "    </tr>\n",
       "  </tbody>\n",
       "</table>\n",
       "</div>"
      ],
      "text/plain": [
       "                                   participant_gender  num_males  num_females\n",
       "0                0::Male||1::Male||3::Male||4::Female          3            1\n",
       "1                                             0::Male          1            0\n",
       "2         0::Male||1::Male||2::Male||3::Male||4::Male          5            0\n",
       "3                0::Female||1::Male||2::Male||3::Male          3            1\n",
       "4              0::Female||1::Male||2::Male||3::Female          2            2\n",
       "5   0::Female||1::Female||2::Female||3::Female||4:...          2            4\n",
       "6   0::Male||1::Female||2::Male||3::Female||4::Fem...          3            3\n",
       "7         0::Male||1::Male||2::Male||3::Male||4::Male          5            0\n",
       "8         0::Male||1::Male||2::Male||3::Male||4::Male          5            0\n",
       "9                                             0::Male          1            0\n",
       "10                 0::Male||1::Male||2::Male||3::Male          4            0\n",
       "11                                            0::Male          1            0\n",
       "12        0::Male||1::Male||2::Male||3::Male||4::Male          5            0\n",
       "13  0::Female||1::Female||2::Male||3::Male||4::Mal...          4            2\n",
       "14        0::Male||1::Male||2::Male||3::Male||4::Male          5            0\n",
       "15  0::Female||1::Female||2::Female||3::Female||4:...          0            6\n",
       "16  0::Male||1::Male||2::Female||4::Male||5::Male|...          5            1\n",
       "17                 0::Male||1::Male||2::Male||3::Male          4            0\n",
       "18  0::Male||1::Female||2::Female||3::Male||4::Mal...          5            2\n",
       "19    0::Male||1::Male||2::Male||3::Female||4::Female          3            2\n",
       "20    0::Female||1::Female||2::Male||3::Male||4::Male          3            2\n",
       "21  0::Male||1::Male||2::Male||3::Female||4::Male|...          5            1\n",
       "22               0::Female||4::Male||5::Male||6::Male          3            1\n",
       "23      0::Male||1::Male||2::Male||3::Female||4::Male          4            1\n",
       "24      0::Male||1::Male||2::Male||3::Male||4::Female          4            1\n",
       "25                 0::Male||1::Male||2::Male||3::Male          4            0\n",
       "26  0::Male||1::Male||2::Male||3::Male||4::Male||5...          7            2\n",
       "27  0::Male||1::Male||2::Male||3::Male||4::Male||5...          6            0\n",
       "28  0::Male||1::Male||2::Female||3::Male||4::Male|...          5            1\n",
       "29             0::Male||1::Male||2::Female||3::Female          2            2\n",
       "30                          3::Male||4::Male||5::Male          3            0\n",
       "31                 0::Male||1::Male||2::Male||3::Male          4            0\n",
       "32      0::Male||1::Female||2::Male||3::Male||4::Male          4            1\n",
       "33                        0::Female||1::Male||2::Male          2            1\n",
       "34  0::Male||1::Male||2::Male||3::Male||4::Male||5...         11            6\n",
       "35  0::Male||1::Male||4::Male||5::Male||6::Male||7...          6            0\n",
       "36  0::Male||1::Male||2::Male||4::Male||5::Male||6...          7            0\n",
       "37               0::Male||1::Male||2::Male||3::Female          3            1\n",
       "38                                                NaN          0            0\n",
       "39                      0::Male||1::Female||2::Female          1            2"
      ]
     },
     "execution_count": 156,
     "metadata": {},
     "output_type": "execute_result"
    }
   ],
   "source": [
    "df[[\"participant_gender\", \"num_males\", \"num_females\"]].head(40)"
   ]
  },
  {
   "cell_type": "code",
   "execution_count": 157,
   "id": "pp4s3345fud",
   "metadata": {},
   "outputs": [],
   "source": [
    "# Create a function to count stolen guns\n",
    "def count_stolen_guns(gun_stolen_str):\n",
    "    if pd.isna(gun_stolen_str):\n",
    "        return 0\n",
    "    # Split by || to get individual guns\n",
    "    guns = str(gun_stolen_str).split('||')\n",
    "    # Count how many contain \"Stolen\" (not \"Not-stolen\")\n",
    "    stolen_count = 0\n",
    "    for gun in guns:\n",
    "        if '::' in gun:\n",
    "            status = gun.split('::')[1].strip()\n",
    "            if status.lower() == 'stolen':\n",
    "                stolen_count += 1\n",
    "    return stolen_count"
   ]
  },
  {
   "cell_type": "code",
   "execution_count": 158,
   "id": "6c9e2fe4",
   "metadata": {},
   "outputs": [],
   "source": [
    "# Create a function to count unknown guns\n",
    "def count_unknown_guns(gun_stolen_str):\n",
    "    if pd.isna(gun_stolen_str):\n",
    "        return 0\n",
    "    # Split by || to get individual guns\n",
    "    guns = str(gun_stolen_str).split('||')\n",
    "    # Count how many contain \"Unknown\"\n",
    "    unknown_count = 0\n",
    "    for gun in guns:\n",
    "        if '::' in gun:\n",
    "            status = gun.split('::')[1].strip()\n",
    "            if status.lower() == 'unknown':\n",
    "                unknown_count += 1\n",
    "        elif gun.strip().lower() == '0:unknown':  # Handle the malformed entry\n",
    "            unknown_count += 1\n",
    "    return unknown_count"
   ]
  },
  {
   "cell_type": "code",
   "execution_count": 159,
   "id": "427c85b9",
   "metadata": {},
   "outputs": [],
   "source": [
    "# Create a function to count not-stolen guns\n",
    "def count_not_stolen_guns(gun_stolen_str):\n",
    "    if pd.isna(gun_stolen_str):\n",
    "        return 0\n",
    "    # Split by || to get individual guns\n",
    "    guns = str(gun_stolen_str).split('||')\n",
    "    # Count how many contain \"Not-stolen\"\n",
    "    not_stolen_count = 0\n",
    "    for gun in guns:\n",
    "        if '::' in gun:\n",
    "            status = gun.split('::')[1].strip()\n",
    "            if status.lower() == 'not-stolen':\n",
    "                not_stolen_count += 1\n",
    "    return not_stolen_count"
   ]
  },
  {
   "cell_type": "code",
   "execution_count": 160,
   "id": "94619544",
   "metadata": {},
   "outputs": [
    {
     "name": "stdout",
     "output_type": "stream",
     "text": [
      "Total guns involved across all incidents: 192,452\n",
      "\n",
      "Total guns stolen: 17,610\n",
      "Incidents with stolen guns: 7,350\n",
      "\n",
      "Total guns with unknown stolen status: 172,861\n",
      "Incidents with unknown gun status: 132,435\n",
      "\n",
      "Total guns not stolen: 1,804\n",
      "Incidents with not-stolen guns: 1,560\n"
     ]
    }
   ],
   "source": [
    "# Sum all guns involved\n",
    "total_guns = df['n_guns_involved'].sum()\n",
    "print(f\"Total guns involved across all incidents: {total_guns:,.0f}\\n\")\n",
    "\n",
    "# Apply the function to create new column\n",
    "df['n_guns_stolen'] = df['gun_stolen'].apply(count_stolen_guns)\n",
    "\n",
    "# Display results\n",
    "print(f\"Total guns stolen: {df['n_guns_stolen'].sum():,.0f}\")\n",
    "print(f\"Incidents with stolen guns: {(df['n_guns_stolen'] > 0).sum():,.0f}\\n\")\n",
    "\n",
    "# Apply the function to create new column\n",
    "df['n_guns_unknown'] = df['gun_stolen'].apply(count_unknown_guns)\n",
    "\n",
    "# Display results\n",
    "print(f\"Total guns with unknown stolen status: {df['n_guns_unknown'].sum():,.0f}\")\n",
    "print(f\"Incidents with unknown gun status: {(df['n_guns_unknown'] > 0).sum():,.0f}\\n\")\n",
    "\n",
    "# Apply the function to create new column\n",
    "df['n_guns_not_stolen'] = df['gun_stolen'].apply(count_not_stolen_guns)\n",
    "\n",
    "# Display results\n",
    "print(f\"Total guns not stolen: {df['n_guns_not_stolen'].sum():,.0f}\")\n",
    "print(f\"Incidents with not-stolen guns: {(df['n_guns_not_stolen'] > 0).sum():,.0f}\")"
   ]
  },
  {
   "cell_type": "code",
   "execution_count": 161,
   "id": "46403ce4",
   "metadata": {},
   "outputs": [
    {
     "name": "stdout",
     "output_type": "stream",
     "text": [
      "Date range: 2013-01-01 to 2018-03-31\n"
     ]
    }
   ],
   "source": [
    "# Check date range\n",
    "print(f\"Date range: {df['date'].min()} to {df['date'].max()}\")"
   ]
  },
  {
   "cell_type": "code",
   "execution_count": 162,
   "id": "b72dcab0",
   "metadata": {},
   "outputs": [
    {
     "name": "stdout",
     "output_type": "stream",
     "text": [
      "Number of unique states: 51\n",
      "\n",
      "All states in dataset:\n",
      "['Alabama', 'Alaska', 'Arizona', 'Arkansas', 'California', 'Colorado', 'Connecticut', 'Delaware', 'District of Columbia', 'Florida', 'Georgia', 'Hawaii', 'Idaho', 'Illinois', 'Indiana', 'Iowa', 'Kansas', 'Kentucky', 'Louisiana', 'Maine', 'Maryland', 'Massachusetts', 'Michigan', 'Minnesota', 'Mississippi', 'Missouri', 'Montana', 'Nebraska', 'Nevada', 'New Hampshire', 'New Jersey', 'New Mexico', 'New York', 'North Carolina', 'North Dakota', 'Ohio', 'Oklahoma', 'Oregon', 'Pennsylvania', 'Rhode Island', 'South Carolina', 'South Dakota', 'Tennessee', 'Texas', 'Utah', 'Vermont', 'Virginia', 'Washington', 'West Virginia', 'Wisconsin', 'Wyoming']\n"
     ]
    }
   ],
   "source": [
    "# Check unique states\n",
    "print(f\"Number of unique states: {df['state'].nunique()}\")\n",
    "print(f\"\\nAll states in dataset:\")\n",
    "print(sorted(df['state'].unique()))"
   ]
  },
  {
   "cell_type": "code",
   "execution_count": 163,
   "id": "27ac4cf9",
   "metadata": {},
   "outputs": [
    {
     "name": "stdout",
     "output_type": "stream",
     "text": [
      "Gender Statistics Across All Incidents:\n",
      "\n",
      "Total males: 304,102\n",
      "Total females: 42,376\n",
      "Total teens: 25,615\n",
      "\n",
      "Total male victims: 136,395\n",
      "Total female victims: 30,630\n",
      "Total teen victims: 12,343\n",
      "\n",
      "Total male suspects: 167,708\n",
      "Total female suspects: 11,746\n",
      "Total teen suspects: 12,850\n"
     ]
    }
   ],
   "source": [
    "# Display gender statistics\n",
    "print(\"Gender Statistics Across All Incidents:\")\n",
    "print(f\"\\nTotal males: {df['num_males'].sum():,.0f}\")\n",
    "print(f\"Total females: {df['num_females'].sum():,.0f}\")\n",
    "print(f\"Total teens: {df['num_teens'].sum():,.0f}\")\n",
    "print(f\"\\nTotal male victims: {df['num_male_victims'].sum():,.0f}\")\n",
    "print(f\"Total female victims: {df['num_female_victims'].sum():,.0f}\")\n",
    "print(f\"Total teen victims: {df['num_teen_victims'].sum():,.0f}\")\n",
    "print(f\"\\nTotal male suspects: {df['num_male_suspects'].sum():,.0f}\")\n",
    "print(f\"Total female suspects: {df['num_female_suspects'].sum():,.0f}\")\n",
    "print(f\"Total teen suspects: {df['num_teen_suspects'].sum():,.0f}\")"
   ]
  },
  {
   "cell_type": "code",
   "execution_count": 164,
   "id": "6af21b1f",
   "metadata": {},
   "outputs": [
    {
     "name": "stdout",
     "output_type": "stream",
     "text": [
      "Top 10 states by incident count:\n",
      "            state  count state_code\n",
      "0        Illinois  17556         IL\n",
      "1      California  16306         CA\n",
      "2         Florida  15029         FL\n",
      "3           Texas  13577         TX\n",
      "4            Ohio  10244         OH\n",
      "5        New York   9712         NY\n",
      "6    Pennsylvania   8929         PA\n",
      "7         Georgia   8925         GA\n",
      "8  North Carolina   8739         NC\n",
      "9       Louisiana   8103         LA\n",
      "\n",
      "Total incidents: 239,677\n"
     ]
    },
    {
     "data": {
      "application/vnd.plotly.v1+json": {
       "config": {
        "plotlyServerURL": "https://plot.ly"
       },
       "data": [
        {
         "colorbar": {
          "title": {
           "text": "Incidents"
          }
         },
         "colorscale": [
          [
           0,
           "rgb(255,245,240)"
          ],
          [
           0.125,
           "rgb(254,224,210)"
          ],
          [
           0.25,
           "rgb(252,187,161)"
          ],
          [
           0.375,
           "rgb(252,146,114)"
          ],
          [
           0.5,
           "rgb(251,106,74)"
          ],
          [
           0.625,
           "rgb(239,59,44)"
          ],
          [
           0.75,
           "rgb(203,24,29)"
          ],
          [
           0.875,
           "rgb(165,15,21)"
          ],
          [
           1,
           "rgb(103,0,13)"
          ]
         ],
         "hovertemplate": "<b>%{text}</b><br>Incidents: %{z:,}<extra></extra>",
         "locationmode": "USA-states",
         "locations": [
          "IL",
          "CA",
          "FL",
          "TX",
          "OH",
          "NY",
          "PA",
          "GA",
          "NC",
          "LA",
          "TN",
          "SC",
          "MO",
          "MI",
          "MA",
          "VA",
          "IN",
          "MD",
          "AL",
          "NJ",
          "WI",
          "KY",
          "MS",
          "OK",
          "WA",
          "CO",
          "DC",
          "CT",
          "AR",
          "IA",
          "MN",
          "AZ",
          "OR",
          "KS",
          "NV",
          "DE",
          "NE",
          "NM",
          "WV",
          "AK",
          "UT",
          "NH",
          "ME",
          "RI",
          "ID",
          "MT",
          "ND",
          "SD",
          "WY",
          "VT",
          "HI"
         ],
         "text": [
          "Illinois",
          "California",
          "Florida",
          "Texas",
          "Ohio",
          "New York",
          "Pennsylvania",
          "Georgia",
          "North Carolina",
          "Louisiana",
          "Tennessee",
          "South Carolina",
          "Missouri",
          "Michigan",
          "Massachusetts",
          "Virginia",
          "Indiana",
          "Maryland",
          "Alabama",
          "New Jersey",
          "Wisconsin",
          "Kentucky",
          "Mississippi",
          "Oklahoma",
          "Washington",
          "Colorado",
          "District of Columbia",
          "Connecticut",
          "Arkansas",
          "Iowa",
          "Minnesota",
          "Arizona",
          "Oregon",
          "Kansas",
          "Nevada",
          "Delaware",
          "Nebraska",
          "New Mexico",
          "West Virginia",
          "Alaska",
          "Utah",
          "New Hampshire",
          "Maine",
          "Rhode Island",
          "Idaho",
          "Montana",
          "North Dakota",
          "South Dakota",
          "Wyoming",
          "Vermont",
          "Hawaii"
         ],
         "type": "choropleth",
         "z": [
          17556,
          16306,
          15029,
          13577,
          10244,
          9712,
          8929,
          8925,
          8739,
          8103,
          7626,
          6939,
          6631,
          6136,
          5981,
          5949,
          5852,
          5798,
          5471,
          5387,
          4787,
          4157,
          3599,
          3455,
          3434,
          3201,
          3195,
          3067,
          2842,
          2517,
          2408,
          2328,
          2286,
          2145,
          1952,
          1685,
          1651,
          1645,
          1575,
          1349,
          1072,
          964,
          907,
          895,
          661,
          638,
          573,
          544,
          494,
          472,
          289
         ]
        }
       ],
       "layout": {
        "geo": {
         "scope": "usa"
        },
        "height": 600,
        "template": {
         "data": {
          "bar": [
           {
            "error_x": {
             "color": "#2a3f5f"
            },
            "error_y": {
             "color": "#2a3f5f"
            },
            "marker": {
             "line": {
              "color": "#E5ECF6",
              "width": 0.5
             },
             "pattern": {
              "fillmode": "overlay",
              "size": 10,
              "solidity": 0.2
             }
            },
            "type": "bar"
           }
          ],
          "barpolar": [
           {
            "marker": {
             "line": {
              "color": "#E5ECF6",
              "width": 0.5
             },
             "pattern": {
              "fillmode": "overlay",
              "size": 10,
              "solidity": 0.2
             }
            },
            "type": "barpolar"
           }
          ],
          "carpet": [
           {
            "aaxis": {
             "endlinecolor": "#2a3f5f",
             "gridcolor": "white",
             "linecolor": "white",
             "minorgridcolor": "white",
             "startlinecolor": "#2a3f5f"
            },
            "baxis": {
             "endlinecolor": "#2a3f5f",
             "gridcolor": "white",
             "linecolor": "white",
             "minorgridcolor": "white",
             "startlinecolor": "#2a3f5f"
            },
            "type": "carpet"
           }
          ],
          "choropleth": [
           {
            "colorbar": {
             "outlinewidth": 0,
             "ticks": ""
            },
            "type": "choropleth"
           }
          ],
          "contour": [
           {
            "colorbar": {
             "outlinewidth": 0,
             "ticks": ""
            },
            "colorscale": [
             [
              0,
              "#0d0887"
             ],
             [
              0.1111111111111111,
              "#46039f"
             ],
             [
              0.2222222222222222,
              "#7201a8"
             ],
             [
              0.3333333333333333,
              "#9c179e"
             ],
             [
              0.4444444444444444,
              "#bd3786"
             ],
             [
              0.5555555555555556,
              "#d8576b"
             ],
             [
              0.6666666666666666,
              "#ed7953"
             ],
             [
              0.7777777777777778,
              "#fb9f3a"
             ],
             [
              0.8888888888888888,
              "#fdca26"
             ],
             [
              1,
              "#f0f921"
             ]
            ],
            "type": "contour"
           }
          ],
          "contourcarpet": [
           {
            "colorbar": {
             "outlinewidth": 0,
             "ticks": ""
            },
            "type": "contourcarpet"
           }
          ],
          "heatmap": [
           {
            "colorbar": {
             "outlinewidth": 0,
             "ticks": ""
            },
            "colorscale": [
             [
              0,
              "#0d0887"
             ],
             [
              0.1111111111111111,
              "#46039f"
             ],
             [
              0.2222222222222222,
              "#7201a8"
             ],
             [
              0.3333333333333333,
              "#9c179e"
             ],
             [
              0.4444444444444444,
              "#bd3786"
             ],
             [
              0.5555555555555556,
              "#d8576b"
             ],
             [
              0.6666666666666666,
              "#ed7953"
             ],
             [
              0.7777777777777778,
              "#fb9f3a"
             ],
             [
              0.8888888888888888,
              "#fdca26"
             ],
             [
              1,
              "#f0f921"
             ]
            ],
            "type": "heatmap"
           }
          ],
          "heatmapgl": [
           {
            "colorbar": {
             "outlinewidth": 0,
             "ticks": ""
            },
            "colorscale": [
             [
              0,
              "#0d0887"
             ],
             [
              0.1111111111111111,
              "#46039f"
             ],
             [
              0.2222222222222222,
              "#7201a8"
             ],
             [
              0.3333333333333333,
              "#9c179e"
             ],
             [
              0.4444444444444444,
              "#bd3786"
             ],
             [
              0.5555555555555556,
              "#d8576b"
             ],
             [
              0.6666666666666666,
              "#ed7953"
             ],
             [
              0.7777777777777778,
              "#fb9f3a"
             ],
             [
              0.8888888888888888,
              "#fdca26"
             ],
             [
              1,
              "#f0f921"
             ]
            ],
            "type": "heatmapgl"
           }
          ],
          "histogram": [
           {
            "marker": {
             "pattern": {
              "fillmode": "overlay",
              "size": 10,
              "solidity": 0.2
             }
            },
            "type": "histogram"
           }
          ],
          "histogram2d": [
           {
            "colorbar": {
             "outlinewidth": 0,
             "ticks": ""
            },
            "colorscale": [
             [
              0,
              "#0d0887"
             ],
             [
              0.1111111111111111,
              "#46039f"
             ],
             [
              0.2222222222222222,
              "#7201a8"
             ],
             [
              0.3333333333333333,
              "#9c179e"
             ],
             [
              0.4444444444444444,
              "#bd3786"
             ],
             [
              0.5555555555555556,
              "#d8576b"
             ],
             [
              0.6666666666666666,
              "#ed7953"
             ],
             [
              0.7777777777777778,
              "#fb9f3a"
             ],
             [
              0.8888888888888888,
              "#fdca26"
             ],
             [
              1,
              "#f0f921"
             ]
            ],
            "type": "histogram2d"
           }
          ],
          "histogram2dcontour": [
           {
            "colorbar": {
             "outlinewidth": 0,
             "ticks": ""
            },
            "colorscale": [
             [
              0,
              "#0d0887"
             ],
             [
              0.1111111111111111,
              "#46039f"
             ],
             [
              0.2222222222222222,
              "#7201a8"
             ],
             [
              0.3333333333333333,
              "#9c179e"
             ],
             [
              0.4444444444444444,
              "#bd3786"
             ],
             [
              0.5555555555555556,
              "#d8576b"
             ],
             [
              0.6666666666666666,
              "#ed7953"
             ],
             [
              0.7777777777777778,
              "#fb9f3a"
             ],
             [
              0.8888888888888888,
              "#fdca26"
             ],
             [
              1,
              "#f0f921"
             ]
            ],
            "type": "histogram2dcontour"
           }
          ],
          "mesh3d": [
           {
            "colorbar": {
             "outlinewidth": 0,
             "ticks": ""
            },
            "type": "mesh3d"
           }
          ],
          "parcoords": [
           {
            "line": {
             "colorbar": {
              "outlinewidth": 0,
              "ticks": ""
             }
            },
            "type": "parcoords"
           }
          ],
          "pie": [
           {
            "automargin": true,
            "type": "pie"
           }
          ],
          "scatter": [
           {
            "fillpattern": {
             "fillmode": "overlay",
             "size": 10,
             "solidity": 0.2
            },
            "type": "scatter"
           }
          ],
          "scatter3d": [
           {
            "line": {
             "colorbar": {
              "outlinewidth": 0,
              "ticks": ""
             }
            },
            "marker": {
             "colorbar": {
              "outlinewidth": 0,
              "ticks": ""
             }
            },
            "type": "scatter3d"
           }
          ],
          "scattercarpet": [
           {
            "marker": {
             "colorbar": {
              "outlinewidth": 0,
              "ticks": ""
             }
            },
            "type": "scattercarpet"
           }
          ],
          "scattergeo": [
           {
            "marker": {
             "colorbar": {
              "outlinewidth": 0,
              "ticks": ""
             }
            },
            "type": "scattergeo"
           }
          ],
          "scattergl": [
           {
            "marker": {
             "colorbar": {
              "outlinewidth": 0,
              "ticks": ""
             }
            },
            "type": "scattergl"
           }
          ],
          "scattermapbox": [
           {
            "marker": {
             "colorbar": {
              "outlinewidth": 0,
              "ticks": ""
             }
            },
            "type": "scattermapbox"
           }
          ],
          "scatterpolar": [
           {
            "marker": {
             "colorbar": {
              "outlinewidth": 0,
              "ticks": ""
             }
            },
            "type": "scatterpolar"
           }
          ],
          "scatterpolargl": [
           {
            "marker": {
             "colorbar": {
              "outlinewidth": 0,
              "ticks": ""
             }
            },
            "type": "scatterpolargl"
           }
          ],
          "scatterternary": [
           {
            "marker": {
             "colorbar": {
              "outlinewidth": 0,
              "ticks": ""
             }
            },
            "type": "scatterternary"
           }
          ],
          "surface": [
           {
            "colorbar": {
             "outlinewidth": 0,
             "ticks": ""
            },
            "colorscale": [
             [
              0,
              "#0d0887"
             ],
             [
              0.1111111111111111,
              "#46039f"
             ],
             [
              0.2222222222222222,
              "#7201a8"
             ],
             [
              0.3333333333333333,
              "#9c179e"
             ],
             [
              0.4444444444444444,
              "#bd3786"
             ],
             [
              0.5555555555555556,
              "#d8576b"
             ],
             [
              0.6666666666666666,
              "#ed7953"
             ],
             [
              0.7777777777777778,
              "#fb9f3a"
             ],
             [
              0.8888888888888888,
              "#fdca26"
             ],
             [
              1,
              "#f0f921"
             ]
            ],
            "type": "surface"
           }
          ],
          "table": [
           {
            "cells": {
             "fill": {
              "color": "#EBF0F8"
             },
             "line": {
              "color": "white"
             }
            },
            "header": {
             "fill": {
              "color": "#C8D4E3"
             },
             "line": {
              "color": "white"
             }
            },
            "type": "table"
           }
          ]
         },
         "layout": {
          "annotationdefaults": {
           "arrowcolor": "#2a3f5f",
           "arrowhead": 0,
           "arrowwidth": 1
          },
          "autotypenumbers": "strict",
          "coloraxis": {
           "colorbar": {
            "outlinewidth": 0,
            "ticks": ""
           }
          },
          "colorscale": {
           "diverging": [
            [
             0,
             "#8e0152"
            ],
            [
             0.1,
             "#c51b7d"
            ],
            [
             0.2,
             "#de77ae"
            ],
            [
             0.3,
             "#f1b6da"
            ],
            [
             0.4,
             "#fde0ef"
            ],
            [
             0.5,
             "#f7f7f7"
            ],
            [
             0.6,
             "#e6f5d0"
            ],
            [
             0.7,
             "#b8e186"
            ],
            [
             0.8,
             "#7fbc41"
            ],
            [
             0.9,
             "#4d9221"
            ],
            [
             1,
             "#276419"
            ]
           ],
           "sequential": [
            [
             0,
             "#0d0887"
            ],
            [
             0.1111111111111111,
             "#46039f"
            ],
            [
             0.2222222222222222,
             "#7201a8"
            ],
            [
             0.3333333333333333,
             "#9c179e"
            ],
            [
             0.4444444444444444,
             "#bd3786"
            ],
            [
             0.5555555555555556,
             "#d8576b"
            ],
            [
             0.6666666666666666,
             "#ed7953"
            ],
            [
             0.7777777777777778,
             "#fb9f3a"
            ],
            [
             0.8888888888888888,
             "#fdca26"
            ],
            [
             1,
             "#f0f921"
            ]
           ],
           "sequentialminus": [
            [
             0,
             "#0d0887"
            ],
            [
             0.1111111111111111,
             "#46039f"
            ],
            [
             0.2222222222222222,
             "#7201a8"
            ],
            [
             0.3333333333333333,
             "#9c179e"
            ],
            [
             0.4444444444444444,
             "#bd3786"
            ],
            [
             0.5555555555555556,
             "#d8576b"
            ],
            [
             0.6666666666666666,
             "#ed7953"
            ],
            [
             0.7777777777777778,
             "#fb9f3a"
            ],
            [
             0.8888888888888888,
             "#fdca26"
            ],
            [
             1,
             "#f0f921"
            ]
           ]
          },
          "colorway": [
           "#636efa",
           "#EF553B",
           "#00cc96",
           "#ab63fa",
           "#FFA15A",
           "#19d3f3",
           "#FF6692",
           "#B6E880",
           "#FF97FF",
           "#FECB52"
          ],
          "font": {
           "color": "#2a3f5f"
          },
          "geo": {
           "bgcolor": "white",
           "lakecolor": "white",
           "landcolor": "#E5ECF6",
           "showlakes": true,
           "showland": true,
           "subunitcolor": "white"
          },
          "hoverlabel": {
           "align": "left"
          },
          "hovermode": "closest",
          "mapbox": {
           "style": "light"
          },
          "paper_bgcolor": "white",
          "plot_bgcolor": "#E5ECF6",
          "polar": {
           "angularaxis": {
            "gridcolor": "white",
            "linecolor": "white",
            "ticks": ""
           },
           "bgcolor": "#E5ECF6",
           "radialaxis": {
            "gridcolor": "white",
            "linecolor": "white",
            "ticks": ""
           }
          },
          "scene": {
           "xaxis": {
            "backgroundcolor": "#E5ECF6",
            "gridcolor": "white",
            "gridwidth": 2,
            "linecolor": "white",
            "showbackground": true,
            "ticks": "",
            "zerolinecolor": "white"
           },
           "yaxis": {
            "backgroundcolor": "#E5ECF6",
            "gridcolor": "white",
            "gridwidth": 2,
            "linecolor": "white",
            "showbackground": true,
            "ticks": "",
            "zerolinecolor": "white"
           },
           "zaxis": {
            "backgroundcolor": "#E5ECF6",
            "gridcolor": "white",
            "gridwidth": 2,
            "linecolor": "white",
            "showbackground": true,
            "ticks": "",
            "zerolinecolor": "white"
           }
          },
          "shapedefaults": {
           "line": {
            "color": "#2a3f5f"
           }
          },
          "ternary": {
           "aaxis": {
            "gridcolor": "white",
            "linecolor": "white",
            "ticks": ""
           },
           "baxis": {
            "gridcolor": "white",
            "linecolor": "white",
            "ticks": ""
           },
           "bgcolor": "#E5ECF6",
           "caxis": {
            "gridcolor": "white",
            "linecolor": "white",
            "ticks": ""
           }
          },
          "title": {
           "x": 0.05
          },
          "xaxis": {
           "automargin": true,
           "gridcolor": "white",
           "linecolor": "white",
           "ticks": "",
           "title": {
            "standoff": 15
           },
           "zerolinecolor": "white",
           "zerolinewidth": 2
          },
          "yaxis": {
           "automargin": true,
           "gridcolor": "white",
           "linecolor": "white",
           "ticks": "",
           "title": {
            "standoff": 15
           },
           "zerolinecolor": "white",
           "zerolinewidth": 2
          }
         }
        },
        "title": {
         "text": "Gun Violence Incidents by State (2013-2018)"
        },
        "width": 1000
       }
      }
     },
     "metadata": {},
     "output_type": "display_data"
    }
   ],
   "source": [
    "# Create a heat map of gun violence incidents by state\n",
    "\n",
    "# Count incidents by state\n",
    "state_counts = df['state'].value_counts().reset_index()\n",
    "state_counts.columns = ['state', 'count']\n",
    "\n",
    "# Map full state names to abbreviations\n",
    "state_abbrev = {\n",
    "    'Alabama': 'AL', 'Alaska': 'AK', 'Arizona': 'AZ', 'Arkansas': 'AR', 'California': 'CA',\n",
    "    'Colorado': 'CO', 'Connecticut': 'CT', 'Delaware': 'DE', 'Florida': 'FL', 'Georgia': 'GA',\n",
    "    'Hawaii': 'HI', 'Idaho': 'ID', 'Illinois': 'IL', 'Indiana': 'IN', 'Iowa': 'IA',\n",
    "    'Kansas': 'KS', 'Kentucky': 'KY', 'Louisiana': 'LA', 'Maine': 'ME', 'Maryland': 'MD',\n",
    "    'Massachusetts': 'MA', 'Michigan': 'MI', 'Minnesota': 'MN', 'Mississippi': 'MS', 'Missouri': 'MO',\n",
    "    'Montana': 'MT', 'Nebraska': 'NE', 'Nevada': 'NV', 'New Hampshire': 'NH', 'New Jersey': 'NJ',\n",
    "    'New Mexico': 'NM', 'New York': 'NY', 'North Carolina': 'NC', 'North Dakota': 'ND', 'Ohio': 'OH',\n",
    "    'Oklahoma': 'OK', 'Oregon': 'OR', 'Pennsylvania': 'PA', 'Rhode Island': 'RI', 'South Carolina': 'SC',\n",
    "    'South Dakota': 'SD', 'Tennessee': 'TN', 'Texas': 'TX', 'Utah': 'UT', 'Vermont': 'VT',\n",
    "    'Virginia': 'VA', 'Washington': 'WA', 'West Virginia': 'WV', 'Wisconsin': 'WI', 'Wyoming': 'WY',\n",
    "    'District of Columbia': 'DC'\n",
    "}\n",
    "\n",
    "state_counts['state_code'] = state_counts['state'].map(state_abbrev)\n",
    "\n",
    "print(f\"Top 10 states by incident count:\")\n",
    "print(state_counts.head(10))\n",
    "print(f\"\\nTotal incidents: {state_counts['count'].sum():,}\")\n",
    "\n",
    "# Create choropleth map\n",
    "fig = go.Figure(data=go.Choropleth(\n",
    "    locations=state_counts['state_code'],\n",
    "    z=state_counts['count'],\n",
    "    locationmode='USA-states',\n",
    "    colorscale='Reds',\n",
    "    colorbar_title=\"Incidents\",\n",
    "    text=state_counts['state'],\n",
    "    hovertemplate='<b>%{text}</b><br>Incidents: %{z:,}<extra></extra>'\n",
    "))\n",
    "\n",
    "fig.update_layout(\n",
    "    title_text='Gun Violence Incidents by State (2013-2018)',\n",
    "    geo_scope='usa',\n",
    "    height=600,\n",
    "    width=1000\n",
    ")\n",
    "\n",
    "fig.show()"
   ]
  },
  {
   "cell_type": "code",
   "execution_count": 165,
   "id": "meil56pnj3",
   "metadata": {},
   "outputs": [
    {
     "data": {
      "application/vnd.plotly.v1+json": {
       "config": {
        "plotlyServerURL": "https://plot.ly"
       },
       "data": [
        {
         "hovertemplate": "<b>%{x}</b><br>Incidents: %{y:,}<extra></extra>",
         "marker": {
          "color": [
           "lightblue",
           "lightgreen",
           "orange",
           "brown"
          ]
         },
         "text": [
          60038,
          61198,
          60921,
          57520
         ],
         "textposition": "auto",
         "texttemplate": "%{text:,}",
         "type": "bar",
         "x": [
          "Winter",
          "Spring",
          "Summer",
          "Fall"
         ],
         "y": [
          60038,
          61198,
          60921,
          57520
         ]
        }
       ],
       "layout": {
        "height": 500,
        "showlegend": false,
        "template": {
         "data": {
          "bar": [
           {
            "error_x": {
             "color": "#2a3f5f"
            },
            "error_y": {
             "color": "#2a3f5f"
            },
            "marker": {
             "line": {
              "color": "#E5ECF6",
              "width": 0.5
             },
             "pattern": {
              "fillmode": "overlay",
              "size": 10,
              "solidity": 0.2
             }
            },
            "type": "bar"
           }
          ],
          "barpolar": [
           {
            "marker": {
             "line": {
              "color": "#E5ECF6",
              "width": 0.5
             },
             "pattern": {
              "fillmode": "overlay",
              "size": 10,
              "solidity": 0.2
             }
            },
            "type": "barpolar"
           }
          ],
          "carpet": [
           {
            "aaxis": {
             "endlinecolor": "#2a3f5f",
             "gridcolor": "white",
             "linecolor": "white",
             "minorgridcolor": "white",
             "startlinecolor": "#2a3f5f"
            },
            "baxis": {
             "endlinecolor": "#2a3f5f",
             "gridcolor": "white",
             "linecolor": "white",
             "minorgridcolor": "white",
             "startlinecolor": "#2a3f5f"
            },
            "type": "carpet"
           }
          ],
          "choropleth": [
           {
            "colorbar": {
             "outlinewidth": 0,
             "ticks": ""
            },
            "type": "choropleth"
           }
          ],
          "contour": [
           {
            "colorbar": {
             "outlinewidth": 0,
             "ticks": ""
            },
            "colorscale": [
             [
              0,
              "#0d0887"
             ],
             [
              0.1111111111111111,
              "#46039f"
             ],
             [
              0.2222222222222222,
              "#7201a8"
             ],
             [
              0.3333333333333333,
              "#9c179e"
             ],
             [
              0.4444444444444444,
              "#bd3786"
             ],
             [
              0.5555555555555556,
              "#d8576b"
             ],
             [
              0.6666666666666666,
              "#ed7953"
             ],
             [
              0.7777777777777778,
              "#fb9f3a"
             ],
             [
              0.8888888888888888,
              "#fdca26"
             ],
             [
              1,
              "#f0f921"
             ]
            ],
            "type": "contour"
           }
          ],
          "contourcarpet": [
           {
            "colorbar": {
             "outlinewidth": 0,
             "ticks": ""
            },
            "type": "contourcarpet"
           }
          ],
          "heatmap": [
           {
            "colorbar": {
             "outlinewidth": 0,
             "ticks": ""
            },
            "colorscale": [
             [
              0,
              "#0d0887"
             ],
             [
              0.1111111111111111,
              "#46039f"
             ],
             [
              0.2222222222222222,
              "#7201a8"
             ],
             [
              0.3333333333333333,
              "#9c179e"
             ],
             [
              0.4444444444444444,
              "#bd3786"
             ],
             [
              0.5555555555555556,
              "#d8576b"
             ],
             [
              0.6666666666666666,
              "#ed7953"
             ],
             [
              0.7777777777777778,
              "#fb9f3a"
             ],
             [
              0.8888888888888888,
              "#fdca26"
             ],
             [
              1,
              "#f0f921"
             ]
            ],
            "type": "heatmap"
           }
          ],
          "heatmapgl": [
           {
            "colorbar": {
             "outlinewidth": 0,
             "ticks": ""
            },
            "colorscale": [
             [
              0,
              "#0d0887"
             ],
             [
              0.1111111111111111,
              "#46039f"
             ],
             [
              0.2222222222222222,
              "#7201a8"
             ],
             [
              0.3333333333333333,
              "#9c179e"
             ],
             [
              0.4444444444444444,
              "#bd3786"
             ],
             [
              0.5555555555555556,
              "#d8576b"
             ],
             [
              0.6666666666666666,
              "#ed7953"
             ],
             [
              0.7777777777777778,
              "#fb9f3a"
             ],
             [
              0.8888888888888888,
              "#fdca26"
             ],
             [
              1,
              "#f0f921"
             ]
            ],
            "type": "heatmapgl"
           }
          ],
          "histogram": [
           {
            "marker": {
             "pattern": {
              "fillmode": "overlay",
              "size": 10,
              "solidity": 0.2
             }
            },
            "type": "histogram"
           }
          ],
          "histogram2d": [
           {
            "colorbar": {
             "outlinewidth": 0,
             "ticks": ""
            },
            "colorscale": [
             [
              0,
              "#0d0887"
             ],
             [
              0.1111111111111111,
              "#46039f"
             ],
             [
              0.2222222222222222,
              "#7201a8"
             ],
             [
              0.3333333333333333,
              "#9c179e"
             ],
             [
              0.4444444444444444,
              "#bd3786"
             ],
             [
              0.5555555555555556,
              "#d8576b"
             ],
             [
              0.6666666666666666,
              "#ed7953"
             ],
             [
              0.7777777777777778,
              "#fb9f3a"
             ],
             [
              0.8888888888888888,
              "#fdca26"
             ],
             [
              1,
              "#f0f921"
             ]
            ],
            "type": "histogram2d"
           }
          ],
          "histogram2dcontour": [
           {
            "colorbar": {
             "outlinewidth": 0,
             "ticks": ""
            },
            "colorscale": [
             [
              0,
              "#0d0887"
             ],
             [
              0.1111111111111111,
              "#46039f"
             ],
             [
              0.2222222222222222,
              "#7201a8"
             ],
             [
              0.3333333333333333,
              "#9c179e"
             ],
             [
              0.4444444444444444,
              "#bd3786"
             ],
             [
              0.5555555555555556,
              "#d8576b"
             ],
             [
              0.6666666666666666,
              "#ed7953"
             ],
             [
              0.7777777777777778,
              "#fb9f3a"
             ],
             [
              0.8888888888888888,
              "#fdca26"
             ],
             [
              1,
              "#f0f921"
             ]
            ],
            "type": "histogram2dcontour"
           }
          ],
          "mesh3d": [
           {
            "colorbar": {
             "outlinewidth": 0,
             "ticks": ""
            },
            "type": "mesh3d"
           }
          ],
          "parcoords": [
           {
            "line": {
             "colorbar": {
              "outlinewidth": 0,
              "ticks": ""
             }
            },
            "type": "parcoords"
           }
          ],
          "pie": [
           {
            "automargin": true,
            "type": "pie"
           }
          ],
          "scatter": [
           {
            "fillpattern": {
             "fillmode": "overlay",
             "size": 10,
             "solidity": 0.2
            },
            "type": "scatter"
           }
          ],
          "scatter3d": [
           {
            "line": {
             "colorbar": {
              "outlinewidth": 0,
              "ticks": ""
             }
            },
            "marker": {
             "colorbar": {
              "outlinewidth": 0,
              "ticks": ""
             }
            },
            "type": "scatter3d"
           }
          ],
          "scattercarpet": [
           {
            "marker": {
             "colorbar": {
              "outlinewidth": 0,
              "ticks": ""
             }
            },
            "type": "scattercarpet"
           }
          ],
          "scattergeo": [
           {
            "marker": {
             "colorbar": {
              "outlinewidth": 0,
              "ticks": ""
             }
            },
            "type": "scattergeo"
           }
          ],
          "scattergl": [
           {
            "marker": {
             "colorbar": {
              "outlinewidth": 0,
              "ticks": ""
             }
            },
            "type": "scattergl"
           }
          ],
          "scattermapbox": [
           {
            "marker": {
             "colorbar": {
              "outlinewidth": 0,
              "ticks": ""
             }
            },
            "type": "scattermapbox"
           }
          ],
          "scatterpolar": [
           {
            "marker": {
             "colorbar": {
              "outlinewidth": 0,
              "ticks": ""
             }
            },
            "type": "scatterpolar"
           }
          ],
          "scatterpolargl": [
           {
            "marker": {
             "colorbar": {
              "outlinewidth": 0,
              "ticks": ""
             }
            },
            "type": "scatterpolargl"
           }
          ],
          "scatterternary": [
           {
            "marker": {
             "colorbar": {
              "outlinewidth": 0,
              "ticks": ""
             }
            },
            "type": "scatterternary"
           }
          ],
          "surface": [
           {
            "colorbar": {
             "outlinewidth": 0,
             "ticks": ""
            },
            "colorscale": [
             [
              0,
              "#0d0887"
             ],
             [
              0.1111111111111111,
              "#46039f"
             ],
             [
              0.2222222222222222,
              "#7201a8"
             ],
             [
              0.3333333333333333,
              "#9c179e"
             ],
             [
              0.4444444444444444,
              "#bd3786"
             ],
             [
              0.5555555555555556,
              "#d8576b"
             ],
             [
              0.6666666666666666,
              "#ed7953"
             ],
             [
              0.7777777777777778,
              "#fb9f3a"
             ],
             [
              0.8888888888888888,
              "#fdca26"
             ],
             [
              1,
              "#f0f921"
             ]
            ],
            "type": "surface"
           }
          ],
          "table": [
           {
            "cells": {
             "fill": {
              "color": "#EBF0F8"
             },
             "line": {
              "color": "white"
             }
            },
            "header": {
             "fill": {
              "color": "#C8D4E3"
             },
             "line": {
              "color": "white"
             }
            },
            "type": "table"
           }
          ]
         },
         "layout": {
          "annotationdefaults": {
           "arrowcolor": "#2a3f5f",
           "arrowhead": 0,
           "arrowwidth": 1
          },
          "autotypenumbers": "strict",
          "coloraxis": {
           "colorbar": {
            "outlinewidth": 0,
            "ticks": ""
           }
          },
          "colorscale": {
           "diverging": [
            [
             0,
             "#8e0152"
            ],
            [
             0.1,
             "#c51b7d"
            ],
            [
             0.2,
             "#de77ae"
            ],
            [
             0.3,
             "#f1b6da"
            ],
            [
             0.4,
             "#fde0ef"
            ],
            [
             0.5,
             "#f7f7f7"
            ],
            [
             0.6,
             "#e6f5d0"
            ],
            [
             0.7,
             "#b8e186"
            ],
            [
             0.8,
             "#7fbc41"
            ],
            [
             0.9,
             "#4d9221"
            ],
            [
             1,
             "#276419"
            ]
           ],
           "sequential": [
            [
             0,
             "#0d0887"
            ],
            [
             0.1111111111111111,
             "#46039f"
            ],
            [
             0.2222222222222222,
             "#7201a8"
            ],
            [
             0.3333333333333333,
             "#9c179e"
            ],
            [
             0.4444444444444444,
             "#bd3786"
            ],
            [
             0.5555555555555556,
             "#d8576b"
            ],
            [
             0.6666666666666666,
             "#ed7953"
            ],
            [
             0.7777777777777778,
             "#fb9f3a"
            ],
            [
             0.8888888888888888,
             "#fdca26"
            ],
            [
             1,
             "#f0f921"
            ]
           ],
           "sequentialminus": [
            [
             0,
             "#0d0887"
            ],
            [
             0.1111111111111111,
             "#46039f"
            ],
            [
             0.2222222222222222,
             "#7201a8"
            ],
            [
             0.3333333333333333,
             "#9c179e"
            ],
            [
             0.4444444444444444,
             "#bd3786"
            ],
            [
             0.5555555555555556,
             "#d8576b"
            ],
            [
             0.6666666666666666,
             "#ed7953"
            ],
            [
             0.7777777777777778,
             "#fb9f3a"
            ],
            [
             0.8888888888888888,
             "#fdca26"
            ],
            [
             1,
             "#f0f921"
            ]
           ]
          },
          "colorway": [
           "#636efa",
           "#EF553B",
           "#00cc96",
           "#ab63fa",
           "#FFA15A",
           "#19d3f3",
           "#FF6692",
           "#B6E880",
           "#FF97FF",
           "#FECB52"
          ],
          "font": {
           "color": "#2a3f5f"
          },
          "geo": {
           "bgcolor": "white",
           "lakecolor": "white",
           "landcolor": "#E5ECF6",
           "showlakes": true,
           "showland": true,
           "subunitcolor": "white"
          },
          "hoverlabel": {
           "align": "left"
          },
          "hovermode": "closest",
          "mapbox": {
           "style": "light"
          },
          "paper_bgcolor": "white",
          "plot_bgcolor": "#E5ECF6",
          "polar": {
           "angularaxis": {
            "gridcolor": "white",
            "linecolor": "white",
            "ticks": ""
           },
           "bgcolor": "#E5ECF6",
           "radialaxis": {
            "gridcolor": "white",
            "linecolor": "white",
            "ticks": ""
           }
          },
          "scene": {
           "xaxis": {
            "backgroundcolor": "#E5ECF6",
            "gridcolor": "white",
            "gridwidth": 2,
            "linecolor": "white",
            "showbackground": true,
            "ticks": "",
            "zerolinecolor": "white"
           },
           "yaxis": {
            "backgroundcolor": "#E5ECF6",
            "gridcolor": "white",
            "gridwidth": 2,
            "linecolor": "white",
            "showbackground": true,
            "ticks": "",
            "zerolinecolor": "white"
           },
           "zaxis": {
            "backgroundcolor": "#E5ECF6",
            "gridcolor": "white",
            "gridwidth": 2,
            "linecolor": "white",
            "showbackground": true,
            "ticks": "",
            "zerolinecolor": "white"
           }
          },
          "shapedefaults": {
           "line": {
            "color": "#2a3f5f"
           }
          },
          "ternary": {
           "aaxis": {
            "gridcolor": "white",
            "linecolor": "white",
            "ticks": ""
           },
           "baxis": {
            "gridcolor": "white",
            "linecolor": "white",
            "ticks": ""
           },
           "bgcolor": "#E5ECF6",
           "caxis": {
            "gridcolor": "white",
            "linecolor": "white",
            "ticks": ""
           }
          },
          "title": {
           "x": 0.05
          },
          "xaxis": {
           "automargin": true,
           "gridcolor": "white",
           "linecolor": "white",
           "ticks": "",
           "title": {
            "standoff": 15
           },
           "zerolinecolor": "white",
           "zerolinewidth": 2
          },
          "yaxis": {
           "automargin": true,
           "gridcolor": "white",
           "linecolor": "white",
           "ticks": "",
           "title": {
            "standoff": 15
           },
           "zerolinecolor": "white",
           "zerolinewidth": 2
          }
         }
        },
        "title": {
         "text": "Gun Violence Incidents by Season (2013-2018)"
        },
        "width": 800,
        "xaxis": {
         "title": {
          "text": "Season"
         }
        },
        "yaxis": {
         "title": {
          "text": "Number of Incidents"
         }
        }
       }
      }
     },
     "metadata": {},
     "output_type": "display_data"
    },
    {
     "name": "stdout",
     "output_type": "stream",
     "text": [
      "\n",
      "Incident counts by season:\n",
      "Winter: 60,038\n",
      "Spring: 61,198\n",
      "Summer: 60,921\n",
      "Fall: 57,520\n"
     ]
    }
   ],
   "source": [
    "# Create a function to determine season from date\n",
    "def get_season(date_str):\n",
    "    month = pd.to_datetime(date_str).month\n",
    "    if month in [12, 1, 2]:\n",
    "        return 'Winter'\n",
    "    elif month in [3, 4, 5]:\n",
    "        return 'Spring'\n",
    "    elif month in [6, 7, 8]:\n",
    "        return 'Summer'\n",
    "    else:  # month in [9, 10, 11]\n",
    "        return 'Fall'\n",
    "\n",
    "# Apply the function to create season column\n",
    "df['season'] = df['date'].apply(get_season)\n",
    "\n",
    "# Count incidents by season\n",
    "season_counts = df['season'].value_counts().reindex(['Winter', 'Spring', 'Summer', 'Fall'])\n",
    "\n",
    "# Create bar chart\n",
    "fig = go.Figure(data=[\n",
    "    go.Bar(\n",
    "        x=season_counts.index,\n",
    "        y=season_counts.values,\n",
    "        marker_color=['lightblue', 'lightgreen', 'orange', 'brown'],\n",
    "        text=season_counts.values,\n",
    "        textposition='auto',\n",
    "        texttemplate='%{text:,}',\n",
    "        hovertemplate='<b>%{x}</b><br>Incidents: %{y:,}<extra></extra>'\n",
    "    )\n",
    "])\n",
    "\n",
    "fig.update_layout(\n",
    "    title='Gun Violence Incidents by Season (2013-2018)',\n",
    "    xaxis_title='Season',\n",
    "    yaxis_title='Number of Incidents',\n",
    "    height=500,\n",
    "    width=800,\n",
    "    showlegend=False\n",
    ")\n",
    "\n",
    "fig.show()\n",
    "\n",
    "print(f\"\\nIncident counts by season:\")\n",
    "for season, count in season_counts.items():\n",
    "    print(f\"{season}: {count:,}\")"
   ]
  },
  {
   "cell_type": "code",
   "execution_count": 166,
   "id": "8wzw389hon6",
   "metadata": {},
   "outputs": [
    {
     "name": "stdout",
     "output_type": "stream",
     "text": [
      "Incident counts by region:\n",
      "South: 106,664\n",
      "Midwest: 61,044\n",
      "Northeast: 36,314\n",
      "West: 35,655\n"
     ]
    },
    {
     "data": {
      "application/vnd.plotly.v1+json": {
       "config": {
        "plotlyServerURL": "https://plot.ly"
       },
       "data": [
        {
         "colorscale": [
          [
           0,
           "lightblue"
          ],
          [
           0.33,
           "lightgreen"
          ],
          [
           0.66,
           "lightyellow"
          ],
          [
           1,
           "lightcoral"
          ]
         ],
         "customdata": [
          1349,
          5471,
          2842,
          2328,
          16306,
          3201,
          3067,
          3195,
          1685,
          15029,
          8925,
          289,
          2517,
          661,
          17556,
          5852,
          2145,
          4157,
          8103,
          5981,
          5798,
          907,
          6136,
          2408,
          6631,
          3599,
          638,
          8739,
          573,
          1651,
          964,
          5387,
          1645,
          1952,
          9712,
          10244,
          3455,
          2286,
          8929,
          895,
          6939,
          544,
          7626,
          13577,
          1072,
          5949,
          472,
          3434,
          4787,
          1575,
          494
         ],
         "hovertemplate": "<b>%{location}</b><br>Region: %{text}<br>Incidents: %{customdata:,}<extra></extra>",
         "locationmode": "USA-states",
         "locations": [
          "AK",
          "AL",
          "AR",
          "AZ",
          "CA",
          "CO",
          "CT",
          "DC",
          "DE",
          "FL",
          "GA",
          "HI",
          "IA",
          "ID",
          "IL",
          "IN",
          "KS",
          "KY",
          "LA",
          "MA",
          "MD",
          "ME",
          "MI",
          "MN",
          "MO",
          "MS",
          "MT",
          "NC",
          "ND",
          "NE",
          "NH",
          "NJ",
          "NM",
          "NV",
          "NY",
          "OH",
          "OK",
          "OR",
          "PA",
          "RI",
          "SC",
          "SD",
          "TN",
          "TX",
          "UT",
          "VA",
          "VT",
          "WA",
          "WI",
          "WV",
          "WY"
         ],
         "showscale": false,
         "text": [
          "West",
          "South",
          "South",
          "West",
          "West",
          "West",
          "Northeast",
          "South",
          "South",
          "South",
          "South",
          "West",
          "Midwest",
          "West",
          "Midwest",
          "Midwest",
          "Midwest",
          "South",
          "South",
          "Northeast",
          "South",
          "Northeast",
          "Midwest",
          "Midwest",
          "Midwest",
          "South",
          "West",
          "South",
          "Midwest",
          "Midwest",
          "Northeast",
          "Northeast",
          "West",
          "West",
          "Northeast",
          "Midwest",
          "South",
          "West",
          "Northeast",
          "Northeast",
          "South",
          "Midwest",
          "South",
          "South",
          "West",
          "South",
          "Northeast",
          "West",
          "Midwest",
          "South",
          "West"
         ],
         "type": "choropleth",
         "z": [
          4,
          3,
          3,
          4,
          4,
          4,
          1,
          3,
          3,
          3,
          3,
          4,
          2,
          4,
          2,
          2,
          2,
          3,
          3,
          1,
          3,
          1,
          2,
          2,
          2,
          3,
          4,
          3,
          2,
          2,
          1,
          1,
          4,
          4,
          1,
          2,
          3,
          4,
          1,
          1,
          3,
          2,
          3,
          3,
          4,
          3,
          1,
          4,
          2,
          3,
          4
         ]
        }
       ],
       "layout": {
        "annotations": [
         {
          "font": {
           "size": 12
          },
          "showarrow": false,
          "text": "Northeast (Blue) | Midwest (Green) | South (Yellow) | West (Red)",
          "x": 0.5,
          "xref": "paper",
          "y": -0.1,
          "yref": "paper"
         }
        ],
        "geo": {
         "scope": "usa"
        },
        "height": 600,
        "template": {
         "data": {
          "bar": [
           {
            "error_x": {
             "color": "#2a3f5f"
            },
            "error_y": {
             "color": "#2a3f5f"
            },
            "marker": {
             "line": {
              "color": "#E5ECF6",
              "width": 0.5
             },
             "pattern": {
              "fillmode": "overlay",
              "size": 10,
              "solidity": 0.2
             }
            },
            "type": "bar"
           }
          ],
          "barpolar": [
           {
            "marker": {
             "line": {
              "color": "#E5ECF6",
              "width": 0.5
             },
             "pattern": {
              "fillmode": "overlay",
              "size": 10,
              "solidity": 0.2
             }
            },
            "type": "barpolar"
           }
          ],
          "carpet": [
           {
            "aaxis": {
             "endlinecolor": "#2a3f5f",
             "gridcolor": "white",
             "linecolor": "white",
             "minorgridcolor": "white",
             "startlinecolor": "#2a3f5f"
            },
            "baxis": {
             "endlinecolor": "#2a3f5f",
             "gridcolor": "white",
             "linecolor": "white",
             "minorgridcolor": "white",
             "startlinecolor": "#2a3f5f"
            },
            "type": "carpet"
           }
          ],
          "choropleth": [
           {
            "colorbar": {
             "outlinewidth": 0,
             "ticks": ""
            },
            "type": "choropleth"
           }
          ],
          "contour": [
           {
            "colorbar": {
             "outlinewidth": 0,
             "ticks": ""
            },
            "colorscale": [
             [
              0,
              "#0d0887"
             ],
             [
              0.1111111111111111,
              "#46039f"
             ],
             [
              0.2222222222222222,
              "#7201a8"
             ],
             [
              0.3333333333333333,
              "#9c179e"
             ],
             [
              0.4444444444444444,
              "#bd3786"
             ],
             [
              0.5555555555555556,
              "#d8576b"
             ],
             [
              0.6666666666666666,
              "#ed7953"
             ],
             [
              0.7777777777777778,
              "#fb9f3a"
             ],
             [
              0.8888888888888888,
              "#fdca26"
             ],
             [
              1,
              "#f0f921"
             ]
            ],
            "type": "contour"
           }
          ],
          "contourcarpet": [
           {
            "colorbar": {
             "outlinewidth": 0,
             "ticks": ""
            },
            "type": "contourcarpet"
           }
          ],
          "heatmap": [
           {
            "colorbar": {
             "outlinewidth": 0,
             "ticks": ""
            },
            "colorscale": [
             [
              0,
              "#0d0887"
             ],
             [
              0.1111111111111111,
              "#46039f"
             ],
             [
              0.2222222222222222,
              "#7201a8"
             ],
             [
              0.3333333333333333,
              "#9c179e"
             ],
             [
              0.4444444444444444,
              "#bd3786"
             ],
             [
              0.5555555555555556,
              "#d8576b"
             ],
             [
              0.6666666666666666,
              "#ed7953"
             ],
             [
              0.7777777777777778,
              "#fb9f3a"
             ],
             [
              0.8888888888888888,
              "#fdca26"
             ],
             [
              1,
              "#f0f921"
             ]
            ],
            "type": "heatmap"
           }
          ],
          "heatmapgl": [
           {
            "colorbar": {
             "outlinewidth": 0,
             "ticks": ""
            },
            "colorscale": [
             [
              0,
              "#0d0887"
             ],
             [
              0.1111111111111111,
              "#46039f"
             ],
             [
              0.2222222222222222,
              "#7201a8"
             ],
             [
              0.3333333333333333,
              "#9c179e"
             ],
             [
              0.4444444444444444,
              "#bd3786"
             ],
             [
              0.5555555555555556,
              "#d8576b"
             ],
             [
              0.6666666666666666,
              "#ed7953"
             ],
             [
              0.7777777777777778,
              "#fb9f3a"
             ],
             [
              0.8888888888888888,
              "#fdca26"
             ],
             [
              1,
              "#f0f921"
             ]
            ],
            "type": "heatmapgl"
           }
          ],
          "histogram": [
           {
            "marker": {
             "pattern": {
              "fillmode": "overlay",
              "size": 10,
              "solidity": 0.2
             }
            },
            "type": "histogram"
           }
          ],
          "histogram2d": [
           {
            "colorbar": {
             "outlinewidth": 0,
             "ticks": ""
            },
            "colorscale": [
             [
              0,
              "#0d0887"
             ],
             [
              0.1111111111111111,
              "#46039f"
             ],
             [
              0.2222222222222222,
              "#7201a8"
             ],
             [
              0.3333333333333333,
              "#9c179e"
             ],
             [
              0.4444444444444444,
              "#bd3786"
             ],
             [
              0.5555555555555556,
              "#d8576b"
             ],
             [
              0.6666666666666666,
              "#ed7953"
             ],
             [
              0.7777777777777778,
              "#fb9f3a"
             ],
             [
              0.8888888888888888,
              "#fdca26"
             ],
             [
              1,
              "#f0f921"
             ]
            ],
            "type": "histogram2d"
           }
          ],
          "histogram2dcontour": [
           {
            "colorbar": {
             "outlinewidth": 0,
             "ticks": ""
            },
            "colorscale": [
             [
              0,
              "#0d0887"
             ],
             [
              0.1111111111111111,
              "#46039f"
             ],
             [
              0.2222222222222222,
              "#7201a8"
             ],
             [
              0.3333333333333333,
              "#9c179e"
             ],
             [
              0.4444444444444444,
              "#bd3786"
             ],
             [
              0.5555555555555556,
              "#d8576b"
             ],
             [
              0.6666666666666666,
              "#ed7953"
             ],
             [
              0.7777777777777778,
              "#fb9f3a"
             ],
             [
              0.8888888888888888,
              "#fdca26"
             ],
             [
              1,
              "#f0f921"
             ]
            ],
            "type": "histogram2dcontour"
           }
          ],
          "mesh3d": [
           {
            "colorbar": {
             "outlinewidth": 0,
             "ticks": ""
            },
            "type": "mesh3d"
           }
          ],
          "parcoords": [
           {
            "line": {
             "colorbar": {
              "outlinewidth": 0,
              "ticks": ""
             }
            },
            "type": "parcoords"
           }
          ],
          "pie": [
           {
            "automargin": true,
            "type": "pie"
           }
          ],
          "scatter": [
           {
            "fillpattern": {
             "fillmode": "overlay",
             "size": 10,
             "solidity": 0.2
            },
            "type": "scatter"
           }
          ],
          "scatter3d": [
           {
            "line": {
             "colorbar": {
              "outlinewidth": 0,
              "ticks": ""
             }
            },
            "marker": {
             "colorbar": {
              "outlinewidth": 0,
              "ticks": ""
             }
            },
            "type": "scatter3d"
           }
          ],
          "scattercarpet": [
           {
            "marker": {
             "colorbar": {
              "outlinewidth": 0,
              "ticks": ""
             }
            },
            "type": "scattercarpet"
           }
          ],
          "scattergeo": [
           {
            "marker": {
             "colorbar": {
              "outlinewidth": 0,
              "ticks": ""
             }
            },
            "type": "scattergeo"
           }
          ],
          "scattergl": [
           {
            "marker": {
             "colorbar": {
              "outlinewidth": 0,
              "ticks": ""
             }
            },
            "type": "scattergl"
           }
          ],
          "scattermapbox": [
           {
            "marker": {
             "colorbar": {
              "outlinewidth": 0,
              "ticks": ""
             }
            },
            "type": "scattermapbox"
           }
          ],
          "scatterpolar": [
           {
            "marker": {
             "colorbar": {
              "outlinewidth": 0,
              "ticks": ""
             }
            },
            "type": "scatterpolar"
           }
          ],
          "scatterpolargl": [
           {
            "marker": {
             "colorbar": {
              "outlinewidth": 0,
              "ticks": ""
             }
            },
            "type": "scatterpolargl"
           }
          ],
          "scatterternary": [
           {
            "marker": {
             "colorbar": {
              "outlinewidth": 0,
              "ticks": ""
             }
            },
            "type": "scatterternary"
           }
          ],
          "surface": [
           {
            "colorbar": {
             "outlinewidth": 0,
             "ticks": ""
            },
            "colorscale": [
             [
              0,
              "#0d0887"
             ],
             [
              0.1111111111111111,
              "#46039f"
             ],
             [
              0.2222222222222222,
              "#7201a8"
             ],
             [
              0.3333333333333333,
              "#9c179e"
             ],
             [
              0.4444444444444444,
              "#bd3786"
             ],
             [
              0.5555555555555556,
              "#d8576b"
             ],
             [
              0.6666666666666666,
              "#ed7953"
             ],
             [
              0.7777777777777778,
              "#fb9f3a"
             ],
             [
              0.8888888888888888,
              "#fdca26"
             ],
             [
              1,
              "#f0f921"
             ]
            ],
            "type": "surface"
           }
          ],
          "table": [
           {
            "cells": {
             "fill": {
              "color": "#EBF0F8"
             },
             "line": {
              "color": "white"
             }
            },
            "header": {
             "fill": {
              "color": "#C8D4E3"
             },
             "line": {
              "color": "white"
             }
            },
            "type": "table"
           }
          ]
         },
         "layout": {
          "annotationdefaults": {
           "arrowcolor": "#2a3f5f",
           "arrowhead": 0,
           "arrowwidth": 1
          },
          "autotypenumbers": "strict",
          "coloraxis": {
           "colorbar": {
            "outlinewidth": 0,
            "ticks": ""
           }
          },
          "colorscale": {
           "diverging": [
            [
             0,
             "#8e0152"
            ],
            [
             0.1,
             "#c51b7d"
            ],
            [
             0.2,
             "#de77ae"
            ],
            [
             0.3,
             "#f1b6da"
            ],
            [
             0.4,
             "#fde0ef"
            ],
            [
             0.5,
             "#f7f7f7"
            ],
            [
             0.6,
             "#e6f5d0"
            ],
            [
             0.7,
             "#b8e186"
            ],
            [
             0.8,
             "#7fbc41"
            ],
            [
             0.9,
             "#4d9221"
            ],
            [
             1,
             "#276419"
            ]
           ],
           "sequential": [
            [
             0,
             "#0d0887"
            ],
            [
             0.1111111111111111,
             "#46039f"
            ],
            [
             0.2222222222222222,
             "#7201a8"
            ],
            [
             0.3333333333333333,
             "#9c179e"
            ],
            [
             0.4444444444444444,
             "#bd3786"
            ],
            [
             0.5555555555555556,
             "#d8576b"
            ],
            [
             0.6666666666666666,
             "#ed7953"
            ],
            [
             0.7777777777777778,
             "#fb9f3a"
            ],
            [
             0.8888888888888888,
             "#fdca26"
            ],
            [
             1,
             "#f0f921"
            ]
           ],
           "sequentialminus": [
            [
             0,
             "#0d0887"
            ],
            [
             0.1111111111111111,
             "#46039f"
            ],
            [
             0.2222222222222222,
             "#7201a8"
            ],
            [
             0.3333333333333333,
             "#9c179e"
            ],
            [
             0.4444444444444444,
             "#bd3786"
            ],
            [
             0.5555555555555556,
             "#d8576b"
            ],
            [
             0.6666666666666666,
             "#ed7953"
            ],
            [
             0.7777777777777778,
             "#fb9f3a"
            ],
            [
             0.8888888888888888,
             "#fdca26"
            ],
            [
             1,
             "#f0f921"
            ]
           ]
          },
          "colorway": [
           "#636efa",
           "#EF553B",
           "#00cc96",
           "#ab63fa",
           "#FFA15A",
           "#19d3f3",
           "#FF6692",
           "#B6E880",
           "#FF97FF",
           "#FECB52"
          ],
          "font": {
           "color": "#2a3f5f"
          },
          "geo": {
           "bgcolor": "white",
           "lakecolor": "white",
           "landcolor": "#E5ECF6",
           "showlakes": true,
           "showland": true,
           "subunitcolor": "white"
          },
          "hoverlabel": {
           "align": "left"
          },
          "hovermode": "closest",
          "mapbox": {
           "style": "light"
          },
          "paper_bgcolor": "white",
          "plot_bgcolor": "#E5ECF6",
          "polar": {
           "angularaxis": {
            "gridcolor": "white",
            "linecolor": "white",
            "ticks": ""
           },
           "bgcolor": "#E5ECF6",
           "radialaxis": {
            "gridcolor": "white",
            "linecolor": "white",
            "ticks": ""
           }
          },
          "scene": {
           "xaxis": {
            "backgroundcolor": "#E5ECF6",
            "gridcolor": "white",
            "gridwidth": 2,
            "linecolor": "white",
            "showbackground": true,
            "ticks": "",
            "zerolinecolor": "white"
           },
           "yaxis": {
            "backgroundcolor": "#E5ECF6",
            "gridcolor": "white",
            "gridwidth": 2,
            "linecolor": "white",
            "showbackground": true,
            "ticks": "",
            "zerolinecolor": "white"
           },
           "zaxis": {
            "backgroundcolor": "#E5ECF6",
            "gridcolor": "white",
            "gridwidth": 2,
            "linecolor": "white",
            "showbackground": true,
            "ticks": "",
            "zerolinecolor": "white"
           }
          },
          "shapedefaults": {
           "line": {
            "color": "#2a3f5f"
           }
          },
          "ternary": {
           "aaxis": {
            "gridcolor": "white",
            "linecolor": "white",
            "ticks": ""
           },
           "baxis": {
            "gridcolor": "white",
            "linecolor": "white",
            "ticks": ""
           },
           "bgcolor": "#E5ECF6",
           "caxis": {
            "gridcolor": "white",
            "linecolor": "white",
            "ticks": ""
           }
          },
          "title": {
           "x": 0.05
          },
          "xaxis": {
           "automargin": true,
           "gridcolor": "white",
           "linecolor": "white",
           "ticks": "",
           "title": {
            "standoff": 15
           },
           "zerolinecolor": "white",
           "zerolinewidth": 2
          },
          "yaxis": {
           "automargin": true,
           "gridcolor": "white",
           "linecolor": "white",
           "ticks": "",
           "title": {
            "standoff": 15
           },
           "zerolinecolor": "white",
           "zerolinewidth": 2
          }
         }
        },
        "title": {
         "text": "Gun Violence Incidents by US Region (2013-2018)"
        },
        "width": 1000
       }
      }
     },
     "metadata": {},
     "output_type": "display_data"
    },
    {
     "name": "stdout",
     "output_type": "stream",
     "text": [
      "\n",
      "Total incidents: 239,677\n"
     ]
    }
   ],
   "source": [
    "# Define US regions\n",
    "state_to_region = {\n",
    "    # Northeast\n",
    "    'Connecticut': 'Northeast', 'Maine': 'Northeast', 'Massachusetts': 'Northeast',\n",
    "    'New Hampshire': 'Northeast', 'Rhode Island': 'Northeast', 'Vermont': 'Northeast',\n",
    "    'New Jersey': 'Northeast', 'New York': 'Northeast', 'Pennsylvania': 'Northeast',\n",
    "    \n",
    "    # Midwest\n",
    "    'Illinois': 'Midwest', 'Indiana': 'Midwest', 'Michigan': 'Midwest', 'Ohio': 'Midwest',\n",
    "    'Wisconsin': 'Midwest', 'Iowa': 'Midwest', 'Kansas': 'Midwest', 'Minnesota': 'Midwest',\n",
    "    'Missouri': 'Midwest', 'Nebraska': 'Midwest', 'North Dakota': 'Midwest', 'South Dakota': 'Midwest',\n",
    "    \n",
    "    # South\n",
    "    'Delaware': 'South', 'Florida': 'South', 'Georgia': 'South', 'Maryland': 'South',\n",
    "    'North Carolina': 'South', 'South Carolina': 'South', 'Virginia': 'South',\n",
    "    'District of Columbia': 'South', 'West Virginia': 'South', 'Alabama': 'South',\n",
    "    'Kentucky': 'South', 'Mississippi': 'South', 'Tennessee': 'South', 'Arkansas': 'South',\n",
    "    'Louisiana': 'South', 'Oklahoma': 'South', 'Texas': 'South',\n",
    "    \n",
    "    # West\n",
    "    'Arizona': 'West', 'Colorado': 'West', 'Idaho': 'West', 'Montana': 'West',\n",
    "    'Nevada': 'West', 'New Mexico': 'West', 'Utah': 'West', 'Wyoming': 'West',\n",
    "    'Alaska': 'West', 'California': 'West', 'Hawaii': 'West', 'Oregon': 'West',\n",
    "    'Washington': 'West'\n",
    "}\n",
    "\n",
    "# Add region column to dataframe\n",
    "df['region'] = df['state'].map(state_to_region)\n",
    "\n",
    "# Count incidents by region\n",
    "region_counts = df['region'].value_counts().reset_index()\n",
    "region_counts.columns = ['region', 'count']\n",
    "\n",
    "print(\"Incident counts by region:\")\n",
    "for idx, row in region_counts.iterrows():\n",
    "    print(f\"{row['region']}: {row['count']:,}\")\n",
    "\n",
    "# For the map, we need to show regions by coloring states\n",
    "# Create a dataframe with state codes and their region counts\n",
    "df['state_code'] = df['state'].map(state_abbrev)\n",
    "\n",
    "# Get total region count for each state\n",
    "state_region_counts = df.groupby(['state_code', 'region']).size().reset_index(name='count')\n",
    "\n",
    "# Create choropleth map colored by region\n",
    "# We'll use the region as the color, but show incident count in hover\n",
    "region_colors = {'Northeast': 1, 'Midwest': 2, 'South': 3, 'West': 4}\n",
    "state_region_counts['region_num'] = state_region_counts['region'].map(region_colors)\n",
    "\n",
    "fig = go.Figure(data=go.Choropleth(\n",
    "    locations=state_region_counts['state_code'],\n",
    "    z=state_region_counts['region_num'],\n",
    "    locationmode='USA-states',\n",
    "    colorscale=[[0, 'lightblue'], [0.33, 'lightgreen'], [0.66, 'lightyellow'], [1, 'lightcoral']],\n",
    "    showscale=False,\n",
    "    text=state_region_counts['region'],\n",
    "    customdata=state_region_counts['count'],\n",
    "    hovertemplate='<b>%{location}</b><br>Region: %{text}<br>Incidents: %{customdata:,}<extra></extra>'\n",
    "))\n",
    "\n",
    "fig.update_layout(\n",
    "    title_text='Gun Violence Incidents by US Region (2013-2018)',\n",
    "    geo_scope='usa',\n",
    "    height=600,\n",
    "    width=1000,\n",
    "    annotations=[\n",
    "        dict(\n",
    "            x=0.5, y=-0.1,\n",
    "            xref='paper', yref='paper',\n",
    "            text='Northeast (Blue) | Midwest (Green) | South (Yellow) | West (Red)',\n",
    "            showarrow=False,\n",
    "            font=dict(size=12)\n",
    "        )\n",
    "    ]\n",
    ")\n",
    "\n",
    "fig.show()\n",
    "\n",
    "print(f\"\\nTotal incidents: {region_counts['count'].sum():,}\")"
   ]
  },
  {
   "cell_type": "code",
   "execution_count": 167,
   "id": "cp0bv38eksr",
   "metadata": {},
   "outputs": [
    {
     "data": {
      "application/vnd.plotly.v1+json": {
       "config": {
        "plotlyServerURL": "https://plot.ly"
       },
       "data": [
        {
         "hovertemplate": "<b>%{x}</b><br>Incidents: %{y:,}<extra></extra>",
         "marker": {
          "color": [
           "lightblue",
           "lightgreen",
           "lightyellow",
           "lightcoral"
          ]
         },
         "text": [
          36314,
          61044,
          106664,
          35655
         ],
         "textposition": "auto",
         "texttemplate": "%{text:,}",
         "type": "bar",
         "x": [
          "Northeast",
          "Midwest",
          "South",
          "West"
         ],
         "y": [
          36314,
          61044,
          106664,
          35655
         ]
        }
       ],
       "layout": {
        "height": 500,
        "showlegend": false,
        "template": {
         "data": {
          "bar": [
           {
            "error_x": {
             "color": "#2a3f5f"
            },
            "error_y": {
             "color": "#2a3f5f"
            },
            "marker": {
             "line": {
              "color": "#E5ECF6",
              "width": 0.5
             },
             "pattern": {
              "fillmode": "overlay",
              "size": 10,
              "solidity": 0.2
             }
            },
            "type": "bar"
           }
          ],
          "barpolar": [
           {
            "marker": {
             "line": {
              "color": "#E5ECF6",
              "width": 0.5
             },
             "pattern": {
              "fillmode": "overlay",
              "size": 10,
              "solidity": 0.2
             }
            },
            "type": "barpolar"
           }
          ],
          "carpet": [
           {
            "aaxis": {
             "endlinecolor": "#2a3f5f",
             "gridcolor": "white",
             "linecolor": "white",
             "minorgridcolor": "white",
             "startlinecolor": "#2a3f5f"
            },
            "baxis": {
             "endlinecolor": "#2a3f5f",
             "gridcolor": "white",
             "linecolor": "white",
             "minorgridcolor": "white",
             "startlinecolor": "#2a3f5f"
            },
            "type": "carpet"
           }
          ],
          "choropleth": [
           {
            "colorbar": {
             "outlinewidth": 0,
             "ticks": ""
            },
            "type": "choropleth"
           }
          ],
          "contour": [
           {
            "colorbar": {
             "outlinewidth": 0,
             "ticks": ""
            },
            "colorscale": [
             [
              0,
              "#0d0887"
             ],
             [
              0.1111111111111111,
              "#46039f"
             ],
             [
              0.2222222222222222,
              "#7201a8"
             ],
             [
              0.3333333333333333,
              "#9c179e"
             ],
             [
              0.4444444444444444,
              "#bd3786"
             ],
             [
              0.5555555555555556,
              "#d8576b"
             ],
             [
              0.6666666666666666,
              "#ed7953"
             ],
             [
              0.7777777777777778,
              "#fb9f3a"
             ],
             [
              0.8888888888888888,
              "#fdca26"
             ],
             [
              1,
              "#f0f921"
             ]
            ],
            "type": "contour"
           }
          ],
          "contourcarpet": [
           {
            "colorbar": {
             "outlinewidth": 0,
             "ticks": ""
            },
            "type": "contourcarpet"
           }
          ],
          "heatmap": [
           {
            "colorbar": {
             "outlinewidth": 0,
             "ticks": ""
            },
            "colorscale": [
             [
              0,
              "#0d0887"
             ],
             [
              0.1111111111111111,
              "#46039f"
             ],
             [
              0.2222222222222222,
              "#7201a8"
             ],
             [
              0.3333333333333333,
              "#9c179e"
             ],
             [
              0.4444444444444444,
              "#bd3786"
             ],
             [
              0.5555555555555556,
              "#d8576b"
             ],
             [
              0.6666666666666666,
              "#ed7953"
             ],
             [
              0.7777777777777778,
              "#fb9f3a"
             ],
             [
              0.8888888888888888,
              "#fdca26"
             ],
             [
              1,
              "#f0f921"
             ]
            ],
            "type": "heatmap"
           }
          ],
          "heatmapgl": [
           {
            "colorbar": {
             "outlinewidth": 0,
             "ticks": ""
            },
            "colorscale": [
             [
              0,
              "#0d0887"
             ],
             [
              0.1111111111111111,
              "#46039f"
             ],
             [
              0.2222222222222222,
              "#7201a8"
             ],
             [
              0.3333333333333333,
              "#9c179e"
             ],
             [
              0.4444444444444444,
              "#bd3786"
             ],
             [
              0.5555555555555556,
              "#d8576b"
             ],
             [
              0.6666666666666666,
              "#ed7953"
             ],
             [
              0.7777777777777778,
              "#fb9f3a"
             ],
             [
              0.8888888888888888,
              "#fdca26"
             ],
             [
              1,
              "#f0f921"
             ]
            ],
            "type": "heatmapgl"
           }
          ],
          "histogram": [
           {
            "marker": {
             "pattern": {
              "fillmode": "overlay",
              "size": 10,
              "solidity": 0.2
             }
            },
            "type": "histogram"
           }
          ],
          "histogram2d": [
           {
            "colorbar": {
             "outlinewidth": 0,
             "ticks": ""
            },
            "colorscale": [
             [
              0,
              "#0d0887"
             ],
             [
              0.1111111111111111,
              "#46039f"
             ],
             [
              0.2222222222222222,
              "#7201a8"
             ],
             [
              0.3333333333333333,
              "#9c179e"
             ],
             [
              0.4444444444444444,
              "#bd3786"
             ],
             [
              0.5555555555555556,
              "#d8576b"
             ],
             [
              0.6666666666666666,
              "#ed7953"
             ],
             [
              0.7777777777777778,
              "#fb9f3a"
             ],
             [
              0.8888888888888888,
              "#fdca26"
             ],
             [
              1,
              "#f0f921"
             ]
            ],
            "type": "histogram2d"
           }
          ],
          "histogram2dcontour": [
           {
            "colorbar": {
             "outlinewidth": 0,
             "ticks": ""
            },
            "colorscale": [
             [
              0,
              "#0d0887"
             ],
             [
              0.1111111111111111,
              "#46039f"
             ],
             [
              0.2222222222222222,
              "#7201a8"
             ],
             [
              0.3333333333333333,
              "#9c179e"
             ],
             [
              0.4444444444444444,
              "#bd3786"
             ],
             [
              0.5555555555555556,
              "#d8576b"
             ],
             [
              0.6666666666666666,
              "#ed7953"
             ],
             [
              0.7777777777777778,
              "#fb9f3a"
             ],
             [
              0.8888888888888888,
              "#fdca26"
             ],
             [
              1,
              "#f0f921"
             ]
            ],
            "type": "histogram2dcontour"
           }
          ],
          "mesh3d": [
           {
            "colorbar": {
             "outlinewidth": 0,
             "ticks": ""
            },
            "type": "mesh3d"
           }
          ],
          "parcoords": [
           {
            "line": {
             "colorbar": {
              "outlinewidth": 0,
              "ticks": ""
             }
            },
            "type": "parcoords"
           }
          ],
          "pie": [
           {
            "automargin": true,
            "type": "pie"
           }
          ],
          "scatter": [
           {
            "fillpattern": {
             "fillmode": "overlay",
             "size": 10,
             "solidity": 0.2
            },
            "type": "scatter"
           }
          ],
          "scatter3d": [
           {
            "line": {
             "colorbar": {
              "outlinewidth": 0,
              "ticks": ""
             }
            },
            "marker": {
             "colorbar": {
              "outlinewidth": 0,
              "ticks": ""
             }
            },
            "type": "scatter3d"
           }
          ],
          "scattercarpet": [
           {
            "marker": {
             "colorbar": {
              "outlinewidth": 0,
              "ticks": ""
             }
            },
            "type": "scattercarpet"
           }
          ],
          "scattergeo": [
           {
            "marker": {
             "colorbar": {
              "outlinewidth": 0,
              "ticks": ""
             }
            },
            "type": "scattergeo"
           }
          ],
          "scattergl": [
           {
            "marker": {
             "colorbar": {
              "outlinewidth": 0,
              "ticks": ""
             }
            },
            "type": "scattergl"
           }
          ],
          "scattermapbox": [
           {
            "marker": {
             "colorbar": {
              "outlinewidth": 0,
              "ticks": ""
             }
            },
            "type": "scattermapbox"
           }
          ],
          "scatterpolar": [
           {
            "marker": {
             "colorbar": {
              "outlinewidth": 0,
              "ticks": ""
             }
            },
            "type": "scatterpolar"
           }
          ],
          "scatterpolargl": [
           {
            "marker": {
             "colorbar": {
              "outlinewidth": 0,
              "ticks": ""
             }
            },
            "type": "scatterpolargl"
           }
          ],
          "scatterternary": [
           {
            "marker": {
             "colorbar": {
              "outlinewidth": 0,
              "ticks": ""
             }
            },
            "type": "scatterternary"
           }
          ],
          "surface": [
           {
            "colorbar": {
             "outlinewidth": 0,
             "ticks": ""
            },
            "colorscale": [
             [
              0,
              "#0d0887"
             ],
             [
              0.1111111111111111,
              "#46039f"
             ],
             [
              0.2222222222222222,
              "#7201a8"
             ],
             [
              0.3333333333333333,
              "#9c179e"
             ],
             [
              0.4444444444444444,
              "#bd3786"
             ],
             [
              0.5555555555555556,
              "#d8576b"
             ],
             [
              0.6666666666666666,
              "#ed7953"
             ],
             [
              0.7777777777777778,
              "#fb9f3a"
             ],
             [
              0.8888888888888888,
              "#fdca26"
             ],
             [
              1,
              "#f0f921"
             ]
            ],
            "type": "surface"
           }
          ],
          "table": [
           {
            "cells": {
             "fill": {
              "color": "#EBF0F8"
             },
             "line": {
              "color": "white"
             }
            },
            "header": {
             "fill": {
              "color": "#C8D4E3"
             },
             "line": {
              "color": "white"
             }
            },
            "type": "table"
           }
          ]
         },
         "layout": {
          "annotationdefaults": {
           "arrowcolor": "#2a3f5f",
           "arrowhead": 0,
           "arrowwidth": 1
          },
          "autotypenumbers": "strict",
          "coloraxis": {
           "colorbar": {
            "outlinewidth": 0,
            "ticks": ""
           }
          },
          "colorscale": {
           "diverging": [
            [
             0,
             "#8e0152"
            ],
            [
             0.1,
             "#c51b7d"
            ],
            [
             0.2,
             "#de77ae"
            ],
            [
             0.3,
             "#f1b6da"
            ],
            [
             0.4,
             "#fde0ef"
            ],
            [
             0.5,
             "#f7f7f7"
            ],
            [
             0.6,
             "#e6f5d0"
            ],
            [
             0.7,
             "#b8e186"
            ],
            [
             0.8,
             "#7fbc41"
            ],
            [
             0.9,
             "#4d9221"
            ],
            [
             1,
             "#276419"
            ]
           ],
           "sequential": [
            [
             0,
             "#0d0887"
            ],
            [
             0.1111111111111111,
             "#46039f"
            ],
            [
             0.2222222222222222,
             "#7201a8"
            ],
            [
             0.3333333333333333,
             "#9c179e"
            ],
            [
             0.4444444444444444,
             "#bd3786"
            ],
            [
             0.5555555555555556,
             "#d8576b"
            ],
            [
             0.6666666666666666,
             "#ed7953"
            ],
            [
             0.7777777777777778,
             "#fb9f3a"
            ],
            [
             0.8888888888888888,
             "#fdca26"
            ],
            [
             1,
             "#f0f921"
            ]
           ],
           "sequentialminus": [
            [
             0,
             "#0d0887"
            ],
            [
             0.1111111111111111,
             "#46039f"
            ],
            [
             0.2222222222222222,
             "#7201a8"
            ],
            [
             0.3333333333333333,
             "#9c179e"
            ],
            [
             0.4444444444444444,
             "#bd3786"
            ],
            [
             0.5555555555555556,
             "#d8576b"
            ],
            [
             0.6666666666666666,
             "#ed7953"
            ],
            [
             0.7777777777777778,
             "#fb9f3a"
            ],
            [
             0.8888888888888888,
             "#fdca26"
            ],
            [
             1,
             "#f0f921"
            ]
           ]
          },
          "colorway": [
           "#636efa",
           "#EF553B",
           "#00cc96",
           "#ab63fa",
           "#FFA15A",
           "#19d3f3",
           "#FF6692",
           "#B6E880",
           "#FF97FF",
           "#FECB52"
          ],
          "font": {
           "color": "#2a3f5f"
          },
          "geo": {
           "bgcolor": "white",
           "lakecolor": "white",
           "landcolor": "#E5ECF6",
           "showlakes": true,
           "showland": true,
           "subunitcolor": "white"
          },
          "hoverlabel": {
           "align": "left"
          },
          "hovermode": "closest",
          "mapbox": {
           "style": "light"
          },
          "paper_bgcolor": "white",
          "plot_bgcolor": "#E5ECF6",
          "polar": {
           "angularaxis": {
            "gridcolor": "white",
            "linecolor": "white",
            "ticks": ""
           },
           "bgcolor": "#E5ECF6",
           "radialaxis": {
            "gridcolor": "white",
            "linecolor": "white",
            "ticks": ""
           }
          },
          "scene": {
           "xaxis": {
            "backgroundcolor": "#E5ECF6",
            "gridcolor": "white",
            "gridwidth": 2,
            "linecolor": "white",
            "showbackground": true,
            "ticks": "",
            "zerolinecolor": "white"
           },
           "yaxis": {
            "backgroundcolor": "#E5ECF6",
            "gridcolor": "white",
            "gridwidth": 2,
            "linecolor": "white",
            "showbackground": true,
            "ticks": "",
            "zerolinecolor": "white"
           },
           "zaxis": {
            "backgroundcolor": "#E5ECF6",
            "gridcolor": "white",
            "gridwidth": 2,
            "linecolor": "white",
            "showbackground": true,
            "ticks": "",
            "zerolinecolor": "white"
           }
          },
          "shapedefaults": {
           "line": {
            "color": "#2a3f5f"
           }
          },
          "ternary": {
           "aaxis": {
            "gridcolor": "white",
            "linecolor": "white",
            "ticks": ""
           },
           "baxis": {
            "gridcolor": "white",
            "linecolor": "white",
            "ticks": ""
           },
           "bgcolor": "#E5ECF6",
           "caxis": {
            "gridcolor": "white",
            "linecolor": "white",
            "ticks": ""
           }
          },
          "title": {
           "x": 0.05
          },
          "xaxis": {
           "automargin": true,
           "gridcolor": "white",
           "linecolor": "white",
           "ticks": "",
           "title": {
            "standoff": 15
           },
           "zerolinecolor": "white",
           "zerolinewidth": 2
          },
          "yaxis": {
           "automargin": true,
           "gridcolor": "white",
           "linecolor": "white",
           "ticks": "",
           "title": {
            "standoff": 15
           },
           "zerolinecolor": "white",
           "zerolinewidth": 2
          }
         }
        },
        "title": {
         "text": "Gun Violence Incidents by US Region (2013-2018)"
        },
        "width": 800,
        "xaxis": {
         "title": {
          "text": "Region"
         }
        },
        "yaxis": {
         "title": {
          "text": "Number of Incidents"
         }
        }
       }
      }
     },
     "metadata": {},
     "output_type": "display_data"
    }
   ],
   "source": [
    "# Create bar chart for incidents by region\n",
    "region_order = ['Northeast', 'Midwest', 'South', 'West']\n",
    "region_counts_sorted = region_counts.set_index('region').reindex(region_order)\n",
    "\n",
    "fig = go.Figure(data=[\n",
    "    go.Bar(\n",
    "        x=region_counts_sorted.index,\n",
    "        y=region_counts_sorted['count'],\n",
    "        marker_color=['lightblue', 'lightgreen', 'lightyellow', 'lightcoral'],\n",
    "        text=region_counts_sorted['count'],\n",
    "        textposition='auto',\n",
    "        texttemplate='%{text:,}',\n",
    "        hovertemplate='<b>%{x}</b><br>Incidents: %{y:,}<extra></extra>'\n",
    "    )\n",
    "])\n",
    "\n",
    "fig.update_layout(\n",
    "    title='Gun Violence Incidents by US Region (2013-2018)',\n",
    "    xaxis_title='Region',\n",
    "    yaxis_title='Number of Incidents',\n",
    "    height=500,\n",
    "    width=800,\n",
    "    showlegend=False\n",
    ")\n",
    "\n",
    "fig.show()"
   ]
  },
  {
   "cell_type": "code",
   "execution_count": 168,
   "id": "j0mhnnzyein",
   "metadata": {},
   "outputs": [
    {
     "name": "stdout",
     "output_type": "stream",
     "text": [
      "Top 10 cities with gun violence incidents:\n",
      "1. Chicago: 10,814\n",
      "2. Baltimore: 3,943\n",
      "3. Washington: 3,279\n",
      "4. New Orleans: 3,071\n",
      "5. Philadelphia: 2,963\n",
      "6. Saint Louis: 2,501\n",
      "7. Houston: 2,501\n",
      "8. Milwaukee: 2,487\n",
      "9. Jacksonville: 2,448\n",
      "10. Memphis: 2,386\n"
     ]
    },
    {
     "data": {
      "application/vnd.plotly.v1+json": {
       "config": {
        "plotlyServerURL": "https://plot.ly"
       },
       "data": [
        {
         "hovertemplate": "<b>%{x}</b><br>Incidents: %{y:,}<extra></extra>",
         "marker": {
          "color": "crimson"
         },
         "text": [
          10814,
          3943,
          3279,
          3071,
          2963,
          2501,
          2501,
          2487,
          2448,
          2386
         ],
         "textposition": "auto",
         "texttemplate": "%{text:,}",
         "type": "bar",
         "x": [
          "Chicago",
          "Baltimore",
          "Washington",
          "New Orleans",
          "Philadelphia",
          "Saint Louis",
          "Houston",
          "Milwaukee",
          "Jacksonville",
          "Memphis"
         ],
         "y": [
          10814,
          3943,
          3279,
          3071,
          2963,
          2501,
          2501,
          2487,
          2448,
          2386
         ]
        }
       ],
       "layout": {
        "height": 500,
        "showlegend": false,
        "template": {
         "data": {
          "bar": [
           {
            "error_x": {
             "color": "#2a3f5f"
            },
            "error_y": {
             "color": "#2a3f5f"
            },
            "marker": {
             "line": {
              "color": "#E5ECF6",
              "width": 0.5
             },
             "pattern": {
              "fillmode": "overlay",
              "size": 10,
              "solidity": 0.2
             }
            },
            "type": "bar"
           }
          ],
          "barpolar": [
           {
            "marker": {
             "line": {
              "color": "#E5ECF6",
              "width": 0.5
             },
             "pattern": {
              "fillmode": "overlay",
              "size": 10,
              "solidity": 0.2
             }
            },
            "type": "barpolar"
           }
          ],
          "carpet": [
           {
            "aaxis": {
             "endlinecolor": "#2a3f5f",
             "gridcolor": "white",
             "linecolor": "white",
             "minorgridcolor": "white",
             "startlinecolor": "#2a3f5f"
            },
            "baxis": {
             "endlinecolor": "#2a3f5f",
             "gridcolor": "white",
             "linecolor": "white",
             "minorgridcolor": "white",
             "startlinecolor": "#2a3f5f"
            },
            "type": "carpet"
           }
          ],
          "choropleth": [
           {
            "colorbar": {
             "outlinewidth": 0,
             "ticks": ""
            },
            "type": "choropleth"
           }
          ],
          "contour": [
           {
            "colorbar": {
             "outlinewidth": 0,
             "ticks": ""
            },
            "colorscale": [
             [
              0,
              "#0d0887"
             ],
             [
              0.1111111111111111,
              "#46039f"
             ],
             [
              0.2222222222222222,
              "#7201a8"
             ],
             [
              0.3333333333333333,
              "#9c179e"
             ],
             [
              0.4444444444444444,
              "#bd3786"
             ],
             [
              0.5555555555555556,
              "#d8576b"
             ],
             [
              0.6666666666666666,
              "#ed7953"
             ],
             [
              0.7777777777777778,
              "#fb9f3a"
             ],
             [
              0.8888888888888888,
              "#fdca26"
             ],
             [
              1,
              "#f0f921"
             ]
            ],
            "type": "contour"
           }
          ],
          "contourcarpet": [
           {
            "colorbar": {
             "outlinewidth": 0,
             "ticks": ""
            },
            "type": "contourcarpet"
           }
          ],
          "heatmap": [
           {
            "colorbar": {
             "outlinewidth": 0,
             "ticks": ""
            },
            "colorscale": [
             [
              0,
              "#0d0887"
             ],
             [
              0.1111111111111111,
              "#46039f"
             ],
             [
              0.2222222222222222,
              "#7201a8"
             ],
             [
              0.3333333333333333,
              "#9c179e"
             ],
             [
              0.4444444444444444,
              "#bd3786"
             ],
             [
              0.5555555555555556,
              "#d8576b"
             ],
             [
              0.6666666666666666,
              "#ed7953"
             ],
             [
              0.7777777777777778,
              "#fb9f3a"
             ],
             [
              0.8888888888888888,
              "#fdca26"
             ],
             [
              1,
              "#f0f921"
             ]
            ],
            "type": "heatmap"
           }
          ],
          "heatmapgl": [
           {
            "colorbar": {
             "outlinewidth": 0,
             "ticks": ""
            },
            "colorscale": [
             [
              0,
              "#0d0887"
             ],
             [
              0.1111111111111111,
              "#46039f"
             ],
             [
              0.2222222222222222,
              "#7201a8"
             ],
             [
              0.3333333333333333,
              "#9c179e"
             ],
             [
              0.4444444444444444,
              "#bd3786"
             ],
             [
              0.5555555555555556,
              "#d8576b"
             ],
             [
              0.6666666666666666,
              "#ed7953"
             ],
             [
              0.7777777777777778,
              "#fb9f3a"
             ],
             [
              0.8888888888888888,
              "#fdca26"
             ],
             [
              1,
              "#f0f921"
             ]
            ],
            "type": "heatmapgl"
           }
          ],
          "histogram": [
           {
            "marker": {
             "pattern": {
              "fillmode": "overlay",
              "size": 10,
              "solidity": 0.2
             }
            },
            "type": "histogram"
           }
          ],
          "histogram2d": [
           {
            "colorbar": {
             "outlinewidth": 0,
             "ticks": ""
            },
            "colorscale": [
             [
              0,
              "#0d0887"
             ],
             [
              0.1111111111111111,
              "#46039f"
             ],
             [
              0.2222222222222222,
              "#7201a8"
             ],
             [
              0.3333333333333333,
              "#9c179e"
             ],
             [
              0.4444444444444444,
              "#bd3786"
             ],
             [
              0.5555555555555556,
              "#d8576b"
             ],
             [
              0.6666666666666666,
              "#ed7953"
             ],
             [
              0.7777777777777778,
              "#fb9f3a"
             ],
             [
              0.8888888888888888,
              "#fdca26"
             ],
             [
              1,
              "#f0f921"
             ]
            ],
            "type": "histogram2d"
           }
          ],
          "histogram2dcontour": [
           {
            "colorbar": {
             "outlinewidth": 0,
             "ticks": ""
            },
            "colorscale": [
             [
              0,
              "#0d0887"
             ],
             [
              0.1111111111111111,
              "#46039f"
             ],
             [
              0.2222222222222222,
              "#7201a8"
             ],
             [
              0.3333333333333333,
              "#9c179e"
             ],
             [
              0.4444444444444444,
              "#bd3786"
             ],
             [
              0.5555555555555556,
              "#d8576b"
             ],
             [
              0.6666666666666666,
              "#ed7953"
             ],
             [
              0.7777777777777778,
              "#fb9f3a"
             ],
             [
              0.8888888888888888,
              "#fdca26"
             ],
             [
              1,
              "#f0f921"
             ]
            ],
            "type": "histogram2dcontour"
           }
          ],
          "mesh3d": [
           {
            "colorbar": {
             "outlinewidth": 0,
             "ticks": ""
            },
            "type": "mesh3d"
           }
          ],
          "parcoords": [
           {
            "line": {
             "colorbar": {
              "outlinewidth": 0,
              "ticks": ""
             }
            },
            "type": "parcoords"
           }
          ],
          "pie": [
           {
            "automargin": true,
            "type": "pie"
           }
          ],
          "scatter": [
           {
            "fillpattern": {
             "fillmode": "overlay",
             "size": 10,
             "solidity": 0.2
            },
            "type": "scatter"
           }
          ],
          "scatter3d": [
           {
            "line": {
             "colorbar": {
              "outlinewidth": 0,
              "ticks": ""
             }
            },
            "marker": {
             "colorbar": {
              "outlinewidth": 0,
              "ticks": ""
             }
            },
            "type": "scatter3d"
           }
          ],
          "scattercarpet": [
           {
            "marker": {
             "colorbar": {
              "outlinewidth": 0,
              "ticks": ""
             }
            },
            "type": "scattercarpet"
           }
          ],
          "scattergeo": [
           {
            "marker": {
             "colorbar": {
              "outlinewidth": 0,
              "ticks": ""
             }
            },
            "type": "scattergeo"
           }
          ],
          "scattergl": [
           {
            "marker": {
             "colorbar": {
              "outlinewidth": 0,
              "ticks": ""
             }
            },
            "type": "scattergl"
           }
          ],
          "scattermapbox": [
           {
            "marker": {
             "colorbar": {
              "outlinewidth": 0,
              "ticks": ""
             }
            },
            "type": "scattermapbox"
           }
          ],
          "scatterpolar": [
           {
            "marker": {
             "colorbar": {
              "outlinewidth": 0,
              "ticks": ""
             }
            },
            "type": "scatterpolar"
           }
          ],
          "scatterpolargl": [
           {
            "marker": {
             "colorbar": {
              "outlinewidth": 0,
              "ticks": ""
             }
            },
            "type": "scatterpolargl"
           }
          ],
          "scatterternary": [
           {
            "marker": {
             "colorbar": {
              "outlinewidth": 0,
              "ticks": ""
             }
            },
            "type": "scatterternary"
           }
          ],
          "surface": [
           {
            "colorbar": {
             "outlinewidth": 0,
             "ticks": ""
            },
            "colorscale": [
             [
              0,
              "#0d0887"
             ],
             [
              0.1111111111111111,
              "#46039f"
             ],
             [
              0.2222222222222222,
              "#7201a8"
             ],
             [
              0.3333333333333333,
              "#9c179e"
             ],
             [
              0.4444444444444444,
              "#bd3786"
             ],
             [
              0.5555555555555556,
              "#d8576b"
             ],
             [
              0.6666666666666666,
              "#ed7953"
             ],
             [
              0.7777777777777778,
              "#fb9f3a"
             ],
             [
              0.8888888888888888,
              "#fdca26"
             ],
             [
              1,
              "#f0f921"
             ]
            ],
            "type": "surface"
           }
          ],
          "table": [
           {
            "cells": {
             "fill": {
              "color": "#EBF0F8"
             },
             "line": {
              "color": "white"
             }
            },
            "header": {
             "fill": {
              "color": "#C8D4E3"
             },
             "line": {
              "color": "white"
             }
            },
            "type": "table"
           }
          ]
         },
         "layout": {
          "annotationdefaults": {
           "arrowcolor": "#2a3f5f",
           "arrowhead": 0,
           "arrowwidth": 1
          },
          "autotypenumbers": "strict",
          "coloraxis": {
           "colorbar": {
            "outlinewidth": 0,
            "ticks": ""
           }
          },
          "colorscale": {
           "diverging": [
            [
             0,
             "#8e0152"
            ],
            [
             0.1,
             "#c51b7d"
            ],
            [
             0.2,
             "#de77ae"
            ],
            [
             0.3,
             "#f1b6da"
            ],
            [
             0.4,
             "#fde0ef"
            ],
            [
             0.5,
             "#f7f7f7"
            ],
            [
             0.6,
             "#e6f5d0"
            ],
            [
             0.7,
             "#b8e186"
            ],
            [
             0.8,
             "#7fbc41"
            ],
            [
             0.9,
             "#4d9221"
            ],
            [
             1,
             "#276419"
            ]
           ],
           "sequential": [
            [
             0,
             "#0d0887"
            ],
            [
             0.1111111111111111,
             "#46039f"
            ],
            [
             0.2222222222222222,
             "#7201a8"
            ],
            [
             0.3333333333333333,
             "#9c179e"
            ],
            [
             0.4444444444444444,
             "#bd3786"
            ],
            [
             0.5555555555555556,
             "#d8576b"
            ],
            [
             0.6666666666666666,
             "#ed7953"
            ],
            [
             0.7777777777777778,
             "#fb9f3a"
            ],
            [
             0.8888888888888888,
             "#fdca26"
            ],
            [
             1,
             "#f0f921"
            ]
           ],
           "sequentialminus": [
            [
             0,
             "#0d0887"
            ],
            [
             0.1111111111111111,
             "#46039f"
            ],
            [
             0.2222222222222222,
             "#7201a8"
            ],
            [
             0.3333333333333333,
             "#9c179e"
            ],
            [
             0.4444444444444444,
             "#bd3786"
            ],
            [
             0.5555555555555556,
             "#d8576b"
            ],
            [
             0.6666666666666666,
             "#ed7953"
            ],
            [
             0.7777777777777778,
             "#fb9f3a"
            ],
            [
             0.8888888888888888,
             "#fdca26"
            ],
            [
             1,
             "#f0f921"
            ]
           ]
          },
          "colorway": [
           "#636efa",
           "#EF553B",
           "#00cc96",
           "#ab63fa",
           "#FFA15A",
           "#19d3f3",
           "#FF6692",
           "#B6E880",
           "#FF97FF",
           "#FECB52"
          ],
          "font": {
           "color": "#2a3f5f"
          },
          "geo": {
           "bgcolor": "white",
           "lakecolor": "white",
           "landcolor": "#E5ECF6",
           "showlakes": true,
           "showland": true,
           "subunitcolor": "white"
          },
          "hoverlabel": {
           "align": "left"
          },
          "hovermode": "closest",
          "mapbox": {
           "style": "light"
          },
          "paper_bgcolor": "white",
          "plot_bgcolor": "#E5ECF6",
          "polar": {
           "angularaxis": {
            "gridcolor": "white",
            "linecolor": "white",
            "ticks": ""
           },
           "bgcolor": "#E5ECF6",
           "radialaxis": {
            "gridcolor": "white",
            "linecolor": "white",
            "ticks": ""
           }
          },
          "scene": {
           "xaxis": {
            "backgroundcolor": "#E5ECF6",
            "gridcolor": "white",
            "gridwidth": 2,
            "linecolor": "white",
            "showbackground": true,
            "ticks": "",
            "zerolinecolor": "white"
           },
           "yaxis": {
            "backgroundcolor": "#E5ECF6",
            "gridcolor": "white",
            "gridwidth": 2,
            "linecolor": "white",
            "showbackground": true,
            "ticks": "",
            "zerolinecolor": "white"
           },
           "zaxis": {
            "backgroundcolor": "#E5ECF6",
            "gridcolor": "white",
            "gridwidth": 2,
            "linecolor": "white",
            "showbackground": true,
            "ticks": "",
            "zerolinecolor": "white"
           }
          },
          "shapedefaults": {
           "line": {
            "color": "#2a3f5f"
           }
          },
          "ternary": {
           "aaxis": {
            "gridcolor": "white",
            "linecolor": "white",
            "ticks": ""
           },
           "baxis": {
            "gridcolor": "white",
            "linecolor": "white",
            "ticks": ""
           },
           "bgcolor": "#E5ECF6",
           "caxis": {
            "gridcolor": "white",
            "linecolor": "white",
            "ticks": ""
           }
          },
          "title": {
           "x": 0.05
          },
          "xaxis": {
           "automargin": true,
           "gridcolor": "white",
           "linecolor": "white",
           "ticks": "",
           "title": {
            "standoff": 15
           },
           "zerolinecolor": "white",
           "zerolinewidth": 2
          },
          "yaxis": {
           "automargin": true,
           "gridcolor": "white",
           "linecolor": "white",
           "ticks": "",
           "title": {
            "standoff": 15
           },
           "zerolinecolor": "white",
           "zerolinewidth": 2
          }
         }
        },
        "title": {
         "text": "Top 10 Cities with Gun Violence Incidents (2013-2018)"
        },
        "width": 1000,
        "xaxis": {
         "categoryorder": "total descending",
         "title": {
          "text": "City"
         }
        },
        "yaxis": {
         "title": {
          "text": "Number of Incidents"
         }
        }
       }
      }
     },
     "metadata": {},
     "output_type": "display_data"
    }
   ],
   "source": [
    "# Get top 10 cities by incident count\n",
    "top_10_cities = df['city_or_county'].value_counts().head(10).reset_index()\n",
    "top_10_cities.columns = ['city', 'count']\n",
    "\n",
    "print(\"Top 10 cities with gun violence incidents:\")\n",
    "for idx, row in top_10_cities.iterrows():\n",
    "    print(f\"{idx+1}. {row['city']}: {row['count']:,}\")\n",
    "\n",
    "# Create descending bar chart\n",
    "fig = go.Figure(data=[\n",
    "    go.Bar(\n",
    "        x=top_10_cities['city'],\n",
    "        y=top_10_cities['count'],\n",
    "        marker_color='crimson',\n",
    "        text=top_10_cities['count'],\n",
    "        textposition='auto',\n",
    "        texttemplate='%{text:,}',\n",
    "        hovertemplate='<b>%{x}</b><br>Incidents: %{y:,}<extra></extra>'\n",
    "    )\n",
    "])\n",
    "\n",
    "fig.update_layout(\n",
    "    title='Top 10 Cities with Gun Violence Incidents (2013-2018)',\n",
    "    xaxis_title='City',\n",
    "    yaxis_title='Number of Incidents',\n",
    "    height=500,\n",
    "    width=1000,\n",
    "    showlegend=False,\n",
    "    xaxis={'categoryorder':'total descending'}\n",
    ")\n",
    "\n",
    "fig.show()"
   ]
  },
  {
   "cell_type": "code",
   "execution_count": 169,
   "id": "8tg28pu7i39",
   "metadata": {},
   "outputs": [
    {
     "data": {
      "application/vnd.plotly.v1+json": {
       "config": {
        "plotlyServerURL": "https://plot.ly"
       },
       "data": [
        {
         "colorscale": [
          [
           0,
           "lightgray"
          ],
          [
           1,
           "lightgray"
          ]
         ],
         "hoverinfo": "skip",
         "locationmode": "USA-states",
         "locations": [
          "AL",
          "AK",
          "AZ",
          "AR",
          "CA",
          "CO",
          "CT",
          "DE",
          "FL",
          "GA",
          "HI",
          "ID",
          "IL",
          "IN",
          "IA",
          "KS",
          "KY",
          "LA",
          "ME",
          "MD",
          "MA",
          "MI",
          "MN",
          "MS",
          "MO",
          "MT",
          "NE",
          "NV",
          "NH",
          "NJ",
          "NM",
          "NY",
          "NC",
          "ND",
          "OH",
          "OK",
          "OR",
          "PA",
          "RI",
          "SC",
          "SD",
          "TN",
          "TX",
          "UT",
          "VT",
          "VA",
          "WA",
          "WV",
          "WI",
          "WY",
          "DC"
         ],
         "showscale": false,
         "type": "choropleth",
         "z": [
          0,
          0,
          0,
          0,
          0,
          0,
          0,
          0,
          0,
          0,
          0,
          0,
          0,
          0,
          0,
          0,
          0,
          0,
          0,
          0,
          0,
          0,
          0,
          0,
          0,
          0,
          0,
          0,
          0,
          0,
          0,
          0,
          0,
          0,
          0,
          0,
          0,
          0,
          0,
          0,
          0,
          0,
          0,
          0,
          0,
          0,
          0,
          0,
          0,
          0,
          0
         ]
        },
        {
         "customdata": [
          [
           "Illinois",
           10814
          ],
          [
           "Maryland",
           3943
          ],
          [
           "District of Columbia",
           3279
          ],
          [
           "Louisiana",
           3071
          ],
          [
           "Pennsylvania",
           2963
          ],
          [
           "Missouri",
           2501
          ],
          [
           "Texas",
           2501
          ],
          [
           "Wisconsin",
           2487
          ],
          [
           "Florida",
           2448
          ],
          [
           "Tennessee",
           2386
          ]
         ],
         "hovertemplate": "<b>%{text}</b><br>State: %{customdata[0]}<br>Incidents: %{customdata[1]:,}<extra></extra>",
         "lat": [
          41.7592,
          39.2899,
          38.8978,
          29.9435,
          39.9924,
          38.7067,
          29.6754,
          43.092,
          30.3068,
          35.0803
         ],
         "lon": [
          -87.5628,
          -76.6412,
          -76.9717,
          -90.0836,
          -75.13,
          -90.2494,
          -95.5499,
          -87.94,
          -81.7298,
          -89.8871
         ],
         "marker": {
          "color": "crimson",
          "line": {
           "color": "darkred",
           "width": 1
          },
          "size": [
           108.14,
           39.43,
           32.79,
           30.71,
           29.63,
           25.01,
           25.01,
           24.87,
           24.48,
           23.86
          ],
          "sizemode": "area"
         },
         "mode": "markers+text",
         "text": [
          "Chicago",
          "Baltimore",
          "Washington",
          "New Orleans",
          "Philadelphia",
          "Saint Louis",
          "Houston",
          "Milwaukee",
          "Jacksonville",
          "Memphis"
         ],
         "textfont": {
          "color": "black",
          "size": 10
         },
         "textposition": "top center",
         "type": "scattergeo"
        }
       ],
       "layout": {
        "geo": {
         "coastlinecolor": "rgb(204, 204, 204)",
         "landcolor": "rgb(243, 243, 243)",
         "projection": {
          "type": "albers usa"
         },
         "scope": "usa",
         "showland": true
        },
        "height": 600,
        "showlegend": false,
        "template": {
         "data": {
          "bar": [
           {
            "error_x": {
             "color": "#2a3f5f"
            },
            "error_y": {
             "color": "#2a3f5f"
            },
            "marker": {
             "line": {
              "color": "#E5ECF6",
              "width": 0.5
             },
             "pattern": {
              "fillmode": "overlay",
              "size": 10,
              "solidity": 0.2
             }
            },
            "type": "bar"
           }
          ],
          "barpolar": [
           {
            "marker": {
             "line": {
              "color": "#E5ECF6",
              "width": 0.5
             },
             "pattern": {
              "fillmode": "overlay",
              "size": 10,
              "solidity": 0.2
             }
            },
            "type": "barpolar"
           }
          ],
          "carpet": [
           {
            "aaxis": {
             "endlinecolor": "#2a3f5f",
             "gridcolor": "white",
             "linecolor": "white",
             "minorgridcolor": "white",
             "startlinecolor": "#2a3f5f"
            },
            "baxis": {
             "endlinecolor": "#2a3f5f",
             "gridcolor": "white",
             "linecolor": "white",
             "minorgridcolor": "white",
             "startlinecolor": "#2a3f5f"
            },
            "type": "carpet"
           }
          ],
          "choropleth": [
           {
            "colorbar": {
             "outlinewidth": 0,
             "ticks": ""
            },
            "type": "choropleth"
           }
          ],
          "contour": [
           {
            "colorbar": {
             "outlinewidth": 0,
             "ticks": ""
            },
            "colorscale": [
             [
              0,
              "#0d0887"
             ],
             [
              0.1111111111111111,
              "#46039f"
             ],
             [
              0.2222222222222222,
              "#7201a8"
             ],
             [
              0.3333333333333333,
              "#9c179e"
             ],
             [
              0.4444444444444444,
              "#bd3786"
             ],
             [
              0.5555555555555556,
              "#d8576b"
             ],
             [
              0.6666666666666666,
              "#ed7953"
             ],
             [
              0.7777777777777778,
              "#fb9f3a"
             ],
             [
              0.8888888888888888,
              "#fdca26"
             ],
             [
              1,
              "#f0f921"
             ]
            ],
            "type": "contour"
           }
          ],
          "contourcarpet": [
           {
            "colorbar": {
             "outlinewidth": 0,
             "ticks": ""
            },
            "type": "contourcarpet"
           }
          ],
          "heatmap": [
           {
            "colorbar": {
             "outlinewidth": 0,
             "ticks": ""
            },
            "colorscale": [
             [
              0,
              "#0d0887"
             ],
             [
              0.1111111111111111,
              "#46039f"
             ],
             [
              0.2222222222222222,
              "#7201a8"
             ],
             [
              0.3333333333333333,
              "#9c179e"
             ],
             [
              0.4444444444444444,
              "#bd3786"
             ],
             [
              0.5555555555555556,
              "#d8576b"
             ],
             [
              0.6666666666666666,
              "#ed7953"
             ],
             [
              0.7777777777777778,
              "#fb9f3a"
             ],
             [
              0.8888888888888888,
              "#fdca26"
             ],
             [
              1,
              "#f0f921"
             ]
            ],
            "type": "heatmap"
           }
          ],
          "heatmapgl": [
           {
            "colorbar": {
             "outlinewidth": 0,
             "ticks": ""
            },
            "colorscale": [
             [
              0,
              "#0d0887"
             ],
             [
              0.1111111111111111,
              "#46039f"
             ],
             [
              0.2222222222222222,
              "#7201a8"
             ],
             [
              0.3333333333333333,
              "#9c179e"
             ],
             [
              0.4444444444444444,
              "#bd3786"
             ],
             [
              0.5555555555555556,
              "#d8576b"
             ],
             [
              0.6666666666666666,
              "#ed7953"
             ],
             [
              0.7777777777777778,
              "#fb9f3a"
             ],
             [
              0.8888888888888888,
              "#fdca26"
             ],
             [
              1,
              "#f0f921"
             ]
            ],
            "type": "heatmapgl"
           }
          ],
          "histogram": [
           {
            "marker": {
             "pattern": {
              "fillmode": "overlay",
              "size": 10,
              "solidity": 0.2
             }
            },
            "type": "histogram"
           }
          ],
          "histogram2d": [
           {
            "colorbar": {
             "outlinewidth": 0,
             "ticks": ""
            },
            "colorscale": [
             [
              0,
              "#0d0887"
             ],
             [
              0.1111111111111111,
              "#46039f"
             ],
             [
              0.2222222222222222,
              "#7201a8"
             ],
             [
              0.3333333333333333,
              "#9c179e"
             ],
             [
              0.4444444444444444,
              "#bd3786"
             ],
             [
              0.5555555555555556,
              "#d8576b"
             ],
             [
              0.6666666666666666,
              "#ed7953"
             ],
             [
              0.7777777777777778,
              "#fb9f3a"
             ],
             [
              0.8888888888888888,
              "#fdca26"
             ],
             [
              1,
              "#f0f921"
             ]
            ],
            "type": "histogram2d"
           }
          ],
          "histogram2dcontour": [
           {
            "colorbar": {
             "outlinewidth": 0,
             "ticks": ""
            },
            "colorscale": [
             [
              0,
              "#0d0887"
             ],
             [
              0.1111111111111111,
              "#46039f"
             ],
             [
              0.2222222222222222,
              "#7201a8"
             ],
             [
              0.3333333333333333,
              "#9c179e"
             ],
             [
              0.4444444444444444,
              "#bd3786"
             ],
             [
              0.5555555555555556,
              "#d8576b"
             ],
             [
              0.6666666666666666,
              "#ed7953"
             ],
             [
              0.7777777777777778,
              "#fb9f3a"
             ],
             [
              0.8888888888888888,
              "#fdca26"
             ],
             [
              1,
              "#f0f921"
             ]
            ],
            "type": "histogram2dcontour"
           }
          ],
          "mesh3d": [
           {
            "colorbar": {
             "outlinewidth": 0,
             "ticks": ""
            },
            "type": "mesh3d"
           }
          ],
          "parcoords": [
           {
            "line": {
             "colorbar": {
              "outlinewidth": 0,
              "ticks": ""
             }
            },
            "type": "parcoords"
           }
          ],
          "pie": [
           {
            "automargin": true,
            "type": "pie"
           }
          ],
          "scatter": [
           {
            "fillpattern": {
             "fillmode": "overlay",
             "size": 10,
             "solidity": 0.2
            },
            "type": "scatter"
           }
          ],
          "scatter3d": [
           {
            "line": {
             "colorbar": {
              "outlinewidth": 0,
              "ticks": ""
             }
            },
            "marker": {
             "colorbar": {
              "outlinewidth": 0,
              "ticks": ""
             }
            },
            "type": "scatter3d"
           }
          ],
          "scattercarpet": [
           {
            "marker": {
             "colorbar": {
              "outlinewidth": 0,
              "ticks": ""
             }
            },
            "type": "scattercarpet"
           }
          ],
          "scattergeo": [
           {
            "marker": {
             "colorbar": {
              "outlinewidth": 0,
              "ticks": ""
             }
            },
            "type": "scattergeo"
           }
          ],
          "scattergl": [
           {
            "marker": {
             "colorbar": {
              "outlinewidth": 0,
              "ticks": ""
             }
            },
            "type": "scattergl"
           }
          ],
          "scattermapbox": [
           {
            "marker": {
             "colorbar": {
              "outlinewidth": 0,
              "ticks": ""
             }
            },
            "type": "scattermapbox"
           }
          ],
          "scatterpolar": [
           {
            "marker": {
             "colorbar": {
              "outlinewidth": 0,
              "ticks": ""
             }
            },
            "type": "scatterpolar"
           }
          ],
          "scatterpolargl": [
           {
            "marker": {
             "colorbar": {
              "outlinewidth": 0,
              "ticks": ""
             }
            },
            "type": "scatterpolargl"
           }
          ],
          "scatterternary": [
           {
            "marker": {
             "colorbar": {
              "outlinewidth": 0,
              "ticks": ""
             }
            },
            "type": "scatterternary"
           }
          ],
          "surface": [
           {
            "colorbar": {
             "outlinewidth": 0,
             "ticks": ""
            },
            "colorscale": [
             [
              0,
              "#0d0887"
             ],
             [
              0.1111111111111111,
              "#46039f"
             ],
             [
              0.2222222222222222,
              "#7201a8"
             ],
             [
              0.3333333333333333,
              "#9c179e"
             ],
             [
              0.4444444444444444,
              "#bd3786"
             ],
             [
              0.5555555555555556,
              "#d8576b"
             ],
             [
              0.6666666666666666,
              "#ed7953"
             ],
             [
              0.7777777777777778,
              "#fb9f3a"
             ],
             [
              0.8888888888888888,
              "#fdca26"
             ],
             [
              1,
              "#f0f921"
             ]
            ],
            "type": "surface"
           }
          ],
          "table": [
           {
            "cells": {
             "fill": {
              "color": "#EBF0F8"
             },
             "line": {
              "color": "white"
             }
            },
            "header": {
             "fill": {
              "color": "#C8D4E3"
             },
             "line": {
              "color": "white"
             }
            },
            "type": "table"
           }
          ]
         },
         "layout": {
          "annotationdefaults": {
           "arrowcolor": "#2a3f5f",
           "arrowhead": 0,
           "arrowwidth": 1
          },
          "autotypenumbers": "strict",
          "coloraxis": {
           "colorbar": {
            "outlinewidth": 0,
            "ticks": ""
           }
          },
          "colorscale": {
           "diverging": [
            [
             0,
             "#8e0152"
            ],
            [
             0.1,
             "#c51b7d"
            ],
            [
             0.2,
             "#de77ae"
            ],
            [
             0.3,
             "#f1b6da"
            ],
            [
             0.4,
             "#fde0ef"
            ],
            [
             0.5,
             "#f7f7f7"
            ],
            [
             0.6,
             "#e6f5d0"
            ],
            [
             0.7,
             "#b8e186"
            ],
            [
             0.8,
             "#7fbc41"
            ],
            [
             0.9,
             "#4d9221"
            ],
            [
             1,
             "#276419"
            ]
           ],
           "sequential": [
            [
             0,
             "#0d0887"
            ],
            [
             0.1111111111111111,
             "#46039f"
            ],
            [
             0.2222222222222222,
             "#7201a8"
            ],
            [
             0.3333333333333333,
             "#9c179e"
            ],
            [
             0.4444444444444444,
             "#bd3786"
            ],
            [
             0.5555555555555556,
             "#d8576b"
            ],
            [
             0.6666666666666666,
             "#ed7953"
            ],
            [
             0.7777777777777778,
             "#fb9f3a"
            ],
            [
             0.8888888888888888,
             "#fdca26"
            ],
            [
             1,
             "#f0f921"
            ]
           ],
           "sequentialminus": [
            [
             0,
             "#0d0887"
            ],
            [
             0.1111111111111111,
             "#46039f"
            ],
            [
             0.2222222222222222,
             "#7201a8"
            ],
            [
             0.3333333333333333,
             "#9c179e"
            ],
            [
             0.4444444444444444,
             "#bd3786"
            ],
            [
             0.5555555555555556,
             "#d8576b"
            ],
            [
             0.6666666666666666,
             "#ed7953"
            ],
            [
             0.7777777777777778,
             "#fb9f3a"
            ],
            [
             0.8888888888888888,
             "#fdca26"
            ],
            [
             1,
             "#f0f921"
            ]
           ]
          },
          "colorway": [
           "#636efa",
           "#EF553B",
           "#00cc96",
           "#ab63fa",
           "#FFA15A",
           "#19d3f3",
           "#FF6692",
           "#B6E880",
           "#FF97FF",
           "#FECB52"
          ],
          "font": {
           "color": "#2a3f5f"
          },
          "geo": {
           "bgcolor": "white",
           "lakecolor": "white",
           "landcolor": "#E5ECF6",
           "showlakes": true,
           "showland": true,
           "subunitcolor": "white"
          },
          "hoverlabel": {
           "align": "left"
          },
          "hovermode": "closest",
          "mapbox": {
           "style": "light"
          },
          "paper_bgcolor": "white",
          "plot_bgcolor": "#E5ECF6",
          "polar": {
           "angularaxis": {
            "gridcolor": "white",
            "linecolor": "white",
            "ticks": ""
           },
           "bgcolor": "#E5ECF6",
           "radialaxis": {
            "gridcolor": "white",
            "linecolor": "white",
            "ticks": ""
           }
          },
          "scene": {
           "xaxis": {
            "backgroundcolor": "#E5ECF6",
            "gridcolor": "white",
            "gridwidth": 2,
            "linecolor": "white",
            "showbackground": true,
            "ticks": "",
            "zerolinecolor": "white"
           },
           "yaxis": {
            "backgroundcolor": "#E5ECF6",
            "gridcolor": "white",
            "gridwidth": 2,
            "linecolor": "white",
            "showbackground": true,
            "ticks": "",
            "zerolinecolor": "white"
           },
           "zaxis": {
            "backgroundcolor": "#E5ECF6",
            "gridcolor": "white",
            "gridwidth": 2,
            "linecolor": "white",
            "showbackground": true,
            "ticks": "",
            "zerolinecolor": "white"
           }
          },
          "shapedefaults": {
           "line": {
            "color": "#2a3f5f"
           }
          },
          "ternary": {
           "aaxis": {
            "gridcolor": "white",
            "linecolor": "white",
            "ticks": ""
           },
           "baxis": {
            "gridcolor": "white",
            "linecolor": "white",
            "ticks": ""
           },
           "bgcolor": "#E5ECF6",
           "caxis": {
            "gridcolor": "white",
            "linecolor": "white",
            "ticks": ""
           }
          },
          "title": {
           "x": 0.05
          },
          "xaxis": {
           "automargin": true,
           "gridcolor": "white",
           "linecolor": "white",
           "ticks": "",
           "title": {
            "standoff": 15
           },
           "zerolinecolor": "white",
           "zerolinewidth": 2
          },
          "yaxis": {
           "automargin": true,
           "gridcolor": "white",
           "linecolor": "white",
           "ticks": "",
           "title": {
            "standoff": 15
           },
           "zerolinecolor": "white",
           "zerolinewidth": 2
          }
         }
        },
        "title": {
         "text": "Top 10 Cities with Gun Violence Incidents (2013-2018)"
        },
        "width": 1000
       }
      }
     },
     "metadata": {},
     "output_type": "display_data"
    },
    {
     "name": "stdout",
     "output_type": "stream",
     "text": [
      "\n",
      "Top 10 cities locations:\n",
      "Chicago, Illinois: 10,814 incidents\n",
      "Baltimore, Maryland: 3,943 incidents\n",
      "Washington, District of Columbia: 3,279 incidents\n",
      "New Orleans, Louisiana: 3,071 incidents\n",
      "Philadelphia, Pennsylvania: 2,963 incidents\n",
      "Saint Louis, Missouri: 2,501 incidents\n",
      "Houston, Texas: 2,501 incidents\n",
      "Milwaukee, Wisconsin: 2,487 incidents\n",
      "Jacksonville, Florida: 2,448 incidents\n",
      "Memphis, Tennessee: 2,386 incidents\n"
     ]
    }
   ],
   "source": [
    "# Get geographic data for top 10 cities\n",
    "# For each city, get one representative lat/lon (using the first occurrence)\n",
    "top_10_city_names = top_10_cities['city'].tolist()\n",
    "city_geo_data = []\n",
    "\n",
    "for city in top_10_city_names:\n",
    "    city_data = df[df['city_or_county'] == city].iloc[0]\n",
    "    city_geo_data.append({\n",
    "        'city': city,\n",
    "        'lat': city_data['latitude'],\n",
    "        'lon': city_data['longitude'],\n",
    "        'state': city_data['state'],\n",
    "        'count': top_10_cities[top_10_cities['city'] == city]['count'].values[0]\n",
    "    })\n",
    "\n",
    "city_geo_df = pd.DataFrame(city_geo_data)\n",
    "\n",
    "# Create scatter geo map\n",
    "fig = go.Figure()\n",
    "\n",
    "# Add base map of US states\n",
    "fig.add_trace(go.Choropleth(\n",
    "    locations=['AL', 'AK', 'AZ', 'AR', 'CA', 'CO', 'CT', 'DE', 'FL', 'GA', \n",
    "               'HI', 'ID', 'IL', 'IN', 'IA', 'KS', 'KY', 'LA', 'ME', 'MD',\n",
    "               'MA', 'MI', 'MN', 'MS', 'MO', 'MT', 'NE', 'NV', 'NH', 'NJ',\n",
    "               'NM', 'NY', 'NC', 'ND', 'OH', 'OK', 'OR', 'PA', 'RI', 'SC',\n",
    "               'SD', 'TN', 'TX', 'UT', 'VT', 'VA', 'WA', 'WV', 'WI', 'WY', 'DC'],\n",
    "    z=[0]*51,\n",
    "    locationmode='USA-states',\n",
    "    colorscale=[[0, 'lightgray'], [1, 'lightgray']],\n",
    "    showscale=False,\n",
    "    hoverinfo='skip'\n",
    "))\n",
    "\n",
    "# Add scatter points for top 10 cities\n",
    "fig.add_trace(go.Scattergeo(\n",
    "    lon=city_geo_df['lon'],\n",
    "    lat=city_geo_df['lat'],\n",
    "    text=city_geo_df['city'],\n",
    "    mode='markers+text',\n",
    "    marker=dict(\n",
    "        size=city_geo_df['count'] / 100,  # Scale marker size by incident count\n",
    "        color='crimson',\n",
    "        line=dict(width=1, color='darkred'),\n",
    "        sizemode='area'\n",
    "    ),\n",
    "    textposition='top center',\n",
    "    textfont=dict(size=10, color='black'),\n",
    "    customdata=city_geo_df[['state', 'count']],\n",
    "    hovertemplate='<b>%{text}</b><br>State: %{customdata[0]}<br>Incidents: %{customdata[1]:,}<extra></extra>'\n",
    "))\n",
    "\n",
    "fig.update_layout(\n",
    "    title='Top 10 Cities with Gun Violence Incidents (2013-2018)',\n",
    "    geo=dict(\n",
    "        scope='usa',\n",
    "        projection_type='albers usa',\n",
    "        showland=True,\n",
    "        landcolor='rgb(243, 243, 243)',\n",
    "        coastlinecolor='rgb(204, 204, 204)',\n",
    "    ),\n",
    "    height=600,\n",
    "    width=1000,\n",
    "    showlegend=False\n",
    ")\n",
    "\n",
    "fig.show()\n",
    "\n",
    "print(\"\\nTop 10 cities locations:\")\n",
    "for idx, row in city_geo_df.iterrows():\n",
    "    print(f\"{row['city']}, {row['state']}: {row['count']:,} incidents\")"
   ]
  },
  {
   "cell_type": "code",
   "execution_count": 170,
   "id": "2593d0f7",
   "metadata": {},
   "outputs": [
    {
     "name": "stdout",
     "output_type": "stream",
     "text": [
      "gun_type\n",
      "0::Unknown                                                                                                                                                                                                          0.667202\n",
      "0::Handgun                                                                                                                                                                                                          0.092836\n",
      "0::9mm                                                                                                                                                                                                              0.032797\n",
      "0::Unknown||1::Unknown                                                                                                                                                                                              0.017187\n",
      "0::22 LR                                                                                                                                                                                                            0.015639\n",
      "                                                                                                                                                                                                                      ...   \n",
      "0::357 Mag||1::38 Spl||2::22 LR                                                                                                                                                                                     0.000007\n",
      "0::223 Rem [AR-15]||1::22 LR||2::22 LR||3::Handgun||4::Handgun||5::Handgun||6::Handgun                                                                                                                              0.000007\n",
      "0::223 Rem [AR-15]||1::Shotgun||2::Shotgun||3::Shotgun||4::Rifle||5::Rifle||6::Rifle||7::Rifle||8::Rifle||9::Rifle||10::Handgun||11::Handgun||12::Handgun||13::Handgun                                              0.000007\n",
      "0::Other||1::Rifle||2::Rifle||3::Shotgun||4::Shotgun||5::Shotgun||6::Shotgun||7::Shotgun||8::Handgun||9::Handgun||10::Handgun||11::Handgun||12::Handgun||13::Handgun||14::Handgun||15::Handgun||16::7.62 [AK-47]    0.000007\n",
      "0::357 Mag||1::44 Mag||2::45 Auto||3::Rifle||4::Rifle||5::Rifle||6::Rifle||7::Rifle                                                                                                                                 0.000007\n",
      "Name: proportion, Length: 2502, dtype: float64\n",
      "2502\n"
     ]
    }
   ],
   "source": [
    "# display df[\"gun_type\"] unique values\n",
    "# print(df[\"gun_type\"].unique())\n",
    "# print(df[\"gun_type\"].value_counts())\n",
    "print(df[\"gun_type\"].value_counts(normalize=True))\n",
    "print(len(df[\"gun_type\"].value_counts(normalize=True)))"
   ]
  },
  {
   "cell_type": "code",
   "execution_count": 171,
   "id": "m5j6yekhmc",
   "metadata": {},
   "outputs": [
    {
     "name": "stdout",
     "output_type": "stream",
     "text": [
      "======================================================================\n",
      "GUN TYPE ANALYSIS - COMPREHENSIVE SUMMARY\n",
      "======================================================================\n",
      "\n",
      "Gun Type             Total Guns      Cases Involved \n",
      "----------------------------------------------------------------------\n",
      "Handgun                      25,038         17,609\n",
      "9mm                           6,448          6,040\n",
      "22 LR                         3,346          3,093\n",
      "Unknown                     130,838         98,892\n",
      "38 Spl                        1,809          1,758\n",
      "223 Rem [AR-15]               1,613          1,248\n",
      "Shotgun                       4,263          3,560\n",
      "Rifle                         5,268          3,196\n",
      "45 Auto                       2,360          2,234\n",
      "44 Mag                          197            192\n",
      "357 Mag                         822            800\n",
      "======================================================================\n"
     ]
    }
   ],
   "source": [
    "# Create a flexible function to count any gun type\n",
    "def count_gun_type(gun_type_str, target_gun_type):\n",
    "    \"\"\"\n",
    "    Count occurrences of a specific gun type in the gun_type string.\n",
    "    \n",
    "    Parameters:\n",
    "    - gun_type_str: The gun_type field from the dataset\n",
    "    - target_gun_type: The specific gun type to count (e.g., \"Handgun\", \"9mm\", etc.)\n",
    "    \n",
    "    Returns:\n",
    "    - Count of the specified gun type\n",
    "    \"\"\"\n",
    "    if pd.isna(gun_type_str):\n",
    "        return 0\n",
    "    # Split by || to get individual guns\n",
    "    guns = str(gun_type_str).split('||')\n",
    "    # Count how many match the target gun type\n",
    "    count = 0\n",
    "    for gun in guns:\n",
    "        if '::' in gun:\n",
    "            gun_name = gun.split('::')[1].strip()\n",
    "            if gun_name == target_gun_type:\n",
    "                count += 1\n",
    "    return count\n",
    "\n",
    "# List of gun types to analyze\n",
    "gun_types = [\n",
    "    \"Handgun\",\n",
    "    \"9mm\",\n",
    "    \"22 LR\",\n",
    "    \"Unknown\",\n",
    "    \"38 Spl\",\n",
    "    \"223 Rem [AR-15]\",\n",
    "    \"Shotgun\",\n",
    "    \"Rifle\",\n",
    "    \"45 Auto\",\n",
    "    \"44 Mag\",\n",
    "    \"357 Mag\"\n",
    "]\n",
    "\n",
    "# Create columns for each gun type\n",
    "for gun_type in gun_types:\n",
    "    # Create column name by replacing spaces and brackets with underscores\n",
    "    col_name = f\"{gun_type} Count\".replace(\" \", \"_\").replace(\"[\", \"\").replace(\"]\", \"\").replace(\"-\", \"_\")\n",
    "    df[col_name] = df['gun_type'].apply(lambda x: count_gun_type(x, gun_type))\n",
    "\n",
    "# Display comprehensive results\n",
    "print(\"=\"*70)\n",
    "print(\"GUN TYPE ANALYSIS - COMPREHENSIVE SUMMARY\")\n",
    "print(\"=\"*70)\n",
    "print(f\"\\n{'Gun Type':<20} {'Total Guns':<15} {'Cases Involved':<15}\")\n",
    "print(\"-\"*70)\n",
    "\n",
    "for gun_type in gun_types:\n",
    "    col_name = f\"{gun_type} Count\".replace(\" \", \"_\").replace(\"[\", \"\").replace(\"]\", \"\").replace(\"-\", \"_\")\n",
    "    total_guns = df[col_name].sum()\n",
    "    cases_involved = (df[col_name] > 0).sum()\n",
    "    print(f\"{gun_type:<20} {total_guns:>14,} {cases_involved:>14,}\")\n",
    "\n",
    "print(\"=\"*70)"
   ]
  },
  {
   "cell_type": "code",
   "execution_count": 172,
   "id": "022c71d9",
   "metadata": {},
   "outputs": [
    {
     "data": {
      "text/html": [
       "<div>\n",
       "<style scoped>\n",
       "    .dataframe tbody tr th:only-of-type {\n",
       "        vertical-align: middle;\n",
       "    }\n",
       "\n",
       "    .dataframe tbody tr th {\n",
       "        vertical-align: top;\n",
       "    }\n",
       "\n",
       "    .dataframe thead th {\n",
       "        text-align: right;\n",
       "    }\n",
       "</style>\n",
       "<table border=\"1\" class=\"dataframe\">\n",
       "  <thead>\n",
       "    <tr style=\"text-align: right;\">\n",
       "      <th></th>\n",
       "      <th>incident_id</th>\n",
       "      <th>date</th>\n",
       "      <th>state</th>\n",
       "      <th>city_or_county</th>\n",
       "      <th>address</th>\n",
       "      <th>n_killed</th>\n",
       "      <th>n_injured</th>\n",
       "      <th>incident_url</th>\n",
       "      <th>source_url</th>\n",
       "      <th>incident_url_fields_missing</th>\n",
       "      <th>congressional_district</th>\n",
       "      <th>gun_stolen</th>\n",
       "      <th>gun_type</th>\n",
       "      <th>incident_characteristics</th>\n",
       "      <th>latitude</th>\n",
       "      <th>location_description</th>\n",
       "      <th>longitude</th>\n",
       "      <th>n_guns_involved</th>\n",
       "      <th>notes</th>\n",
       "      <th>participant_age</th>\n",
       "      <th>participant_age_group</th>\n",
       "      <th>participant_gender</th>\n",
       "      <th>participant_name</th>\n",
       "      <th>participant_relationship</th>\n",
       "      <th>participant_status</th>\n",
       "      <th>participant_type</th>\n",
       "      <th>sources</th>\n",
       "      <th>state_house_district</th>\n",
       "      <th>state_senate_district</th>\n",
       "      <th>num_victims</th>\n",
       "      <th>num_suspects</th>\n",
       "      <th>num_females</th>\n",
       "      <th>num_males</th>\n",
       "      <th>num_adults</th>\n",
       "      <th>num_teens</th>\n",
       "      <th>num_adult_suspects</th>\n",
       "      <th>num_adult_victims</th>\n",
       "      <th>num_teen_suspects</th>\n",
       "      <th>num_teen_victims</th>\n",
       "      <th>num_male_suspects</th>\n",
       "      <th>num_male_victims</th>\n",
       "      <th>num_female_suspects</th>\n",
       "      <th>num_female_victims</th>\n",
       "      <th>state_population</th>\n",
       "      <th>n_guns_stolen</th>\n",
       "      <th>n_guns_unknown</th>\n",
       "      <th>n_guns_not_stolen</th>\n",
       "      <th>season</th>\n",
       "      <th>region</th>\n",
       "      <th>state_code</th>\n",
       "      <th>Handgun_Count</th>\n",
       "      <th>9mm_Count</th>\n",
       "      <th>22_LR_Count</th>\n",
       "      <th>Unknown_Count</th>\n",
       "      <th>38_Spl_Count</th>\n",
       "      <th>223_Rem_AR_15_Count</th>\n",
       "      <th>Shotgun_Count</th>\n",
       "      <th>Rifle_Count</th>\n",
       "      <th>45_Auto_Count</th>\n",
       "      <th>44_Mag_Count</th>\n",
       "      <th>357_Mag_Count</th>\n",
       "    </tr>\n",
       "  </thead>\n",
       "  <tbody>\n",
       "    <tr>\n",
       "      <th>0</th>\n",
       "      <td>461105</td>\n",
       "      <td>2013-01-01</td>\n",
       "      <td>Pennsylvania</td>\n",
       "      <td>Mckeesport</td>\n",
       "      <td>1506 Versailles Avenue and Coursin Street</td>\n",
       "      <td>0</td>\n",
       "      <td>4</td>\n",
       "      <td>http://www.gunviolencearchive.org/incident/461105</td>\n",
       "      <td>http://www.post-gazette.com/local/south/2013/0...</td>\n",
       "      <td>False</td>\n",
       "      <td>14.0</td>\n",
       "      <td>NaN</td>\n",
       "      <td>NaN</td>\n",
       "      <td>Shot - Wounded/Injured||Mass Shooting (4+ vict...</td>\n",
       "      <td>40.3467</td>\n",
       "      <td>NaN</td>\n",
       "      <td>-79.8559</td>\n",
       "      <td>NaN</td>\n",
       "      <td>Julian Sims under investigation: Four Shot and...</td>\n",
       "      <td>0::20</td>\n",
       "      <td>0::Adult 18+||1::Adult 18+||2::Adult 18+||3::A...</td>\n",
       "      <td>0::Male||1::Male||3::Male||4::Female</td>\n",
       "      <td>0::Julian Sims</td>\n",
       "      <td>NaN</td>\n",
       "      <td>0::Arrested||1::Injured||2::Injured||3::Injure...</td>\n",
       "      <td>0::Victim||1::Victim||2::Victim||3::Victim||4:...</td>\n",
       "      <td>http://pittsburgh.cbslocal.com/2013/01/01/4-pe...</td>\n",
       "      <td>NaN</td>\n",
       "      <td>NaN</td>\n",
       "      <td>4</td>\n",
       "      <td>1</td>\n",
       "      <td>1</td>\n",
       "      <td>3</td>\n",
       "      <td>5</td>\n",
       "      <td>0</td>\n",
       "      <td>1</td>\n",
       "      <td>4</td>\n",
       "      <td>0</td>\n",
       "      <td>0</td>\n",
       "      <td>0</td>\n",
       "      <td>3</td>\n",
       "      <td>1</td>\n",
       "      <td>0</td>\n",
       "      <td>13002700</td>\n",
       "      <td>0</td>\n",
       "      <td>0</td>\n",
       "      <td>0</td>\n",
       "      <td>Winter</td>\n",
       "      <td>Northeast</td>\n",
       "      <td>PA</td>\n",
       "      <td>0</td>\n",
       "      <td>0</td>\n",
       "      <td>0</td>\n",
       "      <td>0</td>\n",
       "      <td>0</td>\n",
       "      <td>0</td>\n",
       "      <td>0</td>\n",
       "      <td>0</td>\n",
       "      <td>0</td>\n",
       "      <td>0</td>\n",
       "      <td>0</td>\n",
       "    </tr>\n",
       "    <tr>\n",
       "      <th>1</th>\n",
       "      <td>460726</td>\n",
       "      <td>2013-01-01</td>\n",
       "      <td>California</td>\n",
       "      <td>Hawthorne</td>\n",
       "      <td>13500 block of Cerise Avenue</td>\n",
       "      <td>1</td>\n",
       "      <td>3</td>\n",
       "      <td>http://www.gunviolencearchive.org/incident/460726</td>\n",
       "      <td>http://www.dailybulletin.com/article/zz/201301...</td>\n",
       "      <td>False</td>\n",
       "      <td>43.0</td>\n",
       "      <td>NaN</td>\n",
       "      <td>NaN</td>\n",
       "      <td>Shot - Wounded/Injured||Shot - Dead (murder, a...</td>\n",
       "      <td>33.9090</td>\n",
       "      <td>NaN</td>\n",
       "      <td>-118.3330</td>\n",
       "      <td>NaN</td>\n",
       "      <td>Four Shot; One Killed; Unidentified shooter in...</td>\n",
       "      <td>0::20</td>\n",
       "      <td>0::Adult 18+||1::Adult 18+||2::Adult 18+||3::A...</td>\n",
       "      <td>0::Male</td>\n",
       "      <td>0::Bernard Gillis</td>\n",
       "      <td>NaN</td>\n",
       "      <td>0::Killed||1::Injured||2::Injured||3::Injured</td>\n",
       "      <td>0::Victim||1::Victim||2::Victim||3::Victim||4:...</td>\n",
       "      <td>http://losangeles.cbslocal.com/2013/01/01/man-...</td>\n",
       "      <td>62.0</td>\n",
       "      <td>35.0</td>\n",
       "      <td>4</td>\n",
       "      <td>1</td>\n",
       "      <td>0</td>\n",
       "      <td>1</td>\n",
       "      <td>4</td>\n",
       "      <td>0</td>\n",
       "      <td>0</td>\n",
       "      <td>4</td>\n",
       "      <td>0</td>\n",
       "      <td>0</td>\n",
       "      <td>0</td>\n",
       "      <td>1</td>\n",
       "      <td>0</td>\n",
       "      <td>0</td>\n",
       "      <td>39538223</td>\n",
       "      <td>0</td>\n",
       "      <td>0</td>\n",
       "      <td>0</td>\n",
       "      <td>Winter</td>\n",
       "      <td>West</td>\n",
       "      <td>CA</td>\n",
       "      <td>0</td>\n",
       "      <td>0</td>\n",
       "      <td>0</td>\n",
       "      <td>0</td>\n",
       "      <td>0</td>\n",
       "      <td>0</td>\n",
       "      <td>0</td>\n",
       "      <td>0</td>\n",
       "      <td>0</td>\n",
       "      <td>0</td>\n",
       "      <td>0</td>\n",
       "    </tr>\n",
       "    <tr>\n",
       "      <th>2</th>\n",
       "      <td>478855</td>\n",
       "      <td>2013-01-01</td>\n",
       "      <td>Ohio</td>\n",
       "      <td>Lorain</td>\n",
       "      <td>1776 East 28th Street</td>\n",
       "      <td>1</td>\n",
       "      <td>3</td>\n",
       "      <td>http://www.gunviolencearchive.org/incident/478855</td>\n",
       "      <td>http://chronicle.northcoastnow.com/2013/02/14/...</td>\n",
       "      <td>False</td>\n",
       "      <td>9.0</td>\n",
       "      <td>0::Unknown||1::Unknown</td>\n",
       "      <td>0::Unknown||1::Unknown</td>\n",
       "      <td>Shot - Wounded/Injured||Shot - Dead (murder, a...</td>\n",
       "      <td>41.4455</td>\n",
       "      <td>Cotton Club</td>\n",
       "      <td>-82.1377</td>\n",
       "      <td>2.0</td>\n",
       "      <td>NaN</td>\n",
       "      <td>0::25||1::31||2::33||3::34||4::33</td>\n",
       "      <td>0::Adult 18+||1::Adult 18+||2::Adult 18+||3::A...</td>\n",
       "      <td>0::Male||1::Male||2::Male||3::Male||4::Male</td>\n",
       "      <td>0::Damien Bell||1::Desmen Noble||2::Herman Sea...</td>\n",
       "      <td>NaN</td>\n",
       "      <td>0::Injured, Unharmed, Arrested||1::Unharmed, A...</td>\n",
       "      <td>0::Subject-Suspect||1::Subject-Suspect||2::Vic...</td>\n",
       "      <td>http://www.morningjournal.com/general-news/201...</td>\n",
       "      <td>56.0</td>\n",
       "      <td>13.0</td>\n",
       "      <td>3</td>\n",
       "      <td>2</td>\n",
       "      <td>0</td>\n",
       "      <td>5</td>\n",
       "      <td>5</td>\n",
       "      <td>0</td>\n",
       "      <td>2</td>\n",
       "      <td>3</td>\n",
       "      <td>0</td>\n",
       "      <td>0</td>\n",
       "      <td>2</td>\n",
       "      <td>3</td>\n",
       "      <td>0</td>\n",
       "      <td>0</td>\n",
       "      <td>11799448</td>\n",
       "      <td>0</td>\n",
       "      <td>2</td>\n",
       "      <td>0</td>\n",
       "      <td>Winter</td>\n",
       "      <td>Midwest</td>\n",
       "      <td>OH</td>\n",
       "      <td>0</td>\n",
       "      <td>0</td>\n",
       "      <td>0</td>\n",
       "      <td>2</td>\n",
       "      <td>0</td>\n",
       "      <td>0</td>\n",
       "      <td>0</td>\n",
       "      <td>0</td>\n",
       "      <td>0</td>\n",
       "      <td>0</td>\n",
       "      <td>0</td>\n",
       "    </tr>\n",
       "    <tr>\n",
       "      <th>3</th>\n",
       "      <td>478925</td>\n",
       "      <td>2013-01-05</td>\n",
       "      <td>Colorado</td>\n",
       "      <td>Aurora</td>\n",
       "      <td>16000 block of East Ithaca Place</td>\n",
       "      <td>4</td>\n",
       "      <td>0</td>\n",
       "      <td>http://www.gunviolencearchive.org/incident/478925</td>\n",
       "      <td>http://www.dailydemocrat.com/20130106/aurora-s...</td>\n",
       "      <td>False</td>\n",
       "      <td>6.0</td>\n",
       "      <td>NaN</td>\n",
       "      <td>NaN</td>\n",
       "      <td>Shot - Dead (murder, accidental, suicide)||Off...</td>\n",
       "      <td>39.6518</td>\n",
       "      <td>NaN</td>\n",
       "      <td>-104.8020</td>\n",
       "      <td>NaN</td>\n",
       "      <td>NaN</td>\n",
       "      <td>0::29||1::33||2::56||3::33</td>\n",
       "      <td>0::Adult 18+||1::Adult 18+||2::Adult 18+||3::A...</td>\n",
       "      <td>0::Female||1::Male||2::Male||3::Male</td>\n",
       "      <td>0::Stacie Philbrook||1::Christopher Ratliffe||...</td>\n",
       "      <td>NaN</td>\n",
       "      <td>0::Killed||1::Killed||2::Killed||3::Killed</td>\n",
       "      <td>0::Victim||1::Victim||2::Victim||3::Subject-Su...</td>\n",
       "      <td>http://denver.cbslocal.com/2013/01/06/officer-...</td>\n",
       "      <td>40.0</td>\n",
       "      <td>28.0</td>\n",
       "      <td>3</td>\n",
       "      <td>1</td>\n",
       "      <td>1</td>\n",
       "      <td>3</td>\n",
       "      <td>4</td>\n",
       "      <td>0</td>\n",
       "      <td>1</td>\n",
       "      <td>3</td>\n",
       "      <td>0</td>\n",
       "      <td>0</td>\n",
       "      <td>1</td>\n",
       "      <td>2</td>\n",
       "      <td>0</td>\n",
       "      <td>1</td>\n",
       "      <td>5773714</td>\n",
       "      <td>0</td>\n",
       "      <td>0</td>\n",
       "      <td>0</td>\n",
       "      <td>Winter</td>\n",
       "      <td>West</td>\n",
       "      <td>CO</td>\n",
       "      <td>0</td>\n",
       "      <td>0</td>\n",
       "      <td>0</td>\n",
       "      <td>0</td>\n",
       "      <td>0</td>\n",
       "      <td>0</td>\n",
       "      <td>0</td>\n",
       "      <td>0</td>\n",
       "      <td>0</td>\n",
       "      <td>0</td>\n",
       "      <td>0</td>\n",
       "    </tr>\n",
       "    <tr>\n",
       "      <th>4</th>\n",
       "      <td>478959</td>\n",
       "      <td>2013-01-07</td>\n",
       "      <td>North Carolina</td>\n",
       "      <td>Greensboro</td>\n",
       "      <td>307 Mourning Dove Terrace</td>\n",
       "      <td>2</td>\n",
       "      <td>2</td>\n",
       "      <td>http://www.gunviolencearchive.org/incident/478959</td>\n",
       "      <td>http://www.journalnow.com/news/local/article_d...</td>\n",
       "      <td>False</td>\n",
       "      <td>6.0</td>\n",
       "      <td>0::Unknown||1::Unknown</td>\n",
       "      <td>0::Handgun||1::Handgun</td>\n",
       "      <td>Shot - Wounded/Injured||Shot - Dead (murder, a...</td>\n",
       "      <td>36.1140</td>\n",
       "      <td>NaN</td>\n",
       "      <td>-79.9569</td>\n",
       "      <td>2.0</td>\n",
       "      <td>Two firearms recovered. (Attempted) murder sui...</td>\n",
       "      <td>0::18||1::46||2::14||3::47</td>\n",
       "      <td>0::Adult 18+||1::Adult 18+||2::Teen 12-17||3::...</td>\n",
       "      <td>0::Female||1::Male||2::Male||3::Female</td>\n",
       "      <td>0::Danielle Imani Jameison||1::Maurice Eugene ...</td>\n",
       "      <td>3::Family</td>\n",
       "      <td>0::Injured||1::Injured||2::Killed||3::Killed</td>\n",
       "      <td>0::Victim||1::Victim||2::Victim||3::Subject-Su...</td>\n",
       "      <td>http://myfox8.com/2013/01/08/update-mother-sho...</td>\n",
       "      <td>62.0</td>\n",
       "      <td>27.0</td>\n",
       "      <td>3</td>\n",
       "      <td>1</td>\n",
       "      <td>2</td>\n",
       "      <td>2</td>\n",
       "      <td>3</td>\n",
       "      <td>1</td>\n",
       "      <td>1</td>\n",
       "      <td>2</td>\n",
       "      <td>0</td>\n",
       "      <td>1</td>\n",
       "      <td>0</td>\n",
       "      <td>2</td>\n",
       "      <td>1</td>\n",
       "      <td>1</td>\n",
       "      <td>10439388</td>\n",
       "      <td>0</td>\n",
       "      <td>2</td>\n",
       "      <td>0</td>\n",
       "      <td>Winter</td>\n",
       "      <td>South</td>\n",
       "      <td>NC</td>\n",
       "      <td>2</td>\n",
       "      <td>0</td>\n",
       "      <td>0</td>\n",
       "      <td>0</td>\n",
       "      <td>0</td>\n",
       "      <td>0</td>\n",
       "      <td>0</td>\n",
       "      <td>0</td>\n",
       "      <td>0</td>\n",
       "      <td>0</td>\n",
       "      <td>0</td>\n",
       "    </tr>\n",
       "  </tbody>\n",
       "</table>\n",
       "</div>"
      ],
      "text/plain": [
       "   incident_id        date           state city_or_county  \\\n",
       "0       461105  2013-01-01    Pennsylvania     Mckeesport   \n",
       "1       460726  2013-01-01      California      Hawthorne   \n",
       "2       478855  2013-01-01            Ohio         Lorain   \n",
       "3       478925  2013-01-05        Colorado         Aurora   \n",
       "4       478959  2013-01-07  North Carolina     Greensboro   \n",
       "\n",
       "                                     address  n_killed  n_injured  \\\n",
       "0  1506 Versailles Avenue and Coursin Street         0          4   \n",
       "1               13500 block of Cerise Avenue         1          3   \n",
       "2                      1776 East 28th Street         1          3   \n",
       "3           16000 block of East Ithaca Place         4          0   \n",
       "4                  307 Mourning Dove Terrace         2          2   \n",
       "\n",
       "                                        incident_url  \\\n",
       "0  http://www.gunviolencearchive.org/incident/461105   \n",
       "1  http://www.gunviolencearchive.org/incident/460726   \n",
       "2  http://www.gunviolencearchive.org/incident/478855   \n",
       "3  http://www.gunviolencearchive.org/incident/478925   \n",
       "4  http://www.gunviolencearchive.org/incident/478959   \n",
       "\n",
       "                                          source_url  \\\n",
       "0  http://www.post-gazette.com/local/south/2013/0...   \n",
       "1  http://www.dailybulletin.com/article/zz/201301...   \n",
       "2  http://chronicle.northcoastnow.com/2013/02/14/...   \n",
       "3  http://www.dailydemocrat.com/20130106/aurora-s...   \n",
       "4  http://www.journalnow.com/news/local/article_d...   \n",
       "\n",
       "   incident_url_fields_missing  congressional_district  \\\n",
       "0                        False                    14.0   \n",
       "1                        False                    43.0   \n",
       "2                        False                     9.0   \n",
       "3                        False                     6.0   \n",
       "4                        False                     6.0   \n",
       "\n",
       "               gun_stolen                gun_type  \\\n",
       "0                     NaN                     NaN   \n",
       "1                     NaN                     NaN   \n",
       "2  0::Unknown||1::Unknown  0::Unknown||1::Unknown   \n",
       "3                     NaN                     NaN   \n",
       "4  0::Unknown||1::Unknown  0::Handgun||1::Handgun   \n",
       "\n",
       "                            incident_characteristics  latitude  \\\n",
       "0  Shot - Wounded/Injured||Mass Shooting (4+ vict...   40.3467   \n",
       "1  Shot - Wounded/Injured||Shot - Dead (murder, a...   33.9090   \n",
       "2  Shot - Wounded/Injured||Shot - Dead (murder, a...   41.4455   \n",
       "3  Shot - Dead (murder, accidental, suicide)||Off...   39.6518   \n",
       "4  Shot - Wounded/Injured||Shot - Dead (murder, a...   36.1140   \n",
       "\n",
       "  location_description  longitude  n_guns_involved  \\\n",
       "0                  NaN   -79.8559              NaN   \n",
       "1                  NaN  -118.3330              NaN   \n",
       "2          Cotton Club   -82.1377              2.0   \n",
       "3                  NaN  -104.8020              NaN   \n",
       "4                  NaN   -79.9569              2.0   \n",
       "\n",
       "                                               notes  \\\n",
       "0  Julian Sims under investigation: Four Shot and...   \n",
       "1  Four Shot; One Killed; Unidentified shooter in...   \n",
       "2                                                NaN   \n",
       "3                                                NaN   \n",
       "4  Two firearms recovered. (Attempted) murder sui...   \n",
       "\n",
       "                     participant_age  \\\n",
       "0                              0::20   \n",
       "1                              0::20   \n",
       "2  0::25||1::31||2::33||3::34||4::33   \n",
       "3         0::29||1::33||2::56||3::33   \n",
       "4         0::18||1::46||2::14||3::47   \n",
       "\n",
       "                               participant_age_group  \\\n",
       "0  0::Adult 18+||1::Adult 18+||2::Adult 18+||3::A...   \n",
       "1  0::Adult 18+||1::Adult 18+||2::Adult 18+||3::A...   \n",
       "2  0::Adult 18+||1::Adult 18+||2::Adult 18+||3::A...   \n",
       "3  0::Adult 18+||1::Adult 18+||2::Adult 18+||3::A...   \n",
       "4  0::Adult 18+||1::Adult 18+||2::Teen 12-17||3::...   \n",
       "\n",
       "                            participant_gender  \\\n",
       "0         0::Male||1::Male||3::Male||4::Female   \n",
       "1                                      0::Male   \n",
       "2  0::Male||1::Male||2::Male||3::Male||4::Male   \n",
       "3         0::Female||1::Male||2::Male||3::Male   \n",
       "4       0::Female||1::Male||2::Male||3::Female   \n",
       "\n",
       "                                    participant_name participant_relationship  \\\n",
       "0                                     0::Julian Sims                      NaN   \n",
       "1                                  0::Bernard Gillis                      NaN   \n",
       "2  0::Damien Bell||1::Desmen Noble||2::Herman Sea...                      NaN   \n",
       "3  0::Stacie Philbrook||1::Christopher Ratliffe||...                      NaN   \n",
       "4  0::Danielle Imani Jameison||1::Maurice Eugene ...                3::Family   \n",
       "\n",
       "                                  participant_status  \\\n",
       "0  0::Arrested||1::Injured||2::Injured||3::Injure...   \n",
       "1      0::Killed||1::Injured||2::Injured||3::Injured   \n",
       "2  0::Injured, Unharmed, Arrested||1::Unharmed, A...   \n",
       "3         0::Killed||1::Killed||2::Killed||3::Killed   \n",
       "4       0::Injured||1::Injured||2::Killed||3::Killed   \n",
       "\n",
       "                                    participant_type  \\\n",
       "0  0::Victim||1::Victim||2::Victim||3::Victim||4:...   \n",
       "1  0::Victim||1::Victim||2::Victim||3::Victim||4:...   \n",
       "2  0::Subject-Suspect||1::Subject-Suspect||2::Vic...   \n",
       "3  0::Victim||1::Victim||2::Victim||3::Subject-Su...   \n",
       "4  0::Victim||1::Victim||2::Victim||3::Subject-Su...   \n",
       "\n",
       "                                             sources  state_house_district  \\\n",
       "0  http://pittsburgh.cbslocal.com/2013/01/01/4-pe...                   NaN   \n",
       "1  http://losangeles.cbslocal.com/2013/01/01/man-...                  62.0   \n",
       "2  http://www.morningjournal.com/general-news/201...                  56.0   \n",
       "3  http://denver.cbslocal.com/2013/01/06/officer-...                  40.0   \n",
       "4  http://myfox8.com/2013/01/08/update-mother-sho...                  62.0   \n",
       "\n",
       "   state_senate_district  num_victims  num_suspects  num_females  num_males  \\\n",
       "0                    NaN            4             1            1          3   \n",
       "1                   35.0            4             1            0          1   \n",
       "2                   13.0            3             2            0          5   \n",
       "3                   28.0            3             1            1          3   \n",
       "4                   27.0            3             1            2          2   \n",
       "\n",
       "   num_adults  num_teens  num_adult_suspects  num_adult_victims  \\\n",
       "0           5          0                   1                  4   \n",
       "1           4          0                   0                  4   \n",
       "2           5          0                   2                  3   \n",
       "3           4          0                   1                  3   \n",
       "4           3          1                   1                  2   \n",
       "\n",
       "   num_teen_suspects  num_teen_victims  num_male_suspects  num_male_victims  \\\n",
       "0                  0                 0                  0                 3   \n",
       "1                  0                 0                  0                 1   \n",
       "2                  0                 0                  2                 3   \n",
       "3                  0                 0                  1                 2   \n",
       "4                  0                 1                  0                 2   \n",
       "\n",
       "   num_female_suspects  num_female_victims  state_population  n_guns_stolen  \\\n",
       "0                    1                   0          13002700              0   \n",
       "1                    0                   0          39538223              0   \n",
       "2                    0                   0          11799448              0   \n",
       "3                    0                   1           5773714              0   \n",
       "4                    1                   1          10439388              0   \n",
       "\n",
       "   n_guns_unknown  n_guns_not_stolen  season     region state_code  \\\n",
       "0               0                  0  Winter  Northeast         PA   \n",
       "1               0                  0  Winter       West         CA   \n",
       "2               2                  0  Winter    Midwest         OH   \n",
       "3               0                  0  Winter       West         CO   \n",
       "4               2                  0  Winter      South         NC   \n",
       "\n",
       "   Handgun_Count  9mm_Count  22_LR_Count  Unknown_Count  38_Spl_Count  \\\n",
       "0              0          0            0              0             0   \n",
       "1              0          0            0              0             0   \n",
       "2              0          0            0              2             0   \n",
       "3              0          0            0              0             0   \n",
       "4              2          0            0              0             0   \n",
       "\n",
       "   223_Rem_AR_15_Count  Shotgun_Count  Rifle_Count  45_Auto_Count  \\\n",
       "0                    0              0            0              0   \n",
       "1                    0              0            0              0   \n",
       "2                    0              0            0              0   \n",
       "3                    0              0            0              0   \n",
       "4                    0              0            0              0   \n",
       "\n",
       "   44_Mag_Count  357_Mag_Count  \n",
       "0             0              0  \n",
       "1             0              0  \n",
       "2             0              0  \n",
       "3             0              0  \n",
       "4             0              0  "
      ]
     },
     "execution_count": 172,
     "metadata": {},
     "output_type": "execute_result"
    }
   ],
   "source": [
    "df.head()"
   ]
  },
  {
   "cell_type": "code",
   "execution_count": 173,
   "id": "to3sv1vcr",
   "metadata": {},
   "outputs": [
    {
     "name": "stdout",
     "output_type": "stream",
     "text": [
      "Sample participant_gender values:\n",
      "0                  0::Male||1::Male||3::Male||4::Female\n",
      "1                                               0::Male\n",
      "2           0::Male||1::Male||2::Male||3::Male||4::Male\n",
      "3                  0::Female||1::Male||2::Male||3::Male\n",
      "4                0::Female||1::Male||2::Male||3::Female\n",
      "5     0::Female||1::Female||2::Female||3::Female||4:...\n",
      "6     0::Male||1::Female||2::Male||3::Female||4::Fem...\n",
      "7           0::Male||1::Male||2::Male||3::Male||4::Male\n",
      "8           0::Male||1::Male||2::Male||3::Male||4::Male\n",
      "9                                               0::Male\n",
      "10                   0::Male||1::Male||2::Male||3::Male\n",
      "11                                              0::Male\n",
      "12          0::Male||1::Male||2::Male||3::Male||4::Male\n",
      "13    0::Female||1::Female||2::Male||3::Male||4::Mal...\n",
      "14          0::Male||1::Male||2::Male||3::Male||4::Male\n",
      "15    0::Female||1::Female||2::Female||3::Female||4:...\n",
      "16    0::Male||1::Male||2::Female||4::Male||5::Male|...\n",
      "17                   0::Male||1::Male||2::Male||3::Male\n",
      "18    0::Male||1::Female||2::Female||3::Male||4::Mal...\n",
      "19      0::Male||1::Male||2::Male||3::Female||4::Female\n",
      "Name: participant_gender, dtype: object\n",
      "\n",
      "======================================================================\n",
      "\n",
      "Unique gender values found: ['Male', 'Female']\n",
      "======================================================================\n"
     ]
    }
   ],
   "source": [
    "# Examine participant_gender patterns\n",
    "print(\"Sample participant_gender values:\")\n",
    "print(df[\"participant_gender\"].head(20))\n",
    "print(\"\\n\" + \"=\"*70)\n",
    "\n",
    "# Check unique gender values\n",
    "sample_entries = []\n",
    "for entry in df[\"participant_gender\"].dropna().head(100):\n",
    "    genders = str(entry).split('||')\n",
    "    for gender in genders:\n",
    "        if '::' in gender:\n",
    "            gender_value = gender.split('::')[1].strip()\n",
    "            if gender_value not in sample_entries:\n",
    "                sample_entries.append(gender_value)\n",
    "\n",
    "print(f\"\\nUnique gender values found: {sample_entries}\")\n",
    "print(\"=\"*70)"
   ]
  },
  {
   "cell_type": "code",
   "execution_count": 174,
   "id": "xs9pz3u7m5o",
   "metadata": {},
   "outputs": [
    {
     "name": "stdout",
     "output_type": "stream",
     "text": [
      "======================================================================\n",
      "GENDER COUNT CORRECTION\n",
      "======================================================================\n",
      "\n",
      "Before correction:\n",
      "Total males (old): 304,102\n",
      "Total females (old): 42,376\n",
      "\n",
      "After correction:\n",
      "Total males (new): 304,102\n",
      "Total females (new): 42,376\n",
      "\n",
      "Sample comparison (first 20 rows):\n",
      "                                                   participant_gender  old_males  new_males  old_females  new_females\n",
      "0                                0::Male||1::Male||3::Male||4::Female          3          3            1            1\n",
      "1                                                             0::Male          1          1            0            0\n",
      "2                         0::Male||1::Male||2::Male||3::Male||4::Male          5          5            0            0\n",
      "3                                0::Female||1::Male||2::Male||3::Male          3          3            1            1\n",
      "4                              0::Female||1::Male||2::Male||3::Female          2          2            2            2\n",
      "5        0::Female||1::Female||2::Female||3::Female||4::Male||5::Male          2          2            4            4\n",
      "6          0::Male||1::Female||2::Male||3::Female||4::Female||5::Male          3          3            3            3\n",
      "7                         0::Male||1::Male||2::Male||3::Male||4::Male          5          5            0            0\n",
      "8                         0::Male||1::Male||2::Male||3::Male||4::Male          5          5            0            0\n",
      "9                                                             0::Male          1          1            0            0\n",
      "10                                 0::Male||1::Male||2::Male||3::Male          4          4            0            0\n",
      "11                                                            0::Male          1          1            0            0\n",
      "12                        0::Male||1::Male||2::Male||3::Male||4::Male          5          5            0            0\n",
      "13           0::Female||1::Female||2::Male||3::Male||4::Male||5::Male          4          4            2            2\n",
      "14                        0::Male||1::Male||2::Male||3::Male||4::Male          5          5            0            0\n",
      "15   0::Female||1::Female||2::Female||3::Female||4::Female||5::Female          0          0            6            6\n",
      "16             0::Male||1::Male||2::Female||4::Male||5::Male||6::Male          5          5            1            1\n",
      "17                                 0::Male||1::Male||2::Male||3::Male          4          4            0            0\n",
      "18  0::Male||1::Female||2::Female||3::Male||4::Male||5::Male||6::Male          5          5            2            2\n",
      "19                    0::Male||1::Male||2::Male||3::Female||4::Female          3          3            2            2\n",
      "\n",
      "======================================================================\n",
      "✓ num_males and num_females have been corrected!\n",
      "======================================================================\n"
     ]
    }
   ],
   "source": [
    "# Fix num_males and num_females using participant_gender\n",
    "\n",
    "# Store old values for comparison\n",
    "old_num_males = df['num_males'].copy()\n",
    "old_num_females = df['num_females'].copy()\n",
    "\n",
    "def count_gender(participant_gender_str, target_gender):\n",
    "    \"\"\"\n",
    "    Count occurrences of a specific gender in participant_gender string.\n",
    "    \n",
    "    Parameters:\n",
    "    - participant_gender_str: The participant_gender field from the dataset\n",
    "    - target_gender: \"Male\" or \"Female\"\n",
    "    \n",
    "    Returns:\n",
    "    - Count of the specified gender\n",
    "    \"\"\"\n",
    "    if pd.isna(participant_gender_str):\n",
    "        return 0\n",
    "    # Split by || to get individual participants\n",
    "    participants = str(participant_gender_str).split('||')\n",
    "    # Count how many match the target gender\n",
    "    count = 0\n",
    "    for participant in participants:\n",
    "        if '::' in participant:\n",
    "            gender = participant.split('::')[1].strip()\n",
    "            if gender == target_gender:\n",
    "                count += 1\n",
    "    return count\n",
    "\n",
    "# Replace num_males and num_females with corrected counts\n",
    "df['num_males'] = df['participant_gender'].apply(lambda x: count_gender(x, 'Male'))\n",
    "df['num_females'] = df['participant_gender'].apply(lambda x: count_gender(x, 'Female'))\n",
    "\n",
    "# Display comparison\n",
    "print(\"=\"*70)\n",
    "print(\"GENDER COUNT CORRECTION\")\n",
    "print(\"=\"*70)\n",
    "\n",
    "print(\"\\nBefore correction:\")\n",
    "print(f\"Total males (old): {old_num_males.sum():,}\")\n",
    "print(f\"Total females (old): {old_num_females.sum():,}\")\n",
    "\n",
    "print(\"\\nAfter correction:\")\n",
    "print(f\"Total males (new): {df['num_males'].sum():,}\")\n",
    "print(f\"Total females (new): {df['num_females'].sum():,}\")\n",
    "\n",
    "print(\"\\nSample comparison (first 20 rows):\")\n",
    "comparison_df = pd.DataFrame({\n",
    "    'participant_gender': df['participant_gender'].head(20),\n",
    "    'old_males': old_num_males.head(20),\n",
    "    'new_males': df['num_males'].head(20),\n",
    "    'old_females': old_num_females.head(20),\n",
    "    'new_females': df['num_females'].head(20)\n",
    "})\n",
    "print(comparison_df.to_string())\n",
    "\n",
    "print(\"\\n\" + \"=\"*70)\n",
    "print(\"✓ num_males and num_females have been corrected!\")\n",
    "print(\"=\"*70)"
   ]
  },
  {
   "cell_type": "code",
   "execution_count": 175,
   "id": "714ffcc7",
   "metadata": {},
   "outputs": [
    {
     "data": {
      "text/html": [
       "<div>\n",
       "<style scoped>\n",
       "    .dataframe tbody tr th:only-of-type {\n",
       "        vertical-align: middle;\n",
       "    }\n",
       "\n",
       "    .dataframe tbody tr th {\n",
       "        vertical-align: top;\n",
       "    }\n",
       "\n",
       "    .dataframe thead th {\n",
       "        text-align: right;\n",
       "    }\n",
       "</style>\n",
       "<table border=\"1\" class=\"dataframe\">\n",
       "  <thead>\n",
       "    <tr style=\"text-align: right;\">\n",
       "      <th></th>\n",
       "      <th>incident_id</th>\n",
       "      <th>date</th>\n",
       "      <th>state</th>\n",
       "      <th>city_or_county</th>\n",
       "      <th>address</th>\n",
       "      <th>n_killed</th>\n",
       "      <th>n_injured</th>\n",
       "      <th>incident_url</th>\n",
       "      <th>source_url</th>\n",
       "      <th>incident_url_fields_missing</th>\n",
       "      <th>congressional_district</th>\n",
       "      <th>gun_stolen</th>\n",
       "      <th>gun_type</th>\n",
       "      <th>incident_characteristics</th>\n",
       "      <th>latitude</th>\n",
       "      <th>location_description</th>\n",
       "      <th>longitude</th>\n",
       "      <th>n_guns_involved</th>\n",
       "      <th>notes</th>\n",
       "      <th>participant_age</th>\n",
       "      <th>participant_age_group</th>\n",
       "      <th>participant_gender</th>\n",
       "      <th>participant_name</th>\n",
       "      <th>participant_relationship</th>\n",
       "      <th>participant_status</th>\n",
       "      <th>participant_type</th>\n",
       "      <th>sources</th>\n",
       "      <th>state_house_district</th>\n",
       "      <th>state_senate_district</th>\n",
       "      <th>num_victims</th>\n",
       "      <th>num_suspects</th>\n",
       "      <th>num_females</th>\n",
       "      <th>num_males</th>\n",
       "      <th>num_adults</th>\n",
       "      <th>num_teens</th>\n",
       "      <th>num_adult_suspects</th>\n",
       "      <th>num_adult_victims</th>\n",
       "      <th>num_teen_suspects</th>\n",
       "      <th>num_teen_victims</th>\n",
       "      <th>num_male_suspects</th>\n",
       "      <th>num_male_victims</th>\n",
       "      <th>num_female_suspects</th>\n",
       "      <th>num_female_victims</th>\n",
       "      <th>state_population</th>\n",
       "      <th>n_guns_stolen</th>\n",
       "      <th>n_guns_unknown</th>\n",
       "      <th>n_guns_not_stolen</th>\n",
       "      <th>season</th>\n",
       "      <th>region</th>\n",
       "      <th>state_code</th>\n",
       "      <th>Handgun_Count</th>\n",
       "      <th>9mm_Count</th>\n",
       "      <th>22_LR_Count</th>\n",
       "      <th>Unknown_Count</th>\n",
       "      <th>38_Spl_Count</th>\n",
       "      <th>223_Rem_AR_15_Count</th>\n",
       "      <th>Shotgun_Count</th>\n",
       "      <th>Rifle_Count</th>\n",
       "      <th>45_Auto_Count</th>\n",
       "      <th>44_Mag_Count</th>\n",
       "      <th>357_Mag_Count</th>\n",
       "    </tr>\n",
       "  </thead>\n",
       "  <tbody>\n",
       "    <tr>\n",
       "      <th>0</th>\n",
       "      <td>461105</td>\n",
       "      <td>2013-01-01</td>\n",
       "      <td>Pennsylvania</td>\n",
       "      <td>Mckeesport</td>\n",
       "      <td>1506 Versailles Avenue and Coursin Street</td>\n",
       "      <td>0</td>\n",
       "      <td>4</td>\n",
       "      <td>http://www.gunviolencearchive.org/incident/461105</td>\n",
       "      <td>http://www.post-gazette.com/local/south/2013/0...</td>\n",
       "      <td>False</td>\n",
       "      <td>14.0</td>\n",
       "      <td>NaN</td>\n",
       "      <td>NaN</td>\n",
       "      <td>Shot - Wounded/Injured||Mass Shooting (4+ vict...</td>\n",
       "      <td>40.3467</td>\n",
       "      <td>NaN</td>\n",
       "      <td>-79.8559</td>\n",
       "      <td>NaN</td>\n",
       "      <td>Julian Sims under investigation: Four Shot and...</td>\n",
       "      <td>0::20</td>\n",
       "      <td>0::Adult 18+||1::Adult 18+||2::Adult 18+||3::A...</td>\n",
       "      <td>0::Male||1::Male||3::Male||4::Female</td>\n",
       "      <td>0::Julian Sims</td>\n",
       "      <td>NaN</td>\n",
       "      <td>0::Arrested||1::Injured||2::Injured||3::Injure...</td>\n",
       "      <td>0::Victim||1::Victim||2::Victim||3::Victim||4:...</td>\n",
       "      <td>http://pittsburgh.cbslocal.com/2013/01/01/4-pe...</td>\n",
       "      <td>NaN</td>\n",
       "      <td>NaN</td>\n",
       "      <td>4</td>\n",
       "      <td>1</td>\n",
       "      <td>1</td>\n",
       "      <td>3</td>\n",
       "      <td>5</td>\n",
       "      <td>0</td>\n",
       "      <td>1</td>\n",
       "      <td>4</td>\n",
       "      <td>0</td>\n",
       "      <td>0</td>\n",
       "      <td>0</td>\n",
       "      <td>3</td>\n",
       "      <td>1</td>\n",
       "      <td>0</td>\n",
       "      <td>13002700</td>\n",
       "      <td>0</td>\n",
       "      <td>0</td>\n",
       "      <td>0</td>\n",
       "      <td>Winter</td>\n",
       "      <td>Northeast</td>\n",
       "      <td>PA</td>\n",
       "      <td>0</td>\n",
       "      <td>0</td>\n",
       "      <td>0</td>\n",
       "      <td>0</td>\n",
       "      <td>0</td>\n",
       "      <td>0</td>\n",
       "      <td>0</td>\n",
       "      <td>0</td>\n",
       "      <td>0</td>\n",
       "      <td>0</td>\n",
       "      <td>0</td>\n",
       "    </tr>\n",
       "    <tr>\n",
       "      <th>1</th>\n",
       "      <td>460726</td>\n",
       "      <td>2013-01-01</td>\n",
       "      <td>California</td>\n",
       "      <td>Hawthorne</td>\n",
       "      <td>13500 block of Cerise Avenue</td>\n",
       "      <td>1</td>\n",
       "      <td>3</td>\n",
       "      <td>http://www.gunviolencearchive.org/incident/460726</td>\n",
       "      <td>http://www.dailybulletin.com/article/zz/201301...</td>\n",
       "      <td>False</td>\n",
       "      <td>43.0</td>\n",
       "      <td>NaN</td>\n",
       "      <td>NaN</td>\n",
       "      <td>Shot - Wounded/Injured||Shot - Dead (murder, a...</td>\n",
       "      <td>33.9090</td>\n",
       "      <td>NaN</td>\n",
       "      <td>-118.3330</td>\n",
       "      <td>NaN</td>\n",
       "      <td>Four Shot; One Killed; Unidentified shooter in...</td>\n",
       "      <td>0::20</td>\n",
       "      <td>0::Adult 18+||1::Adult 18+||2::Adult 18+||3::A...</td>\n",
       "      <td>0::Male</td>\n",
       "      <td>0::Bernard Gillis</td>\n",
       "      <td>NaN</td>\n",
       "      <td>0::Killed||1::Injured||2::Injured||3::Injured</td>\n",
       "      <td>0::Victim||1::Victim||2::Victim||3::Victim||4:...</td>\n",
       "      <td>http://losangeles.cbslocal.com/2013/01/01/man-...</td>\n",
       "      <td>62.0</td>\n",
       "      <td>35.0</td>\n",
       "      <td>4</td>\n",
       "      <td>1</td>\n",
       "      <td>0</td>\n",
       "      <td>1</td>\n",
       "      <td>4</td>\n",
       "      <td>0</td>\n",
       "      <td>0</td>\n",
       "      <td>4</td>\n",
       "      <td>0</td>\n",
       "      <td>0</td>\n",
       "      <td>0</td>\n",
       "      <td>1</td>\n",
       "      <td>0</td>\n",
       "      <td>0</td>\n",
       "      <td>39538223</td>\n",
       "      <td>0</td>\n",
       "      <td>0</td>\n",
       "      <td>0</td>\n",
       "      <td>Winter</td>\n",
       "      <td>West</td>\n",
       "      <td>CA</td>\n",
       "      <td>0</td>\n",
       "      <td>0</td>\n",
       "      <td>0</td>\n",
       "      <td>0</td>\n",
       "      <td>0</td>\n",
       "      <td>0</td>\n",
       "      <td>0</td>\n",
       "      <td>0</td>\n",
       "      <td>0</td>\n",
       "      <td>0</td>\n",
       "      <td>0</td>\n",
       "    </tr>\n",
       "    <tr>\n",
       "      <th>2</th>\n",
       "      <td>478855</td>\n",
       "      <td>2013-01-01</td>\n",
       "      <td>Ohio</td>\n",
       "      <td>Lorain</td>\n",
       "      <td>1776 East 28th Street</td>\n",
       "      <td>1</td>\n",
       "      <td>3</td>\n",
       "      <td>http://www.gunviolencearchive.org/incident/478855</td>\n",
       "      <td>http://chronicle.northcoastnow.com/2013/02/14/...</td>\n",
       "      <td>False</td>\n",
       "      <td>9.0</td>\n",
       "      <td>0::Unknown||1::Unknown</td>\n",
       "      <td>0::Unknown||1::Unknown</td>\n",
       "      <td>Shot - Wounded/Injured||Shot - Dead (murder, a...</td>\n",
       "      <td>41.4455</td>\n",
       "      <td>Cotton Club</td>\n",
       "      <td>-82.1377</td>\n",
       "      <td>2.0</td>\n",
       "      <td>NaN</td>\n",
       "      <td>0::25||1::31||2::33||3::34||4::33</td>\n",
       "      <td>0::Adult 18+||1::Adult 18+||2::Adult 18+||3::A...</td>\n",
       "      <td>0::Male||1::Male||2::Male||3::Male||4::Male</td>\n",
       "      <td>0::Damien Bell||1::Desmen Noble||2::Herman Sea...</td>\n",
       "      <td>NaN</td>\n",
       "      <td>0::Injured, Unharmed, Arrested||1::Unharmed, A...</td>\n",
       "      <td>0::Subject-Suspect||1::Subject-Suspect||2::Vic...</td>\n",
       "      <td>http://www.morningjournal.com/general-news/201...</td>\n",
       "      <td>56.0</td>\n",
       "      <td>13.0</td>\n",
       "      <td>3</td>\n",
       "      <td>2</td>\n",
       "      <td>0</td>\n",
       "      <td>5</td>\n",
       "      <td>5</td>\n",
       "      <td>0</td>\n",
       "      <td>2</td>\n",
       "      <td>3</td>\n",
       "      <td>0</td>\n",
       "      <td>0</td>\n",
       "      <td>2</td>\n",
       "      <td>3</td>\n",
       "      <td>0</td>\n",
       "      <td>0</td>\n",
       "      <td>11799448</td>\n",
       "      <td>0</td>\n",
       "      <td>2</td>\n",
       "      <td>0</td>\n",
       "      <td>Winter</td>\n",
       "      <td>Midwest</td>\n",
       "      <td>OH</td>\n",
       "      <td>0</td>\n",
       "      <td>0</td>\n",
       "      <td>0</td>\n",
       "      <td>2</td>\n",
       "      <td>0</td>\n",
       "      <td>0</td>\n",
       "      <td>0</td>\n",
       "      <td>0</td>\n",
       "      <td>0</td>\n",
       "      <td>0</td>\n",
       "      <td>0</td>\n",
       "    </tr>\n",
       "    <tr>\n",
       "      <th>3</th>\n",
       "      <td>478925</td>\n",
       "      <td>2013-01-05</td>\n",
       "      <td>Colorado</td>\n",
       "      <td>Aurora</td>\n",
       "      <td>16000 block of East Ithaca Place</td>\n",
       "      <td>4</td>\n",
       "      <td>0</td>\n",
       "      <td>http://www.gunviolencearchive.org/incident/478925</td>\n",
       "      <td>http://www.dailydemocrat.com/20130106/aurora-s...</td>\n",
       "      <td>False</td>\n",
       "      <td>6.0</td>\n",
       "      <td>NaN</td>\n",
       "      <td>NaN</td>\n",
       "      <td>Shot - Dead (murder, accidental, suicide)||Off...</td>\n",
       "      <td>39.6518</td>\n",
       "      <td>NaN</td>\n",
       "      <td>-104.8020</td>\n",
       "      <td>NaN</td>\n",
       "      <td>NaN</td>\n",
       "      <td>0::29||1::33||2::56||3::33</td>\n",
       "      <td>0::Adult 18+||1::Adult 18+||2::Adult 18+||3::A...</td>\n",
       "      <td>0::Female||1::Male||2::Male||3::Male</td>\n",
       "      <td>0::Stacie Philbrook||1::Christopher Ratliffe||...</td>\n",
       "      <td>NaN</td>\n",
       "      <td>0::Killed||1::Killed||2::Killed||3::Killed</td>\n",
       "      <td>0::Victim||1::Victim||2::Victim||3::Subject-Su...</td>\n",
       "      <td>http://denver.cbslocal.com/2013/01/06/officer-...</td>\n",
       "      <td>40.0</td>\n",
       "      <td>28.0</td>\n",
       "      <td>3</td>\n",
       "      <td>1</td>\n",
       "      <td>1</td>\n",
       "      <td>3</td>\n",
       "      <td>4</td>\n",
       "      <td>0</td>\n",
       "      <td>1</td>\n",
       "      <td>3</td>\n",
       "      <td>0</td>\n",
       "      <td>0</td>\n",
       "      <td>1</td>\n",
       "      <td>2</td>\n",
       "      <td>0</td>\n",
       "      <td>1</td>\n",
       "      <td>5773714</td>\n",
       "      <td>0</td>\n",
       "      <td>0</td>\n",
       "      <td>0</td>\n",
       "      <td>Winter</td>\n",
       "      <td>West</td>\n",
       "      <td>CO</td>\n",
       "      <td>0</td>\n",
       "      <td>0</td>\n",
       "      <td>0</td>\n",
       "      <td>0</td>\n",
       "      <td>0</td>\n",
       "      <td>0</td>\n",
       "      <td>0</td>\n",
       "      <td>0</td>\n",
       "      <td>0</td>\n",
       "      <td>0</td>\n",
       "      <td>0</td>\n",
       "    </tr>\n",
       "    <tr>\n",
       "      <th>4</th>\n",
       "      <td>478959</td>\n",
       "      <td>2013-01-07</td>\n",
       "      <td>North Carolina</td>\n",
       "      <td>Greensboro</td>\n",
       "      <td>307 Mourning Dove Terrace</td>\n",
       "      <td>2</td>\n",
       "      <td>2</td>\n",
       "      <td>http://www.gunviolencearchive.org/incident/478959</td>\n",
       "      <td>http://www.journalnow.com/news/local/article_d...</td>\n",
       "      <td>False</td>\n",
       "      <td>6.0</td>\n",
       "      <td>0::Unknown||1::Unknown</td>\n",
       "      <td>0::Handgun||1::Handgun</td>\n",
       "      <td>Shot - Wounded/Injured||Shot - Dead (murder, a...</td>\n",
       "      <td>36.1140</td>\n",
       "      <td>NaN</td>\n",
       "      <td>-79.9569</td>\n",
       "      <td>2.0</td>\n",
       "      <td>Two firearms recovered. (Attempted) murder sui...</td>\n",
       "      <td>0::18||1::46||2::14||3::47</td>\n",
       "      <td>0::Adult 18+||1::Adult 18+||2::Teen 12-17||3::...</td>\n",
       "      <td>0::Female||1::Male||2::Male||3::Female</td>\n",
       "      <td>0::Danielle Imani Jameison||1::Maurice Eugene ...</td>\n",
       "      <td>3::Family</td>\n",
       "      <td>0::Injured||1::Injured||2::Killed||3::Killed</td>\n",
       "      <td>0::Victim||1::Victim||2::Victim||3::Subject-Su...</td>\n",
       "      <td>http://myfox8.com/2013/01/08/update-mother-sho...</td>\n",
       "      <td>62.0</td>\n",
       "      <td>27.0</td>\n",
       "      <td>3</td>\n",
       "      <td>1</td>\n",
       "      <td>2</td>\n",
       "      <td>2</td>\n",
       "      <td>3</td>\n",
       "      <td>1</td>\n",
       "      <td>1</td>\n",
       "      <td>2</td>\n",
       "      <td>0</td>\n",
       "      <td>1</td>\n",
       "      <td>0</td>\n",
       "      <td>2</td>\n",
       "      <td>1</td>\n",
       "      <td>1</td>\n",
       "      <td>10439388</td>\n",
       "      <td>0</td>\n",
       "      <td>2</td>\n",
       "      <td>0</td>\n",
       "      <td>Winter</td>\n",
       "      <td>South</td>\n",
       "      <td>NC</td>\n",
       "      <td>2</td>\n",
       "      <td>0</td>\n",
       "      <td>0</td>\n",
       "      <td>0</td>\n",
       "      <td>0</td>\n",
       "      <td>0</td>\n",
       "      <td>0</td>\n",
       "      <td>0</td>\n",
       "      <td>0</td>\n",
       "      <td>0</td>\n",
       "      <td>0</td>\n",
       "    </tr>\n",
       "    <tr>\n",
       "      <th>5</th>\n",
       "      <td>478948</td>\n",
       "      <td>2013-01-07</td>\n",
       "      <td>Oklahoma</td>\n",
       "      <td>Tulsa</td>\n",
       "      <td>6000 block of South Owasso</td>\n",
       "      <td>4</td>\n",
       "      <td>0</td>\n",
       "      <td>http://www.gunviolencearchive.org/incident/478948</td>\n",
       "      <td>http://usnews.nbcnews.com/_news/2013/01/07/163...</td>\n",
       "      <td>False</td>\n",
       "      <td>1.0</td>\n",
       "      <td>NaN</td>\n",
       "      <td>NaN</td>\n",
       "      <td>Shot - Dead (murder, accidental, suicide)||Hom...</td>\n",
       "      <td>36.2405</td>\n",
       "      <td>Fairmont Terrace</td>\n",
       "      <td>-95.9768</td>\n",
       "      <td>NaN</td>\n",
       "      <td>NaN</td>\n",
       "      <td>0::23||1::23||2::33||3::55</td>\n",
       "      <td>0::Adult 18+||1::Adult 18+||2::Adult 18+||3::A...</td>\n",
       "      <td>0::Female||1::Female||2::Female||3::Female||4:...</td>\n",
       "      <td>0::Rebeika Powell||1::Kayetie Melchor||2::Mist...</td>\n",
       "      <td>NaN</td>\n",
       "      <td>0::Killed||1::Killed||2::Killed||3::Killed||4:...</td>\n",
       "      <td>0::Victim||1::Victim||2::Victim||3::Victim||4:...</td>\n",
       "      <td>http://www.kjrh.com/news/local-news/4-found-sh...</td>\n",
       "      <td>72.0</td>\n",
       "      <td>11.0</td>\n",
       "      <td>4</td>\n",
       "      <td>2</td>\n",
       "      <td>4</td>\n",
       "      <td>2</td>\n",
       "      <td>6</td>\n",
       "      <td>0</td>\n",
       "      <td>2</td>\n",
       "      <td>4</td>\n",
       "      <td>0</td>\n",
       "      <td>0</td>\n",
       "      <td>2</td>\n",
       "      <td>0</td>\n",
       "      <td>0</td>\n",
       "      <td>4</td>\n",
       "      <td>3959353</td>\n",
       "      <td>0</td>\n",
       "      <td>0</td>\n",
       "      <td>0</td>\n",
       "      <td>Winter</td>\n",
       "      <td>South</td>\n",
       "      <td>OK</td>\n",
       "      <td>0</td>\n",
       "      <td>0</td>\n",
       "      <td>0</td>\n",
       "      <td>0</td>\n",
       "      <td>0</td>\n",
       "      <td>0</td>\n",
       "      <td>0</td>\n",
       "      <td>0</td>\n",
       "      <td>0</td>\n",
       "      <td>0</td>\n",
       "      <td>0</td>\n",
       "    </tr>\n",
       "    <tr>\n",
       "      <th>6</th>\n",
       "      <td>479363</td>\n",
       "      <td>2013-01-19</td>\n",
       "      <td>New Mexico</td>\n",
       "      <td>Albuquerque</td>\n",
       "      <td>2806 Long Lane</td>\n",
       "      <td>5</td>\n",
       "      <td>0</td>\n",
       "      <td>http://www.gunviolencearchive.org/incident/479363</td>\n",
       "      <td>http://hinterlandgazette.com/2013/01/pastor-gr...</td>\n",
       "      <td>False</td>\n",
       "      <td>1.0</td>\n",
       "      <td>0::Unknown||1::Unknown</td>\n",
       "      <td>0::22 LR||1::223 Rem [AR-15]</td>\n",
       "      <td>Shot - Dead (murder, accidental, suicide)||Mas...</td>\n",
       "      <td>34.9791</td>\n",
       "      <td>NaN</td>\n",
       "      <td>-106.7160</td>\n",
       "      <td>2.0</td>\n",
       "      <td>NaN</td>\n",
       "      <td>0::51||1::40||2::9||3::5||4::2||5::15</td>\n",
       "      <td>0::Adult 18+||1::Adult 18+||2::Child 0-11||3::...</td>\n",
       "      <td>0::Male||1::Female||2::Male||3::Female||4::Fem...</td>\n",
       "      <td>0::Greg Griego||1::Sara Griego||2::Zephania Gr...</td>\n",
       "      <td>5::Family</td>\n",
       "      <td>0::Killed||1::Killed||2::Killed||3::Killed||4:...</td>\n",
       "      <td>0::Victim||1::Victim||2::Victim||3::Victim||4:...</td>\n",
       "      <td>http://www.cbsnews.com/news/nehemiah-gringo-ca...</td>\n",
       "      <td>10.0</td>\n",
       "      <td>14.0</td>\n",
       "      <td>5</td>\n",
       "      <td>1</td>\n",
       "      <td>3</td>\n",
       "      <td>3</td>\n",
       "      <td>2</td>\n",
       "      <td>1</td>\n",
       "      <td>0</td>\n",
       "      <td>2</td>\n",
       "      <td>1</td>\n",
       "      <td>0</td>\n",
       "      <td>1</td>\n",
       "      <td>2</td>\n",
       "      <td>0</td>\n",
       "      <td>3</td>\n",
       "      <td>2117522</td>\n",
       "      <td>0</td>\n",
       "      <td>2</td>\n",
       "      <td>0</td>\n",
       "      <td>Winter</td>\n",
       "      <td>West</td>\n",
       "      <td>NM</td>\n",
       "      <td>0</td>\n",
       "      <td>0</td>\n",
       "      <td>1</td>\n",
       "      <td>0</td>\n",
       "      <td>0</td>\n",
       "      <td>1</td>\n",
       "      <td>0</td>\n",
       "      <td>0</td>\n",
       "      <td>0</td>\n",
       "      <td>0</td>\n",
       "      <td>0</td>\n",
       "    </tr>\n",
       "    <tr>\n",
       "      <th>7</th>\n",
       "      <td>479374</td>\n",
       "      <td>2013-01-21</td>\n",
       "      <td>Louisiana</td>\n",
       "      <td>New Orleans</td>\n",
       "      <td>LaSalle Street and Martin Luther King Jr. Boul...</td>\n",
       "      <td>0</td>\n",
       "      <td>5</td>\n",
       "      <td>http://www.gunviolencearchive.org/incident/479374</td>\n",
       "      <td>http://www.nola.com/crime/index.ssf/2013/01/no...</td>\n",
       "      <td>False</td>\n",
       "      <td>2.0</td>\n",
       "      <td>NaN</td>\n",
       "      <td>NaN</td>\n",
       "      <td>Shot - Wounded/Injured||Drive-by (car to stree...</td>\n",
       "      <td>29.9435</td>\n",
       "      <td>NaN</td>\n",
       "      <td>-90.0836</td>\n",
       "      <td>NaN</td>\n",
       "      <td>Unprovoked drive-by results in multiple teens ...</td>\n",
       "      <td>NaN</td>\n",
       "      <td>NaN</td>\n",
       "      <td>0::Male||1::Male||2::Male||3::Male||4::Male</td>\n",
       "      <td>NaN</td>\n",
       "      <td>NaN</td>\n",
       "      <td>0::Injured||1::Injured||2::Injured||3::Injured...</td>\n",
       "      <td>0::Victim||1::Victim||2::Victim||3::Victim||4:...</td>\n",
       "      <td>http://www.huffingtonpost.com/2013/01/21/new-o...</td>\n",
       "      <td>93.0</td>\n",
       "      <td>5.0</td>\n",
       "      <td>5</td>\n",
       "      <td>1</td>\n",
       "      <td>0</td>\n",
       "      <td>5</td>\n",
       "      <td>0</td>\n",
       "      <td>0</td>\n",
       "      <td>0</td>\n",
       "      <td>0</td>\n",
       "      <td>0</td>\n",
       "      <td>0</td>\n",
       "      <td>0</td>\n",
       "      <td>5</td>\n",
       "      <td>0</td>\n",
       "      <td>0</td>\n",
       "      <td>4657757</td>\n",
       "      <td>0</td>\n",
       "      <td>0</td>\n",
       "      <td>0</td>\n",
       "      <td>Winter</td>\n",
       "      <td>South</td>\n",
       "      <td>LA</td>\n",
       "      <td>0</td>\n",
       "      <td>0</td>\n",
       "      <td>0</td>\n",
       "      <td>0</td>\n",
       "      <td>0</td>\n",
       "      <td>0</td>\n",
       "      <td>0</td>\n",
       "      <td>0</td>\n",
       "      <td>0</td>\n",
       "      <td>0</td>\n",
       "      <td>0</td>\n",
       "    </tr>\n",
       "    <tr>\n",
       "      <th>8</th>\n",
       "      <td>479389</td>\n",
       "      <td>2013-01-21</td>\n",
       "      <td>California</td>\n",
       "      <td>Brentwood</td>\n",
       "      <td>1100 block of Breton Drive</td>\n",
       "      <td>0</td>\n",
       "      <td>4</td>\n",
       "      <td>http://www.gunviolencearchive.org/incident/479389</td>\n",
       "      <td>http://sanfrancisco.cbslocal.com/2013/01/22/4-...</td>\n",
       "      <td>False</td>\n",
       "      <td>9.0</td>\n",
       "      <td>NaN</td>\n",
       "      <td>NaN</td>\n",
       "      <td>Shot - Wounded/Injured||Drive-by (car to stree...</td>\n",
       "      <td>37.9656</td>\n",
       "      <td>NaN</td>\n",
       "      <td>-121.7180</td>\n",
       "      <td>NaN</td>\n",
       "      <td>Perps were likely motivated by gang affliations</td>\n",
       "      <td>NaN</td>\n",
       "      <td>0::Teen 12-17||1::Teen 12-17||2::Teen 12-17||4...</td>\n",
       "      <td>0::Male||1::Male||2::Male||3::Male||4::Male</td>\n",
       "      <td>NaN</td>\n",
       "      <td>NaN</td>\n",
       "      <td>0::Injured||1::Injured||2::Injured||3::Injured...</td>\n",
       "      <td>0::Victim||1::Victim||2::Victim||3::Victim||4:...</td>\n",
       "      <td>http://www.contracostatimes.com/ci_22426767/br...</td>\n",
       "      <td>11.0</td>\n",
       "      <td>7.0</td>\n",
       "      <td>4</td>\n",
       "      <td>1</td>\n",
       "      <td>0</td>\n",
       "      <td>5</td>\n",
       "      <td>1</td>\n",
       "      <td>3</td>\n",
       "      <td>1</td>\n",
       "      <td>0</td>\n",
       "      <td>0</td>\n",
       "      <td>3</td>\n",
       "      <td>1</td>\n",
       "      <td>4</td>\n",
       "      <td>0</td>\n",
       "      <td>0</td>\n",
       "      <td>39538223</td>\n",
       "      <td>0</td>\n",
       "      <td>0</td>\n",
       "      <td>0</td>\n",
       "      <td>Winter</td>\n",
       "      <td>West</td>\n",
       "      <td>CA</td>\n",
       "      <td>0</td>\n",
       "      <td>0</td>\n",
       "      <td>0</td>\n",
       "      <td>0</td>\n",
       "      <td>0</td>\n",
       "      <td>0</td>\n",
       "      <td>0</td>\n",
       "      <td>0</td>\n",
       "      <td>0</td>\n",
       "      <td>0</td>\n",
       "      <td>0</td>\n",
       "    </tr>\n",
       "    <tr>\n",
       "      <th>9</th>\n",
       "      <td>492151</td>\n",
       "      <td>2013-01-23</td>\n",
       "      <td>Maryland</td>\n",
       "      <td>Baltimore</td>\n",
       "      <td>1500 block of W. Fayette St.</td>\n",
       "      <td>1</td>\n",
       "      <td>6</td>\n",
       "      <td>http://www.gunviolencearchive.org/incident/492151</td>\n",
       "      <td>http://www.abc2news.com/news/crime-checker/bal...</td>\n",
       "      <td>False</td>\n",
       "      <td>7.0</td>\n",
       "      <td>NaN</td>\n",
       "      <td>NaN</td>\n",
       "      <td>Shot - Wounded/Injured||Shot - Dead (murder, a...</td>\n",
       "      <td>39.2899</td>\n",
       "      <td>NaN</td>\n",
       "      <td>-76.6412</td>\n",
       "      <td>NaN</td>\n",
       "      <td>Shooting occurred over illegal dice game; vict...</td>\n",
       "      <td>0::15</td>\n",
       "      <td>0::Teen 12-17||1::Adult 18+||2::Adult 18+||3::...</td>\n",
       "      <td>0::Male</td>\n",
       "      <td>0::Deshaun Jones</td>\n",
       "      <td>NaN</td>\n",
       "      <td>0::Killed||1::Injured||2::Injured||3::Injured|...</td>\n",
       "      <td>0::Victim||1::Victim||2::Victim||3::Victim||4:...</td>\n",
       "      <td>http://articles.baltimoresun.com/2013-08-25/ne...</td>\n",
       "      <td>NaN</td>\n",
       "      <td>44.0</td>\n",
       "      <td>7</td>\n",
       "      <td>0</td>\n",
       "      <td>0</td>\n",
       "      <td>1</td>\n",
       "      <td>6</td>\n",
       "      <td>1</td>\n",
       "      <td>0</td>\n",
       "      <td>6</td>\n",
       "      <td>0</td>\n",
       "      <td>1</td>\n",
       "      <td>0</td>\n",
       "      <td>1</td>\n",
       "      <td>0</td>\n",
       "      <td>0</td>\n",
       "      <td>6177224</td>\n",
       "      <td>0</td>\n",
       "      <td>0</td>\n",
       "      <td>0</td>\n",
       "      <td>Winter</td>\n",
       "      <td>South</td>\n",
       "      <td>MD</td>\n",
       "      <td>0</td>\n",
       "      <td>0</td>\n",
       "      <td>0</td>\n",
       "      <td>0</td>\n",
       "      <td>0</td>\n",
       "      <td>0</td>\n",
       "      <td>0</td>\n",
       "      <td>0</td>\n",
       "      <td>0</td>\n",
       "      <td>0</td>\n",
       "      <td>0</td>\n",
       "    </tr>\n",
       "    <tr>\n",
       "      <th>10</th>\n",
       "      <td>491674</td>\n",
       "      <td>2013-01-23</td>\n",
       "      <td>Tennessee</td>\n",
       "      <td>Chattanooga</td>\n",
       "      <td>1501 Dodds Ave</td>\n",
       "      <td>1</td>\n",
       "      <td>3</td>\n",
       "      <td>http://www.gunviolencearchive.org/incident/491674</td>\n",
       "      <td>http://www.wrcbtv.com/story/22664154/one-dead-...</td>\n",
       "      <td>False</td>\n",
       "      <td>3.0</td>\n",
       "      <td>0::Unknown</td>\n",
       "      <td>0::Unknown</td>\n",
       "      <td>Shot - Wounded/Injured||Shot - Dead (murder, a...</td>\n",
       "      <td>35.0221</td>\n",
       "      <td>NaN</td>\n",
       "      <td>-85.2697</td>\n",
       "      <td>1.0</td>\n",
       "      <td>19 yr. old male dies; 3 inured; shooting on Do...</td>\n",
       "      <td>0::19</td>\n",
       "      <td>0::Adult 18+</td>\n",
       "      <td>0::Male||1::Male||2::Male||3::Male</td>\n",
       "      <td>0::Demetrius Davis</td>\n",
       "      <td>NaN</td>\n",
       "      <td>0::Killed||1::Injured||2::Injured||3::Injured</td>\n",
       "      <td>0::Victim||1::Victim||2::Victim||3::Victim||4:...</td>\n",
       "      <td>http://www.wrcbtv.com/story/22664154/one-dead-...</td>\n",
       "      <td>28.0</td>\n",
       "      <td>10.0</td>\n",
       "      <td>4</td>\n",
       "      <td>1</td>\n",
       "      <td>0</td>\n",
       "      <td>4</td>\n",
       "      <td>1</td>\n",
       "      <td>0</td>\n",
       "      <td>0</td>\n",
       "      <td>1</td>\n",
       "      <td>0</td>\n",
       "      <td>0</td>\n",
       "      <td>0</td>\n",
       "      <td>4</td>\n",
       "      <td>0</td>\n",
       "      <td>0</td>\n",
       "      <td>6910840</td>\n",
       "      <td>0</td>\n",
       "      <td>1</td>\n",
       "      <td>0</td>\n",
       "      <td>Winter</td>\n",
       "      <td>South</td>\n",
       "      <td>TN</td>\n",
       "      <td>0</td>\n",
       "      <td>0</td>\n",
       "      <td>0</td>\n",
       "      <td>1</td>\n",
       "      <td>0</td>\n",
       "      <td>0</td>\n",
       "      <td>0</td>\n",
       "      <td>0</td>\n",
       "      <td>0</td>\n",
       "      <td>0</td>\n",
       "      <td>0</td>\n",
       "    </tr>\n",
       "    <tr>\n",
       "      <th>11</th>\n",
       "      <td>479413</td>\n",
       "      <td>2013-01-25</td>\n",
       "      <td>Missouri</td>\n",
       "      <td>Saint Louis</td>\n",
       "      <td>W Florissant Ave and Riverview Blvd</td>\n",
       "      <td>1</td>\n",
       "      <td>3</td>\n",
       "      <td>http://www.gunviolencearchive.org/incident/479413</td>\n",
       "      <td>http://stlouis.cbslocal.com/2013/01/25/one-dea...</td>\n",
       "      <td>False</td>\n",
       "      <td>1.0</td>\n",
       "      <td>0::Unknown</td>\n",
       "      <td>0::Unknown</td>\n",
       "      <td>Shot - Wounded/Injured||Shot - Dead (murder, a...</td>\n",
       "      <td>38.7067</td>\n",
       "      <td>NaN</td>\n",
       "      <td>-90.2494</td>\n",
       "      <td>1.0</td>\n",
       "      <td>38.706732, -90.249375</td>\n",
       "      <td>0::28</td>\n",
       "      <td>0::Adult 18+</td>\n",
       "      <td>0::Male</td>\n",
       "      <td>0::Terry Robinson Jr.</td>\n",
       "      <td>NaN</td>\n",
       "      <td>0::Killed||1::Injured||2::Injured||3::Injured</td>\n",
       "      <td>0::Victim||1::Victim||2::Victim||3::Victim||4:...</td>\n",
       "      <td>http://fox2now.com/2013/01/25/two-shot-in-nort...</td>\n",
       "      <td>76.0</td>\n",
       "      <td>4.0</td>\n",
       "      <td>4</td>\n",
       "      <td>1</td>\n",
       "      <td>0</td>\n",
       "      <td>1</td>\n",
       "      <td>1</td>\n",
       "      <td>0</td>\n",
       "      <td>0</td>\n",
       "      <td>1</td>\n",
       "      <td>0</td>\n",
       "      <td>0</td>\n",
       "      <td>0</td>\n",
       "      <td>1</td>\n",
       "      <td>0</td>\n",
       "      <td>0</td>\n",
       "      <td>6154913</td>\n",
       "      <td>0</td>\n",
       "      <td>1</td>\n",
       "      <td>0</td>\n",
       "      <td>Winter</td>\n",
       "      <td>Midwest</td>\n",
       "      <td>MO</td>\n",
       "      <td>0</td>\n",
       "      <td>0</td>\n",
       "      <td>0</td>\n",
       "      <td>1</td>\n",
       "      <td>0</td>\n",
       "      <td>0</td>\n",
       "      <td>0</td>\n",
       "      <td>0</td>\n",
       "      <td>0</td>\n",
       "      <td>0</td>\n",
       "      <td>0</td>\n",
       "    </tr>\n",
       "    <tr>\n",
       "      <th>12</th>\n",
       "      <td>479561</td>\n",
       "      <td>2013-01-26</td>\n",
       "      <td>Louisiana</td>\n",
       "      <td>Charenton</td>\n",
       "      <td>1000 block of Flat Town Road</td>\n",
       "      <td>2</td>\n",
       "      <td>3</td>\n",
       "      <td>http://www.gunviolencearchive.org/incident/479561</td>\n",
       "      <td>http://www.huffingtonpost.com/2013/01/27/wilbe...</td>\n",
       "      <td>False</td>\n",
       "      <td>3.0</td>\n",
       "      <td>0::Unknown</td>\n",
       "      <td>0::Shotgun</td>\n",
       "      <td>Shot - Wounded/Injured||Shot - Dead (murder, a...</td>\n",
       "      <td>29.8816</td>\n",
       "      <td>NaN</td>\n",
       "      <td>-91.5251</td>\n",
       "      <td>1.0</td>\n",
       "      <td>Ofc. hailed from Chitimacha Tribe of Louisiana...</td>\n",
       "      <td>3::78||4::48</td>\n",
       "      <td>0::Adult 18+||1::Adult 18+||2::Adult 18+||3::A...</td>\n",
       "      <td>0::Male||1::Male||2::Male||3::Male||4::Male</td>\n",
       "      <td>0::Ofc.||1::Dep.||2::Dep.||3::Eddie Lyons||4::...</td>\n",
       "      <td>NaN</td>\n",
       "      <td>0::Killed||1::Injured||2::Injured||3::Killed||...</td>\n",
       "      <td>0::Victim||1::Victim||2::Victim||3::Victim||4:...</td>\n",
       "      <td>http://theadvocate.com/home/5018249-125/3-law-...</td>\n",
       "      <td>50.0</td>\n",
       "      <td>21.0</td>\n",
       "      <td>4</td>\n",
       "      <td>1</td>\n",
       "      <td>0</td>\n",
       "      <td>5</td>\n",
       "      <td>5</td>\n",
       "      <td>0</td>\n",
       "      <td>1</td>\n",
       "      <td>4</td>\n",
       "      <td>0</td>\n",
       "      <td>0</td>\n",
       "      <td>1</td>\n",
       "      <td>4</td>\n",
       "      <td>0</td>\n",
       "      <td>0</td>\n",
       "      <td>4657757</td>\n",
       "      <td>0</td>\n",
       "      <td>1</td>\n",
       "      <td>0</td>\n",
       "      <td>Winter</td>\n",
       "      <td>South</td>\n",
       "      <td>LA</td>\n",
       "      <td>0</td>\n",
       "      <td>0</td>\n",
       "      <td>0</td>\n",
       "      <td>0</td>\n",
       "      <td>0</td>\n",
       "      <td>0</td>\n",
       "      <td>1</td>\n",
       "      <td>0</td>\n",
       "      <td>0</td>\n",
       "      <td>0</td>\n",
       "      <td>0</td>\n",
       "    </tr>\n",
       "    <tr>\n",
       "      <th>13</th>\n",
       "      <td>479554</td>\n",
       "      <td>2013-01-26</td>\n",
       "      <td>District of Columbia</td>\n",
       "      <td>Washington</td>\n",
       "      <td>2403 Benning Road Northeast</td>\n",
       "      <td>0</td>\n",
       "      <td>5</td>\n",
       "      <td>http://www.gunviolencearchive.org/incident/479554</td>\n",
       "      <td>http://www.washingtontimes.com/news/2013/jan/2...</td>\n",
       "      <td>False</td>\n",
       "      <td>1.0</td>\n",
       "      <td>0::Unknown</td>\n",
       "      <td>0::Handgun</td>\n",
       "      <td>Shot - Wounded/Injured||Mass Shooting (4+ vict...</td>\n",
       "      <td>38.8978</td>\n",
       "      <td>NaN</td>\n",
       "      <td>-76.9717</td>\n",
       "      <td>1.0</td>\n",
       "      <td>Media accounts conflict as to gender of victim...</td>\n",
       "      <td>NaN</td>\n",
       "      <td>0::Adult 18+||1::Adult 18+||2::Adult 18+||3::A...</td>\n",
       "      <td>0::Female||1::Female||2::Male||3::Male||4::Mal...</td>\n",
       "      <td>NaN</td>\n",
       "      <td>NaN</td>\n",
       "      <td>0::Injured||1::Injured||2::Injured||3::Injured...</td>\n",
       "      <td>0::Victim||1::Victim||2::Victim||3::Victim||4:...</td>\n",
       "      <td>http://www.washingtonexaminer.com/d.c.-nightcl...</td>\n",
       "      <td>NaN</td>\n",
       "      <td>NaN</td>\n",
       "      <td>5</td>\n",
       "      <td>1</td>\n",
       "      <td>2</td>\n",
       "      <td>4</td>\n",
       "      <td>6</td>\n",
       "      <td>0</td>\n",
       "      <td>1</td>\n",
       "      <td>5</td>\n",
       "      <td>0</td>\n",
       "      <td>0</td>\n",
       "      <td>1</td>\n",
       "      <td>3</td>\n",
       "      <td>0</td>\n",
       "      <td>2</td>\n",
       "      <td>689545</td>\n",
       "      <td>0</td>\n",
       "      <td>1</td>\n",
       "      <td>0</td>\n",
       "      <td>Winter</td>\n",
       "      <td>South</td>\n",
       "      <td>DC</td>\n",
       "      <td>1</td>\n",
       "      <td>0</td>\n",
       "      <td>0</td>\n",
       "      <td>0</td>\n",
       "      <td>0</td>\n",
       "      <td>0</td>\n",
       "      <td>0</td>\n",
       "      <td>0</td>\n",
       "      <td>0</td>\n",
       "      <td>0</td>\n",
       "      <td>0</td>\n",
       "    </tr>\n",
       "    <tr>\n",
       "      <th>14</th>\n",
       "      <td>479460</td>\n",
       "      <td>2013-01-26</td>\n",
       "      <td>Ohio</td>\n",
       "      <td>Springfield</td>\n",
       "      <td>601 West Main Street</td>\n",
       "      <td>1</td>\n",
       "      <td>3</td>\n",
       "      <td>http://www.gunviolencearchive.org/incident/479460</td>\n",
       "      <td>http://www.whio.com//news/news/crime-law/arres...</td>\n",
       "      <td>False</td>\n",
       "      <td>8.0</td>\n",
       "      <td>NaN</td>\n",
       "      <td>NaN</td>\n",
       "      <td>Shot - Wounded/Injured||Shot - Dead (murder, a...</td>\n",
       "      <td>39.9252</td>\n",
       "      <td>Nite Owl Tavern</td>\n",
       "      <td>-83.8218</td>\n",
       "      <td>NaN</td>\n",
       "      <td>NaN</td>\n",
       "      <td>0::34||1::28||2::23||3::29||4::29</td>\n",
       "      <td>0::Adult 18+||1::Adult 18+||2::Adult 18+||3::A...</td>\n",
       "      <td>0::Male||1::Male||2::Male||3::Male||4::Male</td>\n",
       "      <td>0::Ernest Edwards||1::Anthony Clark||2::Joshua...</td>\n",
       "      <td>NaN</td>\n",
       "      <td>0::Killed||1::Injured||2::Injured||3::Injured|...</td>\n",
       "      <td>0::Victim||1::Victim||2::Victim||3::Victim||4:...</td>\n",
       "      <td>http://www.daytondailynews.com/news/news/1-dea...</td>\n",
       "      <td>79.0</td>\n",
       "      <td>10.0</td>\n",
       "      <td>4</td>\n",
       "      <td>1</td>\n",
       "      <td>0</td>\n",
       "      <td>5</td>\n",
       "      <td>5</td>\n",
       "      <td>0</td>\n",
       "      <td>1</td>\n",
       "      <td>4</td>\n",
       "      <td>0</td>\n",
       "      <td>0</td>\n",
       "      <td>1</td>\n",
       "      <td>4</td>\n",
       "      <td>0</td>\n",
       "      <td>0</td>\n",
       "      <td>11799448</td>\n",
       "      <td>0</td>\n",
       "      <td>0</td>\n",
       "      <td>0</td>\n",
       "      <td>Winter</td>\n",
       "      <td>Midwest</td>\n",
       "      <td>OH</td>\n",
       "      <td>0</td>\n",
       "      <td>0</td>\n",
       "      <td>0</td>\n",
       "      <td>0</td>\n",
       "      <td>0</td>\n",
       "      <td>0</td>\n",
       "      <td>0</td>\n",
       "      <td>0</td>\n",
       "      <td>0</td>\n",
       "      <td>0</td>\n",
       "      <td>0</td>\n",
       "    </tr>\n",
       "    <tr>\n",
       "      <th>15</th>\n",
       "      <td>479573</td>\n",
       "      <td>2013-02-02</td>\n",
       "      <td>Tennessee</td>\n",
       "      <td>Memphis</td>\n",
       "      <td>2514 Mount Moriah</td>\n",
       "      <td>0</td>\n",
       "      <td>5</td>\n",
       "      <td>http://www.gunviolencearchive.org/incident/479573</td>\n",
       "      <td>https://www.highbeam.com/doc/1P2-34349822.html</td>\n",
       "      <td>False</td>\n",
       "      <td>9.0</td>\n",
       "      <td>0::Unknown</td>\n",
       "      <td>0::Handgun</td>\n",
       "      <td>Shot - Wounded/Injured||Mass Shooting (4+ vict...</td>\n",
       "      <td>35.0803</td>\n",
       "      <td>Club Venue</td>\n",
       "      <td>-89.8871</td>\n",
       "      <td>1.0</td>\n",
       "      <td>NaN</td>\n",
       "      <td>5::24</td>\n",
       "      <td>0::Adult 18+||1::Adult 18+||2::Adult 18+||4::A...</td>\n",
       "      <td>0::Female||1::Female||2::Female||3::Female||4:...</td>\n",
       "      <td>4::Mary||5::Sundra Payne</td>\n",
       "      <td>NaN</td>\n",
       "      <td>0::Injured||1::Injured||2::Injured||3::Injured...</td>\n",
       "      <td>0::Victim||1::Victim||2::Victim||3::Victim||4:...</td>\n",
       "      <td>http://wreg.com/2013/02/02/five-hurt-in-memphi...</td>\n",
       "      <td>84.0</td>\n",
       "      <td>33.0</td>\n",
       "      <td>5</td>\n",
       "      <td>1</td>\n",
       "      <td>6</td>\n",
       "      <td>0</td>\n",
       "      <td>5</td>\n",
       "      <td>0</td>\n",
       "      <td>1</td>\n",
       "      <td>4</td>\n",
       "      <td>0</td>\n",
       "      <td>0</td>\n",
       "      <td>0</td>\n",
       "      <td>0</td>\n",
       "      <td>1</td>\n",
       "      <td>5</td>\n",
       "      <td>6910840</td>\n",
       "      <td>0</td>\n",
       "      <td>1</td>\n",
       "      <td>0</td>\n",
       "      <td>Winter</td>\n",
       "      <td>South</td>\n",
       "      <td>TN</td>\n",
       "      <td>1</td>\n",
       "      <td>0</td>\n",
       "      <td>0</td>\n",
       "      <td>0</td>\n",
       "      <td>0</td>\n",
       "      <td>0</td>\n",
       "      <td>0</td>\n",
       "      <td>0</td>\n",
       "      <td>0</td>\n",
       "      <td>0</td>\n",
       "      <td>0</td>\n",
       "    </tr>\n",
       "    <tr>\n",
       "      <th>16</th>\n",
       "      <td>479580</td>\n",
       "      <td>2013-02-03</td>\n",
       "      <td>California</td>\n",
       "      <td>Yuba (county)</td>\n",
       "      <td>5800 block of Poplar Avenue</td>\n",
       "      <td>1</td>\n",
       "      <td>3</td>\n",
       "      <td>http://www.gunviolencearchive.org/incident/479580</td>\n",
       "      <td>http://sacramento.cbslocal.com/2013/02/04/1-de...</td>\n",
       "      <td>False</td>\n",
       "      <td>3.0</td>\n",
       "      <td>0::Unknown</td>\n",
       "      <td>0::9mm</td>\n",
       "      <td>Shot - Wounded/Injured||Shot - Dead (murder, a...</td>\n",
       "      <td>39.1236</td>\n",
       "      <td>NaN</td>\n",
       "      <td>-121.5830</td>\n",
       "      <td>1.0</td>\n",
       "      <td>perps have gang affiliation, but unclear as to...</td>\n",
       "      <td>0::20||4::25||5::18||6::19</td>\n",
       "      <td>0::Adult 18+||1::Adult 18+||2::Adult 18+||3::A...</td>\n",
       "      <td>0::Male||1::Male||2::Female||4::Male||5::Male|...</td>\n",
       "      <td>0::Teng Yang||1::Tou Yang||2::Xong Yang||3::Ya...</td>\n",
       "      <td>4::Drive by - Random victims||5::Drive by - Ra...</td>\n",
       "      <td>0::Killed||1::Injured||2::Injured||3::Injured|...</td>\n",
       "      <td>0::Victim||1::Victim||2::Victim||3::Victim||4:...</td>\n",
       "      <td>http://news.asiantown.net/r/28306/no-death-pen...</td>\n",
       "      <td>3.0</td>\n",
       "      <td>4.0</td>\n",
       "      <td>4</td>\n",
       "      <td>3</td>\n",
       "      <td>1</td>\n",
       "      <td>5</td>\n",
       "      <td>7</td>\n",
       "      <td>0</td>\n",
       "      <td>3</td>\n",
       "      <td>4</td>\n",
       "      <td>0</td>\n",
       "      <td>0</td>\n",
       "      <td>3</td>\n",
       "      <td>2</td>\n",
       "      <td>0</td>\n",
       "      <td>1</td>\n",
       "      <td>39538223</td>\n",
       "      <td>0</td>\n",
       "      <td>1</td>\n",
       "      <td>0</td>\n",
       "      <td>Winter</td>\n",
       "      <td>West</td>\n",
       "      <td>CA</td>\n",
       "      <td>0</td>\n",
       "      <td>1</td>\n",
       "      <td>0</td>\n",
       "      <td>0</td>\n",
       "      <td>0</td>\n",
       "      <td>0</td>\n",
       "      <td>0</td>\n",
       "      <td>0</td>\n",
       "      <td>0</td>\n",
       "      <td>0</td>\n",
       "      <td>0</td>\n",
       "    </tr>\n",
       "    <tr>\n",
       "      <th>17</th>\n",
       "      <td>479592</td>\n",
       "      <td>2013-02-07</td>\n",
       "      <td>Illinois</td>\n",
       "      <td>Chicago</td>\n",
       "      <td>2500 block of East 75th Street</td>\n",
       "      <td>0</td>\n",
       "      <td>4</td>\n",
       "      <td>http://www.gunviolencearchive.org/incident/479592</td>\n",
       "      <td>http://chicago.cbslocal.com/2013/02/07/four-wo...</td>\n",
       "      <td>False</td>\n",
       "      <td>2.0</td>\n",
       "      <td>NaN</td>\n",
       "      <td>NaN</td>\n",
       "      <td>Shot - Wounded/Injured||Drive-by (car to stree...</td>\n",
       "      <td>41.7592</td>\n",
       "      <td>NaN</td>\n",
       "      <td>-87.5628</td>\n",
       "      <td>NaN</td>\n",
       "      <td>NaN</td>\n",
       "      <td>0::18||1::41||2::28||3::28</td>\n",
       "      <td>0::Adult 18+||1::Adult 18+||2::Adult 18+||3::A...</td>\n",
       "      <td>0::Male||1::Male||2::Male||3::Male</td>\n",
       "      <td>NaN</td>\n",
       "      <td>NaN</td>\n",
       "      <td>0::Injured||1::Injured||2::Injured||3::Injured...</td>\n",
       "      <td>0::Victim||1::Victim||2::Victim||3::Victim||4:...</td>\n",
       "      <td>http://crimeinchicago.blogspot.com/2013/02/4-m...</td>\n",
       "      <td>25.0</td>\n",
       "      <td>13.0</td>\n",
       "      <td>4</td>\n",
       "      <td>2</td>\n",
       "      <td>0</td>\n",
       "      <td>4</td>\n",
       "      <td>6</td>\n",
       "      <td>0</td>\n",
       "      <td>2</td>\n",
       "      <td>4</td>\n",
       "      <td>0</td>\n",
       "      <td>0</td>\n",
       "      <td>0</td>\n",
       "      <td>4</td>\n",
       "      <td>0</td>\n",
       "      <td>0</td>\n",
       "      <td>12801989</td>\n",
       "      <td>0</td>\n",
       "      <td>0</td>\n",
       "      <td>0</td>\n",
       "      <td>Winter</td>\n",
       "      <td>Midwest</td>\n",
       "      <td>IL</td>\n",
       "      <td>0</td>\n",
       "      <td>0</td>\n",
       "      <td>0</td>\n",
       "      <td>0</td>\n",
       "      <td>0</td>\n",
       "      <td>0</td>\n",
       "      <td>0</td>\n",
       "      <td>0</td>\n",
       "      <td>0</td>\n",
       "      <td>0</td>\n",
       "      <td>0</td>\n",
       "    </tr>\n",
       "    <tr>\n",
       "      <th>18</th>\n",
       "      <td>479603</td>\n",
       "      <td>2013-02-09</td>\n",
       "      <td>Louisiana</td>\n",
       "      <td>New Orleans</td>\n",
       "      <td>400 block of Bourbon Street</td>\n",
       "      <td>0</td>\n",
       "      <td>4</td>\n",
       "      <td>http://www.gunviolencearchive.org/incident/479603</td>\n",
       "      <td>http://www.nola.com/crime/index.ssf/2013/04/su...</td>\n",
       "      <td>False</td>\n",
       "      <td>2.0</td>\n",
       "      <td>0::Unknown</td>\n",
       "      <td>0::Handgun</td>\n",
       "      <td>Shot - Wounded/Injured||Mass Shooting (4+ vict...</td>\n",
       "      <td>29.9563</td>\n",
       "      <td>NaN</td>\n",
       "      <td>-90.0676</td>\n",
       "      <td>1.0</td>\n",
       "      <td>NaN</td>\n",
       "      <td>0::18||1::22||2::21||3::29||4::19||5::22||6::23</td>\n",
       "      <td>0::Adult 18+||1::Adult 18+||2::Adult 18+||3::A...</td>\n",
       "      <td>0::Male||1::Female||2::Female||3::Male||4::Mal...</td>\n",
       "      <td>4::Malcolm \"London\" Hall||5::Brandon Brown||6:...</td>\n",
       "      <td>NaN</td>\n",
       "      <td>0::Injured||1::Injured||2::Injured||3::Injured...</td>\n",
       "      <td>0::Victim||1::Victim||2::Victim||3::Victim||4:...</td>\n",
       "      <td>http://www.cbsnews.com/news/mardi-gras-shootin...</td>\n",
       "      <td>93.0</td>\n",
       "      <td>4.0</td>\n",
       "      <td>4</td>\n",
       "      <td>3</td>\n",
       "      <td>2</td>\n",
       "      <td>5</td>\n",
       "      <td>7</td>\n",
       "      <td>0</td>\n",
       "      <td>3</td>\n",
       "      <td>4</td>\n",
       "      <td>0</td>\n",
       "      <td>0</td>\n",
       "      <td>3</td>\n",
       "      <td>2</td>\n",
       "      <td>0</td>\n",
       "      <td>2</td>\n",
       "      <td>4657757</td>\n",
       "      <td>0</td>\n",
       "      <td>1</td>\n",
       "      <td>0</td>\n",
       "      <td>Winter</td>\n",
       "      <td>South</td>\n",
       "      <td>LA</td>\n",
       "      <td>1</td>\n",
       "      <td>0</td>\n",
       "      <td>0</td>\n",
       "      <td>0</td>\n",
       "      <td>0</td>\n",
       "      <td>0</td>\n",
       "      <td>0</td>\n",
       "      <td>0</td>\n",
       "      <td>0</td>\n",
       "      <td>0</td>\n",
       "      <td>0</td>\n",
       "    </tr>\n",
       "    <tr>\n",
       "      <th>19</th>\n",
       "      <td>480311</td>\n",
       "      <td>2013-02-11</td>\n",
       "      <td>California</td>\n",
       "      <td>Vallejo</td>\n",
       "      <td>800 block of Humboldt Street</td>\n",
       "      <td>1</td>\n",
       "      <td>4</td>\n",
       "      <td>http://www.gunviolencearchive.org/incident/480311</td>\n",
       "      <td>http://archive.news10.net/news/article/229997/...</td>\n",
       "      <td>False</td>\n",
       "      <td>5.0</td>\n",
       "      <td>NaN</td>\n",
       "      <td>NaN</td>\n",
       "      <td>Shot - Wounded/Injured||Shot - Dead (murder, a...</td>\n",
       "      <td>38.1072</td>\n",
       "      <td>NaN</td>\n",
       "      <td>-122.2280</td>\n",
       "      <td>NaN</td>\n",
       "      <td>NaN</td>\n",
       "      <td>0::22</td>\n",
       "      <td>0::Adult 18+||1::Adult 18+||2::Adult 18+||3::A...</td>\n",
       "      <td>0::Male||1::Male||2::Male||3::Female||4::Female</td>\n",
       "      <td>0::Oscar Garcia</td>\n",
       "      <td>NaN</td>\n",
       "      <td>0::Killed||1::Injured||2::Injured||3::Injured|...</td>\n",
       "      <td>0::Victim||1::Victim||2::Victim||3::Victim||4:...</td>\n",
       "      <td>http://www.timesheraldonline.com/article/ZZ/20...</td>\n",
       "      <td>14.0</td>\n",
       "      <td>3.0</td>\n",
       "      <td>5</td>\n",
       "      <td>0</td>\n",
       "      <td>2</td>\n",
       "      <td>3</td>\n",
       "      <td>5</td>\n",
       "      <td>0</td>\n",
       "      <td>0</td>\n",
       "      <td>5</td>\n",
       "      <td>0</td>\n",
       "      <td>0</td>\n",
       "      <td>0</td>\n",
       "      <td>3</td>\n",
       "      <td>0</td>\n",
       "      <td>2</td>\n",
       "      <td>39538223</td>\n",
       "      <td>0</td>\n",
       "      <td>0</td>\n",
       "      <td>0</td>\n",
       "      <td>Winter</td>\n",
       "      <td>West</td>\n",
       "      <td>CA</td>\n",
       "      <td>0</td>\n",
       "      <td>0</td>\n",
       "      <td>0</td>\n",
       "      <td>0</td>\n",
       "      <td>0</td>\n",
       "      <td>0</td>\n",
       "      <td>0</td>\n",
       "      <td>0</td>\n",
       "      <td>0</td>\n",
       "      <td>0</td>\n",
       "      <td>0</td>\n",
       "    </tr>\n",
       "  </tbody>\n",
       "</table>\n",
       "</div>"
      ],
      "text/plain": [
       "    incident_id        date                 state city_or_county  \\\n",
       "0        461105  2013-01-01          Pennsylvania     Mckeesport   \n",
       "1        460726  2013-01-01            California      Hawthorne   \n",
       "2        478855  2013-01-01                  Ohio         Lorain   \n",
       "3        478925  2013-01-05              Colorado         Aurora   \n",
       "4        478959  2013-01-07        North Carolina     Greensboro   \n",
       "5        478948  2013-01-07              Oklahoma          Tulsa   \n",
       "6        479363  2013-01-19            New Mexico    Albuquerque   \n",
       "7        479374  2013-01-21             Louisiana    New Orleans   \n",
       "8        479389  2013-01-21            California      Brentwood   \n",
       "9        492151  2013-01-23              Maryland      Baltimore   \n",
       "10       491674  2013-01-23             Tennessee    Chattanooga   \n",
       "11       479413  2013-01-25              Missouri    Saint Louis   \n",
       "12       479561  2013-01-26             Louisiana      Charenton   \n",
       "13       479554  2013-01-26  District of Columbia     Washington   \n",
       "14       479460  2013-01-26                  Ohio    Springfield   \n",
       "15       479573  2013-02-02             Tennessee        Memphis   \n",
       "16       479580  2013-02-03            California  Yuba (county)   \n",
       "17       479592  2013-02-07              Illinois        Chicago   \n",
       "18       479603  2013-02-09             Louisiana    New Orleans   \n",
       "19       480311  2013-02-11            California        Vallejo   \n",
       "\n",
       "                                              address  n_killed  n_injured  \\\n",
       "0           1506 Versailles Avenue and Coursin Street         0          4   \n",
       "1                        13500 block of Cerise Avenue         1          3   \n",
       "2                               1776 East 28th Street         1          3   \n",
       "3                    16000 block of East Ithaca Place         4          0   \n",
       "4                           307 Mourning Dove Terrace         2          2   \n",
       "5                          6000 block of South Owasso         4          0   \n",
       "6                                      2806 Long Lane         5          0   \n",
       "7   LaSalle Street and Martin Luther King Jr. Boul...         0          5   \n",
       "8                          1100 block of Breton Drive         0          4   \n",
       "9                        1500 block of W. Fayette St.         1          6   \n",
       "10                                     1501 Dodds Ave         1          3   \n",
       "11                W Florissant Ave and Riverview Blvd         1          3   \n",
       "12                       1000 block of Flat Town Road         2          3   \n",
       "13                        2403 Benning Road Northeast         0          5   \n",
       "14                               601 West Main Street         1          3   \n",
       "15                                  2514 Mount Moriah         0          5   \n",
       "16                        5800 block of Poplar Avenue         1          3   \n",
       "17                     2500 block of East 75th Street         0          4   \n",
       "18                        400 block of Bourbon Street         0          4   \n",
       "19                       800 block of Humboldt Street         1          4   \n",
       "\n",
       "                                         incident_url  \\\n",
       "0   http://www.gunviolencearchive.org/incident/461105   \n",
       "1   http://www.gunviolencearchive.org/incident/460726   \n",
       "2   http://www.gunviolencearchive.org/incident/478855   \n",
       "3   http://www.gunviolencearchive.org/incident/478925   \n",
       "4   http://www.gunviolencearchive.org/incident/478959   \n",
       "5   http://www.gunviolencearchive.org/incident/478948   \n",
       "6   http://www.gunviolencearchive.org/incident/479363   \n",
       "7   http://www.gunviolencearchive.org/incident/479374   \n",
       "8   http://www.gunviolencearchive.org/incident/479389   \n",
       "9   http://www.gunviolencearchive.org/incident/492151   \n",
       "10  http://www.gunviolencearchive.org/incident/491674   \n",
       "11  http://www.gunviolencearchive.org/incident/479413   \n",
       "12  http://www.gunviolencearchive.org/incident/479561   \n",
       "13  http://www.gunviolencearchive.org/incident/479554   \n",
       "14  http://www.gunviolencearchive.org/incident/479460   \n",
       "15  http://www.gunviolencearchive.org/incident/479573   \n",
       "16  http://www.gunviolencearchive.org/incident/479580   \n",
       "17  http://www.gunviolencearchive.org/incident/479592   \n",
       "18  http://www.gunviolencearchive.org/incident/479603   \n",
       "19  http://www.gunviolencearchive.org/incident/480311   \n",
       "\n",
       "                                           source_url  \\\n",
       "0   http://www.post-gazette.com/local/south/2013/0...   \n",
       "1   http://www.dailybulletin.com/article/zz/201301...   \n",
       "2   http://chronicle.northcoastnow.com/2013/02/14/...   \n",
       "3   http://www.dailydemocrat.com/20130106/aurora-s...   \n",
       "4   http://www.journalnow.com/news/local/article_d...   \n",
       "5   http://usnews.nbcnews.com/_news/2013/01/07/163...   \n",
       "6   http://hinterlandgazette.com/2013/01/pastor-gr...   \n",
       "7   http://www.nola.com/crime/index.ssf/2013/01/no...   \n",
       "8   http://sanfrancisco.cbslocal.com/2013/01/22/4-...   \n",
       "9   http://www.abc2news.com/news/crime-checker/bal...   \n",
       "10  http://www.wrcbtv.com/story/22664154/one-dead-...   \n",
       "11  http://stlouis.cbslocal.com/2013/01/25/one-dea...   \n",
       "12  http://www.huffingtonpost.com/2013/01/27/wilbe...   \n",
       "13  http://www.washingtontimes.com/news/2013/jan/2...   \n",
       "14  http://www.whio.com//news/news/crime-law/arres...   \n",
       "15     https://www.highbeam.com/doc/1P2-34349822.html   \n",
       "16  http://sacramento.cbslocal.com/2013/02/04/1-de...   \n",
       "17  http://chicago.cbslocal.com/2013/02/07/four-wo...   \n",
       "18  http://www.nola.com/crime/index.ssf/2013/04/su...   \n",
       "19  http://archive.news10.net/news/article/229997/...   \n",
       "\n",
       "    incident_url_fields_missing  congressional_district  \\\n",
       "0                         False                    14.0   \n",
       "1                         False                    43.0   \n",
       "2                         False                     9.0   \n",
       "3                         False                     6.0   \n",
       "4                         False                     6.0   \n",
       "5                         False                     1.0   \n",
       "6                         False                     1.0   \n",
       "7                         False                     2.0   \n",
       "8                         False                     9.0   \n",
       "9                         False                     7.0   \n",
       "10                        False                     3.0   \n",
       "11                        False                     1.0   \n",
       "12                        False                     3.0   \n",
       "13                        False                     1.0   \n",
       "14                        False                     8.0   \n",
       "15                        False                     9.0   \n",
       "16                        False                     3.0   \n",
       "17                        False                     2.0   \n",
       "18                        False                     2.0   \n",
       "19                        False                     5.0   \n",
       "\n",
       "                gun_stolen                      gun_type  \\\n",
       "0                      NaN                           NaN   \n",
       "1                      NaN                           NaN   \n",
       "2   0::Unknown||1::Unknown        0::Unknown||1::Unknown   \n",
       "3                      NaN                           NaN   \n",
       "4   0::Unknown||1::Unknown        0::Handgun||1::Handgun   \n",
       "5                      NaN                           NaN   \n",
       "6   0::Unknown||1::Unknown  0::22 LR||1::223 Rem [AR-15]   \n",
       "7                      NaN                           NaN   \n",
       "8                      NaN                           NaN   \n",
       "9                      NaN                           NaN   \n",
       "10              0::Unknown                    0::Unknown   \n",
       "11              0::Unknown                    0::Unknown   \n",
       "12              0::Unknown                    0::Shotgun   \n",
       "13              0::Unknown                    0::Handgun   \n",
       "14                     NaN                           NaN   \n",
       "15              0::Unknown                    0::Handgun   \n",
       "16              0::Unknown                        0::9mm   \n",
       "17                     NaN                           NaN   \n",
       "18              0::Unknown                    0::Handgun   \n",
       "19                     NaN                           NaN   \n",
       "\n",
       "                             incident_characteristics  latitude  \\\n",
       "0   Shot - Wounded/Injured||Mass Shooting (4+ vict...   40.3467   \n",
       "1   Shot - Wounded/Injured||Shot - Dead (murder, a...   33.9090   \n",
       "2   Shot - Wounded/Injured||Shot - Dead (murder, a...   41.4455   \n",
       "3   Shot - Dead (murder, accidental, suicide)||Off...   39.6518   \n",
       "4   Shot - Wounded/Injured||Shot - Dead (murder, a...   36.1140   \n",
       "5   Shot - Dead (murder, accidental, suicide)||Hom...   36.2405   \n",
       "6   Shot - Dead (murder, accidental, suicide)||Mas...   34.9791   \n",
       "7   Shot - Wounded/Injured||Drive-by (car to stree...   29.9435   \n",
       "8   Shot - Wounded/Injured||Drive-by (car to stree...   37.9656   \n",
       "9   Shot - Wounded/Injured||Shot - Dead (murder, a...   39.2899   \n",
       "10  Shot - Wounded/Injured||Shot - Dead (murder, a...   35.0221   \n",
       "11  Shot - Wounded/Injured||Shot - Dead (murder, a...   38.7067   \n",
       "12  Shot - Wounded/Injured||Shot - Dead (murder, a...   29.8816   \n",
       "13  Shot - Wounded/Injured||Mass Shooting (4+ vict...   38.8978   \n",
       "14  Shot - Wounded/Injured||Shot - Dead (murder, a...   39.9252   \n",
       "15  Shot - Wounded/Injured||Mass Shooting (4+ vict...   35.0803   \n",
       "16  Shot - Wounded/Injured||Shot - Dead (murder, a...   39.1236   \n",
       "17  Shot - Wounded/Injured||Drive-by (car to stree...   41.7592   \n",
       "18  Shot - Wounded/Injured||Mass Shooting (4+ vict...   29.9563   \n",
       "19  Shot - Wounded/Injured||Shot - Dead (murder, a...   38.1072   \n",
       "\n",
       "   location_description  longitude  n_guns_involved  \\\n",
       "0                   NaN   -79.8559              NaN   \n",
       "1                   NaN  -118.3330              NaN   \n",
       "2           Cotton Club   -82.1377              2.0   \n",
       "3                   NaN  -104.8020              NaN   \n",
       "4                   NaN   -79.9569              2.0   \n",
       "5      Fairmont Terrace   -95.9768              NaN   \n",
       "6                   NaN  -106.7160              2.0   \n",
       "7                   NaN   -90.0836              NaN   \n",
       "8                   NaN  -121.7180              NaN   \n",
       "9                   NaN   -76.6412              NaN   \n",
       "10                  NaN   -85.2697              1.0   \n",
       "11                  NaN   -90.2494              1.0   \n",
       "12                  NaN   -91.5251              1.0   \n",
       "13                  NaN   -76.9717              1.0   \n",
       "14      Nite Owl Tavern   -83.8218              NaN   \n",
       "15           Club Venue   -89.8871              1.0   \n",
       "16                  NaN  -121.5830              1.0   \n",
       "17                  NaN   -87.5628              NaN   \n",
       "18                  NaN   -90.0676              1.0   \n",
       "19                  NaN  -122.2280              NaN   \n",
       "\n",
       "                                                notes  \\\n",
       "0   Julian Sims under investigation: Four Shot and...   \n",
       "1   Four Shot; One Killed; Unidentified shooter in...   \n",
       "2                                                 NaN   \n",
       "3                                                 NaN   \n",
       "4   Two firearms recovered. (Attempted) murder sui...   \n",
       "5                                                 NaN   \n",
       "6                                                 NaN   \n",
       "7   Unprovoked drive-by results in multiple teens ...   \n",
       "8     Perps were likely motivated by gang affliations   \n",
       "9   Shooting occurred over illegal dice game; vict...   \n",
       "10  19 yr. old male dies; 3 inured; shooting on Do...   \n",
       "11                              38.706732, -90.249375   \n",
       "12  Ofc. hailed from Chitimacha Tribe of Louisiana...   \n",
       "13  Media accounts conflict as to gender of victim...   \n",
       "14                                                NaN   \n",
       "15                                                NaN   \n",
       "16  perps have gang affiliation, but unclear as to...   \n",
       "17                                                NaN   \n",
       "18                                                NaN   \n",
       "19                                                NaN   \n",
       "\n",
       "                                    participant_age  \\\n",
       "0                                             0::20   \n",
       "1                                             0::20   \n",
       "2                 0::25||1::31||2::33||3::34||4::33   \n",
       "3                        0::29||1::33||2::56||3::33   \n",
       "4                        0::18||1::46||2::14||3::47   \n",
       "5                        0::23||1::23||2::33||3::55   \n",
       "6             0::51||1::40||2::9||3::5||4::2||5::15   \n",
       "7                                               NaN   \n",
       "8                                               NaN   \n",
       "9                                             0::15   \n",
       "10                                            0::19   \n",
       "11                                            0::28   \n",
       "12                                     3::78||4::48   \n",
       "13                                              NaN   \n",
       "14                0::34||1::28||2::23||3::29||4::29   \n",
       "15                                            5::24   \n",
       "16                       0::20||4::25||5::18||6::19   \n",
       "17                       0::18||1::41||2::28||3::28   \n",
       "18  0::18||1::22||2::21||3::29||4::19||5::22||6::23   \n",
       "19                                            0::22   \n",
       "\n",
       "                                participant_age_group  \\\n",
       "0   0::Adult 18+||1::Adult 18+||2::Adult 18+||3::A...   \n",
       "1   0::Adult 18+||1::Adult 18+||2::Adult 18+||3::A...   \n",
       "2   0::Adult 18+||1::Adult 18+||2::Adult 18+||3::A...   \n",
       "3   0::Adult 18+||1::Adult 18+||2::Adult 18+||3::A...   \n",
       "4   0::Adult 18+||1::Adult 18+||2::Teen 12-17||3::...   \n",
       "5   0::Adult 18+||1::Adult 18+||2::Adult 18+||3::A...   \n",
       "6   0::Adult 18+||1::Adult 18+||2::Child 0-11||3::...   \n",
       "7                                                 NaN   \n",
       "8   0::Teen 12-17||1::Teen 12-17||2::Teen 12-17||4...   \n",
       "9   0::Teen 12-17||1::Adult 18+||2::Adult 18+||3::...   \n",
       "10                                       0::Adult 18+   \n",
       "11                                       0::Adult 18+   \n",
       "12  0::Adult 18+||1::Adult 18+||2::Adult 18+||3::A...   \n",
       "13  0::Adult 18+||1::Adult 18+||2::Adult 18+||3::A...   \n",
       "14  0::Adult 18+||1::Adult 18+||2::Adult 18+||3::A...   \n",
       "15  0::Adult 18+||1::Adult 18+||2::Adult 18+||4::A...   \n",
       "16  0::Adult 18+||1::Adult 18+||2::Adult 18+||3::A...   \n",
       "17  0::Adult 18+||1::Adult 18+||2::Adult 18+||3::A...   \n",
       "18  0::Adult 18+||1::Adult 18+||2::Adult 18+||3::A...   \n",
       "19  0::Adult 18+||1::Adult 18+||2::Adult 18+||3::A...   \n",
       "\n",
       "                                   participant_gender  \\\n",
       "0                0::Male||1::Male||3::Male||4::Female   \n",
       "1                                             0::Male   \n",
       "2         0::Male||1::Male||2::Male||3::Male||4::Male   \n",
       "3                0::Female||1::Male||2::Male||3::Male   \n",
       "4              0::Female||1::Male||2::Male||3::Female   \n",
       "5   0::Female||1::Female||2::Female||3::Female||4:...   \n",
       "6   0::Male||1::Female||2::Male||3::Female||4::Fem...   \n",
       "7         0::Male||1::Male||2::Male||3::Male||4::Male   \n",
       "8         0::Male||1::Male||2::Male||3::Male||4::Male   \n",
       "9                                             0::Male   \n",
       "10                 0::Male||1::Male||2::Male||3::Male   \n",
       "11                                            0::Male   \n",
       "12        0::Male||1::Male||2::Male||3::Male||4::Male   \n",
       "13  0::Female||1::Female||2::Male||3::Male||4::Mal...   \n",
       "14        0::Male||1::Male||2::Male||3::Male||4::Male   \n",
       "15  0::Female||1::Female||2::Female||3::Female||4:...   \n",
       "16  0::Male||1::Male||2::Female||4::Male||5::Male|...   \n",
       "17                 0::Male||1::Male||2::Male||3::Male   \n",
       "18  0::Male||1::Female||2::Female||3::Male||4::Mal...   \n",
       "19    0::Male||1::Male||2::Male||3::Female||4::Female   \n",
       "\n",
       "                                     participant_name  \\\n",
       "0                                      0::Julian Sims   \n",
       "1                                   0::Bernard Gillis   \n",
       "2   0::Damien Bell||1::Desmen Noble||2::Herman Sea...   \n",
       "3   0::Stacie Philbrook||1::Christopher Ratliffe||...   \n",
       "4   0::Danielle Imani Jameison||1::Maurice Eugene ...   \n",
       "5   0::Rebeika Powell||1::Kayetie Melchor||2::Mist...   \n",
       "6   0::Greg Griego||1::Sara Griego||2::Zephania Gr...   \n",
       "7                                                 NaN   \n",
       "8                                                 NaN   \n",
       "9                                    0::Deshaun Jones   \n",
       "10                                 0::Demetrius Davis   \n",
       "11                              0::Terry Robinson Jr.   \n",
       "12  0::Ofc.||1::Dep.||2::Dep.||3::Eddie Lyons||4::...   \n",
       "13                                                NaN   \n",
       "14  0::Ernest Edwards||1::Anthony Clark||2::Joshua...   \n",
       "15                           4::Mary||5::Sundra Payne   \n",
       "16  0::Teng Yang||1::Tou Yang||2::Xong Yang||3::Ya...   \n",
       "17                                                NaN   \n",
       "18  4::Malcolm \"London\" Hall||5::Brandon Brown||6:...   \n",
       "19                                    0::Oscar Garcia   \n",
       "\n",
       "                             participant_relationship  \\\n",
       "0                                                 NaN   \n",
       "1                                                 NaN   \n",
       "2                                                 NaN   \n",
       "3                                                 NaN   \n",
       "4                                           3::Family   \n",
       "5                                                 NaN   \n",
       "6                                           5::Family   \n",
       "7                                                 NaN   \n",
       "8                                                 NaN   \n",
       "9                                                 NaN   \n",
       "10                                                NaN   \n",
       "11                                                NaN   \n",
       "12                                                NaN   \n",
       "13                                                NaN   \n",
       "14                                                NaN   \n",
       "15                                                NaN   \n",
       "16  4::Drive by - Random victims||5::Drive by - Ra...   \n",
       "17                                                NaN   \n",
       "18                                                NaN   \n",
       "19                                                NaN   \n",
       "\n",
       "                                   participant_status  \\\n",
       "0   0::Arrested||1::Injured||2::Injured||3::Injure...   \n",
       "1       0::Killed||1::Injured||2::Injured||3::Injured   \n",
       "2   0::Injured, Unharmed, Arrested||1::Unharmed, A...   \n",
       "3          0::Killed||1::Killed||2::Killed||3::Killed   \n",
       "4        0::Injured||1::Injured||2::Killed||3::Killed   \n",
       "5   0::Killed||1::Killed||2::Killed||3::Killed||4:...   \n",
       "6   0::Killed||1::Killed||2::Killed||3::Killed||4:...   \n",
       "7   0::Injured||1::Injured||2::Injured||3::Injured...   \n",
       "8   0::Injured||1::Injured||2::Injured||3::Injured...   \n",
       "9   0::Killed||1::Injured||2::Injured||3::Injured|...   \n",
       "10      0::Killed||1::Injured||2::Injured||3::Injured   \n",
       "11      0::Killed||1::Injured||2::Injured||3::Injured   \n",
       "12  0::Killed||1::Injured||2::Injured||3::Killed||...   \n",
       "13  0::Injured||1::Injured||2::Injured||3::Injured...   \n",
       "14  0::Killed||1::Injured||2::Injured||3::Injured|...   \n",
       "15  0::Injured||1::Injured||2::Injured||3::Injured...   \n",
       "16  0::Killed||1::Injured||2::Injured||3::Injured|...   \n",
       "17  0::Injured||1::Injured||2::Injured||3::Injured...   \n",
       "18  0::Injured||1::Injured||2::Injured||3::Injured...   \n",
       "19  0::Killed||1::Injured||2::Injured||3::Injured|...   \n",
       "\n",
       "                                     participant_type  \\\n",
       "0   0::Victim||1::Victim||2::Victim||3::Victim||4:...   \n",
       "1   0::Victim||1::Victim||2::Victim||3::Victim||4:...   \n",
       "2   0::Subject-Suspect||1::Subject-Suspect||2::Vic...   \n",
       "3   0::Victim||1::Victim||2::Victim||3::Subject-Su...   \n",
       "4   0::Victim||1::Victim||2::Victim||3::Subject-Su...   \n",
       "5   0::Victim||1::Victim||2::Victim||3::Victim||4:...   \n",
       "6   0::Victim||1::Victim||2::Victim||3::Victim||4:...   \n",
       "7   0::Victim||1::Victim||2::Victim||3::Victim||4:...   \n",
       "8   0::Victim||1::Victim||2::Victim||3::Victim||4:...   \n",
       "9   0::Victim||1::Victim||2::Victim||3::Victim||4:...   \n",
       "10  0::Victim||1::Victim||2::Victim||3::Victim||4:...   \n",
       "11  0::Victim||1::Victim||2::Victim||3::Victim||4:...   \n",
       "12  0::Victim||1::Victim||2::Victim||3::Victim||4:...   \n",
       "13  0::Victim||1::Victim||2::Victim||3::Victim||4:...   \n",
       "14  0::Victim||1::Victim||2::Victim||3::Victim||4:...   \n",
       "15  0::Victim||1::Victim||2::Victim||3::Victim||4:...   \n",
       "16  0::Victim||1::Victim||2::Victim||3::Victim||4:...   \n",
       "17  0::Victim||1::Victim||2::Victim||3::Victim||4:...   \n",
       "18  0::Victim||1::Victim||2::Victim||3::Victim||4:...   \n",
       "19  0::Victim||1::Victim||2::Victim||3::Victim||4:...   \n",
       "\n",
       "                                              sources  state_house_district  \\\n",
       "0   http://pittsburgh.cbslocal.com/2013/01/01/4-pe...                   NaN   \n",
       "1   http://losangeles.cbslocal.com/2013/01/01/man-...                  62.0   \n",
       "2   http://www.morningjournal.com/general-news/201...                  56.0   \n",
       "3   http://denver.cbslocal.com/2013/01/06/officer-...                  40.0   \n",
       "4   http://myfox8.com/2013/01/08/update-mother-sho...                  62.0   \n",
       "5   http://www.kjrh.com/news/local-news/4-found-sh...                  72.0   \n",
       "6   http://www.cbsnews.com/news/nehemiah-gringo-ca...                  10.0   \n",
       "7   http://www.huffingtonpost.com/2013/01/21/new-o...                  93.0   \n",
       "8   http://www.contracostatimes.com/ci_22426767/br...                  11.0   \n",
       "9   http://articles.baltimoresun.com/2013-08-25/ne...                   NaN   \n",
       "10  http://www.wrcbtv.com/story/22664154/one-dead-...                  28.0   \n",
       "11  http://fox2now.com/2013/01/25/two-shot-in-nort...                  76.0   \n",
       "12  http://theadvocate.com/home/5018249-125/3-law-...                  50.0   \n",
       "13  http://www.washingtonexaminer.com/d.c.-nightcl...                   NaN   \n",
       "14  http://www.daytondailynews.com/news/news/1-dea...                  79.0   \n",
       "15  http://wreg.com/2013/02/02/five-hurt-in-memphi...                  84.0   \n",
       "16  http://news.asiantown.net/r/28306/no-death-pen...                   3.0   \n",
       "17  http://crimeinchicago.blogspot.com/2013/02/4-m...                  25.0   \n",
       "18  http://www.cbsnews.com/news/mardi-gras-shootin...                  93.0   \n",
       "19  http://www.timesheraldonline.com/article/ZZ/20...                  14.0   \n",
       "\n",
       "    state_senate_district  num_victims  num_suspects  num_females  num_males  \\\n",
       "0                     NaN            4             1            1          3   \n",
       "1                    35.0            4             1            0          1   \n",
       "2                    13.0            3             2            0          5   \n",
       "3                    28.0            3             1            1          3   \n",
       "4                    27.0            3             1            2          2   \n",
       "5                    11.0            4             2            4          2   \n",
       "6                    14.0            5             1            3          3   \n",
       "7                     5.0            5             1            0          5   \n",
       "8                     7.0            4             1            0          5   \n",
       "9                    44.0            7             0            0          1   \n",
       "10                   10.0            4             1            0          4   \n",
       "11                    4.0            4             1            0          1   \n",
       "12                   21.0            4             1            0          5   \n",
       "13                    NaN            5             1            2          4   \n",
       "14                   10.0            4             1            0          5   \n",
       "15                   33.0            5             1            6          0   \n",
       "16                    4.0            4             3            1          5   \n",
       "17                   13.0            4             2            0          4   \n",
       "18                    4.0            4             3            2          5   \n",
       "19                    3.0            5             0            2          3   \n",
       "\n",
       "    num_adults  num_teens  num_adult_suspects  num_adult_victims  \\\n",
       "0            5          0                   1                  4   \n",
       "1            4          0                   0                  4   \n",
       "2            5          0                   2                  3   \n",
       "3            4          0                   1                  3   \n",
       "4            3          1                   1                  2   \n",
       "5            6          0                   2                  4   \n",
       "6            2          1                   0                  2   \n",
       "7            0          0                   0                  0   \n",
       "8            1          3                   1                  0   \n",
       "9            6          1                   0                  6   \n",
       "10           1          0                   0                  1   \n",
       "11           1          0                   0                  1   \n",
       "12           5          0                   1                  4   \n",
       "13           6          0                   1                  5   \n",
       "14           5          0                   1                  4   \n",
       "15           5          0                   1                  4   \n",
       "16           7          0                   3                  4   \n",
       "17           6          0                   2                  4   \n",
       "18           7          0                   3                  4   \n",
       "19           5          0                   0                  5   \n",
       "\n",
       "    num_teen_suspects  num_teen_victims  num_male_suspects  num_male_victims  \\\n",
       "0                   0                 0                  0                 3   \n",
       "1                   0                 0                  0                 1   \n",
       "2                   0                 0                  2                 3   \n",
       "3                   0                 0                  1                 2   \n",
       "4                   0                 1                  0                 2   \n",
       "5                   0                 0                  2                 0   \n",
       "6                   1                 0                  1                 2   \n",
       "7                   0                 0                  0                 5   \n",
       "8                   0                 3                  1                 4   \n",
       "9                   0                 1                  0                 1   \n",
       "10                  0                 0                  0                 4   \n",
       "11                  0                 0                  0                 1   \n",
       "12                  0                 0                  1                 4   \n",
       "13                  0                 0                  1                 3   \n",
       "14                  0                 0                  1                 4   \n",
       "15                  0                 0                  0                 0   \n",
       "16                  0                 0                  3                 2   \n",
       "17                  0                 0                  0                 4   \n",
       "18                  0                 0                  3                 2   \n",
       "19                  0                 0                  0                 3   \n",
       "\n",
       "    num_female_suspects  num_female_victims  state_population  n_guns_stolen  \\\n",
       "0                     1                   0          13002700              0   \n",
       "1                     0                   0          39538223              0   \n",
       "2                     0                   0          11799448              0   \n",
       "3                     0                   1           5773714              0   \n",
       "4                     1                   1          10439388              0   \n",
       "5                     0                   4           3959353              0   \n",
       "6                     0                   3           2117522              0   \n",
       "7                     0                   0           4657757              0   \n",
       "8                     0                   0          39538223              0   \n",
       "9                     0                   0           6177224              0   \n",
       "10                    0                   0           6910840              0   \n",
       "11                    0                   0           6154913              0   \n",
       "12                    0                   0           4657757              0   \n",
       "13                    0                   2            689545              0   \n",
       "14                    0                   0          11799448              0   \n",
       "15                    1                   5           6910840              0   \n",
       "16                    0                   1          39538223              0   \n",
       "17                    0                   0          12801989              0   \n",
       "18                    0                   2           4657757              0   \n",
       "19                    0                   2          39538223              0   \n",
       "\n",
       "    n_guns_unknown  n_guns_not_stolen  season     region state_code  \\\n",
       "0                0                  0  Winter  Northeast         PA   \n",
       "1                0                  0  Winter       West         CA   \n",
       "2                2                  0  Winter    Midwest         OH   \n",
       "3                0                  0  Winter       West         CO   \n",
       "4                2                  0  Winter      South         NC   \n",
       "5                0                  0  Winter      South         OK   \n",
       "6                2                  0  Winter       West         NM   \n",
       "7                0                  0  Winter      South         LA   \n",
       "8                0                  0  Winter       West         CA   \n",
       "9                0                  0  Winter      South         MD   \n",
       "10               1                  0  Winter      South         TN   \n",
       "11               1                  0  Winter    Midwest         MO   \n",
       "12               1                  0  Winter      South         LA   \n",
       "13               1                  0  Winter      South         DC   \n",
       "14               0                  0  Winter    Midwest         OH   \n",
       "15               1                  0  Winter      South         TN   \n",
       "16               1                  0  Winter       West         CA   \n",
       "17               0                  0  Winter    Midwest         IL   \n",
       "18               1                  0  Winter      South         LA   \n",
       "19               0                  0  Winter       West         CA   \n",
       "\n",
       "    Handgun_Count  9mm_Count  22_LR_Count  Unknown_Count  38_Spl_Count  \\\n",
       "0               0          0            0              0             0   \n",
       "1               0          0            0              0             0   \n",
       "2               0          0            0              2             0   \n",
       "3               0          0            0              0             0   \n",
       "4               2          0            0              0             0   \n",
       "5               0          0            0              0             0   \n",
       "6               0          0            1              0             0   \n",
       "7               0          0            0              0             0   \n",
       "8               0          0            0              0             0   \n",
       "9               0          0            0              0             0   \n",
       "10              0          0            0              1             0   \n",
       "11              0          0            0              1             0   \n",
       "12              0          0            0              0             0   \n",
       "13              1          0            0              0             0   \n",
       "14              0          0            0              0             0   \n",
       "15              1          0            0              0             0   \n",
       "16              0          1            0              0             0   \n",
       "17              0          0            0              0             0   \n",
       "18              1          0            0              0             0   \n",
       "19              0          0            0              0             0   \n",
       "\n",
       "    223_Rem_AR_15_Count  Shotgun_Count  Rifle_Count  45_Auto_Count  \\\n",
       "0                     0              0            0              0   \n",
       "1                     0              0            0              0   \n",
       "2                     0              0            0              0   \n",
       "3                     0              0            0              0   \n",
       "4                     0              0            0              0   \n",
       "5                     0              0            0              0   \n",
       "6                     1              0            0              0   \n",
       "7                     0              0            0              0   \n",
       "8                     0              0            0              0   \n",
       "9                     0              0            0              0   \n",
       "10                    0              0            0              0   \n",
       "11                    0              0            0              0   \n",
       "12                    0              1            0              0   \n",
       "13                    0              0            0              0   \n",
       "14                    0              0            0              0   \n",
       "15                    0              0            0              0   \n",
       "16                    0              0            0              0   \n",
       "17                    0              0            0              0   \n",
       "18                    0              0            0              0   \n",
       "19                    0              0            0              0   \n",
       "\n",
       "    44_Mag_Count  357_Mag_Count  \n",
       "0              0              0  \n",
       "1              0              0  \n",
       "2              0              0  \n",
       "3              0              0  \n",
       "4              0              0  \n",
       "5              0              0  \n",
       "6              0              0  \n",
       "7              0              0  \n",
       "8              0              0  \n",
       "9              0              0  \n",
       "10             0              0  \n",
       "11             0              0  \n",
       "12             0              0  \n",
       "13             0              0  \n",
       "14             0              0  \n",
       "15             0              0  \n",
       "16             0              0  \n",
       "17             0              0  \n",
       "18             0              0  \n",
       "19             0              0  "
      ]
     },
     "execution_count": 175,
     "metadata": {},
     "output_type": "execute_result"
    }
   ],
   "source": [
    "df.head(20)"
   ]
  },
  {
   "cell_type": "code",
   "execution_count": 176,
   "id": "9886a2a5",
   "metadata": {},
   "outputs": [],
   "source": [
    "df.to_csv('gun_violence_data.csv', index=False)"
   ]
  },
  {
   "cell_type": "code",
   "execution_count": 177,
   "id": "83ladrqt75h",
   "metadata": {},
   "outputs": [
    {
     "name": "stdout",
     "output_type": "stream",
     "text": [
      "Top 10 states by incident rate (per 100,000 population):\n",
      "               state  count  population  incidents_per_100k\n",
      "District of Columbia   3195      689545          463.349020\n",
      "              Alaska   1349      733391          183.940081\n",
      "           Louisiana   8103     4657757          173.967856\n",
      "            Delaware   1685      989948          170.210961\n",
      "            Illinois  17556    12801989          137.134941\n",
      "      South Carolina   6939     5118425          135.569047\n",
      "         Mississippi   3599     2961279          121.535323\n",
      "           Tennessee   7626     6910840          110.348380\n",
      "             Alabama   5471     5024279          108.891246\n",
      "            Missouri   6631     6154913          107.735073\n"
     ]
    },
    {
     "data": {
      "application/vnd.plotly.v1+json": {
       "config": {
        "plotlyServerURL": "https://plot.ly"
       },
       "data": [
        {
         "colorbar": {
          "title": {
           "text": "Incidents<br>per 100k"
          }
         },
         "colorscale": [
          [
           0,
           "rgb(255,245,240)"
          ],
          [
           0.125,
           "rgb(254,224,210)"
          ],
          [
           0.25,
           "rgb(252,187,161)"
          ],
          [
           0.375,
           "rgb(252,146,114)"
          ],
          [
           0.5,
           "rgb(251,106,74)"
          ],
          [
           0.625,
           "rgb(239,59,44)"
          ],
          [
           0.75,
           "rgb(203,24,29)"
          ],
          [
           0.875,
           "rgb(165,15,21)"
          ],
          [
           1,
           "rgb(103,0,13)"
          ]
         ],
         "customdata": [
          [
           17556,
           12801989
          ],
          [
           16306,
           39538223
          ],
          [
           15029,
           21538187
          ],
          [
           13577,
           29145505
          ],
          [
           10244,
           11799448
          ],
          [
           9712,
           20201249
          ],
          [
           8929,
           13002700
          ],
          [
           8925,
           10711908
          ],
          [
           8739,
           10439388
          ],
          [
           8103,
           4657757
          ],
          [
           7626,
           6910840
          ],
          [
           6939,
           5118425
          ],
          [
           6631,
           6154913
          ],
          [
           6136,
           10077331
          ],
          [
           5981,
           7029917
          ],
          [
           5949,
           8631393
          ],
          [
           5852,
           6785528
          ],
          [
           5798,
           6177224
          ],
          [
           5471,
           5024279
          ],
          [
           5387,
           9288994
          ],
          [
           4787,
           5893718
          ],
          [
           4157,
           4505836
          ],
          [
           3599,
           2961279
          ],
          [
           3455,
           3959353
          ],
          [
           3434,
           7705281
          ],
          [
           3201,
           5773714
          ],
          [
           3195,
           689545
          ],
          [
           3067,
           3605944
          ],
          [
           2842,
           3011524
          ],
          [
           2517,
           3271616
          ],
          [
           2408,
           5706494
          ],
          [
           2328,
           7151502
          ],
          [
           2286,
           4237256
          ],
          [
           2145,
           2937880
          ],
          [
           1952,
           3104614
          ],
          [
           1685,
           989948
          ],
          [
           1651,
           1961504
          ],
          [
           1645,
           2117522
          ],
          [
           1575,
           1793716
          ],
          [
           1349,
           733391
          ],
          [
           1072,
           3205958
          ],
          [
           964,
           1377529
          ],
          [
           907,
           1362359
          ],
          [
           895,
           1097379
          ],
          [
           661,
           1839106
          ],
          [
           638,
           1084225
          ],
          [
           573,
           779094
          ],
          [
           544,
           886667
          ],
          [
           494,
           576851
          ],
          [
           472,
           643077
          ],
          [
           289,
           1455271
          ]
         ],
         "hovertemplate": "<b>%{text}</b><br>Rate: %{z:.1f} per 100k<br>Total Incidents: %{customdata[0]:,}<br>Population: %{customdata[1]:,}<extra></extra>",
         "locationmode": "USA-states",
         "locations": [
          "IL",
          "CA",
          "FL",
          "TX",
          "OH",
          "NY",
          "PA",
          "GA",
          "NC",
          "LA",
          "TN",
          "SC",
          "MO",
          "MI",
          "MA",
          "VA",
          "IN",
          "MD",
          "AL",
          "NJ",
          "WI",
          "KY",
          "MS",
          "OK",
          "WA",
          "CO",
          "DC",
          "CT",
          "AR",
          "IA",
          "MN",
          "AZ",
          "OR",
          "KS",
          "NV",
          "DE",
          "NE",
          "NM",
          "WV",
          "AK",
          "UT",
          "NH",
          "ME",
          "RI",
          "ID",
          "MT",
          "ND",
          "SD",
          "WY",
          "VT",
          "HI"
         ],
         "text": [
          "Illinois",
          "California",
          "Florida",
          "Texas",
          "Ohio",
          "New York",
          "Pennsylvania",
          "Georgia",
          "North Carolina",
          "Louisiana",
          "Tennessee",
          "South Carolina",
          "Missouri",
          "Michigan",
          "Massachusetts",
          "Virginia",
          "Indiana",
          "Maryland",
          "Alabama",
          "New Jersey",
          "Wisconsin",
          "Kentucky",
          "Mississippi",
          "Oklahoma",
          "Washington",
          "Colorado",
          "District of Columbia",
          "Connecticut",
          "Arkansas",
          "Iowa",
          "Minnesota",
          "Arizona",
          "Oregon",
          "Kansas",
          "Nevada",
          "Delaware",
          "Nebraska",
          "New Mexico",
          "West Virginia",
          "Alaska",
          "Utah",
          "New Hampshire",
          "Maine",
          "Rhode Island",
          "Idaho",
          "Montana",
          "North Dakota",
          "South Dakota",
          "Wyoming",
          "Vermont",
          "Hawaii"
         ],
         "type": "choropleth",
         "z": [
          137.1349405158839,
          41.24110484176287,
          69.77838942525665,
          46.58351262055675,
          86.81762062089685,
          48.076235286243936,
          68.67035308051405,
          83.31849003930952,
          83.7118037953949,
          173.96785620203028,
          110.34838022584809,
          135.56904711898682,
          107.73507277844544,
          60.88913820534425,
          85.07924062261333,
          68.92282624600688,
          86.24236757994366,
          93.86093170654003,
          108.89124588821599,
          57.99336289807056,
          81.22207407955385,
          92.25812923506315,
          121.53532308168194,
          87.26173190417727,
          44.566836692912304,
          55.44091723282448,
          463.34902000594593,
          85.05401082213146,
          94.37082354316287,
          76.9344568555723,
          42.19753845355835,
          32.55260223656513,
          53.95000915686944,
          73.01183166092557,
          62.87416084576053,
          170.210960575707,
          84.17010620421881,
          77.68514329485124,
          87.80654239578618,
          183.94008107544272,
          33.437743102061845,
          69.98037790855946,
          66.57569700791055,
          81.55796675533247,
          35.941375864142685,
          58.843874657013075,
          73.54696609138307,
          61.35336039347353,
          85.63736562821249,
          73.39712040704302,
          19.85884416029729
         ]
        }
       ],
       "layout": {
        "geo": {
         "scope": "usa"
        },
        "height": 600,
        "template": {
         "data": {
          "bar": [
           {
            "error_x": {
             "color": "#2a3f5f"
            },
            "error_y": {
             "color": "#2a3f5f"
            },
            "marker": {
             "line": {
              "color": "#E5ECF6",
              "width": 0.5
             },
             "pattern": {
              "fillmode": "overlay",
              "size": 10,
              "solidity": 0.2
             }
            },
            "type": "bar"
           }
          ],
          "barpolar": [
           {
            "marker": {
             "line": {
              "color": "#E5ECF6",
              "width": 0.5
             },
             "pattern": {
              "fillmode": "overlay",
              "size": 10,
              "solidity": 0.2
             }
            },
            "type": "barpolar"
           }
          ],
          "carpet": [
           {
            "aaxis": {
             "endlinecolor": "#2a3f5f",
             "gridcolor": "white",
             "linecolor": "white",
             "minorgridcolor": "white",
             "startlinecolor": "#2a3f5f"
            },
            "baxis": {
             "endlinecolor": "#2a3f5f",
             "gridcolor": "white",
             "linecolor": "white",
             "minorgridcolor": "white",
             "startlinecolor": "#2a3f5f"
            },
            "type": "carpet"
           }
          ],
          "choropleth": [
           {
            "colorbar": {
             "outlinewidth": 0,
             "ticks": ""
            },
            "type": "choropleth"
           }
          ],
          "contour": [
           {
            "colorbar": {
             "outlinewidth": 0,
             "ticks": ""
            },
            "colorscale": [
             [
              0,
              "#0d0887"
             ],
             [
              0.1111111111111111,
              "#46039f"
             ],
             [
              0.2222222222222222,
              "#7201a8"
             ],
             [
              0.3333333333333333,
              "#9c179e"
             ],
             [
              0.4444444444444444,
              "#bd3786"
             ],
             [
              0.5555555555555556,
              "#d8576b"
             ],
             [
              0.6666666666666666,
              "#ed7953"
             ],
             [
              0.7777777777777778,
              "#fb9f3a"
             ],
             [
              0.8888888888888888,
              "#fdca26"
             ],
             [
              1,
              "#f0f921"
             ]
            ],
            "type": "contour"
           }
          ],
          "contourcarpet": [
           {
            "colorbar": {
             "outlinewidth": 0,
             "ticks": ""
            },
            "type": "contourcarpet"
           }
          ],
          "heatmap": [
           {
            "colorbar": {
             "outlinewidth": 0,
             "ticks": ""
            },
            "colorscale": [
             [
              0,
              "#0d0887"
             ],
             [
              0.1111111111111111,
              "#46039f"
             ],
             [
              0.2222222222222222,
              "#7201a8"
             ],
             [
              0.3333333333333333,
              "#9c179e"
             ],
             [
              0.4444444444444444,
              "#bd3786"
             ],
             [
              0.5555555555555556,
              "#d8576b"
             ],
             [
              0.6666666666666666,
              "#ed7953"
             ],
             [
              0.7777777777777778,
              "#fb9f3a"
             ],
             [
              0.8888888888888888,
              "#fdca26"
             ],
             [
              1,
              "#f0f921"
             ]
            ],
            "type": "heatmap"
           }
          ],
          "heatmapgl": [
           {
            "colorbar": {
             "outlinewidth": 0,
             "ticks": ""
            },
            "colorscale": [
             [
              0,
              "#0d0887"
             ],
             [
              0.1111111111111111,
              "#46039f"
             ],
             [
              0.2222222222222222,
              "#7201a8"
             ],
             [
              0.3333333333333333,
              "#9c179e"
             ],
             [
              0.4444444444444444,
              "#bd3786"
             ],
             [
              0.5555555555555556,
              "#d8576b"
             ],
             [
              0.6666666666666666,
              "#ed7953"
             ],
             [
              0.7777777777777778,
              "#fb9f3a"
             ],
             [
              0.8888888888888888,
              "#fdca26"
             ],
             [
              1,
              "#f0f921"
             ]
            ],
            "type": "heatmapgl"
           }
          ],
          "histogram": [
           {
            "marker": {
             "pattern": {
              "fillmode": "overlay",
              "size": 10,
              "solidity": 0.2
             }
            },
            "type": "histogram"
           }
          ],
          "histogram2d": [
           {
            "colorbar": {
             "outlinewidth": 0,
             "ticks": ""
            },
            "colorscale": [
             [
              0,
              "#0d0887"
             ],
             [
              0.1111111111111111,
              "#46039f"
             ],
             [
              0.2222222222222222,
              "#7201a8"
             ],
             [
              0.3333333333333333,
              "#9c179e"
             ],
             [
              0.4444444444444444,
              "#bd3786"
             ],
             [
              0.5555555555555556,
              "#d8576b"
             ],
             [
              0.6666666666666666,
              "#ed7953"
             ],
             [
              0.7777777777777778,
              "#fb9f3a"
             ],
             [
              0.8888888888888888,
              "#fdca26"
             ],
             [
              1,
              "#f0f921"
             ]
            ],
            "type": "histogram2d"
           }
          ],
          "histogram2dcontour": [
           {
            "colorbar": {
             "outlinewidth": 0,
             "ticks": ""
            },
            "colorscale": [
             [
              0,
              "#0d0887"
             ],
             [
              0.1111111111111111,
              "#46039f"
             ],
             [
              0.2222222222222222,
              "#7201a8"
             ],
             [
              0.3333333333333333,
              "#9c179e"
             ],
             [
              0.4444444444444444,
              "#bd3786"
             ],
             [
              0.5555555555555556,
              "#d8576b"
             ],
             [
              0.6666666666666666,
              "#ed7953"
             ],
             [
              0.7777777777777778,
              "#fb9f3a"
             ],
             [
              0.8888888888888888,
              "#fdca26"
             ],
             [
              1,
              "#f0f921"
             ]
            ],
            "type": "histogram2dcontour"
           }
          ],
          "mesh3d": [
           {
            "colorbar": {
             "outlinewidth": 0,
             "ticks": ""
            },
            "type": "mesh3d"
           }
          ],
          "parcoords": [
           {
            "line": {
             "colorbar": {
              "outlinewidth": 0,
              "ticks": ""
             }
            },
            "type": "parcoords"
           }
          ],
          "pie": [
           {
            "automargin": true,
            "type": "pie"
           }
          ],
          "scatter": [
           {
            "fillpattern": {
             "fillmode": "overlay",
             "size": 10,
             "solidity": 0.2
            },
            "type": "scatter"
           }
          ],
          "scatter3d": [
           {
            "line": {
             "colorbar": {
              "outlinewidth": 0,
              "ticks": ""
             }
            },
            "marker": {
             "colorbar": {
              "outlinewidth": 0,
              "ticks": ""
             }
            },
            "type": "scatter3d"
           }
          ],
          "scattercarpet": [
           {
            "marker": {
             "colorbar": {
              "outlinewidth": 0,
              "ticks": ""
             }
            },
            "type": "scattercarpet"
           }
          ],
          "scattergeo": [
           {
            "marker": {
             "colorbar": {
              "outlinewidth": 0,
              "ticks": ""
             }
            },
            "type": "scattergeo"
           }
          ],
          "scattergl": [
           {
            "marker": {
             "colorbar": {
              "outlinewidth": 0,
              "ticks": ""
             }
            },
            "type": "scattergl"
           }
          ],
          "scattermapbox": [
           {
            "marker": {
             "colorbar": {
              "outlinewidth": 0,
              "ticks": ""
             }
            },
            "type": "scattermapbox"
           }
          ],
          "scatterpolar": [
           {
            "marker": {
             "colorbar": {
              "outlinewidth": 0,
              "ticks": ""
             }
            },
            "type": "scatterpolar"
           }
          ],
          "scatterpolargl": [
           {
            "marker": {
             "colorbar": {
              "outlinewidth": 0,
              "ticks": ""
             }
            },
            "type": "scatterpolargl"
           }
          ],
          "scatterternary": [
           {
            "marker": {
             "colorbar": {
              "outlinewidth": 0,
              "ticks": ""
             }
            },
            "type": "scatterternary"
           }
          ],
          "surface": [
           {
            "colorbar": {
             "outlinewidth": 0,
             "ticks": ""
            },
            "colorscale": [
             [
              0,
              "#0d0887"
             ],
             [
              0.1111111111111111,
              "#46039f"
             ],
             [
              0.2222222222222222,
              "#7201a8"
             ],
             [
              0.3333333333333333,
              "#9c179e"
             ],
             [
              0.4444444444444444,
              "#bd3786"
             ],
             [
              0.5555555555555556,
              "#d8576b"
             ],
             [
              0.6666666666666666,
              "#ed7953"
             ],
             [
              0.7777777777777778,
              "#fb9f3a"
             ],
             [
              0.8888888888888888,
              "#fdca26"
             ],
             [
              1,
              "#f0f921"
             ]
            ],
            "type": "surface"
           }
          ],
          "table": [
           {
            "cells": {
             "fill": {
              "color": "#EBF0F8"
             },
             "line": {
              "color": "white"
             }
            },
            "header": {
             "fill": {
              "color": "#C8D4E3"
             },
             "line": {
              "color": "white"
             }
            },
            "type": "table"
           }
          ]
         },
         "layout": {
          "annotationdefaults": {
           "arrowcolor": "#2a3f5f",
           "arrowhead": 0,
           "arrowwidth": 1
          },
          "autotypenumbers": "strict",
          "coloraxis": {
           "colorbar": {
            "outlinewidth": 0,
            "ticks": ""
           }
          },
          "colorscale": {
           "diverging": [
            [
             0,
             "#8e0152"
            ],
            [
             0.1,
             "#c51b7d"
            ],
            [
             0.2,
             "#de77ae"
            ],
            [
             0.3,
             "#f1b6da"
            ],
            [
             0.4,
             "#fde0ef"
            ],
            [
             0.5,
             "#f7f7f7"
            ],
            [
             0.6,
             "#e6f5d0"
            ],
            [
             0.7,
             "#b8e186"
            ],
            [
             0.8,
             "#7fbc41"
            ],
            [
             0.9,
             "#4d9221"
            ],
            [
             1,
             "#276419"
            ]
           ],
           "sequential": [
            [
             0,
             "#0d0887"
            ],
            [
             0.1111111111111111,
             "#46039f"
            ],
            [
             0.2222222222222222,
             "#7201a8"
            ],
            [
             0.3333333333333333,
             "#9c179e"
            ],
            [
             0.4444444444444444,
             "#bd3786"
            ],
            [
             0.5555555555555556,
             "#d8576b"
            ],
            [
             0.6666666666666666,
             "#ed7953"
            ],
            [
             0.7777777777777778,
             "#fb9f3a"
            ],
            [
             0.8888888888888888,
             "#fdca26"
            ],
            [
             1,
             "#f0f921"
            ]
           ],
           "sequentialminus": [
            [
             0,
             "#0d0887"
            ],
            [
             0.1111111111111111,
             "#46039f"
            ],
            [
             0.2222222222222222,
             "#7201a8"
            ],
            [
             0.3333333333333333,
             "#9c179e"
            ],
            [
             0.4444444444444444,
             "#bd3786"
            ],
            [
             0.5555555555555556,
             "#d8576b"
            ],
            [
             0.6666666666666666,
             "#ed7953"
            ],
            [
             0.7777777777777778,
             "#fb9f3a"
            ],
            [
             0.8888888888888888,
             "#fdca26"
            ],
            [
             1,
             "#f0f921"
            ]
           ]
          },
          "colorway": [
           "#636efa",
           "#EF553B",
           "#00cc96",
           "#ab63fa",
           "#FFA15A",
           "#19d3f3",
           "#FF6692",
           "#B6E880",
           "#FF97FF",
           "#FECB52"
          ],
          "font": {
           "color": "#2a3f5f"
          },
          "geo": {
           "bgcolor": "white",
           "lakecolor": "white",
           "landcolor": "#E5ECF6",
           "showlakes": true,
           "showland": true,
           "subunitcolor": "white"
          },
          "hoverlabel": {
           "align": "left"
          },
          "hovermode": "closest",
          "mapbox": {
           "style": "light"
          },
          "paper_bgcolor": "white",
          "plot_bgcolor": "#E5ECF6",
          "polar": {
           "angularaxis": {
            "gridcolor": "white",
            "linecolor": "white",
            "ticks": ""
           },
           "bgcolor": "#E5ECF6",
           "radialaxis": {
            "gridcolor": "white",
            "linecolor": "white",
            "ticks": ""
           }
          },
          "scene": {
           "xaxis": {
            "backgroundcolor": "#E5ECF6",
            "gridcolor": "white",
            "gridwidth": 2,
            "linecolor": "white",
            "showbackground": true,
            "ticks": "",
            "zerolinecolor": "white"
           },
           "yaxis": {
            "backgroundcolor": "#E5ECF6",
            "gridcolor": "white",
            "gridwidth": 2,
            "linecolor": "white",
            "showbackground": true,
            "ticks": "",
            "zerolinecolor": "white"
           },
           "zaxis": {
            "backgroundcolor": "#E5ECF6",
            "gridcolor": "white",
            "gridwidth": 2,
            "linecolor": "white",
            "showbackground": true,
            "ticks": "",
            "zerolinecolor": "white"
           }
          },
          "shapedefaults": {
           "line": {
            "color": "#2a3f5f"
           }
          },
          "ternary": {
           "aaxis": {
            "gridcolor": "white",
            "linecolor": "white",
            "ticks": ""
           },
           "baxis": {
            "gridcolor": "white",
            "linecolor": "white",
            "ticks": ""
           },
           "bgcolor": "#E5ECF6",
           "caxis": {
            "gridcolor": "white",
            "linecolor": "white",
            "ticks": ""
           }
          },
          "title": {
           "x": 0.05
          },
          "xaxis": {
           "automargin": true,
           "gridcolor": "white",
           "linecolor": "white",
           "ticks": "",
           "title": {
            "standoff": 15
           },
           "zerolinecolor": "white",
           "zerolinewidth": 2
          },
          "yaxis": {
           "automargin": true,
           "gridcolor": "white",
           "linecolor": "white",
           "ticks": "",
           "title": {
            "standoff": 15
           },
           "zerolinecolor": "white",
           "zerolinewidth": 2
          }
         }
        },
        "title": {
         "text": "Gun Violence Incidents by State - Normalized by Population (2013-2018)"
        },
        "width": 1000
       }
      }
     },
     "metadata": {},
     "output_type": "display_data"
    }
   ],
   "source": [
    "# Create a normalized heat map of gun violence incidents by state (per 100,000 population)\n",
    "\n",
    "# Count incidents by state\n",
    "state_counts = df['state'].value_counts().reset_index()\n",
    "state_counts.columns = ['state', 'count']\n",
    "\n",
    "# Add population data from state_to_population_dict\n",
    "state_counts['population'] = state_counts['state'].map(state_to_population_dict)\n",
    "\n",
    "# Calculate incidents per 100,000 population\n",
    "state_counts['incidents_per_100k'] = (state_counts['count'] / state_counts['population']) * 100000\n",
    "\n",
    "# Map full state names to abbreviations\n",
    "state_abbrev = {\n",
    "    'Alabama': 'AL', 'Alaska': 'AK', 'Arizona': 'AZ', 'Arkansas': 'AR', 'California': 'CA',\n",
    "    'Colorado': 'CO', 'Connecticut': 'CT', 'Delaware': 'DE', 'Florida': 'FL', 'Georgia': 'GA',\n",
    "    'Hawaii': 'HI', 'Idaho': 'ID', 'Illinois': 'IL', 'Indiana': 'IN', 'Iowa': 'IA',\n",
    "    'Kansas': 'KS', 'Kentucky': 'KY', 'Louisiana': 'LA', 'Maine': 'ME', 'Maryland': 'MD',\n",
    "    'Massachusetts': 'MA', 'Michigan': 'MI', 'Minnesota': 'MN', 'Mississippi': 'MS', 'Missouri': 'MO',\n",
    "    'Montana': 'MT', 'Nebraska': 'NE', 'Nevada': 'NV', 'New Hampshire': 'NH', 'New Jersey': 'NJ',\n",
    "    'New Mexico': 'NM', 'New York': 'NY', 'North Carolina': 'NC', 'North Dakota': 'ND', 'Ohio': 'OH',\n",
    "    'Oklahoma': 'OK', 'Oregon': 'OR', 'Pennsylvania': 'PA', 'Rhode Island': 'RI', 'South Carolina': 'SC',\n",
    "    'South Dakota': 'SD', 'Tennessee': 'TN', 'Texas': 'TX', 'Utah': 'UT', 'Vermont': 'VT',\n",
    "    'Virginia': 'VA', 'Washington': 'WA', 'West Virginia': 'WV', 'Wisconsin': 'WI', 'Wyoming': 'WY',\n",
    "    'District of Columbia': 'DC'\n",
    "}\n",
    "\n",
    "state_counts['state_code'] = state_counts['state'].map(state_abbrev)\n",
    "\n",
    "# Sort by incidents per 100k\n",
    "state_counts_sorted = state_counts.sort_values('incidents_per_100k', ascending=False)\n",
    "\n",
    "print(f\"Top 10 states by incident rate (per 100,000 population):\")\n",
    "print(state_counts_sorted[['state', 'count', 'population', 'incidents_per_100k']].head(10).to_string(index=False))\n",
    "\n",
    "# Create choropleth map with normalized data\n",
    "fig = go.Figure(data=go.Choropleth(\n",
    "    locations=state_counts['state_code'],\n",
    "    z=state_counts['incidents_per_100k'],\n",
    "    locationmode='USA-states',\n",
    "    colorscale='Reds',\n",
    "    colorbar_title=\"Incidents<br>per 100k\",\n",
    "    text=state_counts['state'],\n",
    "    customdata=state_counts[['count', 'population']],\n",
    "    hovertemplate='<b>%{text}</b><br>Rate: %{z:.1f} per 100k<br>Total Incidents: %{customdata[0]:,}<br>Population: %{customdata[1]:,}<extra></extra>'\n",
    "))\n",
    "\n",
    "fig.update_layout(\n",
    "    title_text='Gun Violence Incidents by State - Normalized by Population (2013-2018)',\n",
    "    geo_scope='usa',\n",
    "    height=600,\n",
    "    width=1000\n",
    ")\n",
    "\n",
    "fig.show()"
   ]
  },
  {
   "cell_type": "code",
   "execution_count": 178,
   "id": "ocdqg7cpldf",
   "metadata": {},
   "outputs": [
    {
     "name": "stdout",
     "output_type": "stream",
     "text": [
      "Top 10 states by incident rate (per 100,000 population):\n",
      "               state  count  population  incidents_per_100k\n",
      "District of Columbia   3195      689545          463.349020\n",
      "              Alaska   1349      733391          183.940081\n",
      "           Louisiana   8103     4657757          173.967856\n",
      "            Delaware   1685      989948          170.210961\n",
      "            Illinois  17556    12801989          137.134941\n",
      "      South Carolina   6939     5118425          135.569047\n",
      "         Mississippi   3599     2961279          121.535323\n",
      "           Tennessee   7626     6910840          110.348380\n",
      "             Alabama   5471     5024279          108.891246\n",
      "            Missouri   6631     6154913          107.735073\n"
     ]
    },
    {
     "ename": "ValueError",
     "evalue": "Invalid property specified for object of type plotly.graph_objs.Choropleth: 'textposition'\n\nDid you mean \"textsrc\"?\n\n    Valid properties:\n        autocolorscale\n            Determines whether the colorscale is a default palette\n            (`autocolorscale: true`) or the palette determined by\n            `colorscale`. In case `colorscale` is unspecified or\n            `autocolorscale` is true, the default palette will be\n            chosen according to whether numbers in the `color`\n            array are all positive, all negative or mixed.\n        coloraxis\n            Sets a reference to a shared color axis. References to\n            these shared color axes are \"coloraxis\", \"coloraxis2\",\n            \"coloraxis3\", etc. Settings for these shared color axes\n            are set in the layout, under `layout.coloraxis`,\n            `layout.coloraxis2`, etc. Note that multiple color\n            scales can be linked to the same color axis.\n        colorbar\n            :class:`plotly.graph_objects.choropleth.ColorBar`\n            instance or dict with compatible properties\n        colorscale\n            Sets the colorscale. The colorscale must be an array\n            containing arrays mapping a normalized value to an rgb,\n            rgba, hex, hsl, hsv, or named color string. At minimum,\n            a mapping for the lowest (0) and highest (1) values are\n            required. For example, `[[0, 'rgb(0,0,255)'], [1,\n            'rgb(255,0,0)']]`. To control the bounds of the\n            colorscale in color space, use `zmin` and `zmax`.\n            Alternatively, `colorscale` may be a palette name\n            string of the following list: Blackbody,Bluered,Blues,C\n            ividis,Earth,Electric,Greens,Greys,Hot,Jet,Picnic,Portl\n            and,Rainbow,RdBu,Reds,Viridis,YlGnBu,YlOrRd.\n        customdata\n            Assigns extra data each datum. This may be useful when\n            listening to hover, click and selection events. Note\n            that, \"scatter\" traces also appends customdata items in\n            the markers DOM elements\n        customdatasrc\n            Sets the source reference on Chart Studio Cloud for\n            `customdata`.\n        featureidkey\n            Sets the key in GeoJSON features which is used as id to\n            match the items included in the `locations` array. Only\n            has an effect when `geojson` is set. Support nested\n            property, for example \"properties.name\".\n        geo\n            Sets a reference between this trace's geospatial\n            coordinates and a geographic map. If \"geo\" (the default\n            value), the geospatial coordinates refer to\n            `layout.geo`. If \"geo2\", the geospatial coordinates\n            refer to `layout.geo2`, and so on.\n        geojson\n            Sets optional GeoJSON data associated with this trace.\n            If not given, the features on the base map are used. It\n            can be set as a valid GeoJSON object or as a URL\n            string. Note that we only accept GeoJSONs of type\n            \"FeatureCollection\" or \"Feature\" with geometries of\n            type \"Polygon\" or \"MultiPolygon\".\n        hoverinfo\n            Determines which trace information appear on hover. If\n            `none` or `skip` are set, no information is displayed\n            upon hovering. But, if `none` is set, click and hover\n            events are still fired.\n        hoverinfosrc\n            Sets the source reference on Chart Studio Cloud for\n            `hoverinfo`.\n        hoverlabel\n            :class:`plotly.graph_objects.choropleth.Hoverlabel`\n            instance or dict with compatible properties\n        hovertemplate\n            Template string used for rendering the information that\n            appear on hover box. Note that this will override\n            `hoverinfo`. Variables are inserted using %{variable},\n            for example \"y: %{y}\" as well as %{xother}, {%_xother},\n            {%_xother_}, {%xother_}. When showing info for several\n            points, \"xother\" will be added to those with different\n            x positions from the first point. An underscore before\n            or after \"(x|y)other\" will add a space on that side,\n            only when this field is shown. Numbers are formatted\n            using d3-format's syntax %{variable:d3-format}, for\n            example \"Price: %{y:$.2f}\".\n            https://github.com/d3/d3-format/tree/v1.4.5#d3-format\n            for details on the formatting syntax. Dates are\n            formatted using d3-time-format's syntax\n            %{variable|d3-time-format}, for example \"Day:\n            %{2019-01-01|%A}\". https://github.com/d3/d3-time-\n            format/tree/v2.2.3#locale_format for details on the\n            date formatting syntax. The variables available in\n            `hovertemplate` are the ones emitted as event data\n            described at this link\n            https://plotly.com/javascript/plotlyjs-events/#event-\n            data. Additionally, every attributes that can be\n            specified per-point (the ones that are `arrayOk: true`)\n            are available.  Anything contained in tag `<extra>` is\n            displayed in the secondary box, for example\n            \"<extra>{fullData.name}</extra>\". To hide the secondary\n            box completely, use an empty tag `<extra></extra>`.\n        hovertemplatesrc\n            Sets the source reference on Chart Studio Cloud for\n            `hovertemplate`.\n        hovertext\n            Same as `text`.\n        hovertextsrc\n            Sets the source reference on Chart Studio Cloud for\n            `hovertext`.\n        ids\n            Assigns id labels to each datum. These ids for object\n            constancy of data points during animation. Should be an\n            array of strings, not numbers or any other type.\n        idssrc\n            Sets the source reference on Chart Studio Cloud for\n            `ids`.\n        legend\n            Sets the reference to a legend to show this trace in.\n            References to these legends are \"legend\", \"legend2\",\n            \"legend3\", etc. Settings for these legends are set in\n            the layout, under `layout.legend`, `layout.legend2`,\n            etc.\n        legendgroup\n            Sets the legend group for this trace. Traces and shapes\n            part of the same legend group hide/show at the same\n            time when toggling legend items.\n        legendgrouptitle\n            :class:`plotly.graph_objects.choropleth.Legendgrouptitl\n            e` instance or dict with compatible properties\n        legendrank\n            Sets the legend rank for this trace. Items and groups\n            with smaller ranks are presented on top/left side while\n            with \"reversed\" `legend.traceorder` they are on\n            bottom/right side. The default legendrank is 1000, so\n            that you can use ranks less than 1000 to place certain\n            items before all unranked items, and ranks greater than\n            1000 to go after all unranked items. When having\n            unranked or equal rank items shapes would be displayed\n            after traces i.e. according to their order in data and\n            layout.\n        legendwidth\n            Sets the width (in px or fraction) of the legend for\n            this trace.\n        locationmode\n            Determines the set of locations used to match entries\n            in `locations` to regions on the map. Values \"ISO-3\",\n            \"USA-states\", *country names* correspond to features on\n            the base map and value \"geojson-id\" corresponds to\n            features from a custom GeoJSON linked to the `geojson`\n            attribute.\n        locations\n            Sets the coordinates via location IDs or names. See\n            `locationmode` for more info.\n        locationssrc\n            Sets the source reference on Chart Studio Cloud for\n            `locations`.\n        marker\n            :class:`plotly.graph_objects.choropleth.Marker`\n            instance or dict with compatible properties\n        meta\n            Assigns extra meta information associated with this\n            trace that can be used in various text attributes.\n            Attributes such as trace `name`, graph, axis and\n            colorbar `title.text`, annotation `text`\n            `rangeselector`, `updatemenues` and `sliders` `label`\n            text all support `meta`. To access the trace `meta`\n            values in an attribute in the same trace, simply use\n            `%{meta[i]}` where `i` is the index or key of the\n            `meta` item in question. To access trace `meta` in\n            layout attributes, use `%{data[n[.meta[i]}` where `i`\n            is the index or key of the `meta` and `n` is the trace\n            index.\n        metasrc\n            Sets the source reference on Chart Studio Cloud for\n            `meta`.\n        name\n            Sets the trace name. The trace name appears as the\n            legend item and on hover.\n        reversescale\n            Reverses the color mapping if true. If true, `zmin`\n            will correspond to the last color in the array and\n            `zmax` will correspond to the first color.\n        selected\n            :class:`plotly.graph_objects.choropleth.Selected`\n            instance or dict with compatible properties\n        selectedpoints\n            Array containing integer indices of selected points.\n            Has an effect only for traces that support selections.\n            Note that an empty array means an empty selection where\n            the `unselected` are turned on for all points, whereas,\n            any other non-array values means no selection all where\n            the `selected` and `unselected` styles have no effect.\n        showlegend\n            Determines whether or not an item corresponding to this\n            trace is shown in the legend.\n        showscale\n            Determines whether or not a colorbar is displayed for\n            this trace.\n        stream\n            :class:`plotly.graph_objects.choropleth.Stream`\n            instance or dict with compatible properties\n        text\n            Sets the text elements associated with each location.\n        textsrc\n            Sets the source reference on Chart Studio Cloud for\n            `text`.\n        uid\n            Assign an id to this trace, Use this to provide object\n            constancy between traces during animations and\n            transitions.\n        uirevision\n            Controls persistence of some user-driven changes to the\n            trace: `constraintrange` in `parcoords` traces, as well\n            as some `editable: true` modifications such as `name`\n            and `colorbar.title`. Defaults to `layout.uirevision`.\n            Note that other user-driven trace attribute changes are\n            controlled by `layout` attributes: `trace.visible` is\n            controlled by `layout.legend.uirevision`,\n            `selectedpoints` is controlled by\n            `layout.selectionrevision`, and `colorbar.(x|y)`\n            (accessible with `config: {editable: true}`) is\n            controlled by `layout.editrevision`. Trace changes are\n            tracked by `uid`, which only falls back on trace index\n            if no `uid` is provided. So if your app can add/remove\n            traces before the end of the `data` array, such that\n            the same trace has a different index, you can still\n            preserve user-driven changes if you give each trace a\n            `uid` that stays with it as it moves.\n        unselected\n            :class:`plotly.graph_objects.choropleth.Unselected`\n            instance or dict with compatible properties\n        visible\n            Determines whether or not this trace is visible. If\n            \"legendonly\", the trace is not drawn, but can appear as\n            a legend item (provided that the legend itself is\n            visible).\n        z\n            Sets the color values.\n        zauto\n            Determines whether or not the color domain is computed\n            with respect to the input data (here in `z`) or the\n            bounds set in `zmin` and `zmax` Defaults to `false`\n            when `zmin` and `zmax` are set by the user.\n        zmax\n            Sets the upper bound of the color domain. Value should\n            have the same units as in `z` and if set, `zmin` must\n            be set as well.\n        zmid\n            Sets the mid-point of the color domain by scaling\n            `zmin` and/or `zmax` to be equidistant to this point.\n            Value should have the same units as in `z`. Has no\n            effect when `zauto` is `false`.\n        zmin\n            Sets the lower bound of the color domain. Value should\n            have the same units as in `z` and if set, `zmax` must\n            be set as well.\n        zsrc\n            Sets the source reference on Chart Studio Cloud for\n            `z`.\n        \nDid you mean \"textsrc\"?\n\nBad property path:\ntextposition\n^^^^^^^^^^^^",
     "output_type": "error",
     "traceback": [
      "\u001b[0;31m---------------------------------------------------------------------------\u001b[0m",
      "\u001b[0;31mValueError\u001b[0m                                Traceback (most recent call last)",
      "Cell \u001b[0;32mIn[178], line 37\u001b[0m\n\u001b[1;32m     34\u001b[0m \u001b[38;5;28mprint\u001b[39m(state_counts_sorted[[\u001b[38;5;124m'\u001b[39m\u001b[38;5;124mstate\u001b[39m\u001b[38;5;124m'\u001b[39m, \u001b[38;5;124m'\u001b[39m\u001b[38;5;124mcount\u001b[39m\u001b[38;5;124m'\u001b[39m, \u001b[38;5;124m'\u001b[39m\u001b[38;5;124mpopulation\u001b[39m\u001b[38;5;124m'\u001b[39m, \u001b[38;5;124m'\u001b[39m\u001b[38;5;124mincidents_per_100k\u001b[39m\u001b[38;5;124m'\u001b[39m]]\u001b[38;5;241m.\u001b[39mhead(\u001b[38;5;241m10\u001b[39m)\u001b[38;5;241m.\u001b[39mto_string(index\u001b[38;5;241m=\u001b[39m\u001b[38;5;28;01mFalse\u001b[39;00m))\n\u001b[1;32m     36\u001b[0m \u001b[38;5;66;03m# Create choropleth map with normalized data and labels\u001b[39;00m\n\u001b[0;32m---> 37\u001b[0m fig \u001b[38;5;241m=\u001b[39m go\u001b[38;5;241m.\u001b[39mFigure(data\u001b[38;5;241m=\u001b[39mgo\u001b[38;5;241m.\u001b[39mChoropleth(\n\u001b[1;32m     38\u001b[0m     locations\u001b[38;5;241m=\u001b[39mstate_counts[\u001b[38;5;124m'\u001b[39m\u001b[38;5;124mstate_code\u001b[39m\u001b[38;5;124m'\u001b[39m],\n\u001b[1;32m     39\u001b[0m     z\u001b[38;5;241m=\u001b[39mstate_counts[\u001b[38;5;124m'\u001b[39m\u001b[38;5;124mincidents_per_100k\u001b[39m\u001b[38;5;124m'\u001b[39m],\n\u001b[1;32m     40\u001b[0m     locationmode\u001b[38;5;241m=\u001b[39m\u001b[38;5;124m'\u001b[39m\u001b[38;5;124mUSA-states\u001b[39m\u001b[38;5;124m'\u001b[39m,\n\u001b[1;32m     41\u001b[0m     colorscale\u001b[38;5;241m=\u001b[39m\u001b[38;5;124m'\u001b[39m\u001b[38;5;124mReds\u001b[39m\u001b[38;5;124m'\u001b[39m,\n\u001b[1;32m     42\u001b[0m     colorbar_title\u001b[38;5;241m=\u001b[39m\u001b[38;5;124m\"\u001b[39m\u001b[38;5;124mIncidents<br>per 100k\u001b[39m\u001b[38;5;124m\"\u001b[39m,\n\u001b[1;32m     43\u001b[0m     text\u001b[38;5;241m=\u001b[39mstate_counts[\u001b[38;5;124m'\u001b[39m\u001b[38;5;124mincidents_per_100k\u001b[39m\u001b[38;5;124m'\u001b[39m]\u001b[38;5;241m.\u001b[39mapply(\u001b[38;5;28;01mlambda\u001b[39;00m x: \u001b[38;5;124mf\u001b[39m\u001b[38;5;124m'\u001b[39m\u001b[38;5;132;01m{\u001b[39;00mx\u001b[38;5;132;01m:\u001b[39;00m\u001b[38;5;124m.1f\u001b[39m\u001b[38;5;132;01m}\u001b[39;00m\u001b[38;5;124m'\u001b[39m),\n\u001b[1;32m     44\u001b[0m     textposition\u001b[38;5;241m=\u001b[39m\u001b[38;5;124m'\u001b[39m\u001b[38;5;124mmiddle center\u001b[39m\u001b[38;5;124m'\u001b[39m,\n\u001b[1;32m     45\u001b[0m     textfont\u001b[38;5;241m=\u001b[39m\u001b[38;5;28mdict\u001b[39m(size\u001b[38;5;241m=\u001b[39m\u001b[38;5;241m8\u001b[39m, color\u001b[38;5;241m=\u001b[39m\u001b[38;5;124m'\u001b[39m\u001b[38;5;124mblack\u001b[39m\u001b[38;5;124m'\u001b[39m),\n\u001b[1;32m     46\u001b[0m     customdata\u001b[38;5;241m=\u001b[39mstate_counts[[\u001b[38;5;124m'\u001b[39m\u001b[38;5;124mstate\u001b[39m\u001b[38;5;124m'\u001b[39m, \u001b[38;5;124m'\u001b[39m\u001b[38;5;124mcount\u001b[39m\u001b[38;5;124m'\u001b[39m, \u001b[38;5;124m'\u001b[39m\u001b[38;5;124mpopulation\u001b[39m\u001b[38;5;124m'\u001b[39m]],\n\u001b[1;32m     47\u001b[0m     hovertemplate\u001b[38;5;241m=\u001b[39m\u001b[38;5;124m'\u001b[39m\u001b[38;5;124m<b>\u001b[39m\u001b[38;5;124m%\u001b[39m\u001b[38;5;132;01m{customdata[0]}\u001b[39;00m\u001b[38;5;124m</b><br>Rate: \u001b[39m\u001b[38;5;124m%\u001b[39m\u001b[38;5;132;01m{z:.1f}\u001b[39;00m\u001b[38;5;124m per 100k<br>Total Incidents: \u001b[39m\u001b[38;5;124m%\u001b[39m\u001b[38;5;132;01m{customdata[1]:,}\u001b[39;00m\u001b[38;5;124m<br>Population: \u001b[39m\u001b[38;5;124m%\u001b[39m\u001b[38;5;132;01m{customdata[2]:,}\u001b[39;00m\u001b[38;5;124m<extra></extra>\u001b[39m\u001b[38;5;124m'\u001b[39m\n\u001b[1;32m     48\u001b[0m ))\n\u001b[1;32m     50\u001b[0m fig\u001b[38;5;241m.\u001b[39mupdate_layout(\n\u001b[1;32m     51\u001b[0m     title_text\u001b[38;5;241m=\u001b[39m\u001b[38;5;124m'\u001b[39m\u001b[38;5;124mGun Violence Incidents by State - Normalized by Population (2013-2018)\u001b[39m\u001b[38;5;124m'\u001b[39m,\n\u001b[1;32m     52\u001b[0m     geo_scope\u001b[38;5;241m=\u001b[39m\u001b[38;5;124m'\u001b[39m\u001b[38;5;124musa\u001b[39m\u001b[38;5;124m'\u001b[39m,\n\u001b[1;32m     53\u001b[0m     height\u001b[38;5;241m=\u001b[39m\u001b[38;5;241m600\u001b[39m,\n\u001b[1;32m     54\u001b[0m     width\u001b[38;5;241m=\u001b[39m\u001b[38;5;241m1000\u001b[39m\n\u001b[1;32m     55\u001b[0m )\n\u001b[1;32m     57\u001b[0m fig\u001b[38;5;241m.\u001b[39mshow()\n",
      "File \u001b[0;32m/opt/anaconda3/lib/python3.12/site-packages/plotly/graph_objs/_choropleth.py:2377\u001b[0m, in \u001b[0;36mChoropleth.__init__\u001b[0;34m(self, arg, autocolorscale, coloraxis, colorbar, colorscale, customdata, customdatasrc, featureidkey, geo, geojson, hoverinfo, hoverinfosrc, hoverlabel, hovertemplate, hovertemplatesrc, hovertext, hovertextsrc, ids, idssrc, legend, legendgroup, legendgrouptitle, legendrank, legendwidth, locationmode, locations, locationssrc, marker, meta, metasrc, name, reversescale, selected, selectedpoints, showlegend, showscale, stream, text, textsrc, uid, uirevision, unselected, visible, z, zauto, zmax, zmid, zmin, zsrc, **kwargs)\u001b[0m\n\u001b[1;32m   2373\u001b[0m arg\u001b[38;5;241m.\u001b[39mpop(\u001b[38;5;124m\"\u001b[39m\u001b[38;5;124mtype\u001b[39m\u001b[38;5;124m\"\u001b[39m, \u001b[38;5;28;01mNone\u001b[39;00m)\n\u001b[1;32m   2375\u001b[0m \u001b[38;5;66;03m# Process unknown kwargs\u001b[39;00m\n\u001b[1;32m   2376\u001b[0m \u001b[38;5;66;03m# ----------------------\u001b[39;00m\n\u001b[0;32m-> 2377\u001b[0m \u001b[38;5;28mself\u001b[39m\u001b[38;5;241m.\u001b[39m_process_kwargs(\u001b[38;5;241m*\u001b[39m\u001b[38;5;241m*\u001b[39m\u001b[38;5;28mdict\u001b[39m(arg, \u001b[38;5;241m*\u001b[39m\u001b[38;5;241m*\u001b[39mkwargs))\n\u001b[1;32m   2379\u001b[0m \u001b[38;5;66;03m# Reset skip_invalid\u001b[39;00m\n\u001b[1;32m   2380\u001b[0m \u001b[38;5;66;03m# ------------------\u001b[39;00m\n\u001b[1;32m   2381\u001b[0m \u001b[38;5;28mself\u001b[39m\u001b[38;5;241m.\u001b[39m_skip_invalid \u001b[38;5;241m=\u001b[39m \u001b[38;5;28;01mFalse\u001b[39;00m\n",
      "File \u001b[0;32m/opt/anaconda3/lib/python3.12/site-packages/plotly/basedatatypes.py:4386\u001b[0m, in \u001b[0;36mBasePlotlyType._process_kwargs\u001b[0;34m(self, **kwargs)\u001b[0m\n\u001b[1;32m   4384\u001b[0m     \u001b[38;5;28mself\u001b[39m[k] \u001b[38;5;241m=\u001b[39m v\n\u001b[1;32m   4385\u001b[0m \u001b[38;5;28;01melif\u001b[39;00m \u001b[38;5;129;01mnot\u001b[39;00m \u001b[38;5;28mself\u001b[39m\u001b[38;5;241m.\u001b[39m_skip_invalid:\n\u001b[0;32m-> 4386\u001b[0m     \u001b[38;5;28;01mraise\u001b[39;00m err\n",
      "\u001b[0;31mValueError\u001b[0m: Invalid property specified for object of type plotly.graph_objs.Choropleth: 'textposition'\n\nDid you mean \"textsrc\"?\n\n    Valid properties:\n        autocolorscale\n            Determines whether the colorscale is a default palette\n            (`autocolorscale: true`) or the palette determined by\n            `colorscale`. In case `colorscale` is unspecified or\n            `autocolorscale` is true, the default palette will be\n            chosen according to whether numbers in the `color`\n            array are all positive, all negative or mixed.\n        coloraxis\n            Sets a reference to a shared color axis. References to\n            these shared color axes are \"coloraxis\", \"coloraxis2\",\n            \"coloraxis3\", etc. Settings for these shared color axes\n            are set in the layout, under `layout.coloraxis`,\n            `layout.coloraxis2`, etc. Note that multiple color\n            scales can be linked to the same color axis.\n        colorbar\n            :class:`plotly.graph_objects.choropleth.ColorBar`\n            instance or dict with compatible properties\n        colorscale\n            Sets the colorscale. The colorscale must be an array\n            containing arrays mapping a normalized value to an rgb,\n            rgba, hex, hsl, hsv, or named color string. At minimum,\n            a mapping for the lowest (0) and highest (1) values are\n            required. For example, `[[0, 'rgb(0,0,255)'], [1,\n            'rgb(255,0,0)']]`. To control the bounds of the\n            colorscale in color space, use `zmin` and `zmax`.\n            Alternatively, `colorscale` may be a palette name\n            string of the following list: Blackbody,Bluered,Blues,C\n            ividis,Earth,Electric,Greens,Greys,Hot,Jet,Picnic,Portl\n            and,Rainbow,RdBu,Reds,Viridis,YlGnBu,YlOrRd.\n        customdata\n            Assigns extra data each datum. This may be useful when\n            listening to hover, click and selection events. Note\n            that, \"scatter\" traces also appends customdata items in\n            the markers DOM elements\n        customdatasrc\n            Sets the source reference on Chart Studio Cloud for\n            `customdata`.\n        featureidkey\n            Sets the key in GeoJSON features which is used as id to\n            match the items included in the `locations` array. Only\n            has an effect when `geojson` is set. Support nested\n            property, for example \"properties.name\".\n        geo\n            Sets a reference between this trace's geospatial\n            coordinates and a geographic map. If \"geo\" (the default\n            value), the geospatial coordinates refer to\n            `layout.geo`. If \"geo2\", the geospatial coordinates\n            refer to `layout.geo2`, and so on.\n        geojson\n            Sets optional GeoJSON data associated with this trace.\n            If not given, the features on the base map are used. It\n            can be set as a valid GeoJSON object or as a URL\n            string. Note that we only accept GeoJSONs of type\n            \"FeatureCollection\" or \"Feature\" with geometries of\n            type \"Polygon\" or \"MultiPolygon\".\n        hoverinfo\n            Determines which trace information appear on hover. If\n            `none` or `skip` are set, no information is displayed\n            upon hovering. But, if `none` is set, click and hover\n            events are still fired.\n        hoverinfosrc\n            Sets the source reference on Chart Studio Cloud for\n            `hoverinfo`.\n        hoverlabel\n            :class:`plotly.graph_objects.choropleth.Hoverlabel`\n            instance or dict with compatible properties\n        hovertemplate\n            Template string used for rendering the information that\n            appear on hover box. Note that this will override\n            `hoverinfo`. Variables are inserted using %{variable},\n            for example \"y: %{y}\" as well as %{xother}, {%_xother},\n            {%_xother_}, {%xother_}. When showing info for several\n            points, \"xother\" will be added to those with different\n            x positions from the first point. An underscore before\n            or after \"(x|y)other\" will add a space on that side,\n            only when this field is shown. Numbers are formatted\n            using d3-format's syntax %{variable:d3-format}, for\n            example \"Price: %{y:$.2f}\".\n            https://github.com/d3/d3-format/tree/v1.4.5#d3-format\n            for details on the formatting syntax. Dates are\n            formatted using d3-time-format's syntax\n            %{variable|d3-time-format}, for example \"Day:\n            %{2019-01-01|%A}\". https://github.com/d3/d3-time-\n            format/tree/v2.2.3#locale_format for details on the\n            date formatting syntax. The variables available in\n            `hovertemplate` are the ones emitted as event data\n            described at this link\n            https://plotly.com/javascript/plotlyjs-events/#event-\n            data. Additionally, every attributes that can be\n            specified per-point (the ones that are `arrayOk: true`)\n            are available.  Anything contained in tag `<extra>` is\n            displayed in the secondary box, for example\n            \"<extra>{fullData.name}</extra>\". To hide the secondary\n            box completely, use an empty tag `<extra></extra>`.\n        hovertemplatesrc\n            Sets the source reference on Chart Studio Cloud for\n            `hovertemplate`.\n        hovertext\n            Same as `text`.\n        hovertextsrc\n            Sets the source reference on Chart Studio Cloud for\n            `hovertext`.\n        ids\n            Assigns id labels to each datum. These ids for object\n            constancy of data points during animation. Should be an\n            array of strings, not numbers or any other type.\n        idssrc\n            Sets the source reference on Chart Studio Cloud for\n            `ids`.\n        legend\n            Sets the reference to a legend to show this trace in.\n            References to these legends are \"legend\", \"legend2\",\n            \"legend3\", etc. Settings for these legends are set in\n            the layout, under `layout.legend`, `layout.legend2`,\n            etc.\n        legendgroup\n            Sets the legend group for this trace. Traces and shapes\n            part of the same legend group hide/show at the same\n            time when toggling legend items.\n        legendgrouptitle\n            :class:`plotly.graph_objects.choropleth.Legendgrouptitl\n            e` instance or dict with compatible properties\n        legendrank\n            Sets the legend rank for this trace. Items and groups\n            with smaller ranks are presented on top/left side while\n            with \"reversed\" `legend.traceorder` they are on\n            bottom/right side. The default legendrank is 1000, so\n            that you can use ranks less than 1000 to place certain\n            items before all unranked items, and ranks greater than\n            1000 to go after all unranked items. When having\n            unranked or equal rank items shapes would be displayed\n            after traces i.e. according to their order in data and\n            layout.\n        legendwidth\n            Sets the width (in px or fraction) of the legend for\n            this trace.\n        locationmode\n            Determines the set of locations used to match entries\n            in `locations` to regions on the map. Values \"ISO-3\",\n            \"USA-states\", *country names* correspond to features on\n            the base map and value \"geojson-id\" corresponds to\n            features from a custom GeoJSON linked to the `geojson`\n            attribute.\n        locations\n            Sets the coordinates via location IDs or names. See\n            `locationmode` for more info.\n        locationssrc\n            Sets the source reference on Chart Studio Cloud for\n            `locations`.\n        marker\n            :class:`plotly.graph_objects.choropleth.Marker`\n            instance or dict with compatible properties\n        meta\n            Assigns extra meta information associated with this\n            trace that can be used in various text attributes.\n            Attributes such as trace `name`, graph, axis and\n            colorbar `title.text`, annotation `text`\n            `rangeselector`, `updatemenues` and `sliders` `label`\n            text all support `meta`. To access the trace `meta`\n            values in an attribute in the same trace, simply use\n            `%{meta[i]}` where `i` is the index or key of the\n            `meta` item in question. To access trace `meta` in\n            layout attributes, use `%{data[n[.meta[i]}` where `i`\n            is the index or key of the `meta` and `n` is the trace\n            index.\n        metasrc\n            Sets the source reference on Chart Studio Cloud for\n            `meta`.\n        name\n            Sets the trace name. The trace name appears as the\n            legend item and on hover.\n        reversescale\n            Reverses the color mapping if true. If true, `zmin`\n            will correspond to the last color in the array and\n            `zmax` will correspond to the first color.\n        selected\n            :class:`plotly.graph_objects.choropleth.Selected`\n            instance or dict with compatible properties\n        selectedpoints\n            Array containing integer indices of selected points.\n            Has an effect only for traces that support selections.\n            Note that an empty array means an empty selection where\n            the `unselected` are turned on for all points, whereas,\n            any other non-array values means no selection all where\n            the `selected` and `unselected` styles have no effect.\n        showlegend\n            Determines whether or not an item corresponding to this\n            trace is shown in the legend.\n        showscale\n            Determines whether or not a colorbar is displayed for\n            this trace.\n        stream\n            :class:`plotly.graph_objects.choropleth.Stream`\n            instance or dict with compatible properties\n        text\n            Sets the text elements associated with each location.\n        textsrc\n            Sets the source reference on Chart Studio Cloud for\n            `text`.\n        uid\n            Assign an id to this trace, Use this to provide object\n            constancy between traces during animations and\n            transitions.\n        uirevision\n            Controls persistence of some user-driven changes to the\n            trace: `constraintrange` in `parcoords` traces, as well\n            as some `editable: true` modifications such as `name`\n            and `colorbar.title`. Defaults to `layout.uirevision`.\n            Note that other user-driven trace attribute changes are\n            controlled by `layout` attributes: `trace.visible` is\n            controlled by `layout.legend.uirevision`,\n            `selectedpoints` is controlled by\n            `layout.selectionrevision`, and `colorbar.(x|y)`\n            (accessible with `config: {editable: true}`) is\n            controlled by `layout.editrevision`. Trace changes are\n            tracked by `uid`, which only falls back on trace index\n            if no `uid` is provided. So if your app can add/remove\n            traces before the end of the `data` array, such that\n            the same trace has a different index, you can still\n            preserve user-driven changes if you give each trace a\n            `uid` that stays with it as it moves.\n        unselected\n            :class:`plotly.graph_objects.choropleth.Unselected`\n            instance or dict with compatible properties\n        visible\n            Determines whether or not this trace is visible. If\n            \"legendonly\", the trace is not drawn, but can appear as\n            a legend item (provided that the legend itself is\n            visible).\n        z\n            Sets the color values.\n        zauto\n            Determines whether or not the color domain is computed\n            with respect to the input data (here in `z`) or the\n            bounds set in `zmin` and `zmax` Defaults to `false`\n            when `zmin` and `zmax` are set by the user.\n        zmax\n            Sets the upper bound of the color domain. Value should\n            have the same units as in `z` and if set, `zmin` must\n            be set as well.\n        zmid\n            Sets the mid-point of the color domain by scaling\n            `zmin` and/or `zmax` to be equidistant to this point.\n            Value should have the same units as in `z`. Has no\n            effect when `zauto` is `false`.\n        zmin\n            Sets the lower bound of the color domain. Value should\n            have the same units as in `z` and if set, `zmax` must\n            be set as well.\n        zsrc\n            Sets the source reference on Chart Studio Cloud for\n            `z`.\n        \nDid you mean \"textsrc\"?\n\nBad property path:\ntextposition\n^^^^^^^^^^^^"
     ]
    }
   ],
   "source": [
    "# Create a normalized heat map of gun violence incidents by state (per 100,000 population) with labels\n",
    "\n",
    "# Count incidents by state\n",
    "state_counts = df['state'].value_counts().reset_index()\n",
    "state_counts.columns = ['state', 'count']\n",
    "\n",
    "# Add population data from state_to_population_dict\n",
    "state_counts['population'] = state_counts['state'].map(state_to_population_dict)\n",
    "\n",
    "# Calculate incidents per 100,000 population\n",
    "state_counts['incidents_per_100k'] = (state_counts['count'] / state_counts['population']) * 100000\n",
    "\n",
    "# Map full state names to abbreviations\n",
    "state_abbrev = {\n",
    "    'Alabama': 'AL', 'Alaska': 'AK', 'Arizona': 'AZ', 'Arkansas': 'AR', 'California': 'CA',\n",
    "    'Colorado': 'CO', 'Connecticut': 'CT', 'Delaware': 'DE', 'Florida': 'FL', 'Georgia': 'GA',\n",
    "    'Hawaii': 'HI', 'Idaho': 'ID', 'Illinois': 'IL', 'Indiana': 'IN', 'Iowa': 'IA',\n",
    "    'Kansas': 'KS', 'Kentucky': 'KY', 'Louisiana': 'LA', 'Maine': 'ME', 'Maryland': 'MD',\n",
    "    'Massachusetts': 'MA', 'Michigan': 'MI', 'Minnesota': 'MN', 'Mississippi': 'MS', 'Missouri': 'MO',\n",
    "    'Montana': 'MT', 'Nebraska': 'NE', 'Nevada': 'NV', 'New Hampshire': 'NH', 'New Jersey': 'NJ',\n",
    "    'New Mexico': 'NM', 'New York': 'NY', 'North Carolina': 'NC', 'North Dakota': 'ND', 'Ohio': 'OH',\n",
    "    'Oklahoma': 'OK', 'Oregon': 'OR', 'Pennsylvania': 'PA', 'Rhode Island': 'RI', 'South Carolina': 'SC',\n",
    "    'South Dakota': 'SD', 'Tennessee': 'TN', 'Texas': 'TX', 'Utah': 'UT', 'Vermont': 'VT',\n",
    "    'Virginia': 'VA', 'Washington': 'WA', 'West Virginia': 'WV', 'Wisconsin': 'WI', 'Wyoming': 'WY',\n",
    "    'District of Columbia': 'DC'\n",
    "}\n",
    "\n",
    "state_counts['state_code'] = state_counts['state'].map(state_abbrev)\n",
    "\n",
    "# Sort by incidents per 100k\n",
    "state_counts_sorted = state_counts.sort_values('incidents_per_100k', ascending=False)\n",
    "\n",
    "print(f\"Top 10 states by incident rate (per 100,000 population):\")\n",
    "print(state_counts_sorted[['state', 'count', 'population', 'incidents_per_100k']].head(10).to_string(index=False))\n",
    "\n",
    "# Create choropleth map with normalized data and labels\n",
    "fig = go.Figure(data=go.Choropleth(\n",
    "    locations=state_counts['state_code'],\n",
    "    z=state_counts['incidents_per_100k'],\n",
    "    locationmode='USA-states',\n",
    "    colorscale='Reds',\n",
    "    colorbar_title=\"Incidents<br>per 100k\",\n",
    "    text=state_counts['incidents_per_100k'].apply(lambda x: f'{x:.1f}'),\n",
    "    textposition='middle center',\n",
    "    textfont=dict(size=8, color='black'),\n",
    "    customdata=state_counts[['state', 'count', 'population']],\n",
    "    hovertemplate='<b>%{customdata[0]}</b><br>Rate: %{z:.1f} per 100k<br>Total Incidents: %{customdata[1]:,}<br>Population: %{customdata[2]:,}<extra></extra>'\n",
    "))\n",
    "\n",
    "fig.update_layout(\n",
    "    title_text='Gun Violence Incidents by State - Normalized by Population (2013-2018)',\n",
    "    geo_scope='usa',\n",
    "    height=600,\n",
    "    width=1000\n",
    ")\n",
    "\n",
    "fig.show()"
   ]
  },
  {
   "cell_type": "code",
   "execution_count": 179,
   "id": "nanislayhx",
   "metadata": {},
   "outputs": [
    {
     "name": "stdout",
     "output_type": "stream",
     "text": [
      "Top 10 states by incident rate (per 100,000 population):\n",
      "               state  count  population  incidents_per_100k\n",
      "District of Columbia   3195      689545          463.349020\n",
      "              Alaska   1349      733391          183.940081\n",
      "           Louisiana   8103     4657757          173.967856\n",
      "            Delaware   1685      989948          170.210961\n",
      "            Illinois  17556    12801989          137.134941\n",
      "      South Carolina   6939     5118425          135.569047\n",
      "         Mississippi   3599     2961279          121.535323\n",
      "           Tennessee   7626     6910840          110.348380\n",
      "             Alabama   5471     5024279          108.891246\n",
      "            Missouri   6631     6154913          107.735073\n"
     ]
    },
    {
     "data": {
      "application/vnd.plotly.v1+json": {
       "config": {
        "plotlyServerURL": "https://plot.ly"
       },
       "data": [
        {
         "colorbar": {
          "title": {
           "text": "Incidents<br>per 100k"
          }
         },
         "colorscale": [
          [
           0,
           "rgb(255,245,240)"
          ],
          [
           0.125,
           "rgb(254,224,210)"
          ],
          [
           0.25,
           "rgb(252,187,161)"
          ],
          [
           0.375,
           "rgb(252,146,114)"
          ],
          [
           0.5,
           "rgb(251,106,74)"
          ],
          [
           0.625,
           "rgb(239,59,44)"
          ],
          [
           0.75,
           "rgb(203,24,29)"
          ],
          [
           0.875,
           "rgb(165,15,21)"
          ],
          [
           1,
           "rgb(103,0,13)"
          ]
         ],
         "customdata": [
          [
           "Illinois",
           17556,
           12801989
          ],
          [
           "California",
           16306,
           39538223
          ],
          [
           "Florida",
           15029,
           21538187
          ],
          [
           "Texas",
           13577,
           29145505
          ],
          [
           "Ohio",
           10244,
           11799448
          ],
          [
           "New York",
           9712,
           20201249
          ],
          [
           "Pennsylvania",
           8929,
           13002700
          ],
          [
           "Georgia",
           8925,
           10711908
          ],
          [
           "North Carolina",
           8739,
           10439388
          ],
          [
           "Louisiana",
           8103,
           4657757
          ],
          [
           "Tennessee",
           7626,
           6910840
          ],
          [
           "South Carolina",
           6939,
           5118425
          ],
          [
           "Missouri",
           6631,
           6154913
          ],
          [
           "Michigan",
           6136,
           10077331
          ],
          [
           "Massachusetts",
           5981,
           7029917
          ],
          [
           "Virginia",
           5949,
           8631393
          ],
          [
           "Indiana",
           5852,
           6785528
          ],
          [
           "Maryland",
           5798,
           6177224
          ],
          [
           "Alabama",
           5471,
           5024279
          ],
          [
           "New Jersey",
           5387,
           9288994
          ],
          [
           "Wisconsin",
           4787,
           5893718
          ],
          [
           "Kentucky",
           4157,
           4505836
          ],
          [
           "Mississippi",
           3599,
           2961279
          ],
          [
           "Oklahoma",
           3455,
           3959353
          ],
          [
           "Washington",
           3434,
           7705281
          ],
          [
           "Colorado",
           3201,
           5773714
          ],
          [
           "District of Columbia",
           3195,
           689545
          ],
          [
           "Connecticut",
           3067,
           3605944
          ],
          [
           "Arkansas",
           2842,
           3011524
          ],
          [
           "Iowa",
           2517,
           3271616
          ],
          [
           "Minnesota",
           2408,
           5706494
          ],
          [
           "Arizona",
           2328,
           7151502
          ],
          [
           "Oregon",
           2286,
           4237256
          ],
          [
           "Kansas",
           2145,
           2937880
          ],
          [
           "Nevada",
           1952,
           3104614
          ],
          [
           "Delaware",
           1685,
           989948
          ],
          [
           "Nebraska",
           1651,
           1961504
          ],
          [
           "New Mexico",
           1645,
           2117522
          ],
          [
           "West Virginia",
           1575,
           1793716
          ],
          [
           "Alaska",
           1349,
           733391
          ],
          [
           "Utah",
           1072,
           3205958
          ],
          [
           "New Hampshire",
           964,
           1377529
          ],
          [
           "Maine",
           907,
           1362359
          ],
          [
           "Rhode Island",
           895,
           1097379
          ],
          [
           "Idaho",
           661,
           1839106
          ],
          [
           "Montana",
           638,
           1084225
          ],
          [
           "North Dakota",
           573,
           779094
          ],
          [
           "South Dakota",
           544,
           886667
          ],
          [
           "Wyoming",
           494,
           576851
          ],
          [
           "Vermont",
           472,
           643077
          ],
          [
           "Hawaii",
           289,
           1455271
          ]
         ],
         "hovertemplate": "<b>%{customdata[0]}</b><br>Rate: %{z:.1f} per 100k<br>Total Incidents: %{customdata[1]:,}<br>Population: %{customdata[2]:,}<extra></extra>",
         "locationmode": "USA-states",
         "locations": [
          "IL",
          "CA",
          "FL",
          "TX",
          "OH",
          "NY",
          "PA",
          "GA",
          "NC",
          "LA",
          "TN",
          "SC",
          "MO",
          "MI",
          "MA",
          "VA",
          "IN",
          "MD",
          "AL",
          "NJ",
          "WI",
          "KY",
          "MS",
          "OK",
          "WA",
          "CO",
          "DC",
          "CT",
          "AR",
          "IA",
          "MN",
          "AZ",
          "OR",
          "KS",
          "NV",
          "DE",
          "NE",
          "NM",
          "WV",
          "AK",
          "UT",
          "NH",
          "ME",
          "RI",
          "ID",
          "MT",
          "ND",
          "SD",
          "WY",
          "VT",
          "HI"
         ],
         "showscale": true,
         "type": "choropleth",
         "z": [
          137.1349405158839,
          41.24110484176287,
          69.77838942525665,
          46.58351262055675,
          86.81762062089685,
          48.076235286243936,
          68.67035308051405,
          83.31849003930952,
          83.7118037953949,
          173.96785620203028,
          110.34838022584809,
          135.56904711898682,
          107.73507277844544,
          60.88913820534425,
          85.07924062261333,
          68.92282624600688,
          86.24236757994366,
          93.86093170654003,
          108.89124588821599,
          57.99336289807056,
          81.22207407955385,
          92.25812923506315,
          121.53532308168194,
          87.26173190417727,
          44.566836692912304,
          55.44091723282448,
          463.34902000594593,
          85.05401082213146,
          94.37082354316287,
          76.9344568555723,
          42.19753845355835,
          32.55260223656513,
          53.95000915686944,
          73.01183166092557,
          62.87416084576053,
          170.210960575707,
          84.17010620421881,
          77.68514329485124,
          87.80654239578618,
          183.94008107544272,
          33.437743102061845,
          69.98037790855946,
          66.57569700791055,
          81.55796675533247,
          35.941375864142685,
          58.843874657013075,
          73.54696609138307,
          61.35336039347353,
          85.63736562821249,
          73.39712040704302,
          19.85884416029729
         ]
        },
        {
         "hoverinfo": "skip",
         "lat": [
          40.349457,
          36.116203,
          27.766279,
          31.054487,
          40.388783,
          42.165726,
          40.590752,
          33.040619,
          35.630066,
          31.169546,
          35.747845,
          33.856892,
          38.456085,
          43.326618,
          42.230171,
          37.769337,
          39.849426,
          39.063946,
          32.806671,
          40.298904,
          44.268543,
          37.66814,
          32.741646,
          35.565342,
          47.400902,
          39.059811,
          38.897438,
          41.597782,
          34.969704,
          42.011539,
          45.694454,
          33.729759,
          44.572021,
          38.5266,
          38.313515,
          39.318523,
          41.12537,
          34.840515,
          38.491226,
          61.370716,
          40.150032,
          43.452492,
          44.693947,
          41.680893,
          44.240459,
          46.921925,
          47.528912,
          44.299782,
          42.755966,
          44.045876,
          21.094318
         ],
         "lon": [
          -88.986137,
          -119.681564,
          -81.686783,
          -97.563461,
          -82.764915,
          -74.948051,
          -77.209755,
          -83.643074,
          -79.806419,
          -91.867805,
          -86.692345,
          -80.945007,
          -92.288368,
          -84.536095,
          -71.530106,
          -78.169968,
          -86.258278,
          -76.802101,
          -86.79113,
          -74.521011,
          -89.616508,
          -84.670067,
          -89.678696,
          -96.928917,
          -121.490494,
          -105.311104,
          -77.026817,
          -72.755371,
          -92.373123,
          -93.210526,
          -93.900192,
          -111.431221,
          -122.070938,
          -96.726486,
          -117.055374,
          -75.507141,
          -98.268082,
          -106.248482,
          -80.954453,
          -152.404419,
          -111.862434,
          -71.563896,
          -69.381927,
          -71.51178,
          -114.478828,
          -110.454353,
          -99.784012,
          -99.438828,
          -107.30249,
          -72.710686,
          -157.498337
         ],
         "mode": "text",
         "showlegend": false,
         "text": [
          "137",
          "41",
          "70",
          "47",
          "87",
          "48",
          "69",
          "83",
          "84",
          "174",
          "110",
          "136",
          "108",
          "61",
          "85",
          "69",
          "86",
          "94",
          "109",
          "58",
          "81",
          "92",
          "122",
          "87",
          "45",
          "55",
          "463",
          "85",
          "94",
          "77",
          "42",
          "33",
          "54",
          "73",
          "63",
          "170",
          "84",
          "78",
          "88",
          "184",
          "33",
          "70",
          "67",
          "82",
          "36",
          "59",
          "74",
          "61",
          "86",
          "73",
          "20"
         ],
         "textfont": {
          "color": "black",
          "family": "Arial Black",
          "size": 8
         },
         "type": "scattergeo"
        }
       ],
       "layout": {
        "geo": {
         "scope": "usa"
        },
        "height": 600,
        "template": {
         "data": {
          "bar": [
           {
            "error_x": {
             "color": "#2a3f5f"
            },
            "error_y": {
             "color": "#2a3f5f"
            },
            "marker": {
             "line": {
              "color": "#E5ECF6",
              "width": 0.5
             },
             "pattern": {
              "fillmode": "overlay",
              "size": 10,
              "solidity": 0.2
             }
            },
            "type": "bar"
           }
          ],
          "barpolar": [
           {
            "marker": {
             "line": {
              "color": "#E5ECF6",
              "width": 0.5
             },
             "pattern": {
              "fillmode": "overlay",
              "size": 10,
              "solidity": 0.2
             }
            },
            "type": "barpolar"
           }
          ],
          "carpet": [
           {
            "aaxis": {
             "endlinecolor": "#2a3f5f",
             "gridcolor": "white",
             "linecolor": "white",
             "minorgridcolor": "white",
             "startlinecolor": "#2a3f5f"
            },
            "baxis": {
             "endlinecolor": "#2a3f5f",
             "gridcolor": "white",
             "linecolor": "white",
             "minorgridcolor": "white",
             "startlinecolor": "#2a3f5f"
            },
            "type": "carpet"
           }
          ],
          "choropleth": [
           {
            "colorbar": {
             "outlinewidth": 0,
             "ticks": ""
            },
            "type": "choropleth"
           }
          ],
          "contour": [
           {
            "colorbar": {
             "outlinewidth": 0,
             "ticks": ""
            },
            "colorscale": [
             [
              0,
              "#0d0887"
             ],
             [
              0.1111111111111111,
              "#46039f"
             ],
             [
              0.2222222222222222,
              "#7201a8"
             ],
             [
              0.3333333333333333,
              "#9c179e"
             ],
             [
              0.4444444444444444,
              "#bd3786"
             ],
             [
              0.5555555555555556,
              "#d8576b"
             ],
             [
              0.6666666666666666,
              "#ed7953"
             ],
             [
              0.7777777777777778,
              "#fb9f3a"
             ],
             [
              0.8888888888888888,
              "#fdca26"
             ],
             [
              1,
              "#f0f921"
             ]
            ],
            "type": "contour"
           }
          ],
          "contourcarpet": [
           {
            "colorbar": {
             "outlinewidth": 0,
             "ticks": ""
            },
            "type": "contourcarpet"
           }
          ],
          "heatmap": [
           {
            "colorbar": {
             "outlinewidth": 0,
             "ticks": ""
            },
            "colorscale": [
             [
              0,
              "#0d0887"
             ],
             [
              0.1111111111111111,
              "#46039f"
             ],
             [
              0.2222222222222222,
              "#7201a8"
             ],
             [
              0.3333333333333333,
              "#9c179e"
             ],
             [
              0.4444444444444444,
              "#bd3786"
             ],
             [
              0.5555555555555556,
              "#d8576b"
             ],
             [
              0.6666666666666666,
              "#ed7953"
             ],
             [
              0.7777777777777778,
              "#fb9f3a"
             ],
             [
              0.8888888888888888,
              "#fdca26"
             ],
             [
              1,
              "#f0f921"
             ]
            ],
            "type": "heatmap"
           }
          ],
          "heatmapgl": [
           {
            "colorbar": {
             "outlinewidth": 0,
             "ticks": ""
            },
            "colorscale": [
             [
              0,
              "#0d0887"
             ],
             [
              0.1111111111111111,
              "#46039f"
             ],
             [
              0.2222222222222222,
              "#7201a8"
             ],
             [
              0.3333333333333333,
              "#9c179e"
             ],
             [
              0.4444444444444444,
              "#bd3786"
             ],
             [
              0.5555555555555556,
              "#d8576b"
             ],
             [
              0.6666666666666666,
              "#ed7953"
             ],
             [
              0.7777777777777778,
              "#fb9f3a"
             ],
             [
              0.8888888888888888,
              "#fdca26"
             ],
             [
              1,
              "#f0f921"
             ]
            ],
            "type": "heatmapgl"
           }
          ],
          "histogram": [
           {
            "marker": {
             "pattern": {
              "fillmode": "overlay",
              "size": 10,
              "solidity": 0.2
             }
            },
            "type": "histogram"
           }
          ],
          "histogram2d": [
           {
            "colorbar": {
             "outlinewidth": 0,
             "ticks": ""
            },
            "colorscale": [
             [
              0,
              "#0d0887"
             ],
             [
              0.1111111111111111,
              "#46039f"
             ],
             [
              0.2222222222222222,
              "#7201a8"
             ],
             [
              0.3333333333333333,
              "#9c179e"
             ],
             [
              0.4444444444444444,
              "#bd3786"
             ],
             [
              0.5555555555555556,
              "#d8576b"
             ],
             [
              0.6666666666666666,
              "#ed7953"
             ],
             [
              0.7777777777777778,
              "#fb9f3a"
             ],
             [
              0.8888888888888888,
              "#fdca26"
             ],
             [
              1,
              "#f0f921"
             ]
            ],
            "type": "histogram2d"
           }
          ],
          "histogram2dcontour": [
           {
            "colorbar": {
             "outlinewidth": 0,
             "ticks": ""
            },
            "colorscale": [
             [
              0,
              "#0d0887"
             ],
             [
              0.1111111111111111,
              "#46039f"
             ],
             [
              0.2222222222222222,
              "#7201a8"
             ],
             [
              0.3333333333333333,
              "#9c179e"
             ],
             [
              0.4444444444444444,
              "#bd3786"
             ],
             [
              0.5555555555555556,
              "#d8576b"
             ],
             [
              0.6666666666666666,
              "#ed7953"
             ],
             [
              0.7777777777777778,
              "#fb9f3a"
             ],
             [
              0.8888888888888888,
              "#fdca26"
             ],
             [
              1,
              "#f0f921"
             ]
            ],
            "type": "histogram2dcontour"
           }
          ],
          "mesh3d": [
           {
            "colorbar": {
             "outlinewidth": 0,
             "ticks": ""
            },
            "type": "mesh3d"
           }
          ],
          "parcoords": [
           {
            "line": {
             "colorbar": {
              "outlinewidth": 0,
              "ticks": ""
             }
            },
            "type": "parcoords"
           }
          ],
          "pie": [
           {
            "automargin": true,
            "type": "pie"
           }
          ],
          "scatter": [
           {
            "fillpattern": {
             "fillmode": "overlay",
             "size": 10,
             "solidity": 0.2
            },
            "type": "scatter"
           }
          ],
          "scatter3d": [
           {
            "line": {
             "colorbar": {
              "outlinewidth": 0,
              "ticks": ""
             }
            },
            "marker": {
             "colorbar": {
              "outlinewidth": 0,
              "ticks": ""
             }
            },
            "type": "scatter3d"
           }
          ],
          "scattercarpet": [
           {
            "marker": {
             "colorbar": {
              "outlinewidth": 0,
              "ticks": ""
             }
            },
            "type": "scattercarpet"
           }
          ],
          "scattergeo": [
           {
            "marker": {
             "colorbar": {
              "outlinewidth": 0,
              "ticks": ""
             }
            },
            "type": "scattergeo"
           }
          ],
          "scattergl": [
           {
            "marker": {
             "colorbar": {
              "outlinewidth": 0,
              "ticks": ""
             }
            },
            "type": "scattergl"
           }
          ],
          "scattermapbox": [
           {
            "marker": {
             "colorbar": {
              "outlinewidth": 0,
              "ticks": ""
             }
            },
            "type": "scattermapbox"
           }
          ],
          "scatterpolar": [
           {
            "marker": {
             "colorbar": {
              "outlinewidth": 0,
              "ticks": ""
             }
            },
            "type": "scatterpolar"
           }
          ],
          "scatterpolargl": [
           {
            "marker": {
             "colorbar": {
              "outlinewidth": 0,
              "ticks": ""
             }
            },
            "type": "scatterpolargl"
           }
          ],
          "scatterternary": [
           {
            "marker": {
             "colorbar": {
              "outlinewidth": 0,
              "ticks": ""
             }
            },
            "type": "scatterternary"
           }
          ],
          "surface": [
           {
            "colorbar": {
             "outlinewidth": 0,
             "ticks": ""
            },
            "colorscale": [
             [
              0,
              "#0d0887"
             ],
             [
              0.1111111111111111,
              "#46039f"
             ],
             [
              0.2222222222222222,
              "#7201a8"
             ],
             [
              0.3333333333333333,
              "#9c179e"
             ],
             [
              0.4444444444444444,
              "#bd3786"
             ],
             [
              0.5555555555555556,
              "#d8576b"
             ],
             [
              0.6666666666666666,
              "#ed7953"
             ],
             [
              0.7777777777777778,
              "#fb9f3a"
             ],
             [
              0.8888888888888888,
              "#fdca26"
             ],
             [
              1,
              "#f0f921"
             ]
            ],
            "type": "surface"
           }
          ],
          "table": [
           {
            "cells": {
             "fill": {
              "color": "#EBF0F8"
             },
             "line": {
              "color": "white"
             }
            },
            "header": {
             "fill": {
              "color": "#C8D4E3"
             },
             "line": {
              "color": "white"
             }
            },
            "type": "table"
           }
          ]
         },
         "layout": {
          "annotationdefaults": {
           "arrowcolor": "#2a3f5f",
           "arrowhead": 0,
           "arrowwidth": 1
          },
          "autotypenumbers": "strict",
          "coloraxis": {
           "colorbar": {
            "outlinewidth": 0,
            "ticks": ""
           }
          },
          "colorscale": {
           "diverging": [
            [
             0,
             "#8e0152"
            ],
            [
             0.1,
             "#c51b7d"
            ],
            [
             0.2,
             "#de77ae"
            ],
            [
             0.3,
             "#f1b6da"
            ],
            [
             0.4,
             "#fde0ef"
            ],
            [
             0.5,
             "#f7f7f7"
            ],
            [
             0.6,
             "#e6f5d0"
            ],
            [
             0.7,
             "#b8e186"
            ],
            [
             0.8,
             "#7fbc41"
            ],
            [
             0.9,
             "#4d9221"
            ],
            [
             1,
             "#276419"
            ]
           ],
           "sequential": [
            [
             0,
             "#0d0887"
            ],
            [
             0.1111111111111111,
             "#46039f"
            ],
            [
             0.2222222222222222,
             "#7201a8"
            ],
            [
             0.3333333333333333,
             "#9c179e"
            ],
            [
             0.4444444444444444,
             "#bd3786"
            ],
            [
             0.5555555555555556,
             "#d8576b"
            ],
            [
             0.6666666666666666,
             "#ed7953"
            ],
            [
             0.7777777777777778,
             "#fb9f3a"
            ],
            [
             0.8888888888888888,
             "#fdca26"
            ],
            [
             1,
             "#f0f921"
            ]
           ],
           "sequentialminus": [
            [
             0,
             "#0d0887"
            ],
            [
             0.1111111111111111,
             "#46039f"
            ],
            [
             0.2222222222222222,
             "#7201a8"
            ],
            [
             0.3333333333333333,
             "#9c179e"
            ],
            [
             0.4444444444444444,
             "#bd3786"
            ],
            [
             0.5555555555555556,
             "#d8576b"
            ],
            [
             0.6666666666666666,
             "#ed7953"
            ],
            [
             0.7777777777777778,
             "#fb9f3a"
            ],
            [
             0.8888888888888888,
             "#fdca26"
            ],
            [
             1,
             "#f0f921"
            ]
           ]
          },
          "colorway": [
           "#636efa",
           "#EF553B",
           "#00cc96",
           "#ab63fa",
           "#FFA15A",
           "#19d3f3",
           "#FF6692",
           "#B6E880",
           "#FF97FF",
           "#FECB52"
          ],
          "font": {
           "color": "#2a3f5f"
          },
          "geo": {
           "bgcolor": "white",
           "lakecolor": "white",
           "landcolor": "#E5ECF6",
           "showlakes": true,
           "showland": true,
           "subunitcolor": "white"
          },
          "hoverlabel": {
           "align": "left"
          },
          "hovermode": "closest",
          "mapbox": {
           "style": "light"
          },
          "paper_bgcolor": "white",
          "plot_bgcolor": "#E5ECF6",
          "polar": {
           "angularaxis": {
            "gridcolor": "white",
            "linecolor": "white",
            "ticks": ""
           },
           "bgcolor": "#E5ECF6",
           "radialaxis": {
            "gridcolor": "white",
            "linecolor": "white",
            "ticks": ""
           }
          },
          "scene": {
           "xaxis": {
            "backgroundcolor": "#E5ECF6",
            "gridcolor": "white",
            "gridwidth": 2,
            "linecolor": "white",
            "showbackground": true,
            "ticks": "",
            "zerolinecolor": "white"
           },
           "yaxis": {
            "backgroundcolor": "#E5ECF6",
            "gridcolor": "white",
            "gridwidth": 2,
            "linecolor": "white",
            "showbackground": true,
            "ticks": "",
            "zerolinecolor": "white"
           },
           "zaxis": {
            "backgroundcolor": "#E5ECF6",
            "gridcolor": "white",
            "gridwidth": 2,
            "linecolor": "white",
            "showbackground": true,
            "ticks": "",
            "zerolinecolor": "white"
           }
          },
          "shapedefaults": {
           "line": {
            "color": "#2a3f5f"
           }
          },
          "ternary": {
           "aaxis": {
            "gridcolor": "white",
            "linecolor": "white",
            "ticks": ""
           },
           "baxis": {
            "gridcolor": "white",
            "linecolor": "white",
            "ticks": ""
           },
           "bgcolor": "#E5ECF6",
           "caxis": {
            "gridcolor": "white",
            "linecolor": "white",
            "ticks": ""
           }
          },
          "title": {
           "x": 0.05
          },
          "xaxis": {
           "automargin": true,
           "gridcolor": "white",
           "linecolor": "white",
           "ticks": "",
           "title": {
            "standoff": 15
           },
           "zerolinecolor": "white",
           "zerolinewidth": 2
          },
          "yaxis": {
           "automargin": true,
           "gridcolor": "white",
           "linecolor": "white",
           "ticks": "",
           "title": {
            "standoff": 15
           },
           "zerolinecolor": "white",
           "zerolinewidth": 2
          }
         }
        },
        "title": {
         "text": "Gun Violence Incidents by State - Normalized by Population (2013-2018)<br><sub>Numbers show incidents per 100,000 population</sub>"
        },
        "width": 1000
       }
      }
     },
     "metadata": {},
     "output_type": "display_data"
    }
   ],
   "source": [
    "# Create a normalized heat map of gun violence incidents by state (per 100,000 population) with labels\n",
    "\n",
    "# Count incidents by state\n",
    "state_counts = df['state'].value_counts().reset_index()\n",
    "state_counts.columns = ['state', 'count']\n",
    "\n",
    "# Add population data from state_to_population_dict\n",
    "state_counts['population'] = state_counts['state'].map(state_to_population_dict)\n",
    "\n",
    "# Calculate incidents per 100,000 population\n",
    "state_counts['incidents_per_100k'] = (state_counts['count'] / state_counts['population']) * 100000\n",
    "\n",
    "# Map full state names to abbreviations\n",
    "state_abbrev = {\n",
    "    'Alabama': 'AL', 'Alaska': 'AK', 'Arizona': 'AZ', 'Arkansas': 'AR', 'California': 'CA',\n",
    "    'Colorado': 'CO', 'Connecticut': 'CT', 'Delaware': 'DE', 'Florida': 'FL', 'Georgia': 'GA',\n",
    "    'Hawaii': 'HI', 'Idaho': 'ID', 'Illinois': 'IL', 'Indiana': 'IN', 'Iowa': 'IA',\n",
    "    'Kansas': 'KS', 'Kentucky': 'KY', 'Louisiana': 'LA', 'Maine': 'ME', 'Maryland': 'MD',\n",
    "    'Massachusetts': 'MA', 'Michigan': 'MI', 'Minnesota': 'MN', 'Mississippi': 'MS', 'Missouri': 'MO',\n",
    "    'Montana': 'MT', 'Nebraska': 'NE', 'Nevada': 'NV', 'New Hampshire': 'NH', 'New Jersey': 'NJ',\n",
    "    'New Mexico': 'NM', 'New York': 'NY', 'North Carolina': 'NC', 'North Dakota': 'ND', 'Ohio': 'OH',\n",
    "    'Oklahoma': 'OK', 'Oregon': 'OR', 'Pennsylvania': 'PA', 'Rhode Island': 'RI', 'South Carolina': 'SC',\n",
    "    'South Dakota': 'SD', 'Tennessee': 'TN', 'Texas': 'TX', 'Utah': 'UT', 'Vermont': 'VT',\n",
    "    'Virginia': 'VA', 'Washington': 'WA', 'West Virginia': 'WV', 'Wisconsin': 'WI', 'Wyoming': 'WY',\n",
    "    'District of Columbia': 'DC'\n",
    "}\n",
    "\n",
    "# State center coordinates for text placement\n",
    "state_coords = {\n",
    "    'AL': (32.806671, -86.791130), 'AK': (61.370716, -152.404419), 'AZ': (33.729759, -111.431221),\n",
    "    'AR': (34.969704, -92.373123), 'CA': (36.116203, -119.681564), 'CO': (39.059811, -105.311104),\n",
    "    'CT': (41.597782, -72.755371), 'DE': (39.318523, -75.507141), 'FL': (27.766279, -81.686783),\n",
    "    'GA': (33.040619, -83.643074), 'HI': (21.094318, -157.498337), 'ID': (44.240459, -114.478828),\n",
    "    'IL': (40.349457, -88.986137), 'IN': (39.849426, -86.258278), 'IA': (42.011539, -93.210526),\n",
    "    'KS': (38.526600, -96.726486), 'KY': (37.668140, -84.670067), 'LA': (31.169546, -91.867805),\n",
    "    'ME': (44.693947, -69.381927), 'MD': (39.063946, -76.802101), 'MA': (42.230171, -71.530106),\n",
    "    'MI': (43.326618, -84.536095), 'MN': (45.694454, -93.900192), 'MS': (32.741646, -89.678696),\n",
    "    'MO': (38.456085, -92.288368), 'MT': (46.921925, -110.454353), 'NE': (41.125370, -98.268082),\n",
    "    'NV': (38.313515, -117.055374), 'NH': (43.452492, -71.563896), 'NJ': (40.298904, -74.521011),\n",
    "    'NM': (34.840515, -106.248482), 'NY': (42.165726, -74.948051), 'NC': (35.630066, -79.806419),\n",
    "    'ND': (47.528912, -99.784012), 'OH': (40.388783, -82.764915), 'OK': (35.565342, -96.928917),\n",
    "    'OR': (44.572021, -122.070938), 'PA': (40.590752, -77.209755), 'RI': (41.680893, -71.511780),\n",
    "    'SC': (33.856892, -80.945007), 'SD': (44.299782, -99.438828), 'TN': (35.747845, -86.692345),\n",
    "    'TX': (31.054487, -97.563461), 'UT': (40.150032, -111.862434), 'VT': (44.045876, -72.710686),\n",
    "    'VA': (37.769337, -78.169968), 'WA': (47.400902, -121.490494), 'WV': (38.491226, -80.954453),\n",
    "    'WI': (44.268543, -89.616508), 'WY': (42.755966, -107.302490), 'DC': (38.897438, -77.026817)\n",
    "}\n",
    "\n",
    "state_counts['state_code'] = state_counts['state'].map(state_abbrev)\n",
    "\n",
    "# Add coordinates\n",
    "state_counts['lat'] = state_counts['state_code'].map(lambda x: state_coords[x][0])\n",
    "state_counts['lon'] = state_counts['state_code'].map(lambda x: state_coords[x][1])\n",
    "\n",
    "# Sort by incidents per 100k\n",
    "state_counts_sorted = state_counts.sort_values('incidents_per_100k', ascending=False)\n",
    "\n",
    "print(f\"Top 10 states by incident rate (per 100,000 population):\")\n",
    "print(state_counts_sorted[['state', 'count', 'population', 'incidents_per_100k']].head(10).to_string(index=False))\n",
    "\n",
    "# Create figure with choropleth base\n",
    "fig = go.Figure()\n",
    "\n",
    "# Add choropleth layer\n",
    "fig.add_trace(go.Choropleth(\n",
    "    locations=state_counts['state_code'],\n",
    "    z=state_counts['incidents_per_100k'],\n",
    "    locationmode='USA-states',\n",
    "    colorscale='Reds',\n",
    "    colorbar_title=\"Incidents<br>per 100k\",\n",
    "    customdata=state_counts[['state', 'count', 'population']],\n",
    "    hovertemplate='<b>%{customdata[0]}</b><br>Rate: %{z:.1f} per 100k<br>Total Incidents: %{customdata[1]:,}<br>Population: %{customdata[2]:,}<extra></extra>',\n",
    "    showscale=True\n",
    "))\n",
    "\n",
    "# Add text labels as scattergeo overlay\n",
    "fig.add_trace(go.Scattergeo(\n",
    "    lon=state_counts['lon'],\n",
    "    lat=state_counts['lat'],\n",
    "    text=state_counts['incidents_per_100k'].apply(lambda x: f'{x:.0f}'),\n",
    "    mode='text',\n",
    "    textfont=dict(size=8, color='black', family='Arial Black'),\n",
    "    hoverinfo='skip',\n",
    "    showlegend=False\n",
    "))\n",
    "\n",
    "fig.update_layout(\n",
    "    title_text='Gun Violence Incidents by State - Normalized by Population (2013-2018)<br><sub>Numbers show incidents per 100,000 population</sub>',\n",
    "    geo_scope='usa',\n",
    "    height=600,\n",
    "    width=1000\n",
    ")\n",
    "\n",
    "fig.show()"
   ]
  },
  {
   "cell_type": "code",
   "execution_count": 180,
   "id": "kt80whvnz9",
   "metadata": {},
   "outputs": [
    {
     "name": "stdout",
     "output_type": "stream",
     "text": [
      "Top 10 states by incident rate (per 100,000 population):\n",
      "               state  count  population  incidents_per_100k\n",
      "District of Columbia   3195      689545          463.349020\n",
      "              Alaska   1349      733391          183.940081\n",
      "           Louisiana   8103     4657757          173.967856\n",
      "            Delaware   1685      989948          170.210961\n",
      "            Illinois  17556    12801989          137.134941\n",
      "      South Carolina   6939     5118425          135.569047\n",
      "         Mississippi   3599     2961279          121.535323\n",
      "           Tennessee   7626     6910840          110.348380\n",
      "             Alabama   5471     5024279          108.891246\n",
      "            Missouri   6631     6154913          107.735073\n"
     ]
    },
    {
     "data": {
      "application/vnd.plotly.v1+json": {
       "config": {
        "plotlyServerURL": "https://plot.ly"
       },
       "data": [
        {
         "colorbar": {
          "title": {
           "text": "Incidents<br>per 100k"
          }
         },
         "colorscale": [
          [
           0,
           "rgb(255,245,240)"
          ],
          [
           0.125,
           "rgb(254,224,210)"
          ],
          [
           0.25,
           "rgb(252,187,161)"
          ],
          [
           0.375,
           "rgb(252,146,114)"
          ],
          [
           0.5,
           "rgb(251,106,74)"
          ],
          [
           0.625,
           "rgb(239,59,44)"
          ],
          [
           0.75,
           "rgb(203,24,29)"
          ],
          [
           0.875,
           "rgb(165,15,21)"
          ],
          [
           1,
           "rgb(103,0,13)"
          ]
         ],
         "customdata": [
          [
           17556,
           12801989
          ],
          [
           16306,
           39538223
          ],
          [
           15029,
           21538187
          ],
          [
           13577,
           29145505
          ],
          [
           10244,
           11799448
          ],
          [
           9712,
           20201249
          ],
          [
           8929,
           13002700
          ],
          [
           8925,
           10711908
          ],
          [
           8739,
           10439388
          ],
          [
           8103,
           4657757
          ],
          [
           7626,
           6910840
          ],
          [
           6939,
           5118425
          ],
          [
           6631,
           6154913
          ],
          [
           6136,
           10077331
          ],
          [
           5981,
           7029917
          ],
          [
           5949,
           8631393
          ],
          [
           5852,
           6785528
          ],
          [
           5798,
           6177224
          ],
          [
           5471,
           5024279
          ],
          [
           5387,
           9288994
          ],
          [
           4787,
           5893718
          ],
          [
           4157,
           4505836
          ],
          [
           3599,
           2961279
          ],
          [
           3455,
           3959353
          ],
          [
           3434,
           7705281
          ],
          [
           3201,
           5773714
          ],
          [
           3195,
           689545
          ],
          [
           3067,
           3605944
          ],
          [
           2842,
           3011524
          ],
          [
           2517,
           3271616
          ],
          [
           2408,
           5706494
          ],
          [
           2328,
           7151502
          ],
          [
           2286,
           4237256
          ],
          [
           2145,
           2937880
          ],
          [
           1952,
           3104614
          ],
          [
           1685,
           989948
          ],
          [
           1651,
           1961504
          ],
          [
           1645,
           2117522
          ],
          [
           1575,
           1793716
          ],
          [
           1349,
           733391
          ],
          [
           1072,
           3205958
          ],
          [
           964,
           1377529
          ],
          [
           907,
           1362359
          ],
          [
           895,
           1097379
          ],
          [
           661,
           1839106
          ],
          [
           638,
           1084225
          ],
          [
           573,
           779094
          ],
          [
           544,
           886667
          ],
          [
           494,
           576851
          ],
          [
           472,
           643077
          ],
          [
           289,
           1455271
          ]
         ],
         "hovertemplate": "<b>%{text}</b><br>Rate: %{z:.1f} per 100k<br>Total Incidents: %{customdata[0]:,}<br>Population: %{customdata[1]:,}<extra></extra>",
         "locationmode": "USA-states",
         "locations": [
          "IL",
          "CA",
          "FL",
          "TX",
          "OH",
          "NY",
          "PA",
          "GA",
          "NC",
          "LA",
          "TN",
          "SC",
          "MO",
          "MI",
          "MA",
          "VA",
          "IN",
          "MD",
          "AL",
          "NJ",
          "WI",
          "KY",
          "MS",
          "OK",
          "WA",
          "CO",
          "DC",
          "CT",
          "AR",
          "IA",
          "MN",
          "AZ",
          "OR",
          "KS",
          "NV",
          "DE",
          "NE",
          "NM",
          "WV",
          "AK",
          "UT",
          "NH",
          "ME",
          "RI",
          "ID",
          "MT",
          "ND",
          "SD",
          "WY",
          "VT",
          "HI"
         ],
         "text": [
          "Illinois",
          "California",
          "Florida",
          "Texas",
          "Ohio",
          "New York",
          "Pennsylvania",
          "Georgia",
          "North Carolina",
          "Louisiana",
          "Tennessee",
          "South Carolina",
          "Missouri",
          "Michigan",
          "Massachusetts",
          "Virginia",
          "Indiana",
          "Maryland",
          "Alabama",
          "New Jersey",
          "Wisconsin",
          "Kentucky",
          "Mississippi",
          "Oklahoma",
          "Washington",
          "Colorado",
          "District of Columbia",
          "Connecticut",
          "Arkansas",
          "Iowa",
          "Minnesota",
          "Arizona",
          "Oregon",
          "Kansas",
          "Nevada",
          "Delaware",
          "Nebraska",
          "New Mexico",
          "West Virginia",
          "Alaska",
          "Utah",
          "New Hampshire",
          "Maine",
          "Rhode Island",
          "Idaho",
          "Montana",
          "North Dakota",
          "South Dakota",
          "Wyoming",
          "Vermont",
          "Hawaii"
         ],
         "type": "choropleth",
         "z": [
          137.1349405158839,
          41.24110484176287,
          69.77838942525665,
          46.58351262055675,
          86.81762062089685,
          48.076235286243936,
          68.67035308051405,
          83.31849003930952,
          83.7118037953949,
          173.96785620203028,
          110.34838022584809,
          135.56904711898682,
          107.73507277844544,
          60.88913820534425,
          85.07924062261333,
          68.92282624600688,
          86.24236757994366,
          93.86093170654003,
          108.89124588821599,
          57.99336289807056,
          81.22207407955385,
          92.25812923506315,
          121.53532308168194,
          87.26173190417727,
          44.566836692912304,
          55.44091723282448,
          463.34902000594593,
          85.05401082213146,
          94.37082354316287,
          76.9344568555723,
          42.19753845355835,
          32.55260223656513,
          53.95000915686944,
          73.01183166092557,
          62.87416084576053,
          170.210960575707,
          84.17010620421881,
          77.68514329485124,
          87.80654239578618,
          183.94008107544272,
          33.437743102061845,
          69.98037790855946,
          66.57569700791055,
          81.55796675533247,
          35.941375864142685,
          58.843874657013075,
          73.54696609138307,
          61.35336039347353,
          85.63736562821249,
          73.39712040704302,
          19.85884416029729
         ]
        }
       ],
       "layout": {
        "geo": {
         "scope": "usa"
        },
        "height": 600,
        "template": {
         "data": {
          "bar": [
           {
            "error_x": {
             "color": "#2a3f5f"
            },
            "error_y": {
             "color": "#2a3f5f"
            },
            "marker": {
             "line": {
              "color": "#E5ECF6",
              "width": 0.5
             },
             "pattern": {
              "fillmode": "overlay",
              "size": 10,
              "solidity": 0.2
             }
            },
            "type": "bar"
           }
          ],
          "barpolar": [
           {
            "marker": {
             "line": {
              "color": "#E5ECF6",
              "width": 0.5
             },
             "pattern": {
              "fillmode": "overlay",
              "size": 10,
              "solidity": 0.2
             }
            },
            "type": "barpolar"
           }
          ],
          "carpet": [
           {
            "aaxis": {
             "endlinecolor": "#2a3f5f",
             "gridcolor": "white",
             "linecolor": "white",
             "minorgridcolor": "white",
             "startlinecolor": "#2a3f5f"
            },
            "baxis": {
             "endlinecolor": "#2a3f5f",
             "gridcolor": "white",
             "linecolor": "white",
             "minorgridcolor": "white",
             "startlinecolor": "#2a3f5f"
            },
            "type": "carpet"
           }
          ],
          "choropleth": [
           {
            "colorbar": {
             "outlinewidth": 0,
             "ticks": ""
            },
            "type": "choropleth"
           }
          ],
          "contour": [
           {
            "colorbar": {
             "outlinewidth": 0,
             "ticks": ""
            },
            "colorscale": [
             [
              0,
              "#0d0887"
             ],
             [
              0.1111111111111111,
              "#46039f"
             ],
             [
              0.2222222222222222,
              "#7201a8"
             ],
             [
              0.3333333333333333,
              "#9c179e"
             ],
             [
              0.4444444444444444,
              "#bd3786"
             ],
             [
              0.5555555555555556,
              "#d8576b"
             ],
             [
              0.6666666666666666,
              "#ed7953"
             ],
             [
              0.7777777777777778,
              "#fb9f3a"
             ],
             [
              0.8888888888888888,
              "#fdca26"
             ],
             [
              1,
              "#f0f921"
             ]
            ],
            "type": "contour"
           }
          ],
          "contourcarpet": [
           {
            "colorbar": {
             "outlinewidth": 0,
             "ticks": ""
            },
            "type": "contourcarpet"
           }
          ],
          "heatmap": [
           {
            "colorbar": {
             "outlinewidth": 0,
             "ticks": ""
            },
            "colorscale": [
             [
              0,
              "#0d0887"
             ],
             [
              0.1111111111111111,
              "#46039f"
             ],
             [
              0.2222222222222222,
              "#7201a8"
             ],
             [
              0.3333333333333333,
              "#9c179e"
             ],
             [
              0.4444444444444444,
              "#bd3786"
             ],
             [
              0.5555555555555556,
              "#d8576b"
             ],
             [
              0.6666666666666666,
              "#ed7953"
             ],
             [
              0.7777777777777778,
              "#fb9f3a"
             ],
             [
              0.8888888888888888,
              "#fdca26"
             ],
             [
              1,
              "#f0f921"
             ]
            ],
            "type": "heatmap"
           }
          ],
          "heatmapgl": [
           {
            "colorbar": {
             "outlinewidth": 0,
             "ticks": ""
            },
            "colorscale": [
             [
              0,
              "#0d0887"
             ],
             [
              0.1111111111111111,
              "#46039f"
             ],
             [
              0.2222222222222222,
              "#7201a8"
             ],
             [
              0.3333333333333333,
              "#9c179e"
             ],
             [
              0.4444444444444444,
              "#bd3786"
             ],
             [
              0.5555555555555556,
              "#d8576b"
             ],
             [
              0.6666666666666666,
              "#ed7953"
             ],
             [
              0.7777777777777778,
              "#fb9f3a"
             ],
             [
              0.8888888888888888,
              "#fdca26"
             ],
             [
              1,
              "#f0f921"
             ]
            ],
            "type": "heatmapgl"
           }
          ],
          "histogram": [
           {
            "marker": {
             "pattern": {
              "fillmode": "overlay",
              "size": 10,
              "solidity": 0.2
             }
            },
            "type": "histogram"
           }
          ],
          "histogram2d": [
           {
            "colorbar": {
             "outlinewidth": 0,
             "ticks": ""
            },
            "colorscale": [
             [
              0,
              "#0d0887"
             ],
             [
              0.1111111111111111,
              "#46039f"
             ],
             [
              0.2222222222222222,
              "#7201a8"
             ],
             [
              0.3333333333333333,
              "#9c179e"
             ],
             [
              0.4444444444444444,
              "#bd3786"
             ],
             [
              0.5555555555555556,
              "#d8576b"
             ],
             [
              0.6666666666666666,
              "#ed7953"
             ],
             [
              0.7777777777777778,
              "#fb9f3a"
             ],
             [
              0.8888888888888888,
              "#fdca26"
             ],
             [
              1,
              "#f0f921"
             ]
            ],
            "type": "histogram2d"
           }
          ],
          "histogram2dcontour": [
           {
            "colorbar": {
             "outlinewidth": 0,
             "ticks": ""
            },
            "colorscale": [
             [
              0,
              "#0d0887"
             ],
             [
              0.1111111111111111,
              "#46039f"
             ],
             [
              0.2222222222222222,
              "#7201a8"
             ],
             [
              0.3333333333333333,
              "#9c179e"
             ],
             [
              0.4444444444444444,
              "#bd3786"
             ],
             [
              0.5555555555555556,
              "#d8576b"
             ],
             [
              0.6666666666666666,
              "#ed7953"
             ],
             [
              0.7777777777777778,
              "#fb9f3a"
             ],
             [
              0.8888888888888888,
              "#fdca26"
             ],
             [
              1,
              "#f0f921"
             ]
            ],
            "type": "histogram2dcontour"
           }
          ],
          "mesh3d": [
           {
            "colorbar": {
             "outlinewidth": 0,
             "ticks": ""
            },
            "type": "mesh3d"
           }
          ],
          "parcoords": [
           {
            "line": {
             "colorbar": {
              "outlinewidth": 0,
              "ticks": ""
             }
            },
            "type": "parcoords"
           }
          ],
          "pie": [
           {
            "automargin": true,
            "type": "pie"
           }
          ],
          "scatter": [
           {
            "fillpattern": {
             "fillmode": "overlay",
             "size": 10,
             "solidity": 0.2
            },
            "type": "scatter"
           }
          ],
          "scatter3d": [
           {
            "line": {
             "colorbar": {
              "outlinewidth": 0,
              "ticks": ""
             }
            },
            "marker": {
             "colorbar": {
              "outlinewidth": 0,
              "ticks": ""
             }
            },
            "type": "scatter3d"
           }
          ],
          "scattercarpet": [
           {
            "marker": {
             "colorbar": {
              "outlinewidth": 0,
              "ticks": ""
             }
            },
            "type": "scattercarpet"
           }
          ],
          "scattergeo": [
           {
            "marker": {
             "colorbar": {
              "outlinewidth": 0,
              "ticks": ""
             }
            },
            "type": "scattergeo"
           }
          ],
          "scattergl": [
           {
            "marker": {
             "colorbar": {
              "outlinewidth": 0,
              "ticks": ""
             }
            },
            "type": "scattergl"
           }
          ],
          "scattermapbox": [
           {
            "marker": {
             "colorbar": {
              "outlinewidth": 0,
              "ticks": ""
             }
            },
            "type": "scattermapbox"
           }
          ],
          "scatterpolar": [
           {
            "marker": {
             "colorbar": {
              "outlinewidth": 0,
              "ticks": ""
             }
            },
            "type": "scatterpolar"
           }
          ],
          "scatterpolargl": [
           {
            "marker": {
             "colorbar": {
              "outlinewidth": 0,
              "ticks": ""
             }
            },
            "type": "scatterpolargl"
           }
          ],
          "scatterternary": [
           {
            "marker": {
             "colorbar": {
              "outlinewidth": 0,
              "ticks": ""
             }
            },
            "type": "scatterternary"
           }
          ],
          "surface": [
           {
            "colorbar": {
             "outlinewidth": 0,
             "ticks": ""
            },
            "colorscale": [
             [
              0,
              "#0d0887"
             ],
             [
              0.1111111111111111,
              "#46039f"
             ],
             [
              0.2222222222222222,
              "#7201a8"
             ],
             [
              0.3333333333333333,
              "#9c179e"
             ],
             [
              0.4444444444444444,
              "#bd3786"
             ],
             [
              0.5555555555555556,
              "#d8576b"
             ],
             [
              0.6666666666666666,
              "#ed7953"
             ],
             [
              0.7777777777777778,
              "#fb9f3a"
             ],
             [
              0.8888888888888888,
              "#fdca26"
             ],
             [
              1,
              "#f0f921"
             ]
            ],
            "type": "surface"
           }
          ],
          "table": [
           {
            "cells": {
             "fill": {
              "color": "#EBF0F8"
             },
             "line": {
              "color": "white"
             }
            },
            "header": {
             "fill": {
              "color": "#C8D4E3"
             },
             "line": {
              "color": "white"
             }
            },
            "type": "table"
           }
          ]
         },
         "layout": {
          "annotationdefaults": {
           "arrowcolor": "#2a3f5f",
           "arrowhead": 0,
           "arrowwidth": 1
          },
          "autotypenumbers": "strict",
          "coloraxis": {
           "colorbar": {
            "outlinewidth": 0,
            "ticks": ""
           }
          },
          "colorscale": {
           "diverging": [
            [
             0,
             "#8e0152"
            ],
            [
             0.1,
             "#c51b7d"
            ],
            [
             0.2,
             "#de77ae"
            ],
            [
             0.3,
             "#f1b6da"
            ],
            [
             0.4,
             "#fde0ef"
            ],
            [
             0.5,
             "#f7f7f7"
            ],
            [
             0.6,
             "#e6f5d0"
            ],
            [
             0.7,
             "#b8e186"
            ],
            [
             0.8,
             "#7fbc41"
            ],
            [
             0.9,
             "#4d9221"
            ],
            [
             1,
             "#276419"
            ]
           ],
           "sequential": [
            [
             0,
             "#0d0887"
            ],
            [
             0.1111111111111111,
             "#46039f"
            ],
            [
             0.2222222222222222,
             "#7201a8"
            ],
            [
             0.3333333333333333,
             "#9c179e"
            ],
            [
             0.4444444444444444,
             "#bd3786"
            ],
            [
             0.5555555555555556,
             "#d8576b"
            ],
            [
             0.6666666666666666,
             "#ed7953"
            ],
            [
             0.7777777777777778,
             "#fb9f3a"
            ],
            [
             0.8888888888888888,
             "#fdca26"
            ],
            [
             1,
             "#f0f921"
            ]
           ],
           "sequentialminus": [
            [
             0,
             "#0d0887"
            ],
            [
             0.1111111111111111,
             "#46039f"
            ],
            [
             0.2222222222222222,
             "#7201a8"
            ],
            [
             0.3333333333333333,
             "#9c179e"
            ],
            [
             0.4444444444444444,
             "#bd3786"
            ],
            [
             0.5555555555555556,
             "#d8576b"
            ],
            [
             0.6666666666666666,
             "#ed7953"
            ],
            [
             0.7777777777777778,
             "#fb9f3a"
            ],
            [
             0.8888888888888888,
             "#fdca26"
            ],
            [
             1,
             "#f0f921"
            ]
           ]
          },
          "colorway": [
           "#636efa",
           "#EF553B",
           "#00cc96",
           "#ab63fa",
           "#FFA15A",
           "#19d3f3",
           "#FF6692",
           "#B6E880",
           "#FF97FF",
           "#FECB52"
          ],
          "font": {
           "color": "#2a3f5f"
          },
          "geo": {
           "bgcolor": "white",
           "lakecolor": "white",
           "landcolor": "#E5ECF6",
           "showlakes": true,
           "showland": true,
           "subunitcolor": "white"
          },
          "hoverlabel": {
           "align": "left"
          },
          "hovermode": "closest",
          "mapbox": {
           "style": "light"
          },
          "paper_bgcolor": "white",
          "plot_bgcolor": "#E5ECF6",
          "polar": {
           "angularaxis": {
            "gridcolor": "white",
            "linecolor": "white",
            "ticks": ""
           },
           "bgcolor": "#E5ECF6",
           "radialaxis": {
            "gridcolor": "white",
            "linecolor": "white",
            "ticks": ""
           }
          },
          "scene": {
           "xaxis": {
            "backgroundcolor": "#E5ECF6",
            "gridcolor": "white",
            "gridwidth": 2,
            "linecolor": "white",
            "showbackground": true,
            "ticks": "",
            "zerolinecolor": "white"
           },
           "yaxis": {
            "backgroundcolor": "#E5ECF6",
            "gridcolor": "white",
            "gridwidth": 2,
            "linecolor": "white",
            "showbackground": true,
            "ticks": "",
            "zerolinecolor": "white"
           },
           "zaxis": {
            "backgroundcolor": "#E5ECF6",
            "gridcolor": "white",
            "gridwidth": 2,
            "linecolor": "white",
            "showbackground": true,
            "ticks": "",
            "zerolinecolor": "white"
           }
          },
          "shapedefaults": {
           "line": {
            "color": "#2a3f5f"
           }
          },
          "ternary": {
           "aaxis": {
            "gridcolor": "white",
            "linecolor": "white",
            "ticks": ""
           },
           "baxis": {
            "gridcolor": "white",
            "linecolor": "white",
            "ticks": ""
           },
           "bgcolor": "#E5ECF6",
           "caxis": {
            "gridcolor": "white",
            "linecolor": "white",
            "ticks": ""
           }
          },
          "title": {
           "x": 0.05
          },
          "xaxis": {
           "automargin": true,
           "gridcolor": "white",
           "linecolor": "white",
           "ticks": "",
           "title": {
            "standoff": 15
           },
           "zerolinecolor": "white",
           "zerolinewidth": 2
          },
          "yaxis": {
           "automargin": true,
           "gridcolor": "white",
           "linecolor": "white",
           "ticks": "",
           "title": {
            "standoff": 15
           },
           "zerolinecolor": "white",
           "zerolinewidth": 2
          }
         }
        },
        "title": {
         "text": "Gun Violence Incidents by State - Normalized by Population (2013-2018)"
        },
        "width": 1000
       }
      }
     },
     "metadata": {},
     "output_type": "display_data"
    }
   ],
   "source": [
    "# Create a normalized heat map of gun violence incidents by state (per 100,000 population)\n",
    "\n",
    "# Count incidents by state\n",
    "state_counts = df['state'].value_counts().reset_index()\n",
    "state_counts.columns = ['state', 'count']\n",
    "\n",
    "# Add population data from state_to_population_dict\n",
    "state_counts['population'] = state_counts['state'].map(state_to_population_dict)\n",
    "\n",
    "# Calculate incidents per 100,000 population\n",
    "state_counts['incidents_per_100k'] = (state_counts['count'] / state_counts['population']) * 100000\n",
    "\n",
    "# Map full state names to abbreviations\n",
    "state_abbrev = {\n",
    "    'Alabama': 'AL', 'Alaska': 'AK', 'Arizona': 'AZ', 'Arkansas': 'AR', 'California': 'CA',\n",
    "    'Colorado': 'CO', 'Connecticut': 'CT', 'Delaware': 'DE', 'Florida': 'FL', 'Georgia': 'GA',\n",
    "    'Hawaii': 'HI', 'Idaho': 'ID', 'Illinois': 'IL', 'Indiana': 'IN', 'Iowa': 'IA',\n",
    "    'Kansas': 'KS', 'Kentucky': 'KY', 'Louisiana': 'LA', 'Maine': 'ME', 'Maryland': 'MD',\n",
    "    'Massachusetts': 'MA', 'Michigan': 'MI', 'Minnesota': 'MN', 'Mississippi': 'MS', 'Missouri': 'MO',\n",
    "    'Montana': 'MT', 'Nebraska': 'NE', 'Nevada': 'NV', 'New Hampshire': 'NH', 'New Jersey': 'NJ',\n",
    "    'New Mexico': 'NM', 'New York': 'NY', 'North Carolina': 'NC', 'North Dakota': 'ND', 'Ohio': 'OH',\n",
    "    'Oklahoma': 'OK', 'Oregon': 'OR', 'Pennsylvania': 'PA', 'Rhode Island': 'RI', 'South Carolina': 'SC',\n",
    "    'South Dakota': 'SD', 'Tennessee': 'TN', 'Texas': 'TX', 'Utah': 'UT', 'Vermont': 'VT',\n",
    "    'Virginia': 'VA', 'Washington': 'WA', 'West Virginia': 'WV', 'Wisconsin': 'WI', 'Wyoming': 'WY',\n",
    "    'District of Columbia': 'DC'\n",
    "}\n",
    "\n",
    "state_counts['state_code'] = state_counts['state'].map(state_abbrev)\n",
    "\n",
    "# Sort by incidents per 100k\n",
    "state_counts_sorted = state_counts.sort_values('incidents_per_100k', ascending=False)\n",
    "\n",
    "print(f\"Top 10 states by incident rate (per 100,000 population):\")\n",
    "print(state_counts_sorted[['state', 'count', 'population', 'incidents_per_100k']].head(10).to_string(index=False))\n",
    "\n",
    "# Create choropleth map with normalized data\n",
    "fig = go.Figure(data=go.Choropleth(\n",
    "    locations=state_counts['state_code'],\n",
    "    z=state_counts['incidents_per_100k'],\n",
    "    locationmode='USA-states',\n",
    "    colorscale='Reds',\n",
    "    colorbar_title=\"Incidents<br>per 100k\",\n",
    "    text=state_counts['state'],\n",
    "    customdata=state_counts[['count', 'population']],\n",
    "    hovertemplate='<b>%{text}</b><br>Rate: %{z:.1f} per 100k<br>Total Incidents: %{customdata[0]:,}<br>Population: %{customdata[1]:,}<extra></extra>'\n",
    "))\n",
    "\n",
    "fig.update_layout(\n",
    "    title_text='Gun Violence Incidents by State - Normalized by Population (2013-2018)',\n",
    "    geo_scope='usa',\n",
    "    height=600,\n",
    "    width=1000\n",
    ")\n",
    "\n",
    "fig.show()"
   ]
  }
 ],
 "metadata": {
  "kernelspec": {
   "display_name": "Python 3",
   "language": "python",
   "name": "python3"
  },
  "language_info": {
   "codemirror_mode": {
    "name": "ipython",
    "version": 3
   },
   "file_extension": ".py",
   "mimetype": "text/x-python",
   "name": "python",
   "nbconvert_exporter": "python",
   "pygments_lexer": "ipython3",
   "version": "3.12.7"
  }
 },
 "nbformat": 4,
 "nbformat_minor": 5
}
